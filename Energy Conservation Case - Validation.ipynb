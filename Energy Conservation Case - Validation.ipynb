{
 "cells": [
  {
   "cell_type": "code",
   "execution_count": 2,
   "metadata": {
    "scrolled": false
   },
   "outputs": [
    {
     "data": {
      "text/plain": [
       "PyObject <module 'CoolProp.CoolProp' from 'C:\\\\Users\\\\Allex\\\\.julia\\\\conda\\\\3\\\\lib\\\\site-packages\\\\CoolProp\\\\CoolProp.cp36-win_amd64.pyd'>"
      ]
     },
     "execution_count": 2,
     "metadata": {},
     "output_type": "execute_result"
    }
   ],
   "source": [
    "using DifferentialEquations\n",
    "using Plots\n",
    "using PyCall\n",
    "using LaTeXStrings\n",
    "using HDF5\n",
    "cp = pyimport(\"CoolProp.CoolProp\")"
   ]
  },
  {
   "cell_type": "markdown",
   "metadata": {},
   "source": [
    "# Allex Delgado (2022)"
   ]
  },
  {
   "cell_type": "markdown",
   "metadata": {},
   "source": [
    "## Parâmetros de entrada para a biela"
   ]
  },
  {
   "cell_type": "code",
   "execution_count": 81,
   "metadata": {},
   "outputs": [
    {
     "data": {
      "text/plain": [
       "Dict{Symbol, Float64} with 10 entries:\n",
       "  :l   => 0.13\n",
       "  :b   => 0.017\n",
       "  :a   => 0.005\n",
       "  :D_1 => 0.028\n",
       "  :D_2 => 0.048\n",
       "  :d_1 => 0.01\n",
       "  :h_1 => 0.008\n",
       "  :h_2 => 0.008\n",
       "  :B   => 0.037\n",
       "  :d_2 => 0.022"
      ]
     },
     "execution_count": 81,
     "metadata": {},
     "output_type": "execute_result"
    }
   ],
   "source": [
    "BIELA = Dict(\n",
    "    # Base menor da haste da biela\n",
    "    :b => 17e-3,\n",
    "    \n",
    "    # Base maior da haste da biela\n",
    "    :B => 37e-3,\n",
    "    \n",
    "    # Comprimento da haste da biela\n",
    "    :l => 130e-3,\n",
    "    \n",
    "    # Espessura da haste da biela\n",
    "    :a => 5e-3,\n",
    "    \n",
    "    # Espessura do mancal menor\n",
    "    :h_1 => 8e-3,\n",
    "    \n",
    "    # Espessura do mancal maior\n",
    "    :h_2 => 8e-3,\n",
    "    \n",
    "    # Diâmetro externo do mancal menor\n",
    "    :D_1 => 28e-3,\n",
    "    \n",
    "    # Diâmetro externo do mancal maior\n",
    "    :D_2 => 48e-3,\n",
    "    \n",
    "    # Diâmetro interno do mancal menor\n",
    "    :d_1 => 10e-3,\n",
    "    \n",
    "    # Diâmetro interno do mancal maior\n",
    "    :d_2 => 22e-3,\n",
    ")"
   ]
  },
  {
   "cell_type": "code",
   "execution_count": 82,
   "metadata": {},
   "outputs": [
    {
     "data": {
      "text/plain": [
       "(0.13, 0.017, 0.005, 0.028, 0.048, 0.01, 0.008, 0.022, 0.037, 0.022)"
      ]
     },
     "execution_count": 82,
     "metadata": {},
     "output_type": "execute_result"
    }
   ],
   "source": [
    "l, b, a, D_1, D_2, d_1, h_1, h_2, B, d_2 = BIELA[:l], BIELA[:b], BIELA[:a], BIELA[:D_1], BIELA[:D_2], BIELA[:d_1], BIELA[:h_1], BIELA[:d_2], BIELA[:B], BIELA[:d_2]"
   ]
  },
  {
   "cell_type": "markdown",
   "metadata": {},
   "source": [
    "## Parâmetros de entrada para a manivela"
   ]
  },
  {
   "cell_type": "code",
   "execution_count": 83,
   "metadata": {},
   "outputs": [
    {
     "data": {
      "text/plain": [
       "Dict{Symbol, Float64} with 6 entries:\n",
       "  :r_2  => 0.15\n",
       "  :w_2  => 0.1\n",
       "  :r_1  => 0.2\n",
       "  :h_TR => 0.2\n",
       "  :e_M  => 0.02\n",
       "  :w_1  => 0.2"
      ]
     },
     "execution_count": 83,
     "metadata": {},
     "output_type": "execute_result"
    }
   ],
   "source": [
    "MANIVELA = Dict(\n",
    "    # Espessura da manivela\n",
    "    :e_M => 0.02,\n",
    "    \n",
    "    # Raio do semicírculo maior que compõe a manivela\n",
    "    :r_1 => 0.20,\n",
    "    \n",
    "    # Raio do semicírculo menor que compõe a manivela\n",
    "    :r_2 => 0.15,\n",
    "    \n",
    "    # Base maior do trapézio que compõe a manivela\n",
    "    :w_1 => 0.20,\n",
    "    \n",
    "    # Base menor do trapézio que compõe a manivela\n",
    "    :w_2 => 0.10,\n",
    "    \n",
    "    # Altura do trapézio que compõe a manivela\n",
    "    :h_TR => 0.20\n",
    ")"
   ]
  },
  {
   "cell_type": "code",
   "execution_count": 84,
   "metadata": {},
   "outputs": [
    {
     "data": {
      "text/plain": [
       "(0.02, 0.2, 0.15, 0.2, 0.1, 0.2)"
      ]
     },
     "execution_count": 84,
     "metadata": {},
     "output_type": "execute_result"
    }
   ],
   "source": [
    "e_M, r_1, r_2, w_1, w_2, h_TR = MANIVELA[:e_M], MANIVELA[:r_1], MANIVELA[:r_2], MANIVELA[:w_1], MANIVELA[:w_2], MANIVELA[:h_TR]"
   ]
  },
  {
   "cell_type": "markdown",
   "metadata": {},
   "source": [
    "## Parâmetros de entrada para o pistão"
   ]
  },
  {
   "cell_type": "code",
   "execution_count": 85,
   "metadata": {},
   "outputs": [
    {
     "data": {
      "text/plain": [
       "Dict{Symbol, Float64} with 4 entries:\n",
       "  :D_p => 0.08\n",
       "  :d_p => 0.06\n",
       "  :H_p => 0.08\n",
       "  :e_p => 0.015"
      ]
     },
     "execution_count": 85,
     "metadata": {},
     "output_type": "execute_result"
    }
   ],
   "source": [
    "PISTÃO = Dict(\n",
    "    # Altura do pistão\n",
    "    :H_p => 0.08,\n",
    "    \n",
    "    # Diâmetro externo do pistão\n",
    "    :D_p => 0.08,\n",
    "    \n",
    "    # Diâmetro interno do pistão\n",
    "    :d_p => 0.06,\n",
    "    \n",
    "    # Espessura da parede superior do pistão\n",
    "    :e_p => 0.015,\n",
    ")"
   ]
  },
  {
   "cell_type": "code",
   "execution_count": 86,
   "metadata": {},
   "outputs": [
    {
     "data": {
      "text/plain": [
       "(0.08, 0.06, 0.08, 0.015)"
      ]
     },
     "execution_count": 86,
     "metadata": {},
     "output_type": "execute_result"
    }
   ],
   "source": [
    "D_p, d_p, H_p, e_p = PISTÃO[:D_p], PISTÃO[:d_p], PISTÃO[:H_p], PISTÃO[:e_p]"
   ]
  },
  {
   "cell_type": "markdown",
   "metadata": {},
   "source": [
    "## Cálculos geométricos para a biela"
   ]
  },
  {
   "cell_type": "code",
   "execution_count": 87,
   "metadata": {},
   "outputs": [
    {
     "data": {
      "text/plain": [
       "0.06506525091242822"
      ]
     },
     "execution_count": 87,
     "metadata": {},
     "output_type": "execute_result"
    }
   ],
   "source": [
    "# Densidade do material utilizado para a fabricação de todos os componentes do motor em questão\n",
    "ρ = 2700.00 #kg/m^3 (Alumínio)\n",
    "\n",
    "# Ângulo de abertura do segmento circular menor\n",
    "α_SC_1 = 2*asin(b/D_1)\n",
    "\n",
    "# Ângulo de abertura do segmento circular maior\n",
    "α_SC_2 = 2*asin(B/D_2)\n",
    "\n",
    "# Massa da haste da biela\n",
    "m_haste = ρ * a * (((B + b) * l / 2) - (D_1^2/8) * (α_SC_1 - sin(α_SC_1)) - (D_2^2/8) * (α_SC_2 - sin(α_SC_2)))\n",
    "\n",
    "# Altura do segmento cirular maior\n",
    "h_SC_2 = D_2/2 - sqrt(D_2^2/4 - B^2/4)\n",
    "\n",
    "# Altura do segmento cirular menor\n",
    "h_SC_1 = D_1/2 - sqrt(D_1^2/4 - b^2/4)\n",
    "\n",
    "# Localização do centro de massa da haste da biela\n",
    "CM_haste = (((B + 2*b) * l^2)/6 - (B^3/(12 * (D_2^2/8) * (α_SC_2 - sin(α_SC_2))) - D_2/2 + h_SC_2) * (D_2^2/8) * (α_SC_2 - sin(α_SC_2)) - (l - (b^3/(12 * (D_1^2/8) * (α_SC_1 - sin(α_SC_1))) - D_1/2 + h_SC_1)) * (D_1^2/8) * (α_SC_1 - sin(α_SC_1)))/ (((B-b)*l)/2 - (D_2^2/8) * (α_SC_2 - sin(α_SC_2)) - (D_1^2/8) * (α_SC_1 - sin(α_SC_1)))\n",
    "\n",
    "# Massa do mancal maior\n",
    "m_CO_maior = ρ * π/4 * (D_2^2 - d_2^2)*h_2\n",
    "\n",
    "# Massa do mancal menor\n",
    "m_CO_menor = ρ * π/4 * (D_1^2 - d_1^2)*h_1\n",
    "\n",
    "# Massa da placa delgada de base trapezoidal, que forma a haste bruta da biela\n",
    "m_TR = ρ * a * ((B + b) * l)/2 \n",
    "\n",
    "# Massa da placa delgada de base formada pelo segmento circular menor\n",
    "m_SC_1 = ρ * a * (D_1^2/8)*(α_SC_1 - sin(α_SC_1))\n",
    "\n",
    "# Massa da placa delgada de base formada pelo segmento circular maior\n",
    "m_SC_2 = ρ * a * (D_2^2/8)*(α_SC_2 - sin(α_SC_2))\n",
    "\n",
    "# Centróide do segmento circular menor\n",
    "OG_1_haste = B^3/(12*((D_1^2/8)*(α_SC_1 - sin(α_SC_1))))\n",
    "\n",
    "# Centróide do segmento circular maior\n",
    "OG_2_haste = B^3/(12*((D_2^2/8)*(α_SC_2 - sin(α_SC_2))))\n",
    "\n",
    "# Massa da biela\n",
    "m_b = m_haste + m_CO_maior + m_CO_menor\n",
    "\n",
    "# Comprimento da biela \"Allex Delgado 2022\"\n",
    "L = (l + D_2/2 - 2*h_SC_2 + D_1/2 - 2*h_SC_1)/2\n",
    "\n",
    "# Posição do centro de massa da biela\n",
    "L_g = (CM_haste + D_2/2 - h_2) * m_haste/m_b + L*(m_CO_menor/m_b)"
   ]
  },
  {
   "cell_type": "markdown",
   "metadata": {},
   "source": [
    "## Cálculos geométricos para a manivela"
   ]
  },
  {
   "cell_type": "code",
   "execution_count": 88,
   "metadata": {},
   "outputs": [
    {
     "data": {
      "text/plain": [
       "0.03609244952852074"
      ]
     },
     "execution_count": 88,
     "metadata": {},
     "output_type": "execute_result"
    }
   ],
   "source": [
    "α_1 = 2*asin(w_1/2r_1)\n",
    "\n",
    "α_2 = 2*asin(w_2/2r_2)\n",
    "\n",
    "h_1_manivela = r_1 - sqrt(r_1^2 - w_1^2/4)\n",
    "\n",
    "h_2_manivela = r_2 - sqrt(r_2^2 - w_2^2/4)\n",
    "\n",
    "x_CMTR = (w_1 + 2*w_2)*h_TR/3*(w_1 + w_2) + h_1_manivela\n",
    "\n",
    "OG_1 = w_1^3/(6*r_1^2*(α_1 - sin(α_1)))\n",
    "\n",
    "OG_2 = w_2^3/(6*r_2^2*(α_2 - sin(α_2)))\n",
    "\n",
    "m_SC_1_manivela = ρ * e_M * 1/2 * r_1^2 * (α_1 - sin(α_1))\n",
    "\n",
    "m_SC_2_manivela = ρ * e_M * 1/2 * r_2^2 * (α_2 - sin(α_2))\n",
    "\n",
    "m_TR_manivela = ρ * e_M * (w_1 + w_2) * h_TR / 2\n",
    "\n",
    "x_MCM = ((r_1 - OG_1) * 1/2 * r_1^2 * (α_1 - sin(α_1)) + (h_1_manivela + h_TR + h_2_manivela - r_2 + OG_2) * 1/2 * r_2^2 * (α_2 - sin(α_2)) + x_CMTR * (w_1 + w_2) * h_TR/2)/(1/2 * r_1^2 * (α_1 - sin(α_1)) + 1/2 * r_2^2 * (α_2 - sin(α_2)) + (w_1 + w_2)*h_TR/2)"
   ]
  },
  {
   "cell_type": "code",
   "execution_count": 89,
   "metadata": {},
   "outputs": [
    {
     "data": {
      "text/plain": [
       "0.03609244952852074"
      ]
     },
     "execution_count": 89,
     "metadata": {},
     "output_type": "execute_result"
    }
   ],
   "source": [
    "x_MCM"
   ]
  },
  {
   "cell_type": "code",
   "execution_count": 90,
   "metadata": {},
   "outputs": [
    {
     "data": {
      "text/plain": [
       "1.0471975511965979"
      ]
     },
     "execution_count": 90,
     "metadata": {},
     "output_type": "execute_result"
    }
   ],
   "source": [
    "α_1"
   ]
  },
  {
   "cell_type": "markdown",
   "metadata": {},
   "source": [
    "## Cálculos geométricos para o pistão"
   ]
  },
  {
   "cell_type": "code",
   "execution_count": 91,
   "metadata": {},
   "outputs": [
    {
     "data": {
      "text/plain": [
       "1.1138956576274113"
      ]
     },
     "execution_count": 91,
     "metadata": {},
     "output_type": "execute_result"
    }
   ],
   "source": [
    "# Volume do pistão\n",
    "V_p = π/4 * (H_p * (D_p^2 - d_2^2) + d_p^2 * e_p - d_1^2 * (D_p - d_p))\n",
    "\n",
    "# Massa do pistão\n",
    "m_p = ρ * V_p"
   ]
  },
  {
   "cell_type": "markdown",
   "metadata": {},
   "source": [
    "## FTHA - Finite Time Heat Addition"
   ]
  },
  {
   "cell_type": "code",
   "execution_count": 92,
   "metadata": {},
   "outputs": [
    {
     "data": {
      "text/plain": [
       "Dict{Symbol, Any} with 16 entries:\n",
       "  :D               => 0.08\n",
       "  :P_0             => 101375.0\n",
       "  :ω_0             => 486.947\n",
       "  :α_0             => -3.14159\n",
       "  :Fluido          => \"Air\"\n",
       "  :m_w             => 2\n",
       "  :R               => 0.0492811\n",
       "  :T_0             => 300.0\n",
       "  :θ               => 0.0\n",
       "  :Δt_c            => 0.0\n",
       "  :a               => 5\n",
       "  :cv              => 0\n",
       "  :V_1             => 0.0005\n",
       "  :L               => 0.0724132\n",
       "  :q_ent           => 0.0\n",
       "  :adição_de_calor => 0"
      ]
     },
     "execution_count": 92,
     "metadata": {},
     "output_type": "execute_result"
    }
   ],
   "source": [
    "FTHA = Dict(\n",
    "    # Comprimento de raio da manivela \"Allex Delgado 2022\"\n",
    "    :R => h_1_manivela + h_2_manivela + h_TR - x_MCM - r_2,     # m\n",
    "    \n",
    "    # Volume máximo, volume no ponto morto inferior.\n",
    "    :V_1 => 500e-6,  # m^3\n",
    "    \n",
    "    # Comprimento da biela \"Allex Delgado 2022\"\n",
    "    :L => L, # m\n",
    "    \n",
    "    # Diâmetro do pistão\n",
    "    :D => D_p,     # m\n",
    "    \n",
    "    # Ângulo inicial\n",
    "    :α_0 => -π,      # rad\n",
    "    \n",
    "    # Velocidade angular inicial\n",
    "    :ω_0 => 155 * π, # rad/s\n",
    "    \n",
    "    # Ângulo de início da combustão\n",
    "    :θ => 0.0,       # rad\n",
    "    \n",
    "    # Duração temporal da combustão\n",
    "    :Δt_c => 0.0e-6,# s\n",
    "    \n",
    "    # Calor total específico que entra durante a combustão\n",
    "    :q_ent => 0.0e3, # J/kg\n",
    "    \n",
    "    #Propriedades específicas do fluído que entra\n",
    "    :Fluido => \"Air\", # Nome segundo a biblioteca CoolProp\n",
    "     # - Pressão inicial\n",
    "    :P_0 => 101.375e3,# Pa\n",
    "     # - Temperatura inicial\n",
    "    :T_0 => 300.0,    # K\n",
    "    #curva de adição cumulativa de calor\n",
    "    \n",
    "    :adição_de_calor => 0, #0 - curva de Wiebe, 1 - cossenoidal\n",
    "    #correção curva de Wiebe\n",
    "    :a => 5,\n",
    "    :m_w => 2,\n",
    "    \n",
    "    #opção para calor específico\n",
    "    :cv => 0, #0 - biblioteca CoolProp, 1 - c_v(T): polinômio\n",
    ")"
   ]
  },
  {
   "cell_type": "code",
   "execution_count": null,
   "metadata": {},
   "outputs": [],
   "source": []
  },
  {
   "cell_type": "markdown",
   "metadata": {},
   "source": [
    "## Equações para o momento de inércia da biela"
   ]
  },
  {
   "cell_type": "code",
   "execution_count": 93,
   "metadata": {},
   "outputs": [
    {
     "data": {
      "text/plain": [
       "0.01751770862389176"
      ]
     },
     "execution_count": 93,
     "metadata": {},
     "output_type": "execute_result"
    }
   ],
   "source": [
    "# Coordenada x do centro de massa da haste bruta (trapézio) da biela:\n",
    "x_trapezio_CM = ((B + 2b) * l)/(3*(B + b))\n",
    "\n",
    "# Inércia da haste bruta (trapézio) da biela, em relação ao seu centro e massa:\n",
    "I_TR_massa = (ρ*a*(3*l*(b^4 + 2b^3 * B + 2b^2 * B^2 + B^4) + 4*l^3 * (b^2 + 4b * B + B^2)))/(144*(b + B))\n",
    "\n",
    "# Inércia das placas delgadas, em relação aos eixos perpendiculares aos eixos z´ e z´´, formadas pelos segmentos circulares a serem subtraídos da haste da biela:\n",
    "I_SC_1_massa = ρ*a*(D_1^4/128)*(2 * α_SC_1 - 19/12 * sin(α_SC_1) - 1/24 * sin(2 * α_SC_1))\n",
    "I_SC_2_massa = ρ*a*(D_2^4/128)*(2 * α_SC_2 - 19/12 * sin(α_SC_2) - 1/24 * sin(2 * α_SC_2))\n",
    "\n",
    "# Inércia das placas delgadas, em relação aos seus centros de massa, formadas pelos segmentos circulares a serem subtraídos da haste da biela:\n",
    "I_SC_1_CM = I_SC_1_massa - m_SC_1 * OG_1_haste^2\n",
    "I_SC_2_CM = I_SC_2_massa - m_SC_2 * OG_2_haste^2\n",
    "\n",
    "# Inércia da haste da biela em relação ao seu centro de massa:\n",
    "I_haste_massa = I_TR_massa + m_TR * (CM_haste - x_trapezio_CM) - (I_SC_1_CM + m_SC_1 * (l + D_1/2 - CM_haste - h_SC_1 - OG_1_haste)) - ((I_SC_2_CM + m_SC_2) * (CM_haste + D_2/2 - h_SC_2 - OG_2_haste))\n",
    "\n",
    "# Inércia dos mancais da Biela:\n",
    "I_CO_maior_y = (m_CO_maior * (D_2^2 + d_2^2))/2\n",
    "I_CO_menor_y´ = (m_CO_menor * (D_1^2 + d_1^2))/2\n",
    "\n",
    "# Inércia da biela em relação ao eixo perpendicular ao plano de sua superfície, e que passa pelo seu centro de massa\n",
    "I_r_CM = I_haste_massa  + m_haste * (D_2/2 - h_SC_2 + CM_haste - L_g) + I_CO_maior_y + m_CO_maior * L_g + I_CO_menor_y´ + m_CO_menor * (L - L_g)\n",
    "\n",
    "# Inércia da biela em relação ao eixo perpendicular ao plano de sua superfície, e que passa pelo centro e massa do mancal menor que está conectado ao pistão\n",
    "I_r = I_r_CM + m_b * (L - L_g)^2 # kg*m^2"
   ]
  },
  {
   "cell_type": "code",
   "execution_count": 94,
   "metadata": {},
   "outputs": [
    {
     "data": {
      "text/plain": [
       "0.01751770862389176"
      ]
     },
     "execution_count": 94,
     "metadata": {},
     "output_type": "execute_result"
    }
   ],
   "source": [
    "I_r"
   ]
  },
  {
   "cell_type": "markdown",
   "metadata": {},
   "source": [
    "## Equações para momento de inércia da manivela"
   ]
  },
  {
   "cell_type": "code",
   "execution_count": 95,
   "metadata": {},
   "outputs": [
    {
     "data": {
      "text/plain": [
       "0.2135744504845091"
      ]
     },
     "execution_count": 95,
     "metadata": {},
     "output_type": "execute_result"
    }
   ],
   "source": [
    "# Inércia da chapa delgada de base trapezoidal\n",
    "I_TR_manivela = ρ * e_M * (3h_TR * (w_2^4 + 2w_2^3 * w_1 + 2w_2^2 * w_1^2 + w_1^4) + 4h_TR^3 * (w_2^2 + 4w_2 * w_1 + w_1^2))/144(w_2 + w_1)\n",
    "\n",
    "# Inércia dos segmentos circulares que compõem a manivela\n",
    "I_SC_1_manivela_CM = ρ * e_M * r_1^2/8 * (2α_1 - 19/12*sin(α_1) - 1/24*sin(2α_1)) - m_SC_1_manivela * OG_1\n",
    "I_SC_2_manivela_CM = ρ * e_M * r_2^2/8 * (2α_2 - 19/12*sin(α_2) - 1/24*sin(2α_2)) - m_SC_2_manivela * OG_2\n",
    "\n",
    "# Inércia da manivela\n",
    "I_manivela = I_SC_1_manivela_CM + m_SC_1_manivela * (x_MCM + OG_1 - r_1) + I_SC_2_manivela_CM + m_SC_2_manivela * (h_2_manivela + h_TR + h_1_manivela + OG_2 - x_MCM - r_2) + I_TR_manivela + m_TR_manivela * abs(x_CMTR - x_MCM)"
   ]
  },
  {
   "cell_type": "code",
   "execution_count": 96,
   "metadata": {},
   "outputs": [
    {
     "data": {
      "text/plain": [
       "0.2135744504845091"
      ]
     },
     "execution_count": 96,
     "metadata": {},
     "output_type": "execute_result"
    }
   ],
   "source": [
    "I_manivela"
   ]
  },
  {
   "cell_type": "markdown",
   "metadata": {},
   "source": [
    "# Montazersargh (2007) + Norton (2010)"
   ]
  },
  {
   "cell_type": "markdown",
   "metadata": {},
   "source": [
    "## Estudo de caso: Conservação de energia"
   ]
  },
  {
   "cell_type": "code",
   "execution_count": 97,
   "metadata": {},
   "outputs": [
    {
     "data": {
      "text/plain": [
       "Dict{Symbol, Float64} with 6 entries:\n",
       "  :L_bm => 0.0650653\n",
       "  :I_VI => 0.002\n",
       "  :I_r  => 0.0175177\n",
       "  :I_m  => 0.213574\n",
       "  :m_p  => 1.1139\n",
       "  :m_b  => 0.140421"
      ]
     },
     "execution_count": 97,
     "metadata": {},
     "output_type": "execute_result"
    }
   ],
   "source": [
    "DM = Dict(\n",
    "    # massa do pistão \"Allex Delgado\"\n",
    "    :m_p => m_p,    # kg\n",
    "    \n",
    "    # massa da biela \"Allex Delgado 2022\"\n",
    "    :m_b => m_b,    # kg\n",
    "    \n",
    "    # Inércia da biela em relação ao eixo z \"Allex Delgado Chagas 2022\"\n",
    "    :I_r => I_r, # kg*m^2\n",
    "    \n",
    "    # Distância do centro de massa da biela em relação ao elo biela manivela \"Allex Delgado 2022\"\n",
    "    :L_bm=> L_g,  # m\n",
    "    \n",
    "    # Inércia da manivela em relação ao eixo z\n",
    "    :I_m => I_manivela,\n",
    "    \n",
    "    # Inércia do volante de inércia em relação ao eixo z\n",
    "    :I_VI=> 2.0e-3,\n",
    ")"
   ]
  },
  {
   "cell_type": "code",
   "execution_count": 98,
   "metadata": {
    "scrolled": false
   },
   "outputs": [
    {
     "data": {
      "text/plain": [
       "Dict{Symbol, Float64} with 5 entries:\n",
       "  :ε_v => 1.0e-8\n",
       "  :ε_w => 1.0e-8\n",
       "  :ε_ω => 1.0e-8\n",
       "  :ε_u => 1.0e-8\n",
       "  :Δt  => 5.0e-5"
      ]
     },
     "execution_count": 98,
     "metadata": {},
     "output_type": "execute_result"
    }
   ],
   "source": [
    "ε = Dict(\n",
    "    # Passo de tempo\n",
    "    :Δt  => 0.00005,# s\n",
    "    \n",
    "    # Diferença de trabalho consecutivo para encontrar n_i,j #J/kg\n",
    "    :ε_w => 1e-8,   # J/kg\n",
    "    \n",
    "    # Diferença de energia interna específica para encontra T_i+1\n",
    "    :ε_u => 1e-8,   # J/kg\n",
    "    \n",
    "    # Diferença de volume específico que determina quando um processo será isovolumétrico\n",
    "    :ε_v => 1e-8,   # m^3/kg\n",
    "    \n",
    "    # Diferença de velocidade angular para encontrar ω_i+1\n",
    "    :ε_ω => 1e-8    # rad/s\n",
    ")"
   ]
  },
  {
   "cell_type": "code",
   "execution_count": 99,
   "metadata": {},
   "outputs": [
    {
     "data": {
      "text/plain": [
       "_q (generic function with 1 method)"
      ]
     },
     "execution_count": 99,
     "metadata": {},
     "output_type": "execute_result"
    }
   ],
   "source": [
    "function _y(α,t,t_θ)\n",
    "    if α < FTHA[:θ]\n",
    "        y = 0\n",
    "    elseif (FTHA[:θ] <= α) && (t < t_θ + FTHA[:Δt_c])\n",
    "        if FTHA[:adição_de_calor] == 0\n",
    "            y = 1 - exp(-FTHA[:a]*((t - t_θ)/FTHA[:Δt_c])^(FTHA[:m_w] + 1))\n",
    "        else\n",
    "            y = 1/2 - 1/2 * cos(π * (t - t_θ)/FTHA[:Δt_c])\n",
    "        end\n",
    "    else\n",
    "        y = 1\n",
    "    end\n",
    "end\n",
    "\n",
    "_q(α,t,t_θ) = FTHA[:q_ent]*_y(α,t,t_θ)"
   ]
  },
  {
   "cell_type": "code",
   "execution_count": 100,
   "metadata": {},
   "outputs": [
    {
     "data": {
      "text/plain": [
       "_V (generic function with 1 method)"
      ]
     },
     "execution_count": 100,
     "metadata": {},
     "output_type": "execute_result"
    }
   ],
   "source": [
    "function _V(α)\n",
    "    V = FTHA[:V_1] - (π*FTHA[:D]^2/4) * ((FTHA[:R]*cos(α) + FTHA[:L]*(1 - (FTHA[:R]*sin(α)/FTHA[:L])^2)^(1/2)) - (FTHA[:L] - FTHA[:R]))\n",
    "return V\n",
    "end"
   ]
  },
  {
   "cell_type": "code",
   "execution_count": 101,
   "metadata": {},
   "outputs": [
    {
     "data": {
      "text/plain": [
       "_n (generic function with 1 method)"
      ]
     },
     "execution_count": 101,
     "metadata": {},
     "output_type": "execute_result"
    }
   ],
   "source": [
    "function _n(P_i1,P_i,v_i,v_i1)\n",
    "    return log(P_i1/P_i)/log(v_i/v_i1)\n",
    "end"
   ]
  },
  {
   "cell_type": "code",
   "execution_count": 102,
   "metadata": {},
   "outputs": [
    {
     "data": {
      "text/plain": [
       "_n0 (generic function with 1 method)"
      ]
     },
     "execution_count": 102,
     "metadata": {},
     "output_type": "execute_result"
    }
   ],
   "source": [
    "function _n0(T,P)\n",
    "    return 1 + (cp.PropsSI(\"gas_constant\",FTHA[:Fluido])/cp.PropsSI(\"molar_mass\",FTHA[:Fluido]))/cp.PropsSI(\"Cvmass\",\"T\", T,\"P\",P, FTHA[:Fluido])\n",
    "end"
   ]
  },
  {
   "cell_type": "code",
   "execution_count": 103,
   "metadata": {},
   "outputs": [
    {
     "data": {
      "text/plain": [
       "_w (generic function with 1 method)"
      ]
     },
     "execution_count": 103,
     "metadata": {},
     "output_type": "execute_result"
    }
   ],
   "source": [
    "function _w(P,n,v_i,v_i1)\n",
    "    return (P/(1 - n))*(v_i - (v_i^n)/(v_i1^(n - 1)))\n",
    "end"
   ]
  },
  {
   "cell_type": "code",
   "execution_count": 104,
   "metadata": {},
   "outputs": [
    {
     "data": {
      "text/plain": [
       "_c_v (generic function with 1 method)"
      ]
     },
     "execution_count": 104,
     "metadata": {},
     "output_type": "execute_result"
    }
   ],
   "source": [
    "function _c_v(T)\n",
    "    #Ar\n",
    "    molar_c_p = 28.11 + 0.1967e-2 * T + 0.4802e-5 * T^2 + -1.966e-9 * T^3\n",
    "    \n",
    "    #CO2\n",
    "    #molar_c_p = 22.26 + 5.981e-2 * T + -3.501e-5 * T^2 + 7.469e-9 * T^3\n",
    "    \n",
    "    c_v = (molar_c_p - cp.PropsSI(\"gas_constant\",FTHA[:Fluido]))/cp.PropsSI(\"molar_mass\",FTHA[:Fluido])\n",
    "    return c_v\n",
    "end"
   ]
  },
  {
   "cell_type": "code",
   "execution_count": 105,
   "metadata": {},
   "outputs": [
    {
     "data": {
      "text/plain": [
       "_u (generic function with 1 method)"
      ]
     },
     "execution_count": 105,
     "metadata": {},
     "output_type": "execute_result"
    }
   ],
   "source": [
    "function _u(T)\n",
    "    #Air\n",
    "    #molar_u = 28.11 * T + 0.1967e-2 * T^2/2 + 0.4802e-5 * T^3/3 + -1.966e-9 * T^4/4\n",
    "    \n",
    "    #CO2\n",
    "    molar_u = 22.26 * T + 5.981e-2 * T^2/2 + -3.501e-5 * T^3/3 + 7.469e-9 * T^4/4\n",
    "    \n",
    "    u = (molar_u - cp.PropsSI(\"gas_constant\",FTHA[:Fluido]) * T)/ cp.PropsSI(\"molar_mass\",FTHA[:Fluido]) - cp.PropsSI(\"gas_constant\",FTHA[:Fluido]) * T\n",
    "    return u\n",
    "end"
   ]
  },
  {
   "cell_type": "code",
   "execution_count": 106,
   "metadata": {},
   "outputs": [
    {
     "data": {
      "text/plain": [
       "_T (generic function with 1 method)"
      ]
     },
     "execution_count": 106,
     "metadata": {},
     "output_type": "execute_result"
    }
   ],
   "source": [
    "function _T(u_z)\n",
    "    z = 1\n",
    "    T_z = u_z/_c_v(0)\n",
    "    while z == 1 || abs(u_z - _u(T_z)) >= ε[:ε_u]\n",
    "        T_z = T_z + (u_z - _u(T_z))/_c_v(T_z)\n",
    "        z = z + 1\n",
    "    end\n",
    "    return T_z\n",
    "end"
   ]
  },
  {
   "cell_type": "code",
   "execution_count": 107,
   "metadata": {
    "scrolled": true
   },
   "outputs": [
    {
     "data": {
      "text/plain": [
       "_P (generic function with 1 method)"
      ]
     },
     "execution_count": 107,
     "metadata": {},
     "output_type": "execute_result"
    }
   ],
   "source": [
    "function _P(v,T)\n",
    "    return (cp.PropsSI(\"gas_constant\",FTHA[:Fluido])/cp.PropsSI(\"molar_mass\",FTHA[:Fluido])) * T/v\n",
    "end"
   ]
  },
  {
   "cell_type": "code",
   "execution_count": 108,
   "metadata": {},
   "outputs": [
    {
     "data": {
      "text/plain": [
       "(0.04928111347728201, 0.08, 0.07241318258206415, 0.1404210816857499, 1.1138956576274113, 0.2135744504845091, 0.002, 0.06506525091242822, 0.01751770862389176)"
      ]
     },
     "execution_count": 108,
     "metadata": {},
     "output_type": "execute_result"
    }
   ],
   "source": [
    "R, D, L, m_b, m_p, I_m, I_VI, L_bm, I_r = FTHA[:R], FTHA[:D], FTHA[:L], DM[:m_b], DM[:m_p], DM[:I_m], DM[:I_VI], DM[:L_bm], DM[:I_r]"
   ]
  },
  {
   "cell_type": "code",
   "execution_count": 109,
   "metadata": {},
   "outputs": [
    {
     "data": {
      "text/plain": [
       "dω (generic function with 1 method)"
      ]
     },
     "execution_count": 109,
     "metadata": {},
     "output_type": "execute_result"
    }
   ],
   "source": [
    "dω(ω,α,P_g,t) = (R*sin(α)*(1 + R*cos(α)/(L*sqrt(1 - (R/L * sin(α))^2)))*π*D^2/4 * P_g + ((R*cos(α)/(L*sqrt(1 - (R/L * sin(α))^2)))*(I_r*(R*sin(α)/(L*sqrt(1 - (R/L * sin(α))^2)))*((R*cos(α)/(L*sqrt(1 - (R/L * sin(α))^2)))^2-1) - R*sin(α)*(m_b*(L_bm/L)*(-R*cos(α)*(1 + (L_bm/L)*(R*cos(α)/(L*sqrt(1 - (R/L * sin(α))^2)))) + R*sin(α)*(L_bm/L)*(R*sin(α)/(L*sqrt(1 - (R/L * sin(α))^2)))*((R*cos(α)/(L*sqrt(1 - (R/L * sin(α))^2)))^2 - 1)) + m_p*(-R*cos(α)*(1 + (R*cos(α)/(L*sqrt(1 - (R/L * sin(α))^2)))) + R*sin(α)*(R*sin(α)/(L*sqrt(1 - (R/L * sin(α))^2)))*((R*cos(α)/(L*sqrt(1 - (R/L * sin(α))^2)))^2 - 1))) - L*sqrt(1 - (R/L * sin(α))^2)*(1 - (L_bm/L))*m_b*R*sin(α)*(1 - (L_bm/L)))-(R*sin(α)/(L*sqrt(1 - (R/L * sin(α))^2)))*L*sqrt(1 - (R/L * sin(α))^2)*(m_b*(-R*cos(α)*(1 + (L_bm/L)*(R*cos(α)/(L*sqrt(1 - (R/L * sin(α))^2)))) + R*sin(α)*(L_bm/L)*(R*sin(α)/(L*sqrt(1 - (R/L * sin(α))^2)))*((R*cos(α)/(L*sqrt(1 - (R/L * sin(α))^2)))^2 - 1)) + m_p*(-R*cos(α)*(1 + (R*cos(α)/(L*sqrt(1 - (R/L * sin(α))^2)))) + R*sin(α)*(R*sin(α)/(L*sqrt(1 - (R/L * sin(α))^2)))*((R*cos(α)/(L*sqrt(1 - (R/L * sin(α))^2)))^2 - 1))))*ω^2)/(((R*cos(α)/(L*sqrt(1 - (R/L * sin(α))^2)))*(I_r*(R*cos(α)/(L*sqrt(1 - (R/L * sin(α))^2))) + R*sin(α)*(m_b*(L_bm/L)*(-R*sin(α)*(1 + (L_bm/L)*(R*cos(α)/(L*sqrt(1 - (R/L * sin(α))^2))))) + m_p*(-R*sin(α)*(1 + (R*cos(α)/(L*sqrt(1 - (R/L * sin(α))^2)))))) + (L*sqrt(1 - (R/L * sin(α))^2))*(1-(L_bm/L))*m_b*(R*cos(α))*(1-(L_bm/L))) - (R*sin(α)/(L*sqrt(1 - (R/L * sin(α))^2)))*(L*sqrt(1 - (R/L * sin(α))^2))*(m_b*(-R*sin(α)*(1 + (L_bm/L)*(R*cos(α)/(L*sqrt(1 - (R/L * sin(α))^2))))) + m_p*(-R*sin(α)*(1 + (R*cos(α)/(L*sqrt(1 - (R/L * sin(α))^2))))))) + I_m + I_VI)"
   ]
  },
  {
   "cell_type": "code",
   "execution_count": 110,
   "metadata": {},
   "outputs": [
    {
     "data": {
      "text/plain": [
       "Any[]"
      ]
     },
     "execution_count": 110,
     "metadata": {},
     "output_type": "execute_result"
    }
   ],
   "source": [
    "# Encontrando a massa contida no sistema\n",
    "m = FTHA[:V_1]*cp.PropsSI(\"D\",\"P\",FTHA[:P_0],\"T\",FTHA[:T_0],FTHA[:Fluido])\n",
    "\n",
    "t_i = []\n",
    "push!(t_i,0.0)\n",
    "\n",
    "ω_i = []\n",
    "push!(ω_i,FTHA[:ω_0])\n",
    "\n",
    "α_i = []\n",
    "push!(α_i,FTHA[:α_0])\n",
    "\n",
    "v_i = []\n",
    "push!(v_i,_V(α_i[1])/m)\n",
    "\n",
    "T_i = []\n",
    "push!(T_i,FTHA[:T_0])\n",
    "\n",
    "P_i = []\n",
    "push!(P_i,FTHA[:P_0])\n",
    "\n",
    "u_i = []\n",
    "if FTHA[:cv] == 1\n",
    "    push!(u_i,_u(T_i[1]))\n",
    "else\n",
    "    push!(u_i,cp.PropsSI(\"U\",\"T\",T_i[1],\"P\",P_i[1],FTHA[:Fluido]))\n",
    "end\n",
    "\n",
    "q_i = []\n",
    "\n",
    "w_i = []\n",
    "\n",
    "n_i = []"
   ]
  },
  {
   "cell_type": "code",
   "execution_count": 111,
   "metadata": {
    "scrolled": true
   },
   "outputs": [
    {
     "name": "stdout",
     "output_type": "stream",
     "text": [
      ".................................................................................................... 2000\n",
      "...............................x 2627\n"
     ]
    }
   ],
   "source": [
    "i_θ = 1\n",
    "i_π = 1\n",
    "i = 1\n",
    "p = 1\n",
    "\n",
    "while p <= 5\n",
    "    while α_i[end] < α_i[1] + p*4*π\n",
    "\n",
    "        if mod(i, 2000) == 0\n",
    "            println(\". $i\")\n",
    "        elseif mod(i, 20) == 0\n",
    "            print(\".\")\n",
    "        end\n",
    "\n",
    "        l = 1\n",
    "\n",
    "        push!(t_i,t_i[i]+ε[:Δt])\n",
    "        \n",
    "        push!(ω_i,[])\n",
    "        push!(ω_i[i+1],ω_i[i])\n",
    "        \n",
    "        push!(α_i,[])\n",
    "        push!(α_i[i+1],ω_i[i]*ε[:Δt]+α_i[i])\n",
    "\n",
    "        push!(v_i,[])\n",
    "        push!(q_i,[])\n",
    "\n",
    "        push!(T_i,[]); push!(P_i,[]); push!(u_i,[])\n",
    "        push!(n_i,[]); push!(w_i,[])\n",
    "\n",
    "        while l==1 || abs(ω_i[end][end]-ω_i[end][end-1]) >= ε[:ε_ω]\n",
    "            \n",
    "            ω_t = ω_i[i+1]\n",
    "            α_t = α_i[i+1]\n",
    "            ω_i[i+1] = ω_i[i+1][l]\n",
    "            α_i[i+1] = α_i[i+1][l]\n",
    "\n",
    "            push!(v_i[i+1],_V(α_i[i+1])/m)\n",
    "            \n",
    "            if α_i[i+1]>FTHA[:θ]+(p-1)*4*π && α_i[i]<=FTHA[:θ]+(p-1)*4*π\n",
    "                i_θ = i\n",
    "            end\n",
    "\n",
    "            push!(q_i[i],_q(α_i[i+1],t_i[i+1],t_i[i_θ])-_q(α_i[i],t_i[i],t_i[i_θ]))\n",
    "            \n",
    "            if α_i[i+1] < π + 4*π*(p-1)\n",
    "                if abs(v_i[i] - v_i[i+1][l]) <= ε[:ε_v]\n",
    "                    \n",
    "                    push!(u_i[i+1],u_i[i] + q_i[i][l])\n",
    "                    \n",
    "                    push!(T_i[i+1],cp.PropsSI(\"T\",\"U\",u_i[i+1][l],\"D\",1/v_i[i+1][l],FTHA[:Fluido]))\n",
    "                    push!(P_i[i+1],cp.PropsSI(\"P\",\"U\",u_i[i+1][l],\"D\",1/v_i[i+1][l],FTHA[:Fluido]))\n",
    "                    \n",
    "                    push!(n_i[i],0.0)\n",
    "                    push!(w_i[i],0.0)\n",
    "                else\n",
    "                    j=1\n",
    "\n",
    "                    push!(n_i[i],[]); push!(w_i[i],[])\n",
    "                    push!(u_i[i+1],[]); push!(T_i[i+1],[]); push!(P_i[i+1],[])\n",
    "\n",
    "                    push!(n_i[i][l],_n0(T_i[i],P_i[i]))\n",
    "                    push!(w_i[i][l],_w(P_i[i],n_i[i][l][j],v_i[i],v_i[i+1][l]))\n",
    "\n",
    "                    while j==1 || abs(w_i[i][l][j-1]-w_i[i][l][j]) >= ε[:ε_w]\n",
    "\n",
    "                        push!(u_i[i+1][l],u_i[i] + q_i[i][l] + w_i[i][l][j])\n",
    "\n",
    "                        if FTHA[:cv] == 1\n",
    "                            push!(T_i[i+1][l],_T(u_i[i+1][l]))\n",
    "                            push!(P_i[i+1][l],_P(v_i[i+1][l],T_i[i+1][l][end]))\n",
    "                        else\n",
    "                            push!(T_i[i+1][l],cp.PropsSI(\"T\",\"U\",u_i[i+1][l][end],\"D\",1/v_i[i+1][l],FTHA[:Fluido]))\n",
    "                            push!(P_i[i+1][l],cp.PropsSI(\"P\",\"U\",u_i[i+1][l][end],\"D\",1/v_i[i+1][l],FTHA[:Fluido]))\n",
    "                        end\n",
    "                        \n",
    "                        push!(n_i[i][l],_n(P_i[i+1][l][j],P_i[i],v_i[i],v_i[i+1][l]))\n",
    "\n",
    "                        j = j + 1\n",
    "\n",
    "                        push!(w_i[i][l],_w(P_i[i],n_i[i][l][j],v_i[i],v_i[i+1][l]))\n",
    "                    end\n",
    "                end\n",
    "                n_i[i][l] = n_i[i][l][end]\n",
    "                w_i[i][l] = w_i[i][l][end]\n",
    "                u_i[i+1][l] = u_i[i+1][l][end]\n",
    "                T_i[i+1][l] = T_i[i+1][l][end]\n",
    "                P_i[i+1][l] = P_i[i+1][l][end]\n",
    "            else\n",
    "                push!(P_i[i+1],FTHA[:P_0])\n",
    "                push!(T_i[i+1],FTHA[:T_0])\n",
    "                push!(n_i[i],0.0)\n",
    "                push!(u_i[i+1],u_i[1])\n",
    "                push!(w_i[i],0.0)\n",
    "            end\n",
    "\n",
    "        ω_i[i+1] = ω_t\n",
    "        α_i[i+1] = α_t\n",
    "\n",
    "        ω_0 = ω_i[i]\n",
    "        α_0 = α_i[i]\n",
    "        P_g = (P_i[i+1][l] + P_i[i]-2*FTHA[:P_0])/2\n",
    "        tspan = (t_i[i],t_i[i+1])\n",
    "        prob = SecondOrderODEProblem(dω,ω_0,α_0,tspan,P_g)\n",
    "        sol = solve(prob)\n",
    "\n",
    "        push!(ω_i[i+1],sol(t_i[i+1])[1])\n",
    "        push!(α_i[i+1],sol(t_i[i+1])[2])\n",
    "\n",
    "        l = l + 1\n",
    "            \n",
    "        if α_i[i+1][end]>3*π && α_i[i]<=3*π\n",
    "            i_π = i\n",
    "        end\n",
    "\n",
    "        end\n",
    "\n",
    "        ω_i[i+1] = ω_i[i+1][end]\n",
    "        α_i[i+1] = α_i[i+1][end]\n",
    "        T_i[i+1] = T_i[i+1][end]\n",
    "        P_i[i+1] = P_i[i+1][end]\n",
    "        u_i[i+1] = u_i[i+1][end]\n",
    "        n_i[i] = n_i[i][end]\n",
    "        w_i[i] = w_i[i][end]\n",
    "        v_i[i+1] = v_i[i+1][end]\n",
    "        q_i[i] = q_i[i][end]\n",
    "\n",
    "\n",
    "        i = i + 1\n",
    "    end\n",
    "    p = p + 1\n",
    "end\n",
    "\n",
    "println(\"x $i\")"
   ]
  },
  {
   "cell_type": "code",
   "execution_count": 112,
   "metadata": {
    "scrolled": true
   },
   "outputs": [
    {
     "data": {
      "text/plain": [
       "(0.1312999999999937, 59.70741825210414)"
      ]
     },
     "execution_count": 112,
     "metadata": {},
     "output_type": "execute_result"
    }
   ],
   "source": [
    "t_i[end], α_i[end]"
   ]
  },
  {
   "cell_type": "code",
   "execution_count": 113,
   "metadata": {},
   "outputs": [
    {
     "data": {
      "text/plain": [
       "(2627, 526, 2232)"
      ]
     },
     "execution_count": 113,
     "metadata": {},
     "output_type": "execute_result"
    }
   ],
   "source": [
    "size(t_i)[1], i_π, i_θ"
   ]
  },
  {
   "cell_type": "code",
   "execution_count": 114,
   "metadata": {},
   "outputs": [
    {
     "ename": "LoadError",
     "evalue": "HDF5.API.H5Error: Error creating file data/edc1.h5\nlibhdf5 Stacktrace:\n [1] \u001b[0m\u001b[1mH5FD__sec2_open\u001b[22m: File accessibility/Unable to open file\n\u001b[90m     unable to open file: name = 'data/edc1.h5', errno = 2, error message = 'No such file or directory', flags = 13, o_flags = 302\u001b[39m\n  ⋮",
     "output_type": "error",
     "traceback": [
      "HDF5.API.H5Error: Error creating file data/edc1.h5\nlibhdf5 Stacktrace:\n [1] \u001b[0m\u001b[1mH5FD__sec2_open\u001b[22m: File accessibility/Unable to open file\n\u001b[90m     unable to open file: name = 'data/edc1.h5', errno = 2, error message = 'No such file or directory', flags = 13, o_flags = 302\u001b[39m\n  ⋮",
      "",
      "Stacktrace:",
      "  [1] macro expansion",
      "    @ C:\\Users\\Allex\\.julia\\packages\\HDF5\\T4H0V\\src\\api\\error.jl:18 [inlined]",
      "  [2] h5f_create(pathname::String, flags::UInt16, fcpl_id::HDF5.FileCreateProperties, fapl_id::HDF5.FileAccessProperties)",
      "    @ HDF5.API C:\\Users\\Allex\\.julia\\packages\\HDF5\\T4H0V\\src\\api\\functions.jl:740",
      "  [3] h5open(filename::String, mode::String, fapl::HDF5.FileAccessProperties, fcpl::HDF5.FileCreateProperties; swmr::Bool)",
      "    @ HDF5 C:\\Users\\Allex\\.julia\\packages\\HDF5\\T4H0V\\src\\file.jl:43",
      "  [4] h5open(filename::String, mode::String; swmr::Bool, fapl::HDF5.FileAccessProperties, fcpl::HDF5.FileCreateProperties, pv::Base.Pairs{Symbol, Union{}, Tuple{}, NamedTuple{(), Tuple{}}})",
      "    @ HDF5 C:\\Users\\Allex\\.julia\\packages\\HDF5\\T4H0V\\src\\file.jl:70",
      "  [5] h5open",
      "    @ C:\\Users\\Allex\\.julia\\packages\\HDF5\\T4H0V\\src\\file.jl:58 [inlined]",
      "  [6] h5write(filename::String, name::String, data::Vector{Float64}; pv::Base.Pairs{Symbol, Union{}, Tuple{}, NamedTuple{(), Tuple{}}})",
      "    @ HDF5 C:\\Users\\Allex\\.julia\\packages\\HDF5\\T4H0V\\src\\highlevel.jl:4",
      "  [7] h5write(filename::String, name::String, data::Vector{Float64})",
      "    @ HDF5 C:\\Users\\Allex\\.julia\\packages\\HDF5\\T4H0V\\src\\highlevel.jl:3",
      "  [8] top-level scope",
      "    @ In[114]:1",
      "  [9] eval",
      "    @ .\\boot.jl:368 [inlined]",
      " [10] include_string(mapexpr::typeof(REPL.softscope), mod::Module, code::String, filename::String)",
      "    @ Base .\\loading.jl:1428"
     ]
    }
   ],
   "source": [
    "h5write(\"data/edc1.h5\", \"pargeo/α_i\", Float64.(α_i))"
   ]
  },
  {
   "cell_type": "code",
   "execution_count": 115,
   "metadata": {},
   "outputs": [
    {
     "ename": "LoadError",
     "evalue": "HDF5.API.H5Error: Error creating file data/edc1.h5\nlibhdf5 Stacktrace:\n [1] \u001b[0m\u001b[1mH5FD__sec2_open\u001b[22m: File accessibility/Unable to open file\n\u001b[90m     unable to open file: name = 'data/edc1.h5', errno = 2, error message = 'No such file or directory', flags = 13, o_flags = 302\u001b[39m\n  ⋮",
     "output_type": "error",
     "traceback": [
      "HDF5.API.H5Error: Error creating file data/edc1.h5\nlibhdf5 Stacktrace:\n [1] \u001b[0m\u001b[1mH5FD__sec2_open\u001b[22m: File accessibility/Unable to open file\n\u001b[90m     unable to open file: name = 'data/edc1.h5', errno = 2, error message = 'No such file or directory', flags = 13, o_flags = 302\u001b[39m\n  ⋮",
      "",
      "Stacktrace:",
      "  [1] macro expansion",
      "    @ C:\\Users\\Allex\\.julia\\packages\\HDF5\\T4H0V\\src\\api\\error.jl:18 [inlined]",
      "  [2] h5f_create(pathname::String, flags::UInt16, fcpl_id::HDF5.FileCreateProperties, fapl_id::HDF5.FileAccessProperties)",
      "    @ HDF5.API C:\\Users\\Allex\\.julia\\packages\\HDF5\\T4H0V\\src\\api\\functions.jl:740",
      "  [3] h5open(filename::String, mode::String, fapl::HDF5.FileAccessProperties, fcpl::HDF5.FileCreateProperties; swmr::Bool)",
      "    @ HDF5 C:\\Users\\Allex\\.julia\\packages\\HDF5\\T4H0V\\src\\file.jl:43",
      "  [4] h5open(filename::String, mode::String; swmr::Bool, fapl::HDF5.FileAccessProperties, fcpl::HDF5.FileCreateProperties, pv::Base.Pairs{Symbol, Union{}, Tuple{}, NamedTuple{(), Tuple{}}})",
      "    @ HDF5 C:\\Users\\Allex\\.julia\\packages\\HDF5\\T4H0V\\src\\file.jl:70",
      "  [5] h5open",
      "    @ C:\\Users\\Allex\\.julia\\packages\\HDF5\\T4H0V\\src\\file.jl:58 [inlined]",
      "  [6] h5write(filename::String, name::String, data::Vector{Float64}; pv::Base.Pairs{Symbol, Union{}, Tuple{}, NamedTuple{(), Tuple{}}})",
      "    @ HDF5 C:\\Users\\Allex\\.julia\\packages\\HDF5\\T4H0V\\src\\highlevel.jl:4",
      "  [7] h5write(filename::String, name::String, data::Vector{Float64})",
      "    @ HDF5 C:\\Users\\Allex\\.julia\\packages\\HDF5\\T4H0V\\src\\highlevel.jl:3",
      "  [8] top-level scope",
      "    @ In[115]:1",
      "  [9] eval",
      "    @ .\\boot.jl:368 [inlined]",
      " [10] include_string(mapexpr::typeof(REPL.softscope), mod::Module, code::String, filename::String)",
      "    @ Base .\\loading.jl:1428"
     ]
    }
   ],
   "source": [
    "h5write(\"data/edc1.h5\", \"pargeo/ω_i\", Float64.(ω_i))\n",
    "h5write(\"data/edc1.h5\", \"pargeo/i_π\", i_π)"
   ]
  },
  {
   "cell_type": "code",
   "execution_count": 116,
   "metadata": {},
   "outputs": [
    {
     "ename": "LoadError",
     "evalue": "unable to determine if data/edc1.h5 is accessible in the HDF5 format (file may not exist)",
     "output_type": "error",
     "traceback": [
      "unable to determine if data/edc1.h5 is accessible in the HDF5 format (file may not exist)",
      "",
      "Stacktrace:",
      " [1] error(s::String)",
      "   @ Base .\\error.jl:35",
      " [2] h5open(filename::String, mode::String, fapl::HDF5.FileAccessProperties, fcpl::HDF5.FileCreateProperties; swmr::Bool)",
      "   @ HDF5 C:\\Users\\Allex\\.julia\\packages\\HDF5\\T4H0V\\src\\file.jl:45",
      " [3] h5open (repeats 2 times)",
      "   @ C:\\Users\\Allex\\.julia\\packages\\HDF5\\T4H0V\\src\\file.jl:20 [inlined]",
      " [4] h5read(filename::String, name::String; pv::Base.Pairs{Symbol, Union{}, Tuple{}, NamedTuple{(), Tuple{}}})",
      "   @ HDF5 C:\\Users\\Allex\\.julia\\packages\\HDF5\\T4H0V\\src\\highlevel.jl:16",
      " [5] h5read(filename::String, name::String)",
      "   @ HDF5 C:\\Users\\Allex\\.julia\\packages\\HDF5\\T4H0V\\src\\highlevel.jl:12",
      " [6] top-level scope",
      "   @ In[116]:1",
      " [7] eval",
      "   @ .\\boot.jl:368 [inlined]",
      " [8] include_string(mapexpr::typeof(REPL.softscope), mod::Module, code::String, filename::String)",
      "   @ Base .\\loading.jl:1428"
     ]
    }
   ],
   "source": [
    "h5read(\"data/edc1.h5\", \"pargeo/i_π\")"
   ]
  },
  {
   "cell_type": "code",
   "execution_count": 117,
   "metadata": {},
   "outputs": [
    {
     "ename": "LoadError",
     "evalue": "HDF5.API.H5Error: Error creating file data/edc1.h5\nlibhdf5 Stacktrace:\n [1] \u001b[0m\u001b[1mH5FD__sec2_open\u001b[22m: File accessibility/Unable to open file\n\u001b[90m     unable to open file: name = 'data/edc1.h5', errno = 2, error message = 'No such file or directory', flags = 13, o_flags = 302\u001b[39m\n  ⋮",
     "output_type": "error",
     "traceback": [
      "HDF5.API.H5Error: Error creating file data/edc1.h5\nlibhdf5 Stacktrace:\n [1] \u001b[0m\u001b[1mH5FD__sec2_open\u001b[22m: File accessibility/Unable to open file\n\u001b[90m     unable to open file: name = 'data/edc1.h5', errno = 2, error message = 'No such file or directory', flags = 13, o_flags = 302\u001b[39m\n  ⋮",
      "",
      "Stacktrace:",
      "  [1] macro expansion",
      "    @ C:\\Users\\Allex\\.julia\\packages\\HDF5\\T4H0V\\src\\api\\error.jl:18 [inlined]",
      "  [2] h5f_create(pathname::String, flags::UInt16, fcpl_id::HDF5.FileCreateProperties, fapl_id::HDF5.FileAccessProperties)",
      "    @ HDF5.API C:\\Users\\Allex\\.julia\\packages\\HDF5\\T4H0V\\src\\api\\functions.jl:740",
      "  [3] h5open(filename::String, mode::String, fapl::HDF5.FileAccessProperties, fcpl::HDF5.FileCreateProperties; swmr::Bool)",
      "    @ HDF5 C:\\Users\\Allex\\.julia\\packages\\HDF5\\T4H0V\\src\\file.jl:43",
      "  [4] h5open(filename::String, mode::String; swmr::Bool, fapl::HDF5.FileAccessProperties, fcpl::HDF5.FileCreateProperties, pv::Base.Pairs{Symbol, Union{}, Tuple{}, NamedTuple{(), Tuple{}}})",
      "    @ HDF5 C:\\Users\\Allex\\.julia\\packages\\HDF5\\T4H0V\\src\\file.jl:70",
      "  [5] h5open",
      "    @ C:\\Users\\Allex\\.julia\\packages\\HDF5\\T4H0V\\src\\file.jl:58 [inlined]",
      "  [6] h5write(filename::String, name::String, data::Vector{Float64}; pv::Base.Pairs{Symbol, Union{}, Tuple{}, NamedTuple{(), Tuple{}}})",
      "    @ HDF5 C:\\Users\\Allex\\.julia\\packages\\HDF5\\T4H0V\\src\\highlevel.jl:4",
      "  [7] h5write(filename::String, name::String, data::Vector{Float64})",
      "    @ HDF5 C:\\Users\\Allex\\.julia\\packages\\HDF5\\T4H0V\\src\\highlevel.jl:3",
      "  [8] top-level scope",
      "    @ In[117]:1",
      "  [9] eval",
      "    @ .\\boot.jl:368 [inlined]",
      " [10] include_string(mapexpr::typeof(REPL.softscope), mod::Module, code::String, filename::String)",
      "    @ Base .\\loading.jl:1428"
     ]
    }
   ],
   "source": [
    "h5write(\"data/edc1.h5\", \"parter/P_i\", Float64.(P_i))\n",
    "h5write(\"data/edc1.h5\", \"parter/u_i\", Float64.(u_i))\n",
    "h5write(\"data/edc1.h5\", \"parter/T_i\", Float64.(T_i))\n",
    "h5write(\"data/edc1.h5\", \"parter/w_i\", Float64.(w_i))\n",
    "h5write(\"data/edc1.h5\", \"parter/n_i\", Float64.(n_i))\n",
    "h5write(\"data/edc1.h5\", \"parter/q_i\", Float64.(q_i))\n",
    "h5write(\"data/edc1.h5\", \"parter/v_i\", Float64.(v_i))"
   ]
  },
  {
   "cell_type": "code",
   "execution_count": 118,
   "metadata": {},
   "outputs": [
    {
     "ename": "LoadError",
     "evalue": "HDF5.API.H5Error: Error creating file data/edc1.h5\nlibhdf5 Stacktrace:\n [1] \u001b[0m\u001b[1mH5FD__sec2_open\u001b[22m: File accessibility/Unable to open file\n\u001b[90m     unable to open file: name = 'data/edc1.h5', errno = 2, error message = 'No such file or directory', flags = 13, o_flags = 302\u001b[39m\n  ⋮",
     "output_type": "error",
     "traceback": [
      "HDF5.API.H5Error: Error creating file data/edc1.h5\nlibhdf5 Stacktrace:\n [1] \u001b[0m\u001b[1mH5FD__sec2_open\u001b[22m: File accessibility/Unable to open file\n\u001b[90m     unable to open file: name = 'data/edc1.h5', errno = 2, error message = 'No such file or directory', flags = 13, o_flags = 302\u001b[39m\n  ⋮",
      "",
      "Stacktrace:",
      "  [1] macro expansion",
      "    @ C:\\Users\\Allex\\.julia\\packages\\HDF5\\T4H0V\\src\\api\\error.jl:18 [inlined]",
      "  [2] h5f_create(pathname::String, flags::UInt16, fcpl_id::HDF5.FileCreateProperties, fapl_id::HDF5.FileAccessProperties)",
      "    @ HDF5.API C:\\Users\\Allex\\.julia\\packages\\HDF5\\T4H0V\\src\\api\\functions.jl:740",
      "  [3] h5open(filename::String, mode::String, fapl::HDF5.FileAccessProperties, fcpl::HDF5.FileCreateProperties; swmr::Bool)",
      "    @ HDF5 C:\\Users\\Allex\\.julia\\packages\\HDF5\\T4H0V\\src\\file.jl:43",
      "  [4] h5open(filename::String, mode::String; swmr::Bool, fapl::HDF5.FileAccessProperties, fcpl::HDF5.FileCreateProperties, pv::Base.Pairs{Symbol, Union{}, Tuple{}, NamedTuple{(), Tuple{}}})",
      "    @ HDF5 C:\\Users\\Allex\\.julia\\packages\\HDF5\\T4H0V\\src\\file.jl:70",
      "  [5] h5open",
      "    @ C:\\Users\\Allex\\.julia\\packages\\HDF5\\T4H0V\\src\\file.jl:58 [inlined]",
      "  [6] h5write(filename::String, name::String, data::Vector{Float64}; pv::Base.Pairs{Symbol, Union{}, Tuple{}, NamedTuple{(), Tuple{}}})",
      "    @ HDF5 C:\\Users\\Allex\\.julia\\packages\\HDF5\\T4H0V\\src\\highlevel.jl:4",
      "  [7] h5write(filename::String, name::String, data::Vector{Float64})",
      "    @ HDF5 C:\\Users\\Allex\\.julia\\packages\\HDF5\\T4H0V\\src\\highlevel.jl:3",
      "  [8] top-level scope",
      "    @ In[118]:1",
      "  [9] eval",
      "    @ .\\boot.jl:368 [inlined]",
      " [10] include_string(mapexpr::typeof(REPL.softscope), mod::Module, code::String, filename::String)",
      "    @ Base .\\loading.jl:1428"
     ]
    }
   ],
   "source": [
    "h5write(\"data/edc1.h5\", \"tempo/t_i\", Float64.(t_i))"
   ]
  },
  {
   "cell_type": "code",
   "execution_count": 121,
   "metadata": {
    "scrolled": false
   },
   "outputs": [
    {
     "data": {
      "image/svg+xml": [
       "<?xml version=\"1.0\" encoding=\"utf-8\"?>\n",
       "<svg xmlns=\"http://www.w3.org/2000/svg\" xmlns:xlink=\"http://www.w3.org/1999/xlink\" width=\"600\" height=\"400\" viewBox=\"0 0 2400 1600\">\n",
       "<defs>\n",
       "  <clipPath id=\"clip400\">\n",
       "    <rect x=\"0\" y=\"0\" width=\"2400\" height=\"1600\"/>\n",
       "  </clipPath>\n",
       "</defs>\n",
       "<path clip-path=\"url(#clip400)\" d=\"\n",
       "M0 1600 L2400 1600 L2400 0 L0 0  Z\n",
       "  \" fill=\"#ffffff\" fill-rule=\"evenodd\" fill-opacity=\"1\"/>\n",
       "<defs>\n",
       "  <clipPath id=\"clip401\">\n",
       "    <rect x=\"480\" y=\"0\" width=\"1681\" height=\"1600\"/>\n",
       "  </clipPath>\n",
       "</defs>\n",
       "<path clip-path=\"url(#clip400)\" d=\"\n",
       "M253.454 1423.18 L2352.76 1423.18 L2352.76 47.2441 L253.454 47.2441  Z\n",
       "  \" fill=\"#ffffff\" fill-rule=\"evenodd\" fill-opacity=\"1\"/>\n",
       "<defs>\n",
       "  <clipPath id=\"clip402\">\n",
       "    <rect x=\"253\" y=\"47\" width=\"2100\" height=\"1377\"/>\n",
       "  </clipPath>\n",
       "</defs>\n",
       "<polyline clip-path=\"url(#clip402)\" style=\"stroke:#000000; stroke-width:2; stroke-opacity:0.1; fill:none\" points=\"\n",
       "  312.868,1423.18 312.868,47.2441 \n",
       "  \"/>\n",
       "<polyline clip-path=\"url(#clip402)\" style=\"stroke:#000000; stroke-width:2; stroke-opacity:0.1; fill:none\" points=\"\n",
       "  560.216,1423.18 560.216,47.2441 \n",
       "  \"/>\n",
       "<polyline clip-path=\"url(#clip402)\" style=\"stroke:#000000; stroke-width:2; stroke-opacity:0.1; fill:none\" points=\"\n",
       "  807.564,1423.18 807.564,47.2441 \n",
       "  \"/>\n",
       "<polyline clip-path=\"url(#clip402)\" style=\"stroke:#000000; stroke-width:2; stroke-opacity:0.1; fill:none\" points=\"\n",
       "  1054.91,1423.18 1054.91,47.2441 \n",
       "  \"/>\n",
       "<polyline clip-path=\"url(#clip402)\" style=\"stroke:#000000; stroke-width:2; stroke-opacity:0.1; fill:none\" points=\"\n",
       "  1302.26,1423.18 1302.26,47.2441 \n",
       "  \"/>\n",
       "<polyline clip-path=\"url(#clip402)\" style=\"stroke:#000000; stroke-width:2; stroke-opacity:0.1; fill:none\" points=\"\n",
       "  1549.61,1423.18 1549.61,47.2441 \n",
       "  \"/>\n",
       "<polyline clip-path=\"url(#clip402)\" style=\"stroke:#000000; stroke-width:2; stroke-opacity:0.1; fill:none\" points=\"\n",
       "  1796.96,1423.18 1796.96,47.2441 \n",
       "  \"/>\n",
       "<polyline clip-path=\"url(#clip402)\" style=\"stroke:#000000; stroke-width:2; stroke-opacity:0.1; fill:none\" points=\"\n",
       "  2044.3,1423.18 2044.3,47.2441 \n",
       "  \"/>\n",
       "<polyline clip-path=\"url(#clip402)\" style=\"stroke:#000000; stroke-width:2; stroke-opacity:0.1; fill:none\" points=\"\n",
       "  2291.65,1423.18 2291.65,47.2441 \n",
       "  \"/>\n",
       "<polyline clip-path=\"url(#clip402)\" style=\"stroke:#000000; stroke-width:2; stroke-opacity:0.1; fill:none\" points=\"\n",
       "  2539,1423.18 2539,47.2441 \n",
       "  \"/>\n",
       "<polyline clip-path=\"url(#clip402)\" style=\"stroke:#000000; stroke-width:2; stroke-opacity:0.1; fill:none\" points=\"\n",
       "  2786.35,1423.18 2786.35,47.2441 \n",
       "  \"/>\n",
       "<polyline clip-path=\"url(#clip402)\" style=\"stroke:#000000; stroke-width:2; stroke-opacity:0.1; fill:none\" points=\"\n",
       "  3033.69,1423.18 3033.69,47.2441 \n",
       "  \"/>\n",
       "<polyline clip-path=\"url(#clip402)\" style=\"stroke:#000000; stroke-width:2; stroke-opacity:0.1; fill:none\" points=\"\n",
       "  3281.04,1423.18 3281.04,47.2441 \n",
       "  \"/>\n",
       "<polyline clip-path=\"url(#clip402)\" style=\"stroke:#000000; stroke-width:2; stroke-opacity:0.1; fill:none\" points=\"\n",
       "  3528.39,1423.18 3528.39,47.2441 \n",
       "  \"/>\n",
       "<polyline clip-path=\"url(#clip402)\" style=\"stroke:#000000; stroke-width:2; stroke-opacity:0.1; fill:none\" points=\"\n",
       "  3775.74,1423.18 3775.74,47.2441 \n",
       "  \"/>\n",
       "<polyline clip-path=\"url(#clip402)\" style=\"stroke:#000000; stroke-width:2; stroke-opacity:0.1; fill:none\" points=\"\n",
       "  4023.09,1423.18 4023.09,47.2441 \n",
       "  \"/>\n",
       "<polyline clip-path=\"url(#clip402)\" style=\"stroke:#000000; stroke-width:2; stroke-opacity:0.1; fill:none\" points=\"\n",
       "  4270.43,1423.18 4270.43,47.2441 \n",
       "  \"/>\n",
       "<polyline clip-path=\"url(#clip402)\" style=\"stroke:#000000; stroke-width:2; stroke-opacity:0.1; fill:none\" points=\"\n",
       "  4517.78,1423.18 4517.78,47.2441 \n",
       "  \"/>\n",
       "<polyline clip-path=\"url(#clip402)\" style=\"stroke:#000000; stroke-width:2; stroke-opacity:0.1; fill:none\" points=\"\n",
       "  4765.13,1423.18 4765.13,47.2441 \n",
       "  \"/>\n",
       "<polyline clip-path=\"url(#clip402)\" style=\"stroke:#000000; stroke-width:2; stroke-opacity:0.1; fill:none\" points=\"\n",
       "  5012.48,1423.18 5012.48,47.2441 \n",
       "  \"/>\n",
       "<polyline clip-path=\"url(#clip402)\" style=\"stroke:#000000; stroke-width:2; stroke-opacity:0.1; fill:none\" points=\"\n",
       "  5259.83,1423.18 5259.83,47.2441 \n",
       "  \"/>\n",
       "<polyline clip-path=\"url(#clip402)\" style=\"stroke:#000000; stroke-width:2; stroke-opacity:0.1; fill:none\" points=\"\n",
       "  253.454,20150.8 2352.76,20150.8 \n",
       "  \"/>\n",
       "<polyline clip-path=\"url(#clip402)\" style=\"stroke:#000000; stroke-width:2; stroke-opacity:0.1; fill:none\" points=\"\n",
       "  253.454,19939.6 2352.76,19939.6 \n",
       "  \"/>\n",
       "<polyline clip-path=\"url(#clip402)\" style=\"stroke:#000000; stroke-width:2; stroke-opacity:0.1; fill:none\" points=\"\n",
       "  253.454,19728.4 2352.76,19728.4 \n",
       "  \"/>\n",
       "<polyline clip-path=\"url(#clip402)\" style=\"stroke:#000000; stroke-width:2; stroke-opacity:0.1; fill:none\" points=\"\n",
       "  253.454,19517.2 2352.76,19517.2 \n",
       "  \"/>\n",
       "<polyline clip-path=\"url(#clip402)\" style=\"stroke:#000000; stroke-width:2; stroke-opacity:0.1; fill:none\" points=\"\n",
       "  253.454,19306 2352.76,19306 \n",
       "  \"/>\n",
       "<polyline clip-path=\"url(#clip402)\" style=\"stroke:#000000; stroke-width:2; stroke-opacity:0.1; fill:none\" points=\"\n",
       "  253.454,19094.8 2352.76,19094.8 \n",
       "  \"/>\n",
       "<polyline clip-path=\"url(#clip402)\" style=\"stroke:#000000; stroke-width:2; stroke-opacity:0.1; fill:none\" points=\"\n",
       "  253.454,18883.6 2352.76,18883.6 \n",
       "  \"/>\n",
       "<polyline clip-path=\"url(#clip402)\" style=\"stroke:#000000; stroke-width:2; stroke-opacity:0.1; fill:none\" points=\"\n",
       "  253.454,18672.4 2352.76,18672.4 \n",
       "  \"/>\n",
       "<polyline clip-path=\"url(#clip402)\" style=\"stroke:#000000; stroke-width:2; stroke-opacity:0.1; fill:none\" points=\"\n",
       "  253.454,18461.2 2352.76,18461.2 \n",
       "  \"/>\n",
       "<polyline clip-path=\"url(#clip402)\" style=\"stroke:#000000; stroke-width:2; stroke-opacity:0.1; fill:none\" points=\"\n",
       "  253.454,18249.9 2352.76,18249.9 \n",
       "  \"/>\n",
       "<polyline clip-path=\"url(#clip402)\" style=\"stroke:#000000; stroke-width:2; stroke-opacity:0.1; fill:none\" points=\"\n",
       "  253.454,18038.7 2352.76,18038.7 \n",
       "  \"/>\n",
       "<polyline clip-path=\"url(#clip402)\" style=\"stroke:#000000; stroke-width:2; stroke-opacity:0.1; fill:none\" points=\"\n",
       "  253.454,17827.5 2352.76,17827.5 \n",
       "  \"/>\n",
       "<polyline clip-path=\"url(#clip402)\" style=\"stroke:#000000; stroke-width:2; stroke-opacity:0.1; fill:none\" points=\"\n",
       "  253.454,17616.3 2352.76,17616.3 \n",
       "  \"/>\n",
       "<polyline clip-path=\"url(#clip402)\" style=\"stroke:#000000; stroke-width:2; stroke-opacity:0.1; fill:none\" points=\"\n",
       "  253.454,17405.1 2352.76,17405.1 \n",
       "  \"/>\n",
       "<polyline clip-path=\"url(#clip402)\" style=\"stroke:#000000; stroke-width:2; stroke-opacity:0.1; fill:none\" points=\"\n",
       "  253.454,17193.9 2352.76,17193.9 \n",
       "  \"/>\n",
       "<polyline clip-path=\"url(#clip402)\" style=\"stroke:#000000; stroke-width:2; stroke-opacity:0.1; fill:none\" points=\"\n",
       "  253.454,16982.7 2352.76,16982.7 \n",
       "  \"/>\n",
       "<polyline clip-path=\"url(#clip402)\" style=\"stroke:#000000; stroke-width:2; stroke-opacity:0.1; fill:none\" points=\"\n",
       "  253.454,16771.5 2352.76,16771.5 \n",
       "  \"/>\n",
       "<polyline clip-path=\"url(#clip402)\" style=\"stroke:#000000; stroke-width:2; stroke-opacity:0.1; fill:none\" points=\"\n",
       "  253.454,16560.3 2352.76,16560.3 \n",
       "  \"/>\n",
       "<polyline clip-path=\"url(#clip402)\" style=\"stroke:#000000; stroke-width:2; stroke-opacity:0.1; fill:none\" points=\"\n",
       "  253.454,16349.1 2352.76,16349.1 \n",
       "  \"/>\n",
       "<polyline clip-path=\"url(#clip402)\" style=\"stroke:#000000; stroke-width:2; stroke-opacity:0.1; fill:none\" points=\"\n",
       "  253.454,16137.9 2352.76,16137.9 \n",
       "  \"/>\n",
       "<polyline clip-path=\"url(#clip402)\" style=\"stroke:#000000; stroke-width:2; stroke-opacity:0.1; fill:none\" points=\"\n",
       "  253.454,15926.7 2352.76,15926.7 \n",
       "  \"/>\n",
       "<polyline clip-path=\"url(#clip402)\" style=\"stroke:#000000; stroke-width:2; stroke-opacity:0.1; fill:none\" points=\"\n",
       "  253.454,15715.5 2352.76,15715.5 \n",
       "  \"/>\n",
       "<polyline clip-path=\"url(#clip402)\" style=\"stroke:#000000; stroke-width:2; stroke-opacity:0.1; fill:none\" points=\"\n",
       "  253.454,15504.3 2352.76,15504.3 \n",
       "  \"/>\n",
       "<polyline clip-path=\"url(#clip402)\" style=\"stroke:#000000; stroke-width:2; stroke-opacity:0.1; fill:none\" points=\"\n",
       "  253.454,15293.1 2352.76,15293.1 \n",
       "  \"/>\n",
       "<polyline clip-path=\"url(#clip402)\" style=\"stroke:#000000; stroke-width:2; stroke-opacity:0.1; fill:none\" points=\"\n",
       "  253.454,15081.8 2352.76,15081.8 \n",
       "  \"/>\n",
       "<polyline clip-path=\"url(#clip402)\" style=\"stroke:#000000; stroke-width:2; stroke-opacity:0.1; fill:none\" points=\"\n",
       "  253.454,14870.6 2352.76,14870.6 \n",
       "  \"/>\n",
       "<polyline clip-path=\"url(#clip402)\" style=\"stroke:#000000; stroke-width:2; stroke-opacity:0.1; fill:none\" points=\"\n",
       "  253.454,14659.4 2352.76,14659.4 \n",
       "  \"/>\n",
       "<polyline clip-path=\"url(#clip402)\" style=\"stroke:#000000; stroke-width:2; stroke-opacity:0.1; fill:none\" points=\"\n",
       "  253.454,14448.2 2352.76,14448.2 \n",
       "  \"/>\n",
       "<polyline clip-path=\"url(#clip402)\" style=\"stroke:#000000; stroke-width:2; stroke-opacity:0.1; fill:none\" points=\"\n",
       "  253.454,14237 2352.76,14237 \n",
       "  \"/>\n",
       "<polyline clip-path=\"url(#clip402)\" style=\"stroke:#000000; stroke-width:2; stroke-opacity:0.1; fill:none\" points=\"\n",
       "  253.454,14025.8 2352.76,14025.8 \n",
       "  \"/>\n",
       "<polyline clip-path=\"url(#clip402)\" style=\"stroke:#000000; stroke-width:2; stroke-opacity:0.1; fill:none\" points=\"\n",
       "  253.454,13814.6 2352.76,13814.6 \n",
       "  \"/>\n",
       "<polyline clip-path=\"url(#clip402)\" style=\"stroke:#000000; stroke-width:2; stroke-opacity:0.1; fill:none\" points=\"\n",
       "  253.454,13603.4 2352.76,13603.4 \n",
       "  \"/>\n",
       "<polyline clip-path=\"url(#clip402)\" style=\"stroke:#000000; stroke-width:2; stroke-opacity:0.1; fill:none\" points=\"\n",
       "  253.454,13392.2 2352.76,13392.2 \n",
       "  \"/>\n",
       "<polyline clip-path=\"url(#clip402)\" style=\"stroke:#000000; stroke-width:2; stroke-opacity:0.1; fill:none\" points=\"\n",
       "  253.454,13181 2352.76,13181 \n",
       "  \"/>\n",
       "<polyline clip-path=\"url(#clip402)\" style=\"stroke:#000000; stroke-width:2; stroke-opacity:0.1; fill:none\" points=\"\n",
       "  253.454,12969.8 2352.76,12969.8 \n",
       "  \"/>\n",
       "<polyline clip-path=\"url(#clip402)\" style=\"stroke:#000000; stroke-width:2; stroke-opacity:0.1; fill:none\" points=\"\n",
       "  253.454,12758.6 2352.76,12758.6 \n",
       "  \"/>\n",
       "<polyline clip-path=\"url(#clip402)\" style=\"stroke:#000000; stroke-width:2; stroke-opacity:0.1; fill:none\" points=\"\n",
       "  253.454,12547.4 2352.76,12547.4 \n",
       "  \"/>\n",
       "<polyline clip-path=\"url(#clip402)\" style=\"stroke:#000000; stroke-width:2; stroke-opacity:0.1; fill:none\" points=\"\n",
       "  253.454,12336.2 2352.76,12336.2 \n",
       "  \"/>\n",
       "<polyline clip-path=\"url(#clip402)\" style=\"stroke:#000000; stroke-width:2; stroke-opacity:0.1; fill:none\" points=\"\n",
       "  253.454,12125 2352.76,12125 \n",
       "  \"/>\n",
       "<polyline clip-path=\"url(#clip402)\" style=\"stroke:#000000; stroke-width:2; stroke-opacity:0.1; fill:none\" points=\"\n",
       "  253.454,11913.7 2352.76,11913.7 \n",
       "  \"/>\n",
       "<polyline clip-path=\"url(#clip402)\" style=\"stroke:#000000; stroke-width:2; stroke-opacity:0.1; fill:none\" points=\"\n",
       "  253.454,11702.5 2352.76,11702.5 \n",
       "  \"/>\n",
       "<polyline clip-path=\"url(#clip402)\" style=\"stroke:#000000; stroke-width:2; stroke-opacity:0.1; fill:none\" points=\"\n",
       "  253.454,11491.3 2352.76,11491.3 \n",
       "  \"/>\n",
       "<polyline clip-path=\"url(#clip402)\" style=\"stroke:#000000; stroke-width:2; stroke-opacity:0.1; fill:none\" points=\"\n",
       "  253.454,11280.1 2352.76,11280.1 \n",
       "  \"/>\n",
       "<polyline clip-path=\"url(#clip402)\" style=\"stroke:#000000; stroke-width:2; stroke-opacity:0.1; fill:none\" points=\"\n",
       "  253.454,11068.9 2352.76,11068.9 \n",
       "  \"/>\n",
       "<polyline clip-path=\"url(#clip402)\" style=\"stroke:#000000; stroke-width:2; stroke-opacity:0.1; fill:none\" points=\"\n",
       "  253.454,10857.7 2352.76,10857.7 \n",
       "  \"/>\n",
       "<polyline clip-path=\"url(#clip402)\" style=\"stroke:#000000; stroke-width:2; stroke-opacity:0.1; fill:none\" points=\"\n",
       "  253.454,10646.5 2352.76,10646.5 \n",
       "  \"/>\n",
       "<polyline clip-path=\"url(#clip402)\" style=\"stroke:#000000; stroke-width:2; stroke-opacity:0.1; fill:none\" points=\"\n",
       "  253.454,10435.3 2352.76,10435.3 \n",
       "  \"/>\n",
       "<polyline clip-path=\"url(#clip402)\" style=\"stroke:#000000; stroke-width:2; stroke-opacity:0.1; fill:none\" points=\"\n",
       "  253.454,10224.1 2352.76,10224.1 \n",
       "  \"/>\n",
       "<polyline clip-path=\"url(#clip402)\" style=\"stroke:#000000; stroke-width:2; stroke-opacity:0.1; fill:none\" points=\"\n",
       "  253.454,10012.9 2352.76,10012.9 \n",
       "  \"/>\n",
       "<polyline clip-path=\"url(#clip402)\" style=\"stroke:#000000; stroke-width:2; stroke-opacity:0.1; fill:none\" points=\"\n",
       "  253.454,9801.68 2352.76,9801.68 \n",
       "  \"/>\n",
       "<polyline clip-path=\"url(#clip402)\" style=\"stroke:#000000; stroke-width:2; stroke-opacity:0.1; fill:none\" points=\"\n",
       "  253.454,9590.48 2352.76,9590.48 \n",
       "  \"/>\n",
       "<polyline clip-path=\"url(#clip402)\" style=\"stroke:#000000; stroke-width:2; stroke-opacity:0.1; fill:none\" points=\"\n",
       "  253.454,9379.27 2352.76,9379.27 \n",
       "  \"/>\n",
       "<polyline clip-path=\"url(#clip402)\" style=\"stroke:#000000; stroke-width:2; stroke-opacity:0.1; fill:none\" points=\"\n",
       "  253.454,9168.07 2352.76,9168.07 \n",
       "  \"/>\n",
       "<polyline clip-path=\"url(#clip402)\" style=\"stroke:#000000; stroke-width:2; stroke-opacity:0.1; fill:none\" points=\"\n",
       "  253.454,8956.86 2352.76,8956.86 \n",
       "  \"/>\n",
       "<polyline clip-path=\"url(#clip402)\" style=\"stroke:#000000; stroke-width:2; stroke-opacity:0.1; fill:none\" points=\"\n",
       "  253.454,8745.65 2352.76,8745.65 \n",
       "  \"/>\n",
       "<polyline clip-path=\"url(#clip402)\" style=\"stroke:#000000; stroke-width:2; stroke-opacity:0.1; fill:none\" points=\"\n",
       "  253.454,8534.45 2352.76,8534.45 \n",
       "  \"/>\n",
       "<polyline clip-path=\"url(#clip402)\" style=\"stroke:#000000; stroke-width:2; stroke-opacity:0.1; fill:none\" points=\"\n",
       "  253.454,8323.24 2352.76,8323.24 \n",
       "  \"/>\n",
       "<polyline clip-path=\"url(#clip402)\" style=\"stroke:#000000; stroke-width:2; stroke-opacity:0.1; fill:none\" points=\"\n",
       "  253.454,8112.03 2352.76,8112.03 \n",
       "  \"/>\n",
       "<polyline clip-path=\"url(#clip402)\" style=\"stroke:#000000; stroke-width:2; stroke-opacity:0.1; fill:none\" points=\"\n",
       "  253.454,7900.83 2352.76,7900.83 \n",
       "  \"/>\n",
       "<polyline clip-path=\"url(#clip402)\" style=\"stroke:#000000; stroke-width:2; stroke-opacity:0.1; fill:none\" points=\"\n",
       "  253.454,7689.62 2352.76,7689.62 \n",
       "  \"/>\n",
       "<polyline clip-path=\"url(#clip402)\" style=\"stroke:#000000; stroke-width:2; stroke-opacity:0.1; fill:none\" points=\"\n",
       "  253.454,7478.41 2352.76,7478.41 \n",
       "  \"/>\n",
       "<polyline clip-path=\"url(#clip402)\" style=\"stroke:#000000; stroke-width:2; stroke-opacity:0.1; fill:none\" points=\"\n",
       "  253.454,7267.21 2352.76,7267.21 \n",
       "  \"/>\n",
       "<polyline clip-path=\"url(#clip402)\" style=\"stroke:#000000; stroke-width:2; stroke-opacity:0.1; fill:none\" points=\"\n",
       "  253.454,7056 2352.76,7056 \n",
       "  \"/>\n",
       "<polyline clip-path=\"url(#clip402)\" style=\"stroke:#000000; stroke-width:2; stroke-opacity:0.1; fill:none\" points=\"\n",
       "  253.454,6844.79 2352.76,6844.79 \n",
       "  \"/>\n",
       "<polyline clip-path=\"url(#clip402)\" style=\"stroke:#000000; stroke-width:2; stroke-opacity:0.1; fill:none\" points=\"\n",
       "  253.454,6633.59 2352.76,6633.59 \n",
       "  \"/>\n",
       "<polyline clip-path=\"url(#clip402)\" style=\"stroke:#000000; stroke-width:2; stroke-opacity:0.1; fill:none\" points=\"\n",
       "  253.454,6422.38 2352.76,6422.38 \n",
       "  \"/>\n",
       "<polyline clip-path=\"url(#clip402)\" style=\"stroke:#000000; stroke-width:2; stroke-opacity:0.1; fill:none\" points=\"\n",
       "  253.454,6211.17 2352.76,6211.17 \n",
       "  \"/>\n",
       "<polyline clip-path=\"url(#clip402)\" style=\"stroke:#000000; stroke-width:2; stroke-opacity:0.1; fill:none\" points=\"\n",
       "  253.454,5999.97 2352.76,5999.97 \n",
       "  \"/>\n",
       "<polyline clip-path=\"url(#clip402)\" style=\"stroke:#000000; stroke-width:2; stroke-opacity:0.1; fill:none\" points=\"\n",
       "  253.454,5788.76 2352.76,5788.76 \n",
       "  \"/>\n",
       "<polyline clip-path=\"url(#clip402)\" style=\"stroke:#000000; stroke-width:2; stroke-opacity:0.1; fill:none\" points=\"\n",
       "  253.454,5577.55 2352.76,5577.55 \n",
       "  \"/>\n",
       "<polyline clip-path=\"url(#clip402)\" style=\"stroke:#000000; stroke-width:2; stroke-opacity:0.1; fill:none\" points=\"\n",
       "  253.454,5366.35 2352.76,5366.35 \n",
       "  \"/>\n",
       "<polyline clip-path=\"url(#clip402)\" style=\"stroke:#000000; stroke-width:2; stroke-opacity:0.1; fill:none\" points=\"\n",
       "  253.454,5155.14 2352.76,5155.14 \n",
       "  \"/>\n",
       "<polyline clip-path=\"url(#clip402)\" style=\"stroke:#000000; stroke-width:2; stroke-opacity:0.1; fill:none\" points=\"\n",
       "  253.454,4943.94 2352.76,4943.94 \n",
       "  \"/>\n",
       "<polyline clip-path=\"url(#clip402)\" style=\"stroke:#000000; stroke-width:2; stroke-opacity:0.1; fill:none\" points=\"\n",
       "  253.454,4732.73 2352.76,4732.73 \n",
       "  \"/>\n",
       "<polyline clip-path=\"url(#clip402)\" style=\"stroke:#000000; stroke-width:2; stroke-opacity:0.1; fill:none\" points=\"\n",
       "  253.454,4521.52 2352.76,4521.52 \n",
       "  \"/>\n",
       "<polyline clip-path=\"url(#clip402)\" style=\"stroke:#000000; stroke-width:2; stroke-opacity:0.1; fill:none\" points=\"\n",
       "  253.454,4310.32 2352.76,4310.32 \n",
       "  \"/>\n",
       "<polyline clip-path=\"url(#clip402)\" style=\"stroke:#000000; stroke-width:2; stroke-opacity:0.1; fill:none\" points=\"\n",
       "  253.454,4099.11 2352.76,4099.11 \n",
       "  \"/>\n",
       "<polyline clip-path=\"url(#clip402)\" style=\"stroke:#000000; stroke-width:2; stroke-opacity:0.1; fill:none\" points=\"\n",
       "  253.454,3887.9 2352.76,3887.9 \n",
       "  \"/>\n",
       "<polyline clip-path=\"url(#clip402)\" style=\"stroke:#000000; stroke-width:2; stroke-opacity:0.1; fill:none\" points=\"\n",
       "  253.454,3676.7 2352.76,3676.7 \n",
       "  \"/>\n",
       "<polyline clip-path=\"url(#clip402)\" style=\"stroke:#000000; stroke-width:2; stroke-opacity:0.1; fill:none\" points=\"\n",
       "  253.454,3465.49 2352.76,3465.49 \n",
       "  \"/>\n",
       "<polyline clip-path=\"url(#clip402)\" style=\"stroke:#000000; stroke-width:2; stroke-opacity:0.1; fill:none\" points=\"\n",
       "  253.454,3254.28 2352.76,3254.28 \n",
       "  \"/>\n",
       "<polyline clip-path=\"url(#clip402)\" style=\"stroke:#000000; stroke-width:2; stroke-opacity:0.1; fill:none\" points=\"\n",
       "  253.454,3043.08 2352.76,3043.08 \n",
       "  \"/>\n",
       "<polyline clip-path=\"url(#clip402)\" style=\"stroke:#000000; stroke-width:2; stroke-opacity:0.1; fill:none\" points=\"\n",
       "  253.454,2831.87 2352.76,2831.87 \n",
       "  \"/>\n",
       "<polyline clip-path=\"url(#clip402)\" style=\"stroke:#000000; stroke-width:2; stroke-opacity:0.1; fill:none\" points=\"\n",
       "  253.454,2620.66 2352.76,2620.66 \n",
       "  \"/>\n",
       "<polyline clip-path=\"url(#clip402)\" style=\"stroke:#000000; stroke-width:2; stroke-opacity:0.1; fill:none\" points=\"\n",
       "  253.454,2409.46 2352.76,2409.46 \n",
       "  \"/>\n",
       "<polyline clip-path=\"url(#clip402)\" style=\"stroke:#000000; stroke-width:2; stroke-opacity:0.1; fill:none\" points=\"\n",
       "  253.454,2198.25 2352.76,2198.25 \n",
       "  \"/>\n",
       "<polyline clip-path=\"url(#clip402)\" style=\"stroke:#000000; stroke-width:2; stroke-opacity:0.1; fill:none\" points=\"\n",
       "  253.454,1987.04 2352.76,1987.04 \n",
       "  \"/>\n",
       "<polyline clip-path=\"url(#clip402)\" style=\"stroke:#000000; stroke-width:2; stroke-opacity:0.1; fill:none\" points=\"\n",
       "  253.454,1775.84 2352.76,1775.84 \n",
       "  \"/>\n",
       "<polyline clip-path=\"url(#clip402)\" style=\"stroke:#000000; stroke-width:2; stroke-opacity:0.1; fill:none\" points=\"\n",
       "  253.454,1564.63 2352.76,1564.63 \n",
       "  \"/>\n",
       "<polyline clip-path=\"url(#clip402)\" style=\"stroke:#000000; stroke-width:2; stroke-opacity:0.1; fill:none\" points=\"\n",
       "  253.454,1353.42 2352.76,1353.42 \n",
       "  \"/>\n",
       "<polyline clip-path=\"url(#clip402)\" style=\"stroke:#000000; stroke-width:2; stroke-opacity:0.1; fill:none\" points=\"\n",
       "  253.454,1142.22 2352.76,1142.22 \n",
       "  \"/>\n",
       "<polyline clip-path=\"url(#clip402)\" style=\"stroke:#000000; stroke-width:2; stroke-opacity:0.1; fill:none\" points=\"\n",
       "  253.454,931.012 2352.76,931.012 \n",
       "  \"/>\n",
       "<polyline clip-path=\"url(#clip402)\" style=\"stroke:#000000; stroke-width:2; stroke-opacity:0.1; fill:none\" points=\"\n",
       "  253.454,719.805 2352.76,719.805 \n",
       "  \"/>\n",
       "<polyline clip-path=\"url(#clip402)\" style=\"stroke:#000000; stroke-width:2; stroke-opacity:0.1; fill:none\" points=\"\n",
       "  253.454,508.599 2352.76,508.599 \n",
       "  \"/>\n",
       "<polyline clip-path=\"url(#clip402)\" style=\"stroke:#000000; stroke-width:2; stroke-opacity:0.1; fill:none\" points=\"\n",
       "  253.454,297.392 2352.76,297.392 \n",
       "  \"/>\n",
       "<polyline clip-path=\"url(#clip402)\" style=\"stroke:#000000; stroke-width:2; stroke-opacity:0.1; fill:none\" points=\"\n",
       "  253.454,86.1857 2352.76,86.1857 \n",
       "  \"/>\n",
       "<polyline clip-path=\"url(#clip402)\" style=\"stroke:#000000; stroke-width:2; stroke-opacity:0.1; fill:none\" points=\"\n",
       "  253.454,-125.021 2352.76,-125.021 \n",
       "  \"/>\n",
       "<polyline clip-path=\"url(#clip402)\" style=\"stroke:#000000; stroke-width:2; stroke-opacity:0.1; fill:none\" points=\"\n",
       "  253.454,-336.227 2352.76,-336.227 \n",
       "  \"/>\n",
       "<polyline clip-path=\"url(#clip402)\" style=\"stroke:#000000; stroke-width:2; stroke-opacity:0.1; fill:none\" points=\"\n",
       "  253.454,-547.434 2352.76,-547.434 \n",
       "  \"/>\n",
       "<polyline clip-path=\"url(#clip402)\" style=\"stroke:#000000; stroke-width:2; stroke-opacity:0.1; fill:none\" points=\"\n",
       "  253.454,-758.64 2352.76,-758.64 \n",
       "  \"/>\n",
       "<polyline clip-path=\"url(#clip402)\" style=\"stroke:#000000; stroke-width:2; stroke-opacity:0.1; fill:none\" points=\"\n",
       "  253.454,-969.847 2352.76,-969.847 \n",
       "  \"/>\n",
       "<polyline clip-path=\"url(#clip402)\" style=\"stroke:#000000; stroke-width:2; stroke-opacity:0.1; fill:none\" points=\"\n",
       "  253.454,-1181.05 2352.76,-1181.05 \n",
       "  \"/>\n",
       "<polyline clip-path=\"url(#clip402)\" style=\"stroke:#000000; stroke-width:2; stroke-opacity:0.1; fill:none\" points=\"\n",
       "  253.454,-1392.26 2352.76,-1392.26 \n",
       "  \"/>\n",
       "<polyline clip-path=\"url(#clip402)\" style=\"stroke:#000000; stroke-width:2; stroke-opacity:0.1; fill:none\" points=\"\n",
       "  253.454,-1603.47 2352.76,-1603.47 \n",
       "  \"/>\n",
       "<polyline clip-path=\"url(#clip402)\" style=\"stroke:#000000; stroke-width:2; stroke-opacity:0.1; fill:none\" points=\"\n",
       "  253.454,-1814.67 2352.76,-1814.67 \n",
       "  \"/>\n",
       "<polyline clip-path=\"url(#clip402)\" style=\"stroke:#000000; stroke-width:2; stroke-opacity:0.1; fill:none\" points=\"\n",
       "  253.454,-2025.88 2352.76,-2025.88 \n",
       "  \"/>\n",
       "<polyline clip-path=\"url(#clip402)\" style=\"stroke:#000000; stroke-width:2; stroke-opacity:0.1; fill:none\" points=\"\n",
       "  253.454,-2237.09 2352.76,-2237.09 \n",
       "  \"/>\n",
       "<polyline clip-path=\"url(#clip402)\" style=\"stroke:#000000; stroke-width:2; stroke-opacity:0.1; fill:none\" points=\"\n",
       "  253.454,-2448.29 2352.76,-2448.29 \n",
       "  \"/>\n",
       "<polyline clip-path=\"url(#clip402)\" style=\"stroke:#000000; stroke-width:2; stroke-opacity:0.1; fill:none\" points=\"\n",
       "  253.454,-2659.5 2352.76,-2659.5 \n",
       "  \"/>\n",
       "<polyline clip-path=\"url(#clip402)\" style=\"stroke:#000000; stroke-width:2; stroke-opacity:0.1; fill:none\" points=\"\n",
       "  253.454,-2870.71 2352.76,-2870.71 \n",
       "  \"/>\n",
       "<polyline clip-path=\"url(#clip402)\" style=\"stroke:#000000; stroke-width:2; stroke-opacity:0.1; fill:none\" points=\"\n",
       "  253.454,-3081.91 2352.76,-3081.91 \n",
       "  \"/>\n",
       "<polyline clip-path=\"url(#clip402)\" style=\"stroke:#000000; stroke-width:2; stroke-opacity:0.1; fill:none\" points=\"\n",
       "  253.454,-3293.12 2352.76,-3293.12 \n",
       "  \"/>\n",
       "<polyline clip-path=\"url(#clip402)\" style=\"stroke:#000000; stroke-width:2; stroke-opacity:0.1; fill:none\" points=\"\n",
       "  253.454,-3504.32 2352.76,-3504.32 \n",
       "  \"/>\n",
       "<polyline clip-path=\"url(#clip402)\" style=\"stroke:#000000; stroke-width:2; stroke-opacity:0.1; fill:none\" points=\"\n",
       "  253.454,-3715.53 2352.76,-3715.53 \n",
       "  \"/>\n",
       "<polyline clip-path=\"url(#clip402)\" style=\"stroke:#000000; stroke-width:2; stroke-opacity:0.1; fill:none\" points=\"\n",
       "  253.454,-3926.74 2352.76,-3926.74 \n",
       "  \"/>\n",
       "<polyline clip-path=\"url(#clip402)\" style=\"stroke:#000000; stroke-width:2; stroke-opacity:0.1; fill:none\" points=\"\n",
       "  253.454,-4137.94 2352.76,-4137.94 \n",
       "  \"/>\n",
       "<polyline clip-path=\"url(#clip402)\" style=\"stroke:#000000; stroke-width:2; stroke-opacity:0.1; fill:none\" points=\"\n",
       "  253.454,-4349.15 2352.76,-4349.15 \n",
       "  \"/>\n",
       "<polyline clip-path=\"url(#clip402)\" style=\"stroke:#000000; stroke-width:2; stroke-opacity:0.1; fill:none\" points=\"\n",
       "  253.454,-4560.36 2352.76,-4560.36 \n",
       "  \"/>\n",
       "<polyline clip-path=\"url(#clip402)\" style=\"stroke:#000000; stroke-width:2; stroke-opacity:0.1; fill:none\" points=\"\n",
       "  253.454,-4771.56 2352.76,-4771.56 \n",
       "  \"/>\n",
       "<polyline clip-path=\"url(#clip402)\" style=\"stroke:#000000; stroke-width:2; stroke-opacity:0.1; fill:none\" points=\"\n",
       "  253.454,-4982.77 2352.76,-4982.77 \n",
       "  \"/>\n",
       "<polyline clip-path=\"url(#clip402)\" style=\"stroke:#000000; stroke-width:2; stroke-opacity:0.1; fill:none\" points=\"\n",
       "  253.454,-5193.98 2352.76,-5193.98 \n",
       "  \"/>\n",
       "<polyline clip-path=\"url(#clip402)\" style=\"stroke:#000000; stroke-width:2; stroke-opacity:0.1; fill:none\" points=\"\n",
       "  253.454,-5405.18 2352.76,-5405.18 \n",
       "  \"/>\n",
       "<polyline clip-path=\"url(#clip402)\" style=\"stroke:#000000; stroke-width:2; stroke-opacity:0.1; fill:none\" points=\"\n",
       "  253.454,-5616.39 2352.76,-5616.39 \n",
       "  \"/>\n",
       "<polyline clip-path=\"url(#clip402)\" style=\"stroke:#000000; stroke-width:2; stroke-opacity:0.1; fill:none\" points=\"\n",
       "  253.454,-5827.6 2352.76,-5827.6 \n",
       "  \"/>\n",
       "<polyline clip-path=\"url(#clip402)\" style=\"stroke:#000000; stroke-width:2; stroke-opacity:0.1; fill:none\" points=\"\n",
       "  253.454,-6038.8 2352.76,-6038.8 \n",
       "  \"/>\n",
       "<polyline clip-path=\"url(#clip402)\" style=\"stroke:#000000; stroke-width:2; stroke-opacity:0.1; fill:none\" points=\"\n",
       "  253.454,-6250.01 2352.76,-6250.01 \n",
       "  \"/>\n",
       "<polyline clip-path=\"url(#clip402)\" style=\"stroke:#000000; stroke-width:2; stroke-opacity:0.1; fill:none\" points=\"\n",
       "  253.454,-6461.22 2352.76,-6461.22 \n",
       "  \"/>\n",
       "<polyline clip-path=\"url(#clip402)\" style=\"stroke:#000000; stroke-width:2; stroke-opacity:0.1; fill:none\" points=\"\n",
       "  253.454,-6672.42 2352.76,-6672.42 \n",
       "  \"/>\n",
       "<polyline clip-path=\"url(#clip402)\" style=\"stroke:#000000; stroke-width:2; stroke-opacity:0.1; fill:none\" points=\"\n",
       "  253.454,-6883.63 2352.76,-6883.63 \n",
       "  \"/>\n",
       "<polyline clip-path=\"url(#clip402)\" style=\"stroke:#000000; stroke-width:2; stroke-opacity:0.1; fill:none\" points=\"\n",
       "  253.454,-7094.84 2352.76,-7094.84 \n",
       "  \"/>\n",
       "<polyline clip-path=\"url(#clip402)\" style=\"stroke:#000000; stroke-width:2; stroke-opacity:0.1; fill:none\" points=\"\n",
       "  253.454,-7306.04 2352.76,-7306.04 \n",
       "  \"/>\n",
       "<polyline clip-path=\"url(#clip402)\" style=\"stroke:#000000; stroke-width:2; stroke-opacity:0.1; fill:none\" points=\"\n",
       "  253.454,-7517.25 2352.76,-7517.25 \n",
       "  \"/>\n",
       "<polyline clip-path=\"url(#clip402)\" style=\"stroke:#000000; stroke-width:2; stroke-opacity:0.1; fill:none\" points=\"\n",
       "  253.454,-7728.45 2352.76,-7728.45 \n",
       "  \"/>\n",
       "<polyline clip-path=\"url(#clip402)\" style=\"stroke:#000000; stroke-width:2; stroke-opacity:0.1; fill:none\" points=\"\n",
       "  253.454,-7939.66 2352.76,-7939.66 \n",
       "  \"/>\n",
       "<polyline clip-path=\"url(#clip402)\" style=\"stroke:#000000; stroke-width:2; stroke-opacity:0.1; fill:none\" points=\"\n",
       "  253.454,-8150.87 2352.76,-8150.87 \n",
       "  \"/>\n",
       "<polyline clip-path=\"url(#clip402)\" style=\"stroke:#000000; stroke-width:2; stroke-opacity:0.1; fill:none\" points=\"\n",
       "  253.454,-8362.07 2352.76,-8362.07 \n",
       "  \"/>\n",
       "<polyline clip-path=\"url(#clip402)\" style=\"stroke:#000000; stroke-width:2; stroke-opacity:0.1; fill:none\" points=\"\n",
       "  253.454,-8573.28 2352.76,-8573.28 \n",
       "  \"/>\n",
       "<polyline clip-path=\"url(#clip402)\" style=\"stroke:#000000; stroke-width:2; stroke-opacity:0.1; fill:none\" points=\"\n",
       "  253.454,-8784.49 2352.76,-8784.49 \n",
       "  \"/>\n",
       "<polyline clip-path=\"url(#clip402)\" style=\"stroke:#000000; stroke-width:2; stroke-opacity:0.1; fill:none\" points=\"\n",
       "  253.454,-8995.69 2352.76,-8995.69 \n",
       "  \"/>\n",
       "<polyline clip-path=\"url(#clip402)\" style=\"stroke:#000000; stroke-width:2; stroke-opacity:0.1; fill:none\" points=\"\n",
       "  253.454,-9206.9 2352.76,-9206.9 \n",
       "  \"/>\n",
       "<polyline clip-path=\"url(#clip402)\" style=\"stroke:#000000; stroke-width:2; stroke-opacity:0.1; fill:none\" points=\"\n",
       "  253.454,-9418.11 2352.76,-9418.11 \n",
       "  \"/>\n",
       "<polyline clip-path=\"url(#clip400)\" style=\"stroke:#000000; stroke-width:4; stroke-opacity:1; fill:none\" points=\"\n",
       "  253.454,1423.18 2352.76,1423.18 \n",
       "  \"/>\n",
       "<polyline clip-path=\"url(#clip400)\" style=\"stroke:#000000; stroke-width:4; stroke-opacity:1; fill:none\" points=\"\n",
       "  253.454,1423.18 253.454,47.2441 \n",
       "  \"/>\n",
       "<polyline clip-path=\"url(#clip400)\" style=\"stroke:#000000; stroke-width:4; stroke-opacity:1; fill:none\" points=\"\n",
       "  312.868,1423.18 312.868,1406.67 \n",
       "  \"/>\n",
       "<polyline clip-path=\"url(#clip400)\" style=\"stroke:#000000; stroke-width:4; stroke-opacity:1; fill:none\" points=\"\n",
       "  560.216,1423.18 560.216,1406.67 \n",
       "  \"/>\n",
       "<polyline clip-path=\"url(#clip400)\" style=\"stroke:#000000; stroke-width:4; stroke-opacity:1; fill:none\" points=\"\n",
       "  807.564,1423.18 807.564,1406.67 \n",
       "  \"/>\n",
       "<polyline clip-path=\"url(#clip400)\" style=\"stroke:#000000; stroke-width:4; stroke-opacity:1; fill:none\" points=\"\n",
       "  1054.91,1423.18 1054.91,1406.67 \n",
       "  \"/>\n",
       "<polyline clip-path=\"url(#clip400)\" style=\"stroke:#000000; stroke-width:4; stroke-opacity:1; fill:none\" points=\"\n",
       "  1302.26,1423.18 1302.26,1406.67 \n",
       "  \"/>\n",
       "<polyline clip-path=\"url(#clip400)\" style=\"stroke:#000000; stroke-width:4; stroke-opacity:1; fill:none\" points=\"\n",
       "  1549.61,1423.18 1549.61,1406.67 \n",
       "  \"/>\n",
       "<polyline clip-path=\"url(#clip400)\" style=\"stroke:#000000; stroke-width:4; stroke-opacity:1; fill:none\" points=\"\n",
       "  1796.96,1423.18 1796.96,1406.67 \n",
       "  \"/>\n",
       "<polyline clip-path=\"url(#clip400)\" style=\"stroke:#000000; stroke-width:4; stroke-opacity:1; fill:none\" points=\"\n",
       "  2044.3,1423.18 2044.3,1406.67 \n",
       "  \"/>\n",
       "<polyline clip-path=\"url(#clip400)\" style=\"stroke:#000000; stroke-width:4; stroke-opacity:1; fill:none\" points=\"\n",
       "  2291.65,1423.18 2291.65,1406.67 \n",
       "  \"/>\n",
       "<polyline clip-path=\"url(#clip400)\" style=\"stroke:#000000; stroke-width:4; stroke-opacity:1; fill:none\" points=\"\n",
       "  2539,1423.18 2539,1406.67 \n",
       "  \"/>\n",
       "<polyline clip-path=\"url(#clip400)\" style=\"stroke:#000000; stroke-width:4; stroke-opacity:1; fill:none\" points=\"\n",
       "  2786.35,1423.18 2786.35,1406.67 \n",
       "  \"/>\n",
       "<polyline clip-path=\"url(#clip400)\" style=\"stroke:#000000; stroke-width:4; stroke-opacity:1; fill:none\" points=\"\n",
       "  3033.69,1423.18 3033.69,1406.67 \n",
       "  \"/>\n",
       "<polyline clip-path=\"url(#clip400)\" style=\"stroke:#000000; stroke-width:4; stroke-opacity:1; fill:none\" points=\"\n",
       "  3281.04,1423.18 3281.04,1406.67 \n",
       "  \"/>\n",
       "<polyline clip-path=\"url(#clip400)\" style=\"stroke:#000000; stroke-width:4; stroke-opacity:1; fill:none\" points=\"\n",
       "  3528.39,1423.18 3528.39,1406.67 \n",
       "  \"/>\n",
       "<polyline clip-path=\"url(#clip400)\" style=\"stroke:#000000; stroke-width:4; stroke-opacity:1; fill:none\" points=\"\n",
       "  3775.74,1423.18 3775.74,1406.67 \n",
       "  \"/>\n",
       "<polyline clip-path=\"url(#clip400)\" style=\"stroke:#000000; stroke-width:4; stroke-opacity:1; fill:none\" points=\"\n",
       "  4023.09,1423.18 4023.09,1406.67 \n",
       "  \"/>\n",
       "<polyline clip-path=\"url(#clip400)\" style=\"stroke:#000000; stroke-width:4; stroke-opacity:1; fill:none\" points=\"\n",
       "  4270.43,1423.18 4270.43,1406.67 \n",
       "  \"/>\n",
       "<polyline clip-path=\"url(#clip400)\" style=\"stroke:#000000; stroke-width:4; stroke-opacity:1; fill:none\" points=\"\n",
       "  4517.78,1423.18 4517.78,1406.67 \n",
       "  \"/>\n",
       "<polyline clip-path=\"url(#clip400)\" style=\"stroke:#000000; stroke-width:4; stroke-opacity:1; fill:none\" points=\"\n",
       "  4765.13,1423.18 4765.13,1406.67 \n",
       "  \"/>\n",
       "<polyline clip-path=\"url(#clip400)\" style=\"stroke:#000000; stroke-width:4; stroke-opacity:1; fill:none\" points=\"\n",
       "  5012.48,1423.18 5012.48,1406.67 \n",
       "  \"/>\n",
       "<polyline clip-path=\"url(#clip400)\" style=\"stroke:#000000; stroke-width:4; stroke-opacity:1; fill:none\" points=\"\n",
       "  5259.83,1423.18 5259.83,1406.67 \n",
       "  \"/>\n",
       "<polyline clip-path=\"url(#clip400)\" style=\"stroke:#000000; stroke-width:4; stroke-opacity:1; fill:none\" points=\"\n",
       "  253.454,20150.8 278.646,20150.8 \n",
       "  \"/>\n",
       "<polyline clip-path=\"url(#clip400)\" style=\"stroke:#000000; stroke-width:4; stroke-opacity:1; fill:none\" points=\"\n",
       "  253.454,19939.6 278.646,19939.6 \n",
       "  \"/>\n",
       "<polyline clip-path=\"url(#clip400)\" style=\"stroke:#000000; stroke-width:4; stroke-opacity:1; fill:none\" points=\"\n",
       "  253.454,19728.4 278.646,19728.4 \n",
       "  \"/>\n",
       "<polyline clip-path=\"url(#clip400)\" style=\"stroke:#000000; stroke-width:4; stroke-opacity:1; fill:none\" points=\"\n",
       "  253.454,19517.2 278.646,19517.2 \n",
       "  \"/>\n",
       "<polyline clip-path=\"url(#clip400)\" style=\"stroke:#000000; stroke-width:4; stroke-opacity:1; fill:none\" points=\"\n",
       "  253.454,19306 278.646,19306 \n",
       "  \"/>\n",
       "<polyline clip-path=\"url(#clip400)\" style=\"stroke:#000000; stroke-width:4; stroke-opacity:1; fill:none\" points=\"\n",
       "  253.454,19094.8 278.646,19094.8 \n",
       "  \"/>\n",
       "<polyline clip-path=\"url(#clip400)\" style=\"stroke:#000000; stroke-width:4; stroke-opacity:1; fill:none\" points=\"\n",
       "  253.454,18883.6 278.646,18883.6 \n",
       "  \"/>\n",
       "<polyline clip-path=\"url(#clip400)\" style=\"stroke:#000000; stroke-width:4; stroke-opacity:1; fill:none\" points=\"\n",
       "  253.454,18672.4 278.646,18672.4 \n",
       "  \"/>\n",
       "<polyline clip-path=\"url(#clip400)\" style=\"stroke:#000000; stroke-width:4; stroke-opacity:1; fill:none\" points=\"\n",
       "  253.454,18461.2 278.646,18461.2 \n",
       "  \"/>\n",
       "<polyline clip-path=\"url(#clip400)\" style=\"stroke:#000000; stroke-width:4; stroke-opacity:1; fill:none\" points=\"\n",
       "  253.454,18249.9 278.646,18249.9 \n",
       "  \"/>\n",
       "<polyline clip-path=\"url(#clip400)\" style=\"stroke:#000000; stroke-width:4; stroke-opacity:1; fill:none\" points=\"\n",
       "  253.454,18038.7 278.646,18038.7 \n",
       "  \"/>\n",
       "<polyline clip-path=\"url(#clip400)\" style=\"stroke:#000000; stroke-width:4; stroke-opacity:1; fill:none\" points=\"\n",
       "  253.454,17827.5 278.646,17827.5 \n",
       "  \"/>\n",
       "<polyline clip-path=\"url(#clip400)\" style=\"stroke:#000000; stroke-width:4; stroke-opacity:1; fill:none\" points=\"\n",
       "  253.454,17616.3 278.646,17616.3 \n",
       "  \"/>\n",
       "<polyline clip-path=\"url(#clip400)\" style=\"stroke:#000000; stroke-width:4; stroke-opacity:1; fill:none\" points=\"\n",
       "  253.454,17405.1 278.646,17405.1 \n",
       "  \"/>\n",
       "<polyline clip-path=\"url(#clip400)\" style=\"stroke:#000000; stroke-width:4; stroke-opacity:1; fill:none\" points=\"\n",
       "  253.454,17193.9 278.646,17193.9 \n",
       "  \"/>\n",
       "<polyline clip-path=\"url(#clip400)\" style=\"stroke:#000000; stroke-width:4; stroke-opacity:1; fill:none\" points=\"\n",
       "  253.454,16982.7 278.646,16982.7 \n",
       "  \"/>\n",
       "<polyline clip-path=\"url(#clip400)\" style=\"stroke:#000000; stroke-width:4; stroke-opacity:1; fill:none\" points=\"\n",
       "  253.454,16771.5 278.646,16771.5 \n",
       "  \"/>\n",
       "<polyline clip-path=\"url(#clip400)\" style=\"stroke:#000000; stroke-width:4; stroke-opacity:1; fill:none\" points=\"\n",
       "  253.454,16560.3 278.646,16560.3 \n",
       "  \"/>\n",
       "<polyline clip-path=\"url(#clip400)\" style=\"stroke:#000000; stroke-width:4; stroke-opacity:1; fill:none\" points=\"\n",
       "  253.454,16349.1 278.646,16349.1 \n",
       "  \"/>\n",
       "<polyline clip-path=\"url(#clip400)\" style=\"stroke:#000000; stroke-width:4; stroke-opacity:1; fill:none\" points=\"\n",
       "  253.454,16137.9 278.646,16137.9 \n",
       "  \"/>\n",
       "<polyline clip-path=\"url(#clip400)\" style=\"stroke:#000000; stroke-width:4; stroke-opacity:1; fill:none\" points=\"\n",
       "  253.454,15926.7 278.646,15926.7 \n",
       "  \"/>\n",
       "<polyline clip-path=\"url(#clip400)\" style=\"stroke:#000000; stroke-width:4; stroke-opacity:1; fill:none\" points=\"\n",
       "  253.454,15715.5 278.646,15715.5 \n",
       "  \"/>\n",
       "<polyline clip-path=\"url(#clip400)\" style=\"stroke:#000000; stroke-width:4; stroke-opacity:1; fill:none\" points=\"\n",
       "  253.454,15504.3 278.646,15504.3 \n",
       "  \"/>\n",
       "<polyline clip-path=\"url(#clip400)\" style=\"stroke:#000000; stroke-width:4; stroke-opacity:1; fill:none\" points=\"\n",
       "  253.454,15293.1 278.646,15293.1 \n",
       "  \"/>\n",
       "<polyline clip-path=\"url(#clip400)\" style=\"stroke:#000000; stroke-width:4; stroke-opacity:1; fill:none\" points=\"\n",
       "  253.454,15081.8 278.646,15081.8 \n",
       "  \"/>\n",
       "<polyline clip-path=\"url(#clip400)\" style=\"stroke:#000000; stroke-width:4; stroke-opacity:1; fill:none\" points=\"\n",
       "  253.454,14870.6 278.646,14870.6 \n",
       "  \"/>\n",
       "<polyline clip-path=\"url(#clip400)\" style=\"stroke:#000000; stroke-width:4; stroke-opacity:1; fill:none\" points=\"\n",
       "  253.454,14659.4 278.646,14659.4 \n",
       "  \"/>\n",
       "<polyline clip-path=\"url(#clip400)\" style=\"stroke:#000000; stroke-width:4; stroke-opacity:1; fill:none\" points=\"\n",
       "  253.454,14448.2 278.646,14448.2 \n",
       "  \"/>\n",
       "<polyline clip-path=\"url(#clip400)\" style=\"stroke:#000000; stroke-width:4; stroke-opacity:1; fill:none\" points=\"\n",
       "  253.454,14237 278.646,14237 \n",
       "  \"/>\n",
       "<polyline clip-path=\"url(#clip400)\" style=\"stroke:#000000; stroke-width:4; stroke-opacity:1; fill:none\" points=\"\n",
       "  253.454,14025.8 278.646,14025.8 \n",
       "  \"/>\n",
       "<polyline clip-path=\"url(#clip400)\" style=\"stroke:#000000; stroke-width:4; stroke-opacity:1; fill:none\" points=\"\n",
       "  253.454,13814.6 278.646,13814.6 \n",
       "  \"/>\n",
       "<polyline clip-path=\"url(#clip400)\" style=\"stroke:#000000; stroke-width:4; stroke-opacity:1; fill:none\" points=\"\n",
       "  253.454,13603.4 278.646,13603.4 \n",
       "  \"/>\n",
       "<polyline clip-path=\"url(#clip400)\" style=\"stroke:#000000; stroke-width:4; stroke-opacity:1; fill:none\" points=\"\n",
       "  253.454,13392.2 278.646,13392.2 \n",
       "  \"/>\n",
       "<polyline clip-path=\"url(#clip400)\" style=\"stroke:#000000; stroke-width:4; stroke-opacity:1; fill:none\" points=\"\n",
       "  253.454,13181 278.646,13181 \n",
       "  \"/>\n",
       "<polyline clip-path=\"url(#clip400)\" style=\"stroke:#000000; stroke-width:4; stroke-opacity:1; fill:none\" points=\"\n",
       "  253.454,12969.8 278.646,12969.8 \n",
       "  \"/>\n",
       "<polyline clip-path=\"url(#clip400)\" style=\"stroke:#000000; stroke-width:4; stroke-opacity:1; fill:none\" points=\"\n",
       "  253.454,12758.6 278.646,12758.6 \n",
       "  \"/>\n",
       "<polyline clip-path=\"url(#clip400)\" style=\"stroke:#000000; stroke-width:4; stroke-opacity:1; fill:none\" points=\"\n",
       "  253.454,12547.4 278.646,12547.4 \n",
       "  \"/>\n",
       "<polyline clip-path=\"url(#clip400)\" style=\"stroke:#000000; stroke-width:4; stroke-opacity:1; fill:none\" points=\"\n",
       "  253.454,12336.2 278.646,12336.2 \n",
       "  \"/>\n",
       "<polyline clip-path=\"url(#clip400)\" style=\"stroke:#000000; stroke-width:4; stroke-opacity:1; fill:none\" points=\"\n",
       "  253.454,12125 278.646,12125 \n",
       "  \"/>\n",
       "<polyline clip-path=\"url(#clip400)\" style=\"stroke:#000000; stroke-width:4; stroke-opacity:1; fill:none\" points=\"\n",
       "  253.454,11913.7 278.646,11913.7 \n",
       "  \"/>\n",
       "<polyline clip-path=\"url(#clip400)\" style=\"stroke:#000000; stroke-width:4; stroke-opacity:1; fill:none\" points=\"\n",
       "  253.454,11702.5 278.646,11702.5 \n",
       "  \"/>\n",
       "<polyline clip-path=\"url(#clip400)\" style=\"stroke:#000000; stroke-width:4; stroke-opacity:1; fill:none\" points=\"\n",
       "  253.454,11491.3 278.646,11491.3 \n",
       "  \"/>\n",
       "<polyline clip-path=\"url(#clip400)\" style=\"stroke:#000000; stroke-width:4; stroke-opacity:1; fill:none\" points=\"\n",
       "  253.454,11280.1 278.646,11280.1 \n",
       "  \"/>\n",
       "<polyline clip-path=\"url(#clip400)\" style=\"stroke:#000000; stroke-width:4; stroke-opacity:1; fill:none\" points=\"\n",
       "  253.454,11068.9 278.646,11068.9 \n",
       "  \"/>\n",
       "<polyline clip-path=\"url(#clip400)\" style=\"stroke:#000000; stroke-width:4; stroke-opacity:1; fill:none\" points=\"\n",
       "  253.454,10857.7 278.646,10857.7 \n",
       "  \"/>\n",
       "<polyline clip-path=\"url(#clip400)\" style=\"stroke:#000000; stroke-width:4; stroke-opacity:1; fill:none\" points=\"\n",
       "  253.454,10646.5 278.646,10646.5 \n",
       "  \"/>\n",
       "<polyline clip-path=\"url(#clip400)\" style=\"stroke:#000000; stroke-width:4; stroke-opacity:1; fill:none\" points=\"\n",
       "  253.454,10435.3 278.646,10435.3 \n",
       "  \"/>\n",
       "<polyline clip-path=\"url(#clip400)\" style=\"stroke:#000000; stroke-width:4; stroke-opacity:1; fill:none\" points=\"\n",
       "  253.454,10224.1 278.646,10224.1 \n",
       "  \"/>\n",
       "<polyline clip-path=\"url(#clip400)\" style=\"stroke:#000000; stroke-width:4; stroke-opacity:1; fill:none\" points=\"\n",
       "  253.454,10012.9 278.646,10012.9 \n",
       "  \"/>\n",
       "<polyline clip-path=\"url(#clip400)\" style=\"stroke:#000000; stroke-width:4; stroke-opacity:1; fill:none\" points=\"\n",
       "  253.454,9801.68 278.646,9801.68 \n",
       "  \"/>\n",
       "<polyline clip-path=\"url(#clip400)\" style=\"stroke:#000000; stroke-width:4; stroke-opacity:1; fill:none\" points=\"\n",
       "  253.454,9590.48 278.646,9590.48 \n",
       "  \"/>\n",
       "<polyline clip-path=\"url(#clip400)\" style=\"stroke:#000000; stroke-width:4; stroke-opacity:1; fill:none\" points=\"\n",
       "  253.454,9379.27 278.646,9379.27 \n",
       "  \"/>\n",
       "<polyline clip-path=\"url(#clip400)\" style=\"stroke:#000000; stroke-width:4; stroke-opacity:1; fill:none\" points=\"\n",
       "  253.454,9168.07 278.646,9168.07 \n",
       "  \"/>\n",
       "<polyline clip-path=\"url(#clip400)\" style=\"stroke:#000000; stroke-width:4; stroke-opacity:1; fill:none\" points=\"\n",
       "  253.454,8956.86 278.646,8956.86 \n",
       "  \"/>\n",
       "<polyline clip-path=\"url(#clip400)\" style=\"stroke:#000000; stroke-width:4; stroke-opacity:1; fill:none\" points=\"\n",
       "  253.454,8745.65 278.646,8745.65 \n",
       "  \"/>\n",
       "<polyline clip-path=\"url(#clip400)\" style=\"stroke:#000000; stroke-width:4; stroke-opacity:1; fill:none\" points=\"\n",
       "  253.454,8534.45 278.646,8534.45 \n",
       "  \"/>\n",
       "<polyline clip-path=\"url(#clip400)\" style=\"stroke:#000000; stroke-width:4; stroke-opacity:1; fill:none\" points=\"\n",
       "  253.454,8323.24 278.646,8323.24 \n",
       "  \"/>\n",
       "<polyline clip-path=\"url(#clip400)\" style=\"stroke:#000000; stroke-width:4; stroke-opacity:1; fill:none\" points=\"\n",
       "  253.454,8112.03 278.646,8112.03 \n",
       "  \"/>\n",
       "<polyline clip-path=\"url(#clip400)\" style=\"stroke:#000000; stroke-width:4; stroke-opacity:1; fill:none\" points=\"\n",
       "  253.454,7900.83 278.646,7900.83 \n",
       "  \"/>\n",
       "<polyline clip-path=\"url(#clip400)\" style=\"stroke:#000000; stroke-width:4; stroke-opacity:1; fill:none\" points=\"\n",
       "  253.454,7689.62 278.646,7689.62 \n",
       "  \"/>\n",
       "<polyline clip-path=\"url(#clip400)\" style=\"stroke:#000000; stroke-width:4; stroke-opacity:1; fill:none\" points=\"\n",
       "  253.454,7478.41 278.646,7478.41 \n",
       "  \"/>\n",
       "<polyline clip-path=\"url(#clip400)\" style=\"stroke:#000000; stroke-width:4; stroke-opacity:1; fill:none\" points=\"\n",
       "  253.454,7267.21 278.646,7267.21 \n",
       "  \"/>\n",
       "<polyline clip-path=\"url(#clip400)\" style=\"stroke:#000000; stroke-width:4; stroke-opacity:1; fill:none\" points=\"\n",
       "  253.454,7056 278.646,7056 \n",
       "  \"/>\n",
       "<polyline clip-path=\"url(#clip400)\" style=\"stroke:#000000; stroke-width:4; stroke-opacity:1; fill:none\" points=\"\n",
       "  253.454,6844.79 278.646,6844.79 \n",
       "  \"/>\n",
       "<polyline clip-path=\"url(#clip400)\" style=\"stroke:#000000; stroke-width:4; stroke-opacity:1; fill:none\" points=\"\n",
       "  253.454,6633.59 278.646,6633.59 \n",
       "  \"/>\n",
       "<polyline clip-path=\"url(#clip400)\" style=\"stroke:#000000; stroke-width:4; stroke-opacity:1; fill:none\" points=\"\n",
       "  253.454,6422.38 278.646,6422.38 \n",
       "  \"/>\n",
       "<polyline clip-path=\"url(#clip400)\" style=\"stroke:#000000; stroke-width:4; stroke-opacity:1; fill:none\" points=\"\n",
       "  253.454,6211.17 278.646,6211.17 \n",
       "  \"/>\n",
       "<polyline clip-path=\"url(#clip400)\" style=\"stroke:#000000; stroke-width:4; stroke-opacity:1; fill:none\" points=\"\n",
       "  253.454,5999.97 278.646,5999.97 \n",
       "  \"/>\n",
       "<polyline clip-path=\"url(#clip400)\" style=\"stroke:#000000; stroke-width:4; stroke-opacity:1; fill:none\" points=\"\n",
       "  253.454,5788.76 278.646,5788.76 \n",
       "  \"/>\n",
       "<polyline clip-path=\"url(#clip400)\" style=\"stroke:#000000; stroke-width:4; stroke-opacity:1; fill:none\" points=\"\n",
       "  253.454,5577.55 278.646,5577.55 \n",
       "  \"/>\n",
       "<polyline clip-path=\"url(#clip400)\" style=\"stroke:#000000; stroke-width:4; stroke-opacity:1; fill:none\" points=\"\n",
       "  253.454,5366.35 278.646,5366.35 \n",
       "  \"/>\n",
       "<polyline clip-path=\"url(#clip400)\" style=\"stroke:#000000; stroke-width:4; stroke-opacity:1; fill:none\" points=\"\n",
       "  253.454,5155.14 278.646,5155.14 \n",
       "  \"/>\n",
       "<polyline clip-path=\"url(#clip400)\" style=\"stroke:#000000; stroke-width:4; stroke-opacity:1; fill:none\" points=\"\n",
       "  253.454,4943.94 278.646,4943.94 \n",
       "  \"/>\n",
       "<polyline clip-path=\"url(#clip400)\" style=\"stroke:#000000; stroke-width:4; stroke-opacity:1; fill:none\" points=\"\n",
       "  253.454,4732.73 278.646,4732.73 \n",
       "  \"/>\n",
       "<polyline clip-path=\"url(#clip400)\" style=\"stroke:#000000; stroke-width:4; stroke-opacity:1; fill:none\" points=\"\n",
       "  253.454,4521.52 278.646,4521.52 \n",
       "  \"/>\n",
       "<polyline clip-path=\"url(#clip400)\" style=\"stroke:#000000; stroke-width:4; stroke-opacity:1; fill:none\" points=\"\n",
       "  253.454,4310.32 278.646,4310.32 \n",
       "  \"/>\n",
       "<polyline clip-path=\"url(#clip400)\" style=\"stroke:#000000; stroke-width:4; stroke-opacity:1; fill:none\" points=\"\n",
       "  253.454,4099.11 278.646,4099.11 \n",
       "  \"/>\n",
       "<polyline clip-path=\"url(#clip400)\" style=\"stroke:#000000; stroke-width:4; stroke-opacity:1; fill:none\" points=\"\n",
       "  253.454,3887.9 278.646,3887.9 \n",
       "  \"/>\n",
       "<polyline clip-path=\"url(#clip400)\" style=\"stroke:#000000; stroke-width:4; stroke-opacity:1; fill:none\" points=\"\n",
       "  253.454,3676.7 278.646,3676.7 \n",
       "  \"/>\n",
       "<polyline clip-path=\"url(#clip400)\" style=\"stroke:#000000; stroke-width:4; stroke-opacity:1; fill:none\" points=\"\n",
       "  253.454,3465.49 278.646,3465.49 \n",
       "  \"/>\n",
       "<polyline clip-path=\"url(#clip400)\" style=\"stroke:#000000; stroke-width:4; stroke-opacity:1; fill:none\" points=\"\n",
       "  253.454,3254.28 278.646,3254.28 \n",
       "  \"/>\n",
       "<polyline clip-path=\"url(#clip400)\" style=\"stroke:#000000; stroke-width:4; stroke-opacity:1; fill:none\" points=\"\n",
       "  253.454,3043.08 278.646,3043.08 \n",
       "  \"/>\n",
       "<polyline clip-path=\"url(#clip400)\" style=\"stroke:#000000; stroke-width:4; stroke-opacity:1; fill:none\" points=\"\n",
       "  253.454,2831.87 278.646,2831.87 \n",
       "  \"/>\n",
       "<polyline clip-path=\"url(#clip400)\" style=\"stroke:#000000; stroke-width:4; stroke-opacity:1; fill:none\" points=\"\n",
       "  253.454,2620.66 278.646,2620.66 \n",
       "  \"/>\n",
       "<polyline clip-path=\"url(#clip400)\" style=\"stroke:#000000; stroke-width:4; stroke-opacity:1; fill:none\" points=\"\n",
       "  253.454,2409.46 278.646,2409.46 \n",
       "  \"/>\n",
       "<polyline clip-path=\"url(#clip400)\" style=\"stroke:#000000; stroke-width:4; stroke-opacity:1; fill:none\" points=\"\n",
       "  253.454,2198.25 278.646,2198.25 \n",
       "  \"/>\n",
       "<polyline clip-path=\"url(#clip400)\" style=\"stroke:#000000; stroke-width:4; stroke-opacity:1; fill:none\" points=\"\n",
       "  253.454,1987.04 278.646,1987.04 \n",
       "  \"/>\n",
       "<polyline clip-path=\"url(#clip400)\" style=\"stroke:#000000; stroke-width:4; stroke-opacity:1; fill:none\" points=\"\n",
       "  253.454,1775.84 278.646,1775.84 \n",
       "  \"/>\n",
       "<polyline clip-path=\"url(#clip400)\" style=\"stroke:#000000; stroke-width:4; stroke-opacity:1; fill:none\" points=\"\n",
       "  253.454,1564.63 278.646,1564.63 \n",
       "  \"/>\n",
       "<polyline clip-path=\"url(#clip400)\" style=\"stroke:#000000; stroke-width:4; stroke-opacity:1; fill:none\" points=\"\n",
       "  253.454,1353.42 278.646,1353.42 \n",
       "  \"/>\n",
       "<polyline clip-path=\"url(#clip400)\" style=\"stroke:#000000; stroke-width:4; stroke-opacity:1; fill:none\" points=\"\n",
       "  253.454,1142.22 278.646,1142.22 \n",
       "  \"/>\n",
       "<polyline clip-path=\"url(#clip400)\" style=\"stroke:#000000; stroke-width:4; stroke-opacity:1; fill:none\" points=\"\n",
       "  253.454,931.012 278.646,931.012 \n",
       "  \"/>\n",
       "<polyline clip-path=\"url(#clip400)\" style=\"stroke:#000000; stroke-width:4; stroke-opacity:1; fill:none\" points=\"\n",
       "  253.454,719.805 278.646,719.805 \n",
       "  \"/>\n",
       "<polyline clip-path=\"url(#clip400)\" style=\"stroke:#000000; stroke-width:4; stroke-opacity:1; fill:none\" points=\"\n",
       "  253.454,508.599 278.646,508.599 \n",
       "  \"/>\n",
       "<polyline clip-path=\"url(#clip400)\" style=\"stroke:#000000; stroke-width:4; stroke-opacity:1; fill:none\" points=\"\n",
       "  253.454,297.392 278.646,297.392 \n",
       "  \"/>\n",
       "<polyline clip-path=\"url(#clip400)\" style=\"stroke:#000000; stroke-width:4; stroke-opacity:1; fill:none\" points=\"\n",
       "  253.454,86.1857 278.646,86.1857 \n",
       "  \"/>\n",
       "<polyline clip-path=\"url(#clip400)\" style=\"stroke:#000000; stroke-width:4; stroke-opacity:1; fill:none\" points=\"\n",
       "  253.454,-125.021 278.646,-125.021 \n",
       "  \"/>\n",
       "<polyline clip-path=\"url(#clip400)\" style=\"stroke:#000000; stroke-width:4; stroke-opacity:1; fill:none\" points=\"\n",
       "  253.454,-336.227 278.646,-336.227 \n",
       "  \"/>\n",
       "<polyline clip-path=\"url(#clip400)\" style=\"stroke:#000000; stroke-width:4; stroke-opacity:1; fill:none\" points=\"\n",
       "  253.454,-547.434 278.646,-547.434 \n",
       "  \"/>\n",
       "<polyline clip-path=\"url(#clip400)\" style=\"stroke:#000000; stroke-width:4; stroke-opacity:1; fill:none\" points=\"\n",
       "  253.454,-758.64 278.646,-758.64 \n",
       "  \"/>\n",
       "<polyline clip-path=\"url(#clip400)\" style=\"stroke:#000000; stroke-width:4; stroke-opacity:1; fill:none\" points=\"\n",
       "  253.454,-969.847 278.646,-969.847 \n",
       "  \"/>\n",
       "<polyline clip-path=\"url(#clip400)\" style=\"stroke:#000000; stroke-width:4; stroke-opacity:1; fill:none\" points=\"\n",
       "  253.454,-1181.05 278.646,-1181.05 \n",
       "  \"/>\n",
       "<polyline clip-path=\"url(#clip400)\" style=\"stroke:#000000; stroke-width:4; stroke-opacity:1; fill:none\" points=\"\n",
       "  253.454,-1392.26 278.646,-1392.26 \n",
       "  \"/>\n",
       "<polyline clip-path=\"url(#clip400)\" style=\"stroke:#000000; stroke-width:4; stroke-opacity:1; fill:none\" points=\"\n",
       "  253.454,-1603.47 278.646,-1603.47 \n",
       "  \"/>\n",
       "<polyline clip-path=\"url(#clip400)\" style=\"stroke:#000000; stroke-width:4; stroke-opacity:1; fill:none\" points=\"\n",
       "  253.454,-1814.67 278.646,-1814.67 \n",
       "  \"/>\n",
       "<polyline clip-path=\"url(#clip400)\" style=\"stroke:#000000; stroke-width:4; stroke-opacity:1; fill:none\" points=\"\n",
       "  253.454,-2025.88 278.646,-2025.88 \n",
       "  \"/>\n",
       "<polyline clip-path=\"url(#clip400)\" style=\"stroke:#000000; stroke-width:4; stroke-opacity:1; fill:none\" points=\"\n",
       "  253.454,-2237.09 278.646,-2237.09 \n",
       "  \"/>\n",
       "<polyline clip-path=\"url(#clip400)\" style=\"stroke:#000000; stroke-width:4; stroke-opacity:1; fill:none\" points=\"\n",
       "  253.454,-2448.29 278.646,-2448.29 \n",
       "  \"/>\n",
       "<polyline clip-path=\"url(#clip400)\" style=\"stroke:#000000; stroke-width:4; stroke-opacity:1; fill:none\" points=\"\n",
       "  253.454,-2659.5 278.646,-2659.5 \n",
       "  \"/>\n",
       "<polyline clip-path=\"url(#clip400)\" style=\"stroke:#000000; stroke-width:4; stroke-opacity:1; fill:none\" points=\"\n",
       "  253.454,-2870.71 278.646,-2870.71 \n",
       "  \"/>\n",
       "<polyline clip-path=\"url(#clip400)\" style=\"stroke:#000000; stroke-width:4; stroke-opacity:1; fill:none\" points=\"\n",
       "  253.454,-3081.91 278.646,-3081.91 \n",
       "  \"/>\n",
       "<polyline clip-path=\"url(#clip400)\" style=\"stroke:#000000; stroke-width:4; stroke-opacity:1; fill:none\" points=\"\n",
       "  253.454,-3293.12 278.646,-3293.12 \n",
       "  \"/>\n",
       "<polyline clip-path=\"url(#clip400)\" style=\"stroke:#000000; stroke-width:4; stroke-opacity:1; fill:none\" points=\"\n",
       "  253.454,-3504.32 278.646,-3504.32 \n",
       "  \"/>\n",
       "<polyline clip-path=\"url(#clip400)\" style=\"stroke:#000000; stroke-width:4; stroke-opacity:1; fill:none\" points=\"\n",
       "  253.454,-3715.53 278.646,-3715.53 \n",
       "  \"/>\n",
       "<polyline clip-path=\"url(#clip400)\" style=\"stroke:#000000; stroke-width:4; stroke-opacity:1; fill:none\" points=\"\n",
       "  253.454,-3926.74 278.646,-3926.74 \n",
       "  \"/>\n",
       "<polyline clip-path=\"url(#clip400)\" style=\"stroke:#000000; stroke-width:4; stroke-opacity:1; fill:none\" points=\"\n",
       "  253.454,-4137.94 278.646,-4137.94 \n",
       "  \"/>\n",
       "<polyline clip-path=\"url(#clip400)\" style=\"stroke:#000000; stroke-width:4; stroke-opacity:1; fill:none\" points=\"\n",
       "  253.454,-4349.15 278.646,-4349.15 \n",
       "  \"/>\n",
       "<polyline clip-path=\"url(#clip400)\" style=\"stroke:#000000; stroke-width:4; stroke-opacity:1; fill:none\" points=\"\n",
       "  253.454,-4560.36 278.646,-4560.36 \n",
       "  \"/>\n",
       "<polyline clip-path=\"url(#clip400)\" style=\"stroke:#000000; stroke-width:4; stroke-opacity:1; fill:none\" points=\"\n",
       "  253.454,-4771.56 278.646,-4771.56 \n",
       "  \"/>\n",
       "<polyline clip-path=\"url(#clip400)\" style=\"stroke:#000000; stroke-width:4; stroke-opacity:1; fill:none\" points=\"\n",
       "  253.454,-4982.77 278.646,-4982.77 \n",
       "  \"/>\n",
       "<polyline clip-path=\"url(#clip400)\" style=\"stroke:#000000; stroke-width:4; stroke-opacity:1; fill:none\" points=\"\n",
       "  253.454,-5193.98 278.646,-5193.98 \n",
       "  \"/>\n",
       "<polyline clip-path=\"url(#clip400)\" style=\"stroke:#000000; stroke-width:4; stroke-opacity:1; fill:none\" points=\"\n",
       "  253.454,-5405.18 278.646,-5405.18 \n",
       "  \"/>\n",
       "<polyline clip-path=\"url(#clip400)\" style=\"stroke:#000000; stroke-width:4; stroke-opacity:1; fill:none\" points=\"\n",
       "  253.454,-5616.39 278.646,-5616.39 \n",
       "  \"/>\n",
       "<polyline clip-path=\"url(#clip400)\" style=\"stroke:#000000; stroke-width:4; stroke-opacity:1; fill:none\" points=\"\n",
       "  253.454,-5827.6 278.646,-5827.6 \n",
       "  \"/>\n",
       "<polyline clip-path=\"url(#clip400)\" style=\"stroke:#000000; stroke-width:4; stroke-opacity:1; fill:none\" points=\"\n",
       "  253.454,-6038.8 278.646,-6038.8 \n",
       "  \"/>\n",
       "<polyline clip-path=\"url(#clip400)\" style=\"stroke:#000000; stroke-width:4; stroke-opacity:1; fill:none\" points=\"\n",
       "  253.454,-6250.01 278.646,-6250.01 \n",
       "  \"/>\n",
       "<polyline clip-path=\"url(#clip400)\" style=\"stroke:#000000; stroke-width:4; stroke-opacity:1; fill:none\" points=\"\n",
       "  253.454,-6461.22 278.646,-6461.22 \n",
       "  \"/>\n",
       "<polyline clip-path=\"url(#clip400)\" style=\"stroke:#000000; stroke-width:4; stroke-opacity:1; fill:none\" points=\"\n",
       "  253.454,-6672.42 278.646,-6672.42 \n",
       "  \"/>\n",
       "<polyline clip-path=\"url(#clip400)\" style=\"stroke:#000000; stroke-width:4; stroke-opacity:1; fill:none\" points=\"\n",
       "  253.454,-6883.63 278.646,-6883.63 \n",
       "  \"/>\n",
       "<polyline clip-path=\"url(#clip400)\" style=\"stroke:#000000; stroke-width:4; stroke-opacity:1; fill:none\" points=\"\n",
       "  253.454,-7094.84 278.646,-7094.84 \n",
       "  \"/>\n",
       "<polyline clip-path=\"url(#clip400)\" style=\"stroke:#000000; stroke-width:4; stroke-opacity:1; fill:none\" points=\"\n",
       "  253.454,-7306.04 278.646,-7306.04 \n",
       "  \"/>\n",
       "<polyline clip-path=\"url(#clip400)\" style=\"stroke:#000000; stroke-width:4; stroke-opacity:1; fill:none\" points=\"\n",
       "  253.454,-7517.25 278.646,-7517.25 \n",
       "  \"/>\n",
       "<polyline clip-path=\"url(#clip400)\" style=\"stroke:#000000; stroke-width:4; stroke-opacity:1; fill:none\" points=\"\n",
       "  253.454,-7728.45 278.646,-7728.45 \n",
       "  \"/>\n",
       "<polyline clip-path=\"url(#clip400)\" style=\"stroke:#000000; stroke-width:4; stroke-opacity:1; fill:none\" points=\"\n",
       "  253.454,-7939.66 278.646,-7939.66 \n",
       "  \"/>\n",
       "<polyline clip-path=\"url(#clip400)\" style=\"stroke:#000000; stroke-width:4; stroke-opacity:1; fill:none\" points=\"\n",
       "  253.454,-8150.87 278.646,-8150.87 \n",
       "  \"/>\n",
       "<polyline clip-path=\"url(#clip400)\" style=\"stroke:#000000; stroke-width:4; stroke-opacity:1; fill:none\" points=\"\n",
       "  253.454,-8362.07 278.646,-8362.07 \n",
       "  \"/>\n",
       "<polyline clip-path=\"url(#clip400)\" style=\"stroke:#000000; stroke-width:4; stroke-opacity:1; fill:none\" points=\"\n",
       "  253.454,-8573.28 278.646,-8573.28 \n",
       "  \"/>\n",
       "<polyline clip-path=\"url(#clip400)\" style=\"stroke:#000000; stroke-width:4; stroke-opacity:1; fill:none\" points=\"\n",
       "  253.454,-8784.49 278.646,-8784.49 \n",
       "  \"/>\n",
       "<polyline clip-path=\"url(#clip400)\" style=\"stroke:#000000; stroke-width:4; stroke-opacity:1; fill:none\" points=\"\n",
       "  253.454,-8995.69 278.646,-8995.69 \n",
       "  \"/>\n",
       "<polyline clip-path=\"url(#clip400)\" style=\"stroke:#000000; stroke-width:4; stroke-opacity:1; fill:none\" points=\"\n",
       "  253.454,-9206.9 278.646,-9206.9 \n",
       "  \"/>\n",
       "<polyline clip-path=\"url(#clip400)\" style=\"stroke:#000000; stroke-width:4; stroke-opacity:1; fill:none\" points=\"\n",
       "  253.454,-9418.11 278.646,-9418.11 \n",
       "  \"/>\n",
       "<path clip-path=\"url(#clip400)\" d=\"M 0 0 M280.125 1461.77 L292.602 1461.77 L292.602 1465.56 L280.125 1465.56 L280.125 1461.77 Z\" fill=\"#000000\" fill-rule=\"evenodd\" fill-opacity=\"1\" /><path clip-path=\"url(#clip400)\" d=\"M 0 0 M298.482 1472.72 L306.121 1472.72 L306.121 1446.35 L297.81 1448.02 L297.81 1443.76 L306.074 1442.09 L310.75 1442.09 L310.75 1472.72 L318.389 1472.72 L318.389 1476.65 L298.482 1476.65 L298.482 1472.72 Z\" fill=\"#000000\" fill-rule=\"evenodd\" fill-opacity=\"1\" /><path clip-path=\"url(#clip400)\" d=\"M 0 0 M320.102 1450.73 L344.94 1450.73 L344.94 1454.99 L341.676 1454.99 L341.676 1470.91 Q341.676 1472.58 342.232 1473.32 Q342.81 1474.04 344.083 1474.04 Q344.431 1474.04 344.94 1473.99 Q345.449 1473.92 345.611 1473.9 L345.611 1476.98 Q344.801 1477.28 343.944 1477.42 Q343.088 1477.55 342.232 1477.55 Q339.454 1477.55 338.389 1476.05 Q337.324 1474.52 337.324 1470.45 L337.324 1454.99 L327.764 1454.99 L327.764 1476.65 L323.412 1476.65 L323.412 1454.99 L320.102 1454.99 L320.102 1450.73 Z\" fill=\"#000000\" fill-rule=\"evenodd\" fill-opacity=\"1\" /><path clip-path=\"url(#clip400)\" d=\"M 0 0 M546.605 1445.17 Q542.994 1445.17 541.165 1448.74 Q539.36 1452.28 539.36 1459.41 Q539.36 1466.51 541.165 1470.08 Q542.994 1473.62 546.605 1473.62 Q550.239 1473.62 552.045 1470.08 Q553.874 1466.51 553.874 1459.41 Q553.874 1452.28 552.045 1448.74 Q550.239 1445.17 546.605 1445.17 M546.605 1441.47 Q552.415 1441.47 555.471 1446.07 Q558.549 1450.66 558.549 1459.41 Q558.549 1468.13 555.471 1472.74 Q552.415 1477.32 546.605 1477.32 Q540.795 1477.32 537.716 1472.74 Q534.661 1468.13 534.661 1459.41 Q534.661 1450.66 537.716 1446.07 Q540.795 1441.47 546.605 1441.47 Z\" fill=\"#000000\" fill-rule=\"evenodd\" fill-opacity=\"1\" /><path clip-path=\"url(#clip400)\" d=\"M 0 0 M560.262 1450.73 L585.1 1450.73 L585.1 1454.99 L581.836 1454.99 L581.836 1470.91 Q581.836 1472.58 582.392 1473.32 Q582.971 1474.04 584.244 1474.04 Q584.591 1474.04 585.1 1473.99 Q585.61 1473.92 585.772 1473.9 L585.772 1476.98 Q584.961 1477.28 584.105 1477.42 Q583.248 1477.55 582.392 1477.55 Q579.614 1477.55 578.549 1476.05 Q577.485 1474.52 577.485 1470.45 L577.485 1454.99 L567.924 1454.99 L567.924 1476.65 L563.573 1476.65 L563.573 1454.99 L560.262 1454.99 L560.262 1450.73 Z\" fill=\"#000000\" fill-rule=\"evenodd\" fill-opacity=\"1\" /><path clip-path=\"url(#clip400)\" d=\"M 0 0 M784.335 1472.72 L791.974 1472.72 L791.974 1446.35 L783.664 1448.02 L783.664 1443.76 L791.927 1442.09 L796.603 1442.09 L796.603 1472.72 L804.242 1472.72 L804.242 1476.65 L784.335 1476.65 L784.335 1472.72 Z\" fill=\"#000000\" fill-rule=\"evenodd\" fill-opacity=\"1\" /><path clip-path=\"url(#clip400)\" d=\"M 0 0 M805.955 1450.73 L830.793 1450.73 L830.793 1454.99 L827.529 1454.99 L827.529 1470.91 Q827.529 1472.58 828.085 1473.32 Q828.663 1474.04 829.937 1474.04 Q830.284 1474.04 830.793 1473.99 Q831.302 1473.92 831.464 1473.9 L831.464 1476.98 Q830.654 1477.28 829.798 1477.42 Q828.941 1477.55 828.085 1477.55 Q825.307 1477.55 824.242 1476.05 Q823.177 1474.52 823.177 1470.45 L823.177 1454.99 L813.617 1454.99 L813.617 1476.65 L809.265 1476.65 L809.265 1454.99 L805.955 1454.99 L805.955 1450.73 Z\" fill=\"#000000\" fill-rule=\"evenodd\" fill-opacity=\"1\" /><path clip-path=\"url(#clip400)\" d=\"M 0 0 M1035.95 1472.72 L1052.27 1472.72 L1052.27 1476.65 L1030.33 1476.65 L1030.33 1472.72 Q1032.99 1469.96 1037.57 1465.33 Q1042.18 1460.68 1043.36 1459.34 Q1045.61 1456.81 1046.49 1455.08 Q1047.39 1453.32 1047.39 1451.63 Q1047.39 1448.87 1045.44 1447.14 Q1043.52 1445.4 1040.42 1445.4 Q1038.22 1445.4 1035.77 1446.17 Q1033.34 1446.93 1030.56 1448.48 L1030.56 1443.76 Q1033.38 1442.62 1035.84 1442.05 Q1038.29 1441.47 1040.33 1441.47 Q1045.7 1441.47 1048.89 1444.15 Q1052.09 1446.84 1052.09 1451.33 Q1052.09 1453.46 1051.28 1455.38 Q1050.49 1457.28 1048.38 1459.87 Q1047.81 1460.54 1044.7 1463.76 Q1041.6 1466.95 1035.95 1472.72 Z\" fill=\"#000000\" fill-rule=\"evenodd\" fill-opacity=\"1\" /><path clip-path=\"url(#clip400)\" d=\"M 0 0 M1053.99 1450.73 L1078.82 1450.73 L1078.82 1454.99 L1075.56 1454.99 L1075.56 1470.91 Q1075.56 1472.58 1076.12 1473.32 Q1076.69 1474.04 1077.97 1474.04 Q1078.31 1474.04 1078.82 1473.99 Q1079.33 1473.92 1079.5 1473.9 L1079.5 1476.98 Q1078.68 1477.28 1077.83 1477.42 Q1076.97 1477.55 1076.12 1477.55 Q1073.34 1477.55 1072.27 1476.05 Q1071.21 1474.52 1071.21 1470.45 L1071.21 1454.99 L1061.65 1454.99 L1061.65 1476.65 L1057.3 1476.65 L1057.3 1454.99 L1053.99 1454.99 L1053.99 1450.73 Z\" fill=\"#000000\" fill-rule=\"evenodd\" fill-opacity=\"1\" /><path clip-path=\"url(#clip400)\" d=\"M 0 0 M1292.9 1458.02 Q1296.25 1458.74 1298.13 1461 Q1300.03 1463.27 1300.03 1466.61 Q1300.03 1471.72 1296.51 1474.52 Q1292.99 1477.32 1286.51 1477.32 Q1284.33 1477.32 1282.02 1476.88 Q1279.73 1476.47 1277.27 1475.61 L1277.27 1471.1 Q1279.22 1472.23 1281.53 1472.81 Q1283.85 1473.39 1286.37 1473.39 Q1290.77 1473.39 1293.06 1471.65 Q1295.37 1469.92 1295.37 1466.61 Q1295.37 1463.55 1293.22 1461.84 Q1291.09 1460.1 1287.27 1460.1 L1283.24 1460.1 L1283.24 1456.26 L1287.46 1456.26 Q1290.91 1456.26 1292.73 1454.89 Q1294.56 1453.5 1294.56 1450.91 Q1294.56 1448.25 1292.66 1446.84 Q1290.79 1445.4 1287.27 1445.4 Q1285.35 1445.4 1283.15 1445.82 Q1280.95 1446.24 1278.31 1447.11 L1278.31 1442.95 Q1280.98 1442.21 1283.29 1441.84 Q1285.63 1441.47 1287.69 1441.47 Q1293.01 1441.47 1296.11 1443.9 Q1299.22 1446.3 1299.22 1450.43 Q1299.22 1453.3 1297.57 1455.29 Q1295.93 1457.25 1292.9 1458.02 Z\" fill=\"#000000\" fill-rule=\"evenodd\" fill-opacity=\"1\" /><path clip-path=\"url(#clip400)\" d=\"M 0 0 M1301.74 1450.73 L1326.58 1450.73 L1326.58 1454.99 L1323.31 1454.99 L1323.31 1470.91 Q1323.31 1472.58 1323.87 1473.32 Q1324.45 1474.04 1325.72 1474.04 Q1326.07 1474.04 1326.58 1473.99 Q1327.09 1473.92 1327.25 1473.9 L1327.25 1476.98 Q1326.44 1477.28 1325.58 1477.42 Q1324.72 1477.55 1323.87 1477.55 Q1321.09 1477.55 1320.03 1476.05 Q1318.96 1474.52 1318.96 1470.45 L1318.96 1454.99 L1309.4 1454.99 L1309.4 1476.65 L1305.05 1476.65 L1305.05 1454.99 L1301.74 1454.99 L1301.74 1450.73 Z\" fill=\"#000000\" fill-rule=\"evenodd\" fill-opacity=\"1\" /><path clip-path=\"url(#clip400)\" d=\"M 0 0 M1539.01 1446.17 L1527.2 1464.61 L1539.01 1464.61 L1539.01 1446.17 M1537.78 1442.09 L1543.66 1442.09 L1543.66 1464.61 L1548.59 1464.61 L1548.59 1468.5 L1543.66 1468.5 L1543.66 1476.65 L1539.01 1476.65 L1539.01 1468.5 L1523.4 1468.5 L1523.4 1463.99 L1537.78 1442.09 Z\" fill=\"#000000\" fill-rule=\"evenodd\" fill-opacity=\"1\" /><path clip-path=\"url(#clip400)\" d=\"M 0 0 M1550.3 1450.73 L1575.14 1450.73 L1575.14 1454.99 L1571.88 1454.99 L1571.88 1470.91 Q1571.88 1472.58 1572.43 1473.32 Q1573.01 1474.04 1574.28 1474.04 Q1574.63 1474.04 1575.14 1473.99 Q1575.65 1473.92 1575.81 1473.9 L1575.81 1476.98 Q1575 1477.28 1574.14 1477.42 Q1573.29 1477.55 1572.43 1477.55 Q1569.65 1477.55 1568.59 1476.05 Q1567.52 1474.52 1567.52 1470.45 L1567.52 1454.99 L1557.96 1454.99 L1557.96 1476.65 L1553.61 1476.65 L1553.61 1454.99 L1550.3 1454.99 L1550.3 1450.73 Z\" fill=\"#000000\" fill-rule=\"evenodd\" fill-opacity=\"1\" /><path clip-path=\"url(#clip400)\" d=\"M 0 0 M1773.62 1442.09 L1791.98 1442.09 L1791.98 1446.03 L1777.9 1446.03 L1777.9 1454.5 Q1778.92 1454.15 1779.94 1453.99 Q1780.96 1453.8 1781.98 1453.8 Q1787.77 1453.8 1791.15 1456.98 Q1794.52 1460.15 1794.52 1465.56 Q1794.52 1471.14 1791.05 1474.24 Q1787.58 1477.32 1781.26 1477.32 Q1779.09 1477.32 1776.82 1476.95 Q1774.57 1476.58 1772.16 1475.84 L1772.16 1471.14 Q1774.25 1472.28 1776.47 1472.83 Q1778.69 1473.39 1781.17 1473.39 Q1785.17 1473.39 1787.51 1471.28 Q1789.85 1469.18 1789.85 1465.56 Q1789.85 1461.95 1787.51 1459.85 Q1785.17 1457.74 1781.17 1457.74 Q1779.29 1457.74 1777.42 1458.16 Q1775.57 1458.57 1773.62 1459.45 L1773.62 1442.09 Z\" fill=\"#000000\" fill-rule=\"evenodd\" fill-opacity=\"1\" /><path clip-path=\"url(#clip400)\" d=\"M 0 0 M1796.24 1450.73 L1821.08 1450.73 L1821.08 1454.99 L1817.81 1454.99 L1817.81 1470.91 Q1817.81 1472.58 1818.37 1473.32 Q1818.95 1474.04 1820.22 1474.04 Q1820.57 1474.04 1821.08 1473.99 Q1821.58 1473.92 1821.75 1473.9 L1821.75 1476.98 Q1820.94 1477.28 1820.08 1477.42 Q1819.22 1477.55 1818.37 1477.55 Q1815.59 1477.55 1814.52 1476.05 Q1813.46 1474.52 1813.46 1470.45 L1813.46 1454.99 L1803.9 1454.99 L1803.9 1476.65 L1799.55 1476.65 L1799.55 1454.99 L1796.24 1454.99 L1796.24 1450.73 Z\" fill=\"#000000\" fill-rule=\"evenodd\" fill-opacity=\"1\" /><path clip-path=\"url(#clip400)\" d=\"M 0 0 M2031.1 1457.51 Q2027.95 1457.51 2026.1 1459.66 Q2024.27 1461.81 2024.27 1465.56 Q2024.27 1469.29 2026.1 1471.47 Q2027.95 1473.62 2031.1 1473.62 Q2034.25 1473.62 2036.07 1471.47 Q2037.93 1469.29 2037.93 1465.56 Q2037.93 1461.81 2036.07 1459.66 Q2034.25 1457.51 2031.1 1457.51 M2040.38 1442.86 L2040.38 1447.11 Q2038.62 1446.28 2036.81 1445.84 Q2035.03 1445.4 2033.27 1445.4 Q2028.64 1445.4 2026.19 1448.53 Q2023.76 1451.65 2023.41 1457.97 Q2024.78 1455.96 2026.84 1454.89 Q2028.9 1453.8 2031.38 1453.8 Q2036.58 1453.8 2039.59 1456.98 Q2042.63 1460.12 2042.63 1465.56 Q2042.63 1470.89 2039.48 1474.11 Q2036.33 1477.32 2031.1 1477.32 Q2025.1 1477.32 2021.93 1472.74 Q2018.76 1468.13 2018.76 1459.41 Q2018.76 1451.21 2022.65 1446.35 Q2026.54 1441.47 2033.09 1441.47 Q2034.85 1441.47 2036.63 1441.81 Q2038.44 1442.16 2040.38 1442.86 Z\" fill=\"#000000\" fill-rule=\"evenodd\" fill-opacity=\"1\" /><path clip-path=\"url(#clip400)\" d=\"M 0 0 M2044.34 1450.73 L2069.18 1450.73 L2069.18 1454.99 L2065.91 1454.99 L2065.91 1470.91 Q2065.91 1472.58 2066.47 1473.32 Q2067.05 1474.04 2068.32 1474.04 Q2068.67 1474.04 2069.18 1473.99 Q2069.69 1473.92 2069.85 1473.9 L2069.85 1476.98 Q2069.04 1477.28 2068.18 1477.42 Q2067.32 1477.55 2066.47 1477.55 Q2063.69 1477.55 2062.62 1476.05 Q2061.56 1474.52 2061.56 1470.45 L2061.56 1454.99 L2052 1454.99 L2052 1476.65 L2047.65 1476.65 L2047.65 1454.99 L2044.34 1454.99 L2044.34 1450.73 Z\" fill=\"#000000\" fill-rule=\"evenodd\" fill-opacity=\"1\" /><path clip-path=\"url(#clip400)\" d=\"M 0 0 M2266.93 1442.09 L2289.15 1442.09 L2289.15 1444.08 L2276.6 1476.65 L2271.72 1476.65 L2283.53 1446.03 L2266.93 1446.03 L2266.93 1442.09 Z\" fill=\"#000000\" fill-rule=\"evenodd\" fill-opacity=\"1\" /><path clip-path=\"url(#clip400)\" d=\"M 0 0 M2290.86 1450.73 L2315.7 1450.73 L2315.7 1454.99 L2312.44 1454.99 L2312.44 1470.91 Q2312.44 1472.58 2312.99 1473.32 Q2313.57 1474.04 2314.85 1474.04 Q2315.19 1474.04 2315.7 1473.99 Q2316.21 1473.92 2316.37 1473.9 L2316.37 1476.98 Q2315.56 1477.28 2314.71 1477.42 Q2313.85 1477.55 2312.99 1477.55 Q2310.22 1477.55 2309.15 1476.05 Q2308.09 1474.52 2308.09 1470.45 L2308.09 1454.99 L2298.53 1454.99 L2298.53 1476.65 L2294.17 1476.65 L2294.17 1454.99 L2290.86 1454.99 L2290.86 1450.73 Z\" fill=\"#000000\" fill-rule=\"evenodd\" fill-opacity=\"1\" /><path clip-path=\"url(#clip400)\" d=\"M 0 0 M2525.39 1460.24 Q2522.05 1460.24 2520.13 1462.02 Q2518.24 1463.8 2518.24 1466.93 Q2518.24 1470.05 2520.13 1471.84 Q2522.05 1473.62 2525.39 1473.62 Q2528.72 1473.62 2530.64 1471.84 Q2532.56 1470.03 2532.56 1466.93 Q2532.56 1463.8 2530.64 1462.02 Q2528.74 1460.24 2525.39 1460.24 M2520.71 1458.25 Q2517.7 1457.51 2516.01 1455.45 Q2514.35 1453.39 2514.35 1450.43 Q2514.35 1446.28 2517.29 1443.87 Q2520.25 1441.47 2525.39 1441.47 Q2530.55 1441.47 2533.49 1443.87 Q2536.43 1446.28 2536.43 1450.43 Q2536.43 1453.39 2534.74 1455.45 Q2533.07 1457.51 2530.09 1458.25 Q2533.47 1459.04 2535.34 1461.33 Q2537.24 1463.62 2537.24 1466.93 Q2537.24 1471.95 2534.16 1474.64 Q2531.11 1477.32 2525.39 1477.32 Q2519.67 1477.32 2516.59 1474.64 Q2513.54 1471.95 2513.54 1466.93 Q2513.54 1463.62 2515.43 1461.33 Q2517.33 1459.04 2520.71 1458.25 M2519 1450.86 Q2519 1453.55 2520.67 1455.05 Q2522.36 1456.56 2525.39 1456.56 Q2528.4 1456.56 2530.09 1455.05 Q2531.8 1453.55 2531.8 1450.86 Q2531.8 1448.18 2530.09 1446.68 Q2528.4 1445.17 2525.39 1445.17 Q2522.36 1445.17 2520.67 1446.68 Q2519 1448.18 2519 1450.86 Z\" fill=\"#000000\" fill-rule=\"evenodd\" fill-opacity=\"1\" /><path clip-path=\"url(#clip400)\" d=\"M 0 0 M2538.95 1450.73 L2563.79 1450.73 L2563.79 1454.99 L2560.53 1454.99 L2560.53 1470.91 Q2560.53 1472.58 2561.08 1473.32 Q2561.66 1474.04 2562.93 1474.04 Q2563.28 1474.04 2563.79 1473.99 Q2564.3 1473.92 2564.46 1473.9 L2564.46 1476.98 Q2563.65 1477.28 2562.8 1477.42 Q2561.94 1477.55 2561.08 1477.55 Q2558.3 1477.55 2557.24 1476.05 Q2556.17 1474.52 2556.17 1470.45 L2556.17 1454.99 L2546.61 1454.99 L2546.61 1476.65 L2542.26 1476.65 L2542.26 1454.99 L2538.95 1454.99 L2538.95 1450.73 Z\" fill=\"#000000\" fill-rule=\"evenodd\" fill-opacity=\"1\" /><path clip-path=\"url(#clip400)\" d=\"M 0 0 M2763.04 1475.93 L2763.04 1471.68 Q2764.8 1472.51 2766.6 1472.95 Q2768.41 1473.39 2770.14 1473.39 Q2774.77 1473.39 2777.2 1470.29 Q2779.66 1467.16 2780 1460.82 Q2778.66 1462.81 2776.6 1463.87 Q2774.54 1464.94 2772.04 1464.94 Q2766.86 1464.94 2763.82 1461.81 Q2760.81 1458.67 2760.81 1453.23 Q2760.81 1447.9 2763.96 1444.68 Q2767.11 1441.47 2772.34 1441.47 Q2778.34 1441.47 2781.49 1446.07 Q2784.66 1450.66 2784.66 1459.41 Q2784.66 1467.58 2780.77 1472.46 Q2776.9 1477.32 2770.35 1477.32 Q2768.59 1477.32 2766.79 1476.98 Q2764.98 1476.63 2763.04 1475.93 M2772.34 1461.28 Q2775.49 1461.28 2777.32 1459.13 Q2779.17 1456.98 2779.17 1453.23 Q2779.17 1449.5 2777.32 1447.35 Q2775.49 1445.17 2772.34 1445.17 Q2769.19 1445.17 2767.34 1447.35 Q2765.51 1449.5 2765.51 1453.23 Q2765.51 1456.98 2767.34 1459.13 Q2769.19 1461.28 2772.34 1461.28 Z\" fill=\"#000000\" fill-rule=\"evenodd\" fill-opacity=\"1\" /><path clip-path=\"url(#clip400)\" d=\"M 0 0 M2786.37 1450.73 L2811.21 1450.73 L2811.21 1454.99 L2807.94 1454.99 L2807.94 1470.91 Q2807.94 1472.58 2808.5 1473.32 Q2809.08 1474.04 2810.35 1474.04 Q2810.7 1474.04 2811.21 1473.99 Q2811.72 1473.92 2811.88 1473.9 L2811.88 1476.98 Q2811.07 1477.28 2810.21 1477.42 Q2809.36 1477.55 2808.5 1477.55 Q2805.72 1477.55 2804.66 1476.05 Q2803.59 1474.52 2803.59 1470.45 L2803.59 1454.99 L2794.03 1454.99 L2794.03 1476.65 L2789.68 1476.65 L2789.68 1454.99 L2786.37 1454.99 L2786.37 1450.73 Z\" fill=\"#000000\" fill-rule=\"evenodd\" fill-opacity=\"1\" /><path clip-path=\"url(#clip400)\" d=\"M 0 0 M2996.96 1472.72 L3004.6 1472.72 L3004.6 1446.35 L2996.29 1448.02 L2996.29 1443.76 L3004.55 1442.09 L3009.23 1442.09 L3009.23 1472.72 L3016.87 1472.72 L3016.87 1476.65 L2996.96 1476.65 L2996.96 1472.72 Z\" fill=\"#000000\" fill-rule=\"evenodd\" fill-opacity=\"1\" /><path clip-path=\"url(#clip400)\" d=\"M 0 0 M3031.94 1445.17 Q3028.32 1445.17 3026.5 1448.74 Q3024.69 1452.28 3024.69 1459.41 Q3024.69 1466.51 3026.5 1470.08 Q3028.32 1473.62 3031.94 1473.62 Q3035.57 1473.62 3037.38 1470.08 Q3039.2 1466.51 3039.2 1459.41 Q3039.2 1452.28 3037.38 1448.74 Q3035.57 1445.17 3031.94 1445.17 M3031.94 1441.47 Q3037.75 1441.47 3040.8 1446.07 Q3043.88 1450.66 3043.88 1459.41 Q3043.88 1468.13 3040.8 1472.74 Q3037.75 1477.32 3031.94 1477.32 Q3026.13 1477.32 3023.05 1472.74 Q3019.99 1468.13 3019.99 1459.41 Q3019.99 1450.66 3023.05 1446.07 Q3026.13 1441.47 3031.94 1441.47 Z\" fill=\"#000000\" fill-rule=\"evenodd\" fill-opacity=\"1\" /><path clip-path=\"url(#clip400)\" d=\"M 0 0 M3045.59 1450.73 L3070.43 1450.73 L3070.43 1454.99 L3067.17 1454.99 L3067.17 1470.91 Q3067.17 1472.58 3067.72 1473.32 Q3068.3 1474.04 3069.57 1474.04 Q3069.92 1474.04 3070.43 1473.99 Q3070.94 1473.92 3071.1 1473.9 L3071.1 1476.98 Q3070.29 1477.28 3069.44 1477.42 Q3068.58 1477.55 3067.72 1477.55 Q3064.94 1477.55 3063.88 1476.05 Q3062.81 1474.52 3062.81 1470.45 L3062.81 1454.99 L3053.25 1454.99 L3053.25 1476.65 L3048.9 1476.65 L3048.9 1454.99 L3045.59 1454.99 L3045.59 1450.73 Z\" fill=\"#000000\" fill-rule=\"evenodd\" fill-opacity=\"1\" /><path clip-path=\"url(#clip400)\" d=\"M 0 0 M3244.92 1472.72 L3252.56 1472.72 L3252.56 1446.35 L3244.25 1448.02 L3244.25 1443.76 L3252.51 1442.09 L3257.19 1442.09 L3257.19 1472.72 L3264.83 1472.72 L3264.83 1476.65 L3244.92 1476.65 L3244.92 1472.72 Z\" fill=\"#000000\" fill-rule=\"evenodd\" fill-opacity=\"1\" /><path clip-path=\"url(#clip400)\" d=\"M 0 0 M3270.71 1472.72 L3278.35 1472.72 L3278.35 1446.35 L3270.04 1448.02 L3270.04 1443.76 L3278.3 1442.09 L3282.98 1442.09 L3282.98 1472.72 L3290.61 1472.72 L3290.61 1476.65 L3270.71 1476.65 L3270.71 1472.72 Z\" fill=\"#000000\" fill-rule=\"evenodd\" fill-opacity=\"1\" /><path clip-path=\"url(#clip400)\" d=\"M 0 0 M3292.33 1450.73 L3317.17 1450.73 L3317.17 1454.99 L3313.9 1454.99 L3313.9 1470.91 Q3313.9 1472.58 3314.46 1473.32 Q3315.04 1474.04 3316.31 1474.04 Q3316.66 1474.04 3317.17 1473.99 Q3317.67 1473.92 3317.84 1473.9 L3317.84 1476.98 Q3317.03 1477.28 3316.17 1477.42 Q3315.31 1477.55 3314.46 1477.55 Q3311.68 1477.55 3310.61 1476.05 Q3309.55 1474.52 3309.55 1470.45 L3309.55 1454.99 L3299.99 1454.99 L3299.99 1476.65 L3295.64 1476.65 L3295.64 1454.99 L3292.33 1454.99 L3292.33 1450.73 Z\" fill=\"#000000\" fill-rule=\"evenodd\" fill-opacity=\"1\" /><path clip-path=\"url(#clip400)\" d=\"M 0 0 M3492.45 1472.72 L3500.09 1472.72 L3500.09 1446.35 L3491.78 1448.02 L3491.78 1443.76 L3500.05 1442.09 L3504.72 1442.09 L3504.72 1472.72 L3512.36 1472.72 L3512.36 1476.65 L3492.45 1476.65 L3492.45 1472.72 Z\" fill=\"#000000\" fill-rule=\"evenodd\" fill-opacity=\"1\" /><path clip-path=\"url(#clip400)\" d=\"M 0 0 M3521.46 1472.72 L3537.78 1472.72 L3537.78 1476.65 L3515.83 1476.65 L3515.83 1472.72 Q3518.49 1469.96 3523.08 1465.33 Q3527.68 1460.68 3528.87 1459.34 Q3531.11 1456.81 3531.99 1455.08 Q3532.89 1453.32 3532.89 1451.63 Q3532.89 1448.87 3530.95 1447.14 Q3529.03 1445.4 3525.93 1445.4 Q3523.73 1445.4 3521.27 1446.17 Q3518.84 1446.93 3516.06 1448.48 L3516.06 1443.76 Q3518.89 1442.62 3521.34 1442.05 Q3523.8 1441.47 3525.83 1441.47 Q3531.2 1441.47 3534.4 1444.15 Q3537.59 1446.84 3537.59 1451.33 Q3537.59 1453.46 3536.78 1455.38 Q3535.99 1457.28 3533.89 1459.87 Q3533.31 1460.54 3530.21 1463.76 Q3527.11 1466.95 3521.46 1472.72 Z\" fill=\"#000000\" fill-rule=\"evenodd\" fill-opacity=\"1\" /><path clip-path=\"url(#clip400)\" d=\"M 0 0 M3539.49 1450.73 L3564.33 1450.73 L3564.33 1454.99 L3561.06 1454.99 L3561.06 1470.91 Q3561.06 1472.58 3561.62 1473.32 Q3562.2 1474.04 3563.47 1474.04 Q3563.82 1474.04 3564.33 1473.99 Q3564.84 1473.92 3565 1473.9 L3565 1476.98 Q3564.19 1477.28 3563.33 1477.42 Q3562.48 1477.55 3561.62 1477.55 Q3558.84 1477.55 3557.78 1476.05 Q3556.71 1474.52 3556.71 1470.45 L3556.71 1454.99 L3547.15 1454.99 L3547.15 1476.65 L3542.8 1476.65 L3542.8 1454.99 L3539.49 1454.99 L3539.49 1450.73 Z\" fill=\"#000000\" fill-rule=\"evenodd\" fill-opacity=\"1\" /><path clip-path=\"url(#clip400)\" d=\"M 0 0 M3739.33 1472.72 L3746.97 1472.72 L3746.97 1446.35 L3738.66 1448.02 L3738.66 1443.76 L3746.92 1442.09 L3751.59 1442.09 L3751.59 1472.72 L3759.23 1472.72 L3759.23 1476.65 L3739.33 1476.65 L3739.33 1472.72 Z\" fill=\"#000000\" fill-rule=\"evenodd\" fill-opacity=\"1\" /><path clip-path=\"url(#clip400)\" d=\"M 0 0 M3778.47 1458.02 Q3781.83 1458.74 3783.7 1461 Q3785.6 1463.27 3785.6 1466.61 Q3785.6 1471.72 3782.08 1474.52 Q3778.56 1477.32 3772.08 1477.32 Q3769.91 1477.32 3767.59 1476.88 Q3765.3 1476.47 3762.84 1475.61 L3762.84 1471.1 Q3764.79 1472.23 3767.1 1472.81 Q3769.42 1473.39 3771.94 1473.39 Q3776.34 1473.39 3778.63 1471.65 Q3780.95 1469.92 3780.95 1466.61 Q3780.95 1463.55 3778.79 1461.84 Q3776.66 1460.1 3772.84 1460.1 L3768.82 1460.1 L3768.82 1456.26 L3773.03 1456.26 Q3776.48 1456.26 3778.31 1454.89 Q3780.14 1453.5 3780.14 1450.91 Q3780.14 1448.25 3778.24 1446.84 Q3776.36 1445.4 3772.84 1445.4 Q3770.92 1445.4 3768.72 1445.82 Q3766.53 1446.24 3763.89 1447.11 L3763.89 1442.95 Q3766.55 1442.21 3768.86 1441.84 Q3771.2 1441.47 3773.26 1441.47 Q3778.59 1441.47 3781.69 1443.9 Q3784.79 1446.3 3784.79 1450.43 Q3784.79 1453.3 3783.15 1455.29 Q3781.5 1457.25 3778.47 1458.02 Z\" fill=\"#000000\" fill-rule=\"evenodd\" fill-opacity=\"1\" /><path clip-path=\"url(#clip400)\" d=\"M 0 0 M3787.31 1450.73 L3812.15 1450.73 L3812.15 1454.99 L3808.89 1454.99 L3808.89 1470.91 Q3808.89 1472.58 3809.44 1473.32 Q3810.02 1474.04 3811.29 1474.04 Q3811.64 1474.04 3812.15 1473.99 Q3812.66 1473.92 3812.82 1473.9 L3812.82 1476.98 Q3812.01 1477.28 3811.15 1477.42 Q3810.3 1477.55 3809.44 1477.55 Q3806.66 1477.55 3805.6 1476.05 Q3804.53 1474.52 3804.53 1470.45 L3804.53 1454.99 L3794.97 1454.99 L3794.97 1476.65 L3790.62 1476.65 L3790.62 1454.99 L3787.31 1454.99 L3787.31 1450.73 Z\" fill=\"#000000\" fill-rule=\"evenodd\" fill-opacity=\"1\" /><path clip-path=\"url(#clip400)\" d=\"M 0 0 M3986.11 1472.72 L3993.75 1472.72 L3993.75 1446.35 L3985.44 1448.02 L3985.44 1443.76 L3993.7 1442.09 L3998.38 1442.09 L3998.38 1472.72 L4006.01 1472.72 L4006.01 1476.65 L3986.11 1476.65 L3986.11 1472.72 Z\" fill=\"#000000\" fill-rule=\"evenodd\" fill-opacity=\"1\" /><path clip-path=\"url(#clip400)\" d=\"M 0 0 M4023.93 1446.17 L4012.13 1464.61 L4023.93 1464.61 L4023.93 1446.17 M4022.7 1442.09 L4028.58 1442.09 L4028.58 1464.61 L4033.51 1464.61 L4033.51 1468.5 L4028.58 1468.5 L4028.58 1476.65 L4023.93 1476.65 L4023.93 1468.5 L4008.33 1468.5 L4008.33 1463.99 L4022.7 1442.09 Z\" fill=\"#000000\" fill-rule=\"evenodd\" fill-opacity=\"1\" /><path clip-path=\"url(#clip400)\" d=\"M 0 0 M4035.23 1450.73 L4060.07 1450.73 L4060.07 1454.99 L4056.8 1454.99 L4056.8 1470.91 Q4056.8 1472.58 4057.36 1473.32 Q4057.94 1474.04 4059.21 1474.04 Q4059.56 1474.04 4060.07 1473.99 Q4060.57 1473.92 4060.74 1473.9 L4060.74 1476.98 Q4059.93 1477.28 4059.07 1477.42 Q4058.21 1477.55 4057.36 1477.55 Q4054.58 1477.55 4053.51 1476.05 Q4052.45 1474.52 4052.45 1470.45 L4052.45 1454.99 L4042.89 1454.99 L4042.89 1476.65 L4038.54 1476.65 L4038.54 1454.99 L4035.23 1454.99 L4035.23 1450.73 Z\" fill=\"#000000\" fill-rule=\"evenodd\" fill-opacity=\"1\" /><path clip-path=\"url(#clip400)\" d=\"M 0 0 M4234.2 1472.72 L4241.83 1472.72 L4241.83 1446.35 L4233.52 1448.02 L4233.52 1443.76 L4241.79 1442.09 L4246.46 1442.09 L4246.46 1472.72 L4254.1 1472.72 L4254.1 1476.65 L4234.2 1476.65 L4234.2 1472.72 Z\" fill=\"#000000\" fill-rule=\"evenodd\" fill-opacity=\"1\" /><path clip-path=\"url(#clip400)\" d=\"M 0 0 M4259.22 1442.09 L4277.58 1442.09 L4277.58 1446.03 L4263.5 1446.03 L4263.5 1454.5 Q4264.52 1454.15 4265.54 1453.99 Q4266.56 1453.8 4267.58 1453.8 Q4273.36 1453.8 4276.74 1456.98 Q4280.12 1460.15 4280.12 1465.56 Q4280.12 1471.14 4276.65 1474.24 Q4273.18 1477.32 4266.86 1477.32 Q4264.68 1477.32 4262.41 1476.95 Q4260.17 1476.58 4257.76 1475.84 L4257.76 1471.14 Q4259.84 1472.28 4262.07 1472.83 Q4264.29 1473.39 4266.77 1473.39 Q4270.77 1473.39 4273.11 1471.28 Q4275.45 1469.18 4275.45 1465.56 Q4275.45 1461.95 4273.11 1459.85 Q4270.77 1457.74 4266.77 1457.74 Q4264.89 1457.74 4263.02 1458.16 Q4261.16 1458.57 4259.22 1459.45 L4259.22 1442.09 Z\" fill=\"#000000\" fill-rule=\"evenodd\" fill-opacity=\"1\" /><path clip-path=\"url(#clip400)\" d=\"M 0 0 M4281.83 1450.73 L4306.67 1450.73 L4306.67 1454.99 L4303.41 1454.99 L4303.41 1470.91 Q4303.41 1472.58 4303.96 1473.32 Q4304.54 1474.04 4305.82 1474.04 Q4306.16 1474.04 4306.67 1473.99 Q4307.18 1473.92 4307.34 1473.9 L4307.34 1476.98 Q4306.53 1477.28 4305.68 1477.42 Q4304.82 1477.55 4303.96 1477.55 Q4301.19 1477.55 4300.12 1476.05 Q4299.06 1474.52 4299.06 1470.45 L4299.06 1454.99 L4289.5 1454.99 L4289.5 1476.65 L4285.14 1476.65 L4285.14 1454.99 L4281.83 1454.99 L4281.83 1450.73 Z\" fill=\"#000000\" fill-rule=\"evenodd\" fill-opacity=\"1\" /><path clip-path=\"url(#clip400)\" d=\"M 0 0 M4480.97 1472.72 L4488.6 1472.72 L4488.6 1446.35 L4480.29 1448.02 L4480.29 1443.76 L4488.56 1442.09 L4493.23 1442.09 L4493.23 1472.72 L4500.87 1472.72 L4500.87 1476.65 L4480.97 1476.65 L4480.97 1472.72 Z\" fill=\"#000000\" fill-rule=\"evenodd\" fill-opacity=\"1\" /><path clip-path=\"url(#clip400)\" d=\"M 0 0 M4516.52 1457.51 Q4513.37 1457.51 4511.52 1459.66 Q4509.69 1461.81 4509.69 1465.56 Q4509.69 1469.29 4511.52 1471.47 Q4513.37 1473.62 4516.52 1473.62 Q4519.67 1473.62 4521.5 1471.47 Q4523.35 1469.29 4523.35 1465.56 Q4523.35 1461.81 4521.5 1459.66 Q4519.67 1457.51 4516.52 1457.51 M4525.8 1442.86 L4525.8 1447.11 Q4524.04 1446.28 4522.24 1445.84 Q4520.46 1445.4 4518.7 1445.4 Q4514.07 1445.4 4511.61 1448.53 Q4509.18 1451.65 4508.84 1457.97 Q4510.2 1455.96 4512.26 1454.89 Q4514.32 1453.8 4516.8 1453.8 Q4522.01 1453.8 4525.02 1456.98 Q4528.05 1460.12 4528.05 1465.56 Q4528.05 1470.89 4524.9 1474.11 Q4521.75 1477.32 4516.52 1477.32 Q4510.53 1477.32 4507.35 1472.74 Q4504.18 1468.13 4504.18 1459.41 Q4504.18 1451.21 4508.07 1446.35 Q4511.96 1441.47 4518.51 1441.47 Q4520.27 1441.47 4522.05 1441.81 Q4523.86 1442.16 4525.8 1442.86 Z\" fill=\"#000000\" fill-rule=\"evenodd\" fill-opacity=\"1\" /><path clip-path=\"url(#clip400)\" d=\"M 0 0 M4529.76 1450.73 L4554.6 1450.73 L4554.6 1454.99 L4551.34 1454.99 L4551.34 1470.91 Q4551.34 1472.58 4551.89 1473.32 Q4552.47 1474.04 4553.74 1474.04 Q4554.09 1474.04 4554.6 1473.99 Q4555.11 1473.92 4555.27 1473.9 L4555.27 1476.98 Q4554.46 1477.28 4553.6 1477.42 Q4552.75 1477.55 4551.89 1477.55 Q4549.11 1477.55 4548.05 1476.05 Q4546.98 1474.52 4546.98 1470.45 L4546.98 1454.99 L4537.42 1454.99 L4537.42 1476.65 L4533.07 1476.65 L4533.07 1454.99 L4529.76 1454.99 L4529.76 1450.73 Z\" fill=\"#000000\" fill-rule=\"evenodd\" fill-opacity=\"1\" /><path clip-path=\"url(#clip400)\" d=\"M 0 0 M4728.85 1472.72 L4736.48 1472.72 L4736.48 1446.35 L4728.17 1448.02 L4728.17 1443.76 L4736.44 1442.09 L4741.11 1442.09 L4741.11 1472.72 L4748.75 1472.72 L4748.75 1476.65 L4728.85 1476.65 L4728.85 1472.72 Z\" fill=\"#000000\" fill-rule=\"evenodd\" fill-opacity=\"1\" /><path clip-path=\"url(#clip400)\" d=\"M 0 0 M4752.64 1442.09 L4774.86 1442.09 L4774.86 1444.08 L4762.32 1476.65 L4757.43 1476.65 L4769.24 1446.03 L4752.64 1446.03 L4752.64 1442.09 Z\" fill=\"#000000\" fill-rule=\"evenodd\" fill-opacity=\"1\" /><path clip-path=\"url(#clip400)\" d=\"M 0 0 M4776.58 1450.73 L4801.41 1450.73 L4801.41 1454.99 L4798.15 1454.99 L4798.15 1470.91 Q4798.15 1472.58 4798.71 1473.32 Q4799.28 1474.04 4800.56 1474.04 Q4800.91 1474.04 4801.41 1473.99 Q4801.92 1473.92 4802.09 1473.9 L4802.09 1476.98 Q4801.28 1477.28 4800.42 1477.42 Q4799.56 1477.55 4798.71 1477.55 Q4795.93 1477.55 4794.86 1476.05 Q4793.8 1474.52 4793.8 1470.45 L4793.8 1454.99 L4784.24 1454.99 L4784.24 1476.65 L4779.89 1476.65 L4779.89 1454.99 L4776.58 1454.99 L4776.58 1450.73 Z\" fill=\"#000000\" fill-rule=\"evenodd\" fill-opacity=\"1\" /><path clip-path=\"url(#clip400)\" d=\"M 0 0 M4975.79 1472.72 L4983.43 1472.72 L4983.43 1446.35 L4975.12 1448.02 L4975.12 1443.76 L4983.38 1442.09 L4988.06 1442.09 L4988.06 1472.72 L4995.7 1472.72 L4995.7 1476.65 L4975.79 1476.65 L4975.79 1472.72 Z\" fill=\"#000000\" fill-rule=\"evenodd\" fill-opacity=\"1\" /><path clip-path=\"url(#clip400)\" d=\"M 0 0 M5010.76 1460.24 Q5007.43 1460.24 5005.51 1462.02 Q5003.61 1463.8 5003.61 1466.93 Q5003.61 1470.05 5005.51 1471.84 Q5007.43 1473.62 5010.76 1473.62 Q5014.1 1473.62 5016.02 1471.84 Q5017.94 1470.03 5017.94 1466.93 Q5017.94 1463.8 5016.02 1462.02 Q5014.12 1460.24 5010.76 1460.24 M5006.09 1458.25 Q5003.08 1457.51 5001.39 1455.45 Q4999.72 1453.39 4999.72 1450.43 Q4999.72 1446.28 5002.66 1443.87 Q5005.63 1441.47 5010.76 1441.47 Q5015.93 1441.47 5018.87 1443.87 Q5021.81 1446.28 5021.81 1450.43 Q5021.81 1453.39 5020.12 1455.45 Q5018.45 1457.51 5015.46 1458.25 Q5018.84 1459.04 5020.72 1461.33 Q5022.62 1463.62 5022.62 1466.93 Q5022.62 1471.95 5019.54 1474.64 Q5016.48 1477.32 5010.76 1477.32 Q5005.05 1477.32 5001.97 1474.64 Q4998.91 1471.95 4998.91 1466.93 Q4998.91 1463.62 5000.81 1461.33 Q5002.71 1459.04 5006.09 1458.25 M5004.38 1450.86 Q5004.38 1453.55 5006.04 1455.05 Q5007.73 1456.56 5010.76 1456.56 Q5013.77 1456.56 5015.46 1455.05 Q5017.18 1453.55 5017.18 1450.86 Q5017.18 1448.18 5015.46 1446.68 Q5013.77 1445.17 5010.76 1445.17 Q5007.73 1445.17 5006.04 1446.68 Q5004.38 1448.18 5004.38 1450.86 Z\" fill=\"#000000\" fill-rule=\"evenodd\" fill-opacity=\"1\" /><path clip-path=\"url(#clip400)\" d=\"M 0 0 M5024.33 1450.73 L5049.17 1450.73 L5049.17 1454.99 L5045.9 1454.99 L5045.9 1470.91 Q5045.9 1472.58 5046.46 1473.32 Q5047.04 1474.04 5048.31 1474.04 Q5048.66 1474.04 5049.17 1473.99 Q5049.68 1473.92 5049.84 1473.9 L5049.84 1476.98 Q5049.03 1477.28 5048.17 1477.42 Q5047.32 1477.55 5046.46 1477.55 Q5043.68 1477.55 5042.62 1476.05 Q5041.55 1474.52 5041.55 1470.45 L5041.55 1454.99 L5031.99 1454.99 L5031.99 1476.65 L5027.64 1476.65 L5027.64 1454.99 L5024.33 1454.99 L5024.33 1450.73 Z\" fill=\"#000000\" fill-rule=\"evenodd\" fill-opacity=\"1\" /><path clip-path=\"url(#clip400)\" d=\"M 0 0 M5223.18 1472.72 L5230.82 1472.72 L5230.82 1446.35 L5222.51 1448.02 L5222.51 1443.76 L5230.77 1442.09 L5235.45 1442.09 L5235.45 1472.72 L5243.09 1472.72 L5243.09 1476.65 L5223.18 1476.65 L5223.18 1472.72 Z\" fill=\"#000000\" fill-rule=\"evenodd\" fill-opacity=\"1\" /><path clip-path=\"url(#clip400)\" d=\"M 0 0 M5248.3 1475.93 L5248.3 1471.68 Q5250.06 1472.51 5251.86 1472.95 Q5253.67 1473.39 5255.4 1473.39 Q5260.03 1473.39 5262.46 1470.29 Q5264.92 1467.16 5265.27 1460.82 Q5263.92 1462.81 5261.86 1463.87 Q5259.8 1464.94 5257.3 1464.94 Q5252.12 1464.94 5249.08 1461.81 Q5246.08 1458.67 5246.08 1453.23 Q5246.08 1447.9 5249.22 1444.68 Q5252.37 1441.47 5257.6 1441.47 Q5263.6 1441.47 5266.75 1446.07 Q5269.92 1450.66 5269.92 1459.41 Q5269.92 1467.58 5266.03 1472.46 Q5262.16 1477.32 5255.61 1477.32 Q5253.85 1477.32 5252.05 1476.98 Q5250.24 1476.63 5248.3 1475.93 M5257.6 1461.28 Q5260.75 1461.28 5262.58 1459.13 Q5264.43 1456.98 5264.43 1453.23 Q5264.43 1449.5 5262.58 1447.35 Q5260.75 1445.17 5257.6 1445.17 Q5254.46 1445.17 5252.6 1447.35 Q5250.77 1449.5 5250.77 1453.23 Q5250.77 1456.98 5252.6 1459.13 Q5254.46 1461.28 5257.6 1461.28 Z\" fill=\"#000000\" fill-rule=\"evenodd\" fill-opacity=\"1\" /><path clip-path=\"url(#clip400)\" d=\"M 0 0 M5271.63 1450.73 L5296.47 1450.73 L5296.47 1454.99 L5293.21 1454.99 L5293.21 1470.91 Q5293.21 1472.58 5293.76 1473.32 Q5294.34 1474.04 5295.61 1474.04 Q5295.96 1474.04 5296.47 1473.99 Q5296.98 1473.92 5297.14 1473.9 L5297.14 1476.98 Q5296.33 1477.28 5295.47 1477.42 Q5294.62 1477.55 5293.76 1477.55 Q5290.98 1477.55 5289.92 1476.05 Q5288.85 1474.52 5288.85 1470.45 L5288.85 1454.99 L5279.29 1454.99 L5279.29 1476.65 L5274.94 1476.65 L5274.94 1454.99 L5271.63 1454.99 L5271.63 1450.73 Z\" fill=\"#000000\" fill-rule=\"evenodd\" fill-opacity=\"1\" /><path clip-path=\"url(#clip400)\" d=\"M 0 0 M163.691 20148.9 Q160.542 20148.9 158.691 20151.1 Q156.862 20153.2 156.862 20157 Q156.862 20160.7 158.691 20162.9 Q160.542 20165.1 163.691 20165.1 Q166.839 20165.1 168.667 20162.9 Q170.519 20160.7 170.519 20157 Q170.519 20153.2 168.667 20151.1 Q166.839 20148.9 163.691 20148.9 M172.973 20134.3 L172.973 20138.5 Q171.214 20137.7 169.408 20137.3 Q167.626 20136.8 165.866 20136.8 Q161.237 20136.8 158.783 20140 Q156.353 20143.1 156.005 20149.4 Q157.371 20147.4 159.431 20146.3 Q161.491 20145.2 163.968 20145.2 Q169.177 20145.2 172.186 20148.4 Q175.218 20151.6 175.218 20157 Q175.218 20162.3 172.07 20165.5 Q168.922 20168.8 163.691 20168.8 Q157.695 20168.8 154.524 20164.2 Q151.353 20159.6 151.353 20150.8 Q151.353 20142.6 155.241 20137.8 Q159.13 20132.9 165.681 20132.9 Q167.44 20132.9 169.223 20133.2 Q171.028 20133.6 172.973 20134.3 Z\" fill=\"#000000\" fill-rule=\"evenodd\" fill-opacity=\"1\" /><path clip-path=\"url(#clip400)\" d=\"M 0 0 M190.288 20136.6 Q186.677 20136.6 184.848 20140.2 Q183.042 20143.7 183.042 20150.8 Q183.042 20157.9 184.848 20161.5 Q186.677 20165.1 190.288 20165.1 Q193.922 20165.1 195.727 20161.5 Q197.556 20157.9 197.556 20150.8 Q197.556 20143.7 195.727 20140.2 Q193.922 20136.6 190.288 20136.6 M190.288 20132.9 Q196.098 20132.9 199.153 20137.5 Q202.232 20142.1 202.232 20150.8 Q202.232 20159.6 199.153 20164.2 Q196.098 20168.8 190.288 20168.8 Q184.477 20168.8 181.399 20164.2 Q178.343 20159.6 178.343 20150.8 Q178.343 20142.1 181.399 20137.5 Q184.477 20132.9 190.288 20132.9 Z\" fill=\"#000000\" fill-rule=\"evenodd\" fill-opacity=\"1\" /><path clip-path=\"url(#clip400)\" d=\"M 0 0 M203.945 20142.2 L228.783 20142.2 L228.783 20146.4 L225.519 20146.4 L225.519 20162.3 Q225.519 20164 226.074 20164.7 Q226.653 20165.5 227.926 20165.5 Q228.273 20165.5 228.783 20165.4 Q229.292 20165.4 229.454 20165.3 L229.454 20168.4 Q228.644 20168.7 227.787 20168.8 Q226.931 20169 226.074 20169 Q223.297 20169 222.232 20167.5 Q221.167 20166 221.167 20161.9 L221.167 20146.4 L211.607 20146.4 L211.607 20168.1 L207.255 20168.1 L207.255 20146.4 L203.945 20146.4 L203.945 20142.2 Z\" fill=\"#000000\" fill-rule=\"evenodd\" fill-opacity=\"1\" /><path clip-path=\"url(#clip400)\" d=\"M 0 0 M164.917 19937.7 Q161.769 19937.7 159.917 19939.9 Q158.089 19942 158.089 19945.8 Q158.089 19949.5 159.917 19951.7 Q161.769 19953.8 164.917 19953.8 Q168.065 19953.8 169.894 19951.7 Q171.746 19949.5 171.746 19945.8 Q171.746 19942 169.894 19939.9 Q168.065 19937.7 164.917 19937.7 M174.2 19923.1 L174.2 19927.3 Q172.44 19926.5 170.635 19926.1 Q168.853 19925.6 167.093 19925.6 Q162.464 19925.6 160.01 19928.8 Q157.579 19931.9 157.232 19938.2 Q158.598 19936.2 160.658 19935.1 Q162.718 19934 165.195 19934 Q170.403 19934 173.413 19937.2 Q176.445 19940.3 176.445 19945.8 Q176.445 19951.1 173.297 19954.3 Q170.149 19957.5 164.917 19957.5 Q158.922 19957.5 155.751 19953 Q152.579 19948.4 152.579 19939.6 Q152.579 19931.4 156.468 19926.6 Q160.357 19921.7 166.908 19921.7 Q168.667 19921.7 170.45 19922 Q172.255 19922.4 174.2 19923.1 Z\" fill=\"#000000\" fill-rule=\"evenodd\" fill-opacity=\"1\" /><path clip-path=\"url(#clip400)\" d=\"M 0 0 M182.325 19952.9 L189.964 19952.9 L189.964 19926.6 L181.653 19928.2 L181.653 19924 L189.917 19922.3 L194.593 19922.3 L194.593 19952.9 L202.232 19952.9 L202.232 19956.9 L182.325 19956.9 L182.325 19952.9 Z\" fill=\"#000000\" fill-rule=\"evenodd\" fill-opacity=\"1\" /><path clip-path=\"url(#clip400)\" d=\"M 0 0 M203.945 19931 L228.783 19931 L228.783 19935.2 L225.519 19935.2 L225.519 19951.1 Q225.519 19952.8 226.074 19953.5 Q226.653 19954.3 227.926 19954.3 Q228.273 19954.3 228.783 19954.2 Q229.292 19954.1 229.454 19954.1 L229.454 19957.2 Q228.644 19957.5 227.787 19957.6 Q226.931 19957.8 226.074 19957.8 Q223.297 19957.8 222.232 19956.3 Q221.167 19954.7 221.167 19950.7 L221.167 19935.2 L211.607 19935.2 L211.607 19956.9 L207.255 19956.9 L207.255 19935.2 L203.945 19935.2 L203.945 19931 Z\" fill=\"#000000\" fill-rule=\"evenodd\" fill-opacity=\"1\" /><path clip-path=\"url(#clip400)\" d=\"M 0 0 M165.288 19726.5 Q162.14 19726.5 160.288 19728.7 Q158.459 19730.8 158.459 19734.6 Q158.459 19738.3 160.288 19740.5 Q162.14 19742.6 165.288 19742.6 Q168.436 19742.6 170.265 19740.5 Q172.116 19738.3 172.116 19734.6 Q172.116 19730.8 170.265 19728.7 Q168.436 19726.5 165.288 19726.5 M174.57 19711.9 L174.57 19716.1 Q172.811 19715.3 171.005 19714.9 Q169.223 19714.4 167.464 19714.4 Q162.834 19714.4 160.38 19717.5 Q157.95 19720.7 157.603 19727 Q158.968 19725 161.028 19723.9 Q163.089 19722.8 165.566 19722.8 Q170.774 19722.8 173.783 19726 Q176.815 19729.1 176.815 19734.6 Q176.815 19739.9 173.667 19743.1 Q170.519 19746.3 165.288 19746.3 Q159.292 19746.3 156.121 19741.8 Q152.95 19737.2 152.95 19728.4 Q152.95 19720.2 156.839 19715.4 Q160.728 19710.5 167.278 19710.5 Q169.038 19710.5 170.82 19710.8 Q172.626 19711.2 174.57 19711.9 Z\" fill=\"#000000\" fill-rule=\"evenodd\" fill-opacity=\"1\" /><path clip-path=\"url(#clip400)\" d=\"M 0 0 M185.913 19741.7 L202.232 19741.7 L202.232 19745.7 L180.288 19745.7 L180.288 19741.7 Q182.95 19739 187.533 19734.4 Q192.139 19729.7 193.32 19728.4 Q195.565 19725.8 196.445 19724.1 Q197.348 19722.3 197.348 19720.6 Q197.348 19717.9 195.403 19716.2 Q193.482 19714.4 190.38 19714.4 Q188.181 19714.4 185.727 19715.2 Q183.297 19715.9 180.519 19717.5 L180.519 19712.8 Q183.343 19711.6 185.797 19711.1 Q188.251 19710.5 190.288 19710.5 Q195.658 19710.5 198.852 19713.2 Q202.047 19715.9 202.047 19720.3 Q202.047 19722.5 201.237 19724.4 Q200.45 19726.3 198.343 19728.9 Q197.764 19729.6 194.663 19732.8 Q191.561 19736 185.913 19741.7 Z\" fill=\"#000000\" fill-rule=\"evenodd\" fill-opacity=\"1\" /><path clip-path=\"url(#clip400)\" d=\"M 0 0 M203.945 19719.7 L228.783 19719.7 L228.783 19724 L225.519 19724 L225.519 19739.9 Q225.519 19741.6 226.074 19742.3 Q226.653 19743.1 227.926 19743.1 Q228.273 19743.1 228.783 19743 Q229.292 19742.9 229.454 19742.9 L229.454 19746 Q228.644 19746.3 227.787 19746.4 Q226.931 19746.6 226.074 19746.6 Q223.297 19746.6 222.232 19745.1 Q221.167 19743.5 221.167 19739.5 L221.167 19724 L211.607 19724 L211.607 19745.7 L207.255 19745.7 L207.255 19724 L203.945 19724 L203.945 19719.7 Z\" fill=\"#000000\" fill-rule=\"evenodd\" fill-opacity=\"1\" /><path clip-path=\"url(#clip400)\" d=\"M 0 0 M164.339 19515.3 Q161.191 19515.3 159.339 19517.5 Q157.51 19519.6 157.51 19523.4 Q157.51 19527.1 159.339 19529.3 Q161.191 19531.4 164.339 19531.4 Q167.487 19531.4 169.315 19529.3 Q171.167 19527.1 171.167 19523.4 Q171.167 19519.6 169.315 19517.5 Q167.487 19515.3 164.339 19515.3 M173.621 19500.7 L173.621 19504.9 Q171.862 19504.1 170.056 19503.7 Q168.274 19503.2 166.515 19503.2 Q161.885 19503.2 159.431 19506.3 Q157.001 19509.5 156.654 19515.8 Q158.019 19513.8 160.079 19512.7 Q162.14 19511.6 164.616 19511.6 Q169.825 19511.6 172.834 19514.8 Q175.866 19517.9 175.866 19523.4 Q175.866 19528.7 172.718 19531.9 Q169.57 19535.1 164.339 19535.1 Q158.343 19535.1 155.172 19530.6 Q152.001 19525.9 152.001 19517.2 Q152.001 19509 155.89 19504.2 Q159.778 19499.3 166.329 19499.3 Q168.089 19499.3 169.871 19499.6 Q171.677 19500 173.621 19500.7 Z\" fill=\"#000000\" fill-rule=\"evenodd\" fill-opacity=\"1\" /><path clip-path=\"url(#clip400)\" d=\"M 0 0 M195.102 19515.8 Q198.459 19516.5 200.334 19518.8 Q202.232 19521.1 202.232 19524.4 Q202.232 19529.5 198.713 19532.3 Q195.195 19535.1 188.714 19535.1 Q186.538 19535.1 184.223 19534.7 Q181.931 19534.3 179.477 19533.4 L179.477 19528.9 Q181.422 19530 183.737 19530.6 Q186.052 19531.2 188.575 19531.2 Q192.973 19531.2 195.264 19529.5 Q197.579 19527.7 197.579 19524.4 Q197.579 19521.4 195.426 19519.6 Q193.297 19517.9 189.477 19517.9 L185.45 19517.9 L185.45 19514.1 L189.663 19514.1 Q193.112 19514.1 194.94 19512.7 Q196.769 19511.3 196.769 19508.7 Q196.769 19506.1 194.871 19504.6 Q192.996 19503.2 189.477 19503.2 Q187.556 19503.2 185.357 19503.6 Q183.158 19504 180.519 19504.9 L180.519 19500.8 Q183.181 19500 185.496 19499.6 Q187.834 19499.3 189.894 19499.3 Q195.218 19499.3 198.32 19501.7 Q201.422 19504.1 201.422 19508.2 Q201.422 19511.1 199.778 19513.1 Q198.135 19515.1 195.102 19515.8 Z\" fill=\"#000000\" fill-rule=\"evenodd\" fill-opacity=\"1\" /><path clip-path=\"url(#clip400)\" d=\"M 0 0 M203.945 19508.5 L228.783 19508.5 L228.783 19512.8 L225.519 19512.8 L225.519 19528.7 Q225.519 19530.4 226.074 19531.1 Q226.653 19531.8 227.926 19531.8 Q228.273 19531.8 228.783 19531.8 Q229.292 19531.7 229.454 19531.7 L229.454 19534.8 Q228.644 19535.1 227.787 19535.2 Q226.931 19535.4 226.074 19535.4 Q223.297 19535.4 222.232 19533.9 Q221.167 19532.3 221.167 19528.3 L221.167 19512.8 L211.607 19512.8 L211.607 19534.5 L207.255 19534.5 L207.255 19512.8 L203.945 19512.8 L203.945 19508.5 Z\" fill=\"#000000\" fill-rule=\"evenodd\" fill-opacity=\"1\" /><path clip-path=\"url(#clip400)\" d=\"M 0 0 M163.204 19304.1 Q160.056 19304.1 158.204 19306.3 Q156.376 19308.4 156.376 19312.2 Q156.376 19315.9 158.204 19318.1 Q160.056 19320.2 163.204 19320.2 Q166.353 19320.2 168.181 19318.1 Q170.033 19315.9 170.033 19312.2 Q170.033 19308.4 168.181 19306.3 Q166.353 19304.1 163.204 19304.1 M172.487 19289.5 L172.487 19293.7 Q170.728 19292.9 168.922 19292.4 Q167.14 19292 165.38 19292 Q160.751 19292 158.297 19295.1 Q155.866 19298.3 155.519 19304.6 Q156.885 19302.6 158.945 19301.5 Q161.005 19300.4 163.482 19300.4 Q168.69 19300.4 171.7 19303.6 Q174.732 19306.7 174.732 19312.2 Q174.732 19317.5 171.584 19320.7 Q168.436 19323.9 163.204 19323.9 Q157.209 19323.9 154.038 19319.3 Q150.867 19314.7 150.867 19306 Q150.867 19297.8 154.755 19293 Q158.644 19288.1 165.195 19288.1 Q166.954 19288.1 168.737 19288.4 Q170.542 19288.8 172.487 19289.5 Z\" fill=\"#000000\" fill-rule=\"evenodd\" fill-opacity=\"1\" /><path clip-path=\"url(#clip400)\" d=\"M 0 0 M192.649 19292.8 L180.843 19311.2 L192.649 19311.2 L192.649 19292.8 M191.422 19288.7 L197.301 19288.7 L197.301 19311.2 L202.232 19311.2 L202.232 19315.1 L197.301 19315.1 L197.301 19323.3 L192.649 19323.3 L192.649 19315.1 L177.047 19315.1 L177.047 19310.6 L191.422 19288.7 Z\" fill=\"#000000\" fill-rule=\"evenodd\" fill-opacity=\"1\" /><path clip-path=\"url(#clip400)\" d=\"M 0 0 M203.945 19297.3 L228.783 19297.3 L228.783 19301.6 L225.519 19301.6 L225.519 19317.5 Q225.519 19319.2 226.074 19319.9 Q226.653 19320.6 227.926 19320.6 Q228.273 19320.6 228.783 19320.6 Q229.292 19320.5 229.454 19320.5 L229.454 19323.6 Q228.644 19323.9 227.787 19324 Q226.931 19324.2 226.074 19324.2 Q223.297 19324.2 222.232 19322.7 Q221.167 19321.1 221.167 19317.1 L221.167 19301.6 L211.607 19301.6 L211.607 19323.3 L207.255 19323.3 L207.255 19301.6 L203.945 19301.6 L203.945 19297.3 Z\" fill=\"#000000\" fill-rule=\"evenodd\" fill-opacity=\"1\" /><path clip-path=\"url(#clip400)\" d=\"M 0 0 M164.686 19092.9 Q161.538 19092.9 159.686 19095.1 Q157.857 19097.2 157.857 19101 Q157.857 19104.7 159.686 19106.9 Q161.538 19109 164.686 19109 Q167.834 19109 169.663 19106.9 Q171.515 19104.7 171.515 19101 Q171.515 19097.2 169.663 19095.1 Q167.834 19092.9 164.686 19092.9 M173.968 19078.3 L173.968 19082.5 Q172.209 19081.7 170.403 19081.2 Q168.621 19080.8 166.862 19080.8 Q162.232 19080.8 159.778 19083.9 Q157.348 19087.1 157.001 19093.4 Q158.366 19091.4 160.427 19090.3 Q162.487 19089.2 164.964 19089.2 Q170.172 19089.2 173.181 19092.4 Q176.214 19095.5 176.214 19101 Q176.214 19106.3 173.065 19109.5 Q169.917 19112.7 164.686 19112.7 Q158.691 19112.7 155.519 19108.1 Q152.348 19103.5 152.348 19094.8 Q152.348 19086.6 156.237 19081.7 Q160.126 19076.9 166.677 19076.9 Q168.436 19076.9 170.218 19077.2 Q172.024 19077.6 173.968 19078.3 Z\" fill=\"#000000\" fill-rule=\"evenodd\" fill-opacity=\"1\" /><path clip-path=\"url(#clip400)\" d=\"M 0 0 M181.329 19077.5 L199.686 19077.5 L199.686 19081.4 L185.612 19081.4 L185.612 19089.9 Q186.63 19089.6 187.649 19089.4 Q188.667 19089.2 189.686 19089.2 Q195.473 19089.2 198.852 19092.4 Q202.232 19095.5 202.232 19101 Q202.232 19106.5 198.76 19109.6 Q195.288 19112.7 188.968 19112.7 Q186.792 19112.7 184.524 19112.4 Q182.278 19112 179.871 19111.2 L179.871 19106.5 Q181.954 19107.7 184.177 19108.2 Q186.399 19108.8 188.876 19108.8 Q192.88 19108.8 195.218 19106.7 Q197.556 19104.6 197.556 19101 Q197.556 19097.4 195.218 19095.2 Q192.88 19093.1 188.876 19093.1 Q187.001 19093.1 185.126 19093.6 Q183.274 19094 181.329 19094.9 L181.329 19077.5 Z\" fill=\"#000000\" fill-rule=\"evenodd\" fill-opacity=\"1\" /><path clip-path=\"url(#clip400)\" d=\"M 0 0 M203.945 19086.1 L228.783 19086.1 L228.783 19090.4 L225.519 19090.4 L225.519 19106.3 Q225.519 19108 226.074 19108.7 Q226.653 19109.4 227.926 19109.4 Q228.273 19109.4 228.783 19109.4 Q229.292 19109.3 229.454 19109.3 L229.454 19112.4 Q228.644 19112.7 227.787 19112.8 Q226.931 19113 226.074 19113 Q223.297 19113 222.232 19111.4 Q221.167 19109.9 221.167 19105.8 L221.167 19090.4 L211.607 19090.4 L211.607 19112.1 L207.255 19112.1 L207.255 19090.4 L203.945 19090.4 L203.945 19086.1 Z\" fill=\"#000000\" fill-rule=\"evenodd\" fill-opacity=\"1\" /><path clip-path=\"url(#clip400)\" d=\"M 0 0 M163.528 18881.7 Q160.38 18881.7 158.529 18883.9 Q156.7 18886 156.7 18889.8 Q156.7 18893.5 158.529 18895.7 Q160.38 18897.8 163.528 18897.8 Q166.677 18897.8 168.505 18895.7 Q170.357 18893.5 170.357 18889.8 Q170.357 18886 168.505 18883.9 Q166.677 18881.7 163.528 18881.7 M172.811 18867 L172.811 18871.3 Q171.052 18870.5 169.246 18870 Q167.464 18869.6 165.704 18869.6 Q161.075 18869.6 158.621 18872.7 Q156.191 18875.8 155.843 18882.2 Q157.209 18880.1 159.269 18879.1 Q161.329 18878 163.806 18878 Q169.015 18878 172.024 18881.2 Q175.056 18884.3 175.056 18889.8 Q175.056 18895.1 171.908 18898.3 Q168.76 18901.5 163.528 18901.5 Q157.533 18901.5 154.362 18896.9 Q151.191 18892.3 151.191 18883.6 Q151.191 18875.4 155.079 18870.5 Q158.968 18865.7 165.519 18865.7 Q167.278 18865.7 169.061 18866 Q170.866 18866.4 172.811 18867 Z\" fill=\"#000000\" fill-rule=\"evenodd\" fill-opacity=\"1\" /><path clip-path=\"url(#clip400)\" d=\"M 0 0 M190.704 18881.7 Q187.556 18881.7 185.704 18883.9 Q183.876 18886 183.876 18889.8 Q183.876 18893.5 185.704 18895.7 Q187.556 18897.8 190.704 18897.8 Q193.852 18897.8 195.681 18895.7 Q197.533 18893.5 197.533 18889.8 Q197.533 18886 195.681 18883.9 Q193.852 18881.7 190.704 18881.7 M199.987 18867 L199.987 18871.3 Q198.227 18870.5 196.422 18870 Q194.639 18869.6 192.88 18869.6 Q188.251 18869.6 185.797 18872.7 Q183.366 18875.8 183.019 18882.2 Q184.385 18880.1 186.445 18879.1 Q188.505 18878 190.982 18878 Q196.19 18878 199.2 18881.2 Q202.232 18884.3 202.232 18889.8 Q202.232 18895.1 199.084 18898.3 Q195.936 18901.5 190.704 18901.5 Q184.709 18901.5 181.538 18896.9 Q178.366 18892.3 178.366 18883.6 Q178.366 18875.4 182.255 18870.5 Q186.144 18865.7 192.695 18865.7 Q194.454 18865.7 196.237 18866 Q198.042 18866.4 199.987 18867 Z\" fill=\"#000000\" fill-rule=\"evenodd\" fill-opacity=\"1\" /><path clip-path=\"url(#clip400)\" d=\"M 0 0 M203.945 18874.9 L228.783 18874.9 L228.783 18879.2 L225.519 18879.2 L225.519 18895.1 Q225.519 18896.8 226.074 18897.5 Q226.653 18898.2 227.926 18898.2 Q228.273 18898.2 228.783 18898.2 Q229.292 18898.1 229.454 18898.1 L229.454 18901.2 Q228.644 18901.5 227.787 18901.6 Q226.931 18901.7 226.074 18901.7 Q223.297 18901.7 222.232 18900.2 Q221.167 18898.7 221.167 18894.6 L221.167 18879.2 L211.607 18879.2 L211.607 18900.8 L207.255 18900.8 L207.255 18879.2 L203.945 18879.2 L203.945 18874.9 Z\" fill=\"#000000\" fill-rule=\"evenodd\" fill-opacity=\"1\" /><path clip-path=\"url(#clip400)\" d=\"M 0 0 M164.593 18670.5 Q161.445 18670.5 159.593 18672.6 Q157.765 18674.8 157.765 18678.5 Q157.765 18682.3 159.593 18684.5 Q161.445 18686.6 164.593 18686.6 Q167.741 18686.6 169.57 18684.5 Q171.422 18682.3 171.422 18678.5 Q171.422 18674.8 169.57 18672.6 Q167.741 18670.5 164.593 18670.5 M173.876 18655.8 L173.876 18660.1 Q172.116 18659.3 170.311 18658.8 Q168.528 18658.4 166.769 18658.4 Q162.14 18658.4 159.686 18661.5 Q157.255 18664.6 156.908 18671 Q158.274 18668.9 160.334 18667.9 Q162.394 18666.8 164.871 18666.8 Q170.079 18666.8 173.089 18670 Q176.121 18673.1 176.121 18678.5 Q176.121 18683.9 172.973 18687.1 Q169.825 18690.3 164.593 18690.3 Q158.598 18690.3 155.427 18685.7 Q152.255 18681.1 152.255 18672.4 Q152.255 18664.2 156.144 18659.3 Q160.033 18654.5 166.584 18654.5 Q168.343 18654.5 170.126 18654.8 Q171.931 18655.1 173.876 18655.8 Z\" fill=\"#000000\" fill-rule=\"evenodd\" fill-opacity=\"1\" /><path clip-path=\"url(#clip400)\" d=\"M 0 0 M180.01 18655.1 L202.232 18655.1 L202.232 18657.1 L189.686 18689.6 L184.802 18689.6 L196.607 18659 L180.01 18659 L180.01 18655.1 Z\" fill=\"#000000\" fill-rule=\"evenodd\" fill-opacity=\"1\" /><path clip-path=\"url(#clip400)\" d=\"M 0 0 M203.945 18663.7 L228.783 18663.7 L228.783 18668 L225.519 18668 L225.519 18683.9 Q225.519 18685.6 226.074 18686.3 Q226.653 18687 227.926 18687 Q228.273 18687 228.783 18687 Q229.292 18686.9 229.454 18686.9 L229.454 18690 Q228.644 18690.3 227.787 18690.4 Q226.931 18690.5 226.074 18690.5 Q223.297 18690.5 222.232 18689 Q221.167 18687.5 221.167 18683.4 L221.167 18668 L211.607 18668 L211.607 18689.6 L207.255 18689.6 L207.255 18668 L203.945 18668 L203.945 18663.7 Z\" fill=\"#000000\" fill-rule=\"evenodd\" fill-opacity=\"1\" /><path clip-path=\"url(#clip400)\" d=\"M 0 0 M163.783 18459.3 Q160.635 18459.3 158.783 18461.4 Q156.954 18463.6 156.954 18467.3 Q156.954 18471.1 158.783 18473.2 Q160.635 18475.4 163.783 18475.4 Q166.931 18475.4 168.76 18473.2 Q170.612 18471.1 170.612 18467.3 Q170.612 18463.6 168.76 18461.4 Q166.931 18459.3 163.783 18459.3 M173.065 18444.6 L173.065 18448.9 Q171.306 18448.1 169.501 18447.6 Q167.718 18447.2 165.959 18447.2 Q161.329 18447.2 158.876 18450.3 Q156.445 18453.4 156.098 18459.8 Q157.464 18457.7 159.524 18456.7 Q161.584 18455.6 164.061 18455.6 Q169.269 18455.6 172.278 18458.8 Q175.311 18461.9 175.311 18467.3 Q175.311 18472.7 172.163 18475.9 Q169.015 18479.1 163.783 18479.1 Q157.788 18479.1 154.616 18474.5 Q151.445 18469.9 151.445 18461.2 Q151.445 18453 155.334 18448.1 Q159.223 18443.2 165.774 18443.2 Q167.533 18443.2 169.315 18443.6 Q171.121 18443.9 173.065 18444.6 Z\" fill=\"#000000\" fill-rule=\"evenodd\" fill-opacity=\"1\" /><path clip-path=\"url(#clip400)\" d=\"M 0 0 M190.38 18462 Q187.047 18462 185.126 18463.8 Q183.227 18465.6 183.227 18468.7 Q183.227 18471.8 185.126 18473.6 Q187.047 18475.4 190.38 18475.4 Q193.713 18475.4 195.635 18473.6 Q197.556 18471.8 197.556 18468.7 Q197.556 18465.6 195.635 18463.8 Q193.737 18462 190.38 18462 M185.704 18460 Q182.695 18459.3 181.005 18457.2 Q179.339 18455.2 179.339 18452.2 Q179.339 18448.1 182.278 18445.7 Q185.241 18443.2 190.38 18443.2 Q195.542 18443.2 198.482 18445.7 Q201.422 18448.1 201.422 18452.2 Q201.422 18455.2 199.732 18457.2 Q198.065 18459.3 195.079 18460 Q198.459 18460.8 200.334 18463.1 Q202.232 18465.4 202.232 18468.7 Q202.232 18473.7 199.153 18476.4 Q196.098 18479.1 190.38 18479.1 Q184.663 18479.1 181.584 18476.4 Q178.528 18473.7 178.528 18468.7 Q178.528 18465.4 180.427 18463.1 Q182.325 18460.8 185.704 18460 M183.991 18452.6 Q183.991 18455.3 185.658 18456.8 Q187.348 18458.3 190.38 18458.3 Q193.389 18458.3 195.079 18456.8 Q196.792 18455.3 196.792 18452.6 Q196.792 18450 195.079 18448.5 Q193.389 18446.9 190.38 18446.9 Q187.348 18446.9 185.658 18448.5 Q183.991 18450 183.991 18452.6 Z\" fill=\"#000000\" fill-rule=\"evenodd\" fill-opacity=\"1\" /><path clip-path=\"url(#clip400)\" d=\"M 0 0 M203.945 18452.5 L228.783 18452.5 L228.783 18456.8 L225.519 18456.8 L225.519 18472.7 Q225.519 18474.4 226.074 18475.1 Q226.653 18475.8 227.926 18475.8 Q228.273 18475.8 228.783 18475.8 Q229.292 18475.7 229.454 18475.7 L229.454 18478.8 Q228.644 18479.1 227.787 18479.2 Q226.931 18479.3 226.074 18479.3 Q223.297 18479.3 222.232 18477.8 Q221.167 18476.3 221.167 18472.2 L221.167 18456.8 L211.607 18456.8 L211.607 18478.4 L207.255 18478.4 L207.255 18456.8 L203.945 18456.8 L203.945 18452.5 Z\" fill=\"#000000\" fill-rule=\"evenodd\" fill-opacity=\"1\" /><path clip-path=\"url(#clip400)\" d=\"M 0 0 M163.876 18248.1 Q160.728 18248.1 158.876 18250.2 Q157.047 18252.4 157.047 18256.1 Q157.047 18259.9 158.876 18262 Q160.728 18264.2 163.876 18264.2 Q167.024 18264.2 168.853 18262 Q170.704 18259.9 170.704 18256.1 Q170.704 18252.4 168.853 18250.2 Q167.024 18248.1 163.876 18248.1 M173.158 18233.4 L173.158 18237.7 Q171.399 18236.9 169.593 18236.4 Q167.811 18236 166.052 18236 Q161.422 18236 158.968 18239.1 Q156.538 18242.2 156.191 18248.5 Q157.556 18246.5 159.616 18245.5 Q161.677 18244.4 164.153 18244.4 Q169.362 18244.4 172.371 18247.5 Q175.403 18250.7 175.403 18256.1 Q175.403 18261.5 172.255 18264.7 Q169.107 18267.9 163.876 18267.9 Q157.88 18267.9 154.709 18263.3 Q151.538 18258.7 151.538 18250 Q151.538 18241.8 155.427 18236.9 Q159.316 18232 165.866 18232 Q167.626 18232 169.408 18232.4 Q171.214 18232.7 173.158 18233.4 Z\" fill=\"#000000\" fill-rule=\"evenodd\" fill-opacity=\"1\" /><path clip-path=\"url(#clip400)\" d=\"M 0 0 M180.612 18266.5 L180.612 18262.2 Q182.371 18263.1 184.177 18263.5 Q185.982 18264 187.718 18264 Q192.348 18264 194.778 18260.9 Q197.232 18257.7 197.579 18251.4 Q196.237 18253.4 194.176 18254.4 Q192.116 18255.5 189.616 18255.5 Q184.431 18255.5 181.399 18252.4 Q178.39 18249.2 178.39 18243.8 Q178.39 18238.5 181.538 18235.3 Q184.686 18232 189.917 18232 Q195.913 18232 199.061 18236.6 Q202.232 18241.2 202.232 18250 Q202.232 18258.2 198.343 18263 Q194.477 18267.9 187.926 18267.9 Q186.167 18267.9 184.362 18267.5 Q182.556 18267.2 180.612 18266.5 M189.917 18251.9 Q193.065 18251.9 194.894 18249.7 Q196.746 18247.5 196.746 18243.8 Q196.746 18240.1 194.894 18237.9 Q193.065 18235.7 189.917 18235.7 Q186.769 18235.7 184.917 18237.9 Q183.089 18240.1 183.089 18243.8 Q183.089 18247.5 184.917 18249.7 Q186.769 18251.9 189.917 18251.9 Z\" fill=\"#000000\" fill-rule=\"evenodd\" fill-opacity=\"1\" /><path clip-path=\"url(#clip400)\" d=\"M 0 0 M203.945 18241.3 L228.783 18241.3 L228.783 18245.6 L225.519 18245.6 L225.519 18261.5 Q225.519 18263.2 226.074 18263.9 Q226.653 18264.6 227.926 18264.6 Q228.273 18264.6 228.783 18264.6 Q229.292 18264.5 229.454 18264.5 L229.454 18267.5 Q228.644 18267.8 227.787 18268 Q226.931 18268.1 226.074 18268.1 Q223.297 18268.1 222.232 18266.6 Q221.167 18265.1 221.167 18261 L221.167 18245.6 L211.607 18245.6 L211.607 18267.2 L207.255 18267.2 L207.255 18245.6 L203.945 18245.6 L203.945 18241.3 Z\" fill=\"#000000\" fill-rule=\"evenodd\" fill-opacity=\"1\" /><path clip-path=\"url(#clip400)\" d=\"M 0 0 M152.996 18021.5 L175.218 18021.5 L175.218 18023.4 L162.672 18056 L157.788 18056 L169.593 18025.4 L152.996 18025.4 L152.996 18021.5 Z\" fill=\"#000000\" fill-rule=\"evenodd\" fill-opacity=\"1\" /><path clip-path=\"url(#clip400)\" d=\"M 0 0 M190.288 18024.5 Q186.677 18024.5 184.848 18028.1 Q183.042 18031.6 183.042 18038.8 Q183.042 18045.9 184.848 18049.4 Q186.677 18053 190.288 18053 Q193.922 18053 195.727 18049.4 Q197.556 18045.9 197.556 18038.8 Q197.556 18031.6 195.727 18028.1 Q193.922 18024.5 190.288 18024.5 M190.288 18020.8 Q196.098 18020.8 199.153 18025.4 Q202.232 18030 202.232 18038.8 Q202.232 18047.5 199.153 18052.1 Q196.098 18056.7 190.288 18056.7 Q184.477 18056.7 181.399 18052.1 Q178.343 18047.5 178.343 18038.8 Q178.343 18030 181.399 18025.4 Q184.477 18020.8 190.288 18020.8 Z\" fill=\"#000000\" fill-rule=\"evenodd\" fill-opacity=\"1\" /><path clip-path=\"url(#clip400)\" d=\"M 0 0 M203.945 18030.1 L228.783 18030.1 L228.783 18034.4 L225.519 18034.4 L225.519 18050.3 Q225.519 18051.9 226.074 18052.7 Q226.653 18053.4 227.926 18053.4 Q228.273 18053.4 228.783 18053.4 Q229.292 18053.3 229.454 18053.3 L229.454 18056.3 Q228.644 18056.6 227.787 18056.8 Q226.931 18056.9 226.074 18056.9 Q223.297 18056.9 222.232 18055.4 Q221.167 18053.9 221.167 18049.8 L221.167 18034.4 L211.607 18034.4 L211.607 18056 L207.255 18056 L207.255 18034.4 L203.945 18034.4 L203.945 18030.1 Z\" fill=\"#000000\" fill-rule=\"evenodd\" fill-opacity=\"1\" /><path clip-path=\"url(#clip400)\" d=\"M 0 0 M154.223 17810.3 L176.445 17810.3 L176.445 17812.2 L163.899 17844.8 L159.015 17844.8 L170.82 17814.2 L154.223 17814.2 L154.223 17810.3 Z\" fill=\"#000000\" fill-rule=\"evenodd\" fill-opacity=\"1\" /><path clip-path=\"url(#clip400)\" d=\"M 0 0 M182.325 17840.9 L189.964 17840.9 L189.964 17814.5 L181.653 17816.2 L181.653 17811.9 L189.917 17810.3 L194.593 17810.3 L194.593 17840.9 L202.232 17840.9 L202.232 17844.8 L182.325 17844.8 L182.325 17840.9 Z\" fill=\"#000000\" fill-rule=\"evenodd\" fill-opacity=\"1\" /><path clip-path=\"url(#clip400)\" d=\"M 0 0 M203.945 17818.9 L228.783 17818.9 L228.783 17823.1 L225.519 17823.1 L225.519 17839.1 Q225.519 17840.7 226.074 17841.5 Q226.653 17842.2 227.926 17842.2 Q228.273 17842.2 228.783 17842.1 Q229.292 17842.1 229.454 17842.1 L229.454 17845.1 Q228.644 17845.4 227.787 17845.6 Q226.931 17845.7 226.074 17845.7 Q223.297 17845.7 222.232 17844.2 Q221.167 17842.7 221.167 17838.6 L221.167 17823.1 L211.607 17823.1 L211.607 17844.8 L207.255 17844.8 L207.255 17823.1 L203.945 17823.1 L203.945 17818.9 Z\" fill=\"#000000\" fill-rule=\"evenodd\" fill-opacity=\"1\" /><path clip-path=\"url(#clip400)\" d=\"M 0 0 M154.593 17599 L176.815 17599 L176.815 17601 L164.269 17633.6 L159.385 17633.6 L171.19 17603 L154.593 17603 L154.593 17599 Z\" fill=\"#000000\" fill-rule=\"evenodd\" fill-opacity=\"1\" /><path clip-path=\"url(#clip400)\" d=\"M 0 0 M185.913 17629.7 L202.232 17629.7 L202.232 17633.6 L180.288 17633.6 L180.288 17629.7 Q182.95 17626.9 187.533 17622.3 Q192.139 17617.6 193.32 17616.3 Q195.565 17613.8 196.445 17612 Q197.348 17610.3 197.348 17608.6 Q197.348 17605.8 195.403 17604.1 Q193.482 17602.4 190.38 17602.4 Q188.181 17602.4 185.727 17603.1 Q183.297 17603.9 180.519 17605.4 L180.519 17600.7 Q183.343 17599.6 185.797 17599 Q188.251 17598.4 190.288 17598.4 Q195.658 17598.4 198.852 17601.1 Q202.047 17603.8 202.047 17608.3 Q202.047 17610.4 201.237 17612.3 Q200.45 17614.2 198.343 17616.8 Q197.764 17617.5 194.663 17620.7 Q191.561 17623.9 185.913 17629.7 Z\" fill=\"#000000\" fill-rule=\"evenodd\" fill-opacity=\"1\" /><path clip-path=\"url(#clip400)\" d=\"M 0 0 M203.945 17607.7 L228.783 17607.7 L228.783 17611.9 L225.519 17611.9 L225.519 17627.9 Q225.519 17629.5 226.074 17630.3 Q226.653 17631 227.926 17631 Q228.273 17631 228.783 17630.9 Q229.292 17630.9 229.454 17630.9 L229.454 17633.9 Q228.644 17634.2 227.787 17634.4 Q226.931 17634.5 226.074 17634.5 Q223.297 17634.5 222.232 17633 Q221.167 17631.5 221.167 17627.4 L221.167 17611.9 L211.607 17611.9 L211.607 17633.6 L207.255 17633.6 L207.255 17611.9 L203.945 17611.9 L203.945 17607.7 Z\" fill=\"#000000\" fill-rule=\"evenodd\" fill-opacity=\"1\" /><path clip-path=\"url(#clip400)\" d=\"M 0 0 M153.644 17387.8 L175.866 17387.8 L175.866 17389.8 L163.32 17422.4 L158.436 17422.4 L170.241 17391.8 L153.644 17391.8 L153.644 17387.8 Z\" fill=\"#000000\" fill-rule=\"evenodd\" fill-opacity=\"1\" /><path clip-path=\"url(#clip400)\" d=\"M 0 0 M195.102 17403.8 Q198.459 17404.5 200.334 17406.8 Q202.232 17409 202.232 17412.4 Q202.232 17417.5 198.713 17420.3 Q195.195 17423.1 188.714 17423.1 Q186.538 17423.1 184.223 17422.6 Q181.931 17422.2 179.477 17421.4 L179.477 17416.8 Q181.422 17418 183.737 17418.6 Q186.052 17419.1 188.575 17419.1 Q192.973 17419.1 195.264 17417.4 Q197.579 17415.7 197.579 17412.4 Q197.579 17409.3 195.426 17407.6 Q193.297 17405.8 189.477 17405.8 L185.45 17405.8 L185.45 17402 L189.663 17402 Q193.112 17402 194.94 17400.6 Q196.769 17399.3 196.769 17396.7 Q196.769 17394 194.871 17392.6 Q192.996 17391.1 189.477 17391.1 Q187.556 17391.1 185.357 17391.6 Q183.158 17392 180.519 17392.9 L180.519 17388.7 Q183.181 17388 185.496 17387.6 Q187.834 17387.2 189.894 17387.2 Q195.218 17387.2 198.32 17389.6 Q201.422 17392.1 201.422 17396.2 Q201.422 17399 199.778 17401 Q198.135 17403 195.102 17403.8 Z\" fill=\"#000000\" fill-rule=\"evenodd\" fill-opacity=\"1\" /><path clip-path=\"url(#clip400)\" d=\"M 0 0 M203.945 17396.5 L228.783 17396.5 L228.783 17400.7 L225.519 17400.7 L225.519 17416.7 Q225.519 17418.3 226.074 17419.1 Q226.653 17419.8 227.926 17419.8 Q228.273 17419.8 228.783 17419.7 Q229.292 17419.7 229.454 17419.6 L229.454 17422.7 Q228.644 17423 227.787 17423.2 Q226.931 17423.3 226.074 17423.3 Q223.297 17423.3 222.232 17421.8 Q221.167 17420.3 221.167 17416.2 L221.167 17400.7 L211.607 17400.7 L211.607 17422.4 L207.255 17422.4 L207.255 17400.7 L203.945 17400.7 L203.945 17396.5 Z\" fill=\"#000000\" fill-rule=\"evenodd\" fill-opacity=\"1\" /><path clip-path=\"url(#clip400)\" d=\"M 0 0 M152.51 17176.6 L174.732 17176.6 L174.732 17178.6 L162.186 17211.2 L157.302 17211.2 L169.107 17180.6 L152.51 17180.6 L152.51 17176.6 Z\" fill=\"#000000\" fill-rule=\"evenodd\" fill-opacity=\"1\" /><path clip-path=\"url(#clip400)\" d=\"M 0 0 M192.649 17180.7 L180.843 17199.2 L192.649 17199.2 L192.649 17180.7 M191.422 17176.6 L197.301 17176.6 L197.301 17199.2 L202.232 17199.2 L202.232 17203 L197.301 17203 L197.301 17211.2 L192.649 17211.2 L192.649 17203 L177.047 17203 L177.047 17198.5 L191.422 17176.6 Z\" fill=\"#000000\" fill-rule=\"evenodd\" fill-opacity=\"1\" /><path clip-path=\"url(#clip400)\" d=\"M 0 0 M203.945 17185.3 L228.783 17185.3 L228.783 17189.5 L225.519 17189.5 L225.519 17205.5 Q225.519 17207.1 226.074 17207.9 Q226.653 17208.6 227.926 17208.6 Q228.273 17208.6 228.783 17208.5 Q229.292 17208.5 229.454 17208.4 L229.454 17211.5 Q228.644 17211.8 227.787 17212 Q226.931 17212.1 226.074 17212.1 Q223.297 17212.1 222.232 17210.6 Q221.167 17209.1 221.167 17205 L221.167 17189.5 L211.607 17189.5 L211.607 17211.2 L207.255 17211.2 L207.255 17189.5 L203.945 17189.5 L203.945 17185.3 Z\" fill=\"#000000\" fill-rule=\"evenodd\" fill-opacity=\"1\" /><path clip-path=\"url(#clip400)\" d=\"M 0 0 M153.991 16965.4 L176.214 16965.4 L176.214 16967.4 L163.667 17000 L158.783 17000 L170.589 16969.4 L153.991 16969.4 L153.991 16965.4 Z\" fill=\"#000000\" fill-rule=\"evenodd\" fill-opacity=\"1\" /><path clip-path=\"url(#clip400)\" d=\"M 0 0 M181.329 16965.4 L199.686 16965.4 L199.686 16969.4 L185.612 16969.4 L185.612 16977.8 Q186.63 16977.5 187.649 16977.3 Q188.667 16977.1 189.686 16977.1 Q195.473 16977.1 198.852 16980.3 Q202.232 16983.5 202.232 16988.9 Q202.232 16994.5 198.76 16997.6 Q195.288 17000.7 188.968 17000.7 Q186.792 17000.7 184.524 17000.3 Q182.278 16999.9 179.871 16999.2 L179.871 16994.5 Q181.954 16995.6 184.177 16996.2 Q186.399 16996.7 188.876 16996.7 Q192.88 16996.7 195.218 16994.6 Q197.556 16992.5 197.556 16988.9 Q197.556 16985.3 195.218 16983.2 Q192.88 16981.1 188.876 16981.1 Q187.001 16981.1 185.126 16981.5 Q183.274 16981.9 181.329 16982.8 L181.329 16965.4 Z\" fill=\"#000000\" fill-rule=\"evenodd\" fill-opacity=\"1\" /><path clip-path=\"url(#clip400)\" d=\"M 0 0 M203.945 16974.1 L228.783 16974.1 L228.783 16978.3 L225.519 16978.3 L225.519 16994.2 Q225.519 16995.9 226.074 16996.7 Q226.653 16997.4 227.926 16997.4 Q228.273 16997.4 228.783 16997.3 Q229.292 16997.3 229.454 16997.2 L229.454 17000.3 Q228.644 17000.6 227.787 17000.7 Q226.931 17000.9 226.074 17000.9 Q223.297 17000.9 222.232 16999.4 Q221.167 16997.9 221.167 16993.8 L221.167 16978.3 L211.607 16978.3 L211.607 17000 L207.255 17000 L207.255 16978.3 L203.945 16978.3 L203.945 16974.1 Z\" fill=\"#000000\" fill-rule=\"evenodd\" fill-opacity=\"1\" /><path clip-path=\"url(#clip400)\" d=\"M 0 0 M152.834 16754.2 L175.056 16754.2 L175.056 16756.2 L162.51 16788.8 L157.626 16788.8 L169.431 16758.2 L152.834 16758.2 L152.834 16754.2 Z\" fill=\"#000000\" fill-rule=\"evenodd\" fill-opacity=\"1\" /><path clip-path=\"url(#clip400)\" d=\"M 0 0 M190.704 16769.6 Q187.556 16769.6 185.704 16771.8 Q183.876 16773.9 183.876 16777.7 Q183.876 16781.4 185.704 16783.6 Q187.556 16785.7 190.704 16785.7 Q193.852 16785.7 195.681 16783.6 Q197.533 16781.4 197.533 16777.7 Q197.533 16773.9 195.681 16771.8 Q193.852 16769.6 190.704 16769.6 M199.987 16755 L199.987 16759.2 Q198.227 16758.4 196.422 16758 Q194.639 16757.5 192.88 16757.5 Q188.251 16757.5 185.797 16760.7 Q183.366 16763.8 183.019 16770.1 Q184.385 16768.1 186.445 16767 Q188.505 16765.9 190.982 16765.9 Q196.19 16765.9 199.2 16769.1 Q202.232 16772.3 202.232 16777.7 Q202.232 16783 199.084 16786.2 Q195.936 16789.5 190.704 16789.5 Q184.709 16789.5 181.538 16784.9 Q178.366 16780.3 178.366 16771.5 Q178.366 16763.3 182.255 16758.5 Q186.144 16753.6 192.695 16753.6 Q194.454 16753.6 196.237 16753.9 Q198.042 16754.3 199.987 16755 Z\" fill=\"#000000\" fill-rule=\"evenodd\" fill-opacity=\"1\" /><path clip-path=\"url(#clip400)\" d=\"M 0 0 M203.945 16762.9 L228.783 16762.9 L228.783 16767.1 L225.519 16767.1 L225.519 16783 Q225.519 16784.7 226.074 16785.4 Q226.653 16786.2 227.926 16786.2 Q228.273 16786.2 228.783 16786.1 Q229.292 16786 229.454 16786 L229.454 16789.1 Q228.644 16789.4 227.787 16789.5 Q226.931 16789.7 226.074 16789.7 Q223.297 16789.7 222.232 16788.2 Q221.167 16786.6 221.167 16782.6 L221.167 16767.1 L211.607 16767.1 L211.607 16788.8 L207.255 16788.8 L207.255 16767.1 L203.945 16767.1 L203.945 16762.9 Z\" fill=\"#000000\" fill-rule=\"evenodd\" fill-opacity=\"1\" /><path clip-path=\"url(#clip400)\" d=\"M 0 0 M153.899 16543 L176.121 16543 L176.121 16545 L163.575 16577.6 L158.691 16577.6 L170.496 16546.9 L153.899 16546.9 L153.899 16543 Z\" fill=\"#000000\" fill-rule=\"evenodd\" fill-opacity=\"1\" /><path clip-path=\"url(#clip400)\" d=\"M 0 0 M180.01 16543 L202.232 16543 L202.232 16545 L189.686 16577.6 L184.802 16577.6 L196.607 16546.9 L180.01 16546.9 L180.01 16543 Z\" fill=\"#000000\" fill-rule=\"evenodd\" fill-opacity=\"1\" /><path clip-path=\"url(#clip400)\" d=\"M 0 0 M203.945 16551.6 L228.783 16551.6 L228.783 16555.9 L225.519 16555.9 L225.519 16571.8 Q225.519 16573.5 226.074 16574.2 Q226.653 16575 227.926 16575 Q228.273 16575 228.783 16574.9 Q229.292 16574.8 229.454 16574.8 L229.454 16577.9 Q228.644 16578.2 227.787 16578.3 Q226.931 16578.5 226.074 16578.5 Q223.297 16578.5 222.232 16577 Q221.167 16575.4 221.167 16571.4 L221.167 16555.9 L211.607 16555.9 L211.607 16577.6 L207.255 16577.6 L207.255 16555.9 L203.945 16555.9 L203.945 16551.6 Z\" fill=\"#000000\" fill-rule=\"evenodd\" fill-opacity=\"1\" /><path clip-path=\"url(#clip400)\" d=\"M 0 0 M153.089 16331.8 L175.311 16331.8 L175.311 16333.8 L162.765 16366.4 L157.88 16366.4 L169.686 16335.7 L153.089 16335.7 L153.089 16331.8 Z\" fill=\"#000000\" fill-rule=\"evenodd\" fill-opacity=\"1\" /><path clip-path=\"url(#clip400)\" d=\"M 0 0 M190.38 16350 Q187.047 16350 185.126 16351.7 Q183.227 16353.5 183.227 16356.6 Q183.227 16359.8 185.126 16361.6 Q187.047 16363.3 190.38 16363.3 Q193.713 16363.3 195.635 16361.6 Q197.556 16359.7 197.556 16356.6 Q197.556 16353.5 195.635 16351.7 Q193.737 16350 190.38 16350 M185.704 16348 Q182.695 16347.2 181.005 16345.2 Q179.339 16343.1 179.339 16340.1 Q179.339 16336 182.278 16333.6 Q185.241 16331.2 190.38 16331.2 Q195.542 16331.2 198.482 16333.6 Q201.422 16336 201.422 16340.1 Q201.422 16343.1 199.732 16345.2 Q198.065 16347.2 195.079 16348 Q198.459 16348.8 200.334 16351 Q202.232 16353.3 202.232 16356.6 Q202.232 16361.7 199.153 16364.4 Q196.098 16367 190.38 16367 Q184.663 16367 181.584 16364.4 Q178.528 16361.7 178.528 16356.6 Q178.528 16353.3 180.427 16351 Q182.325 16348.8 185.704 16348 M183.991 16340.6 Q183.991 16343.3 185.658 16344.8 Q187.348 16346.3 190.38 16346.3 Q193.389 16346.3 195.079 16344.8 Q196.792 16343.3 196.792 16340.6 Q196.792 16337.9 195.079 16336.4 Q193.389 16334.9 190.38 16334.9 Q187.348 16334.9 185.658 16336.4 Q183.991 16337.9 183.991 16340.6 Z\" fill=\"#000000\" fill-rule=\"evenodd\" fill-opacity=\"1\" /><path clip-path=\"url(#clip400)\" d=\"M 0 0 M203.945 16340.4 L228.783 16340.4 L228.783 16344.7 L225.519 16344.7 L225.519 16360.6 Q225.519 16362.3 226.074 16363 Q226.653 16363.8 227.926 16363.8 Q228.273 16363.8 228.783 16363.7 Q229.292 16363.6 229.454 16363.6 L229.454 16366.7 Q228.644 16367 227.787 16367.1 Q226.931 16367.3 226.074 16367.3 Q223.297 16367.3 222.232 16365.8 Q221.167 16364.2 221.167 16360.2 L221.167 16344.7 L211.607 16344.7 L211.607 16366.4 L207.255 16366.4 L207.255 16344.7 L203.945 16344.7 L203.945 16340.4 Z\" fill=\"#000000\" fill-rule=\"evenodd\" fill-opacity=\"1\" /><path clip-path=\"url(#clip400)\" d=\"M 0 0 M153.181 16120.6 L175.403 16120.6 L175.403 16122.6 L162.857 16155.2 L157.973 16155.2 L169.778 16124.5 L153.181 16124.5 L153.181 16120.6 Z\" fill=\"#000000\" fill-rule=\"evenodd\" fill-opacity=\"1\" /><path clip-path=\"url(#clip400)\" d=\"M 0 0 M180.612 16154.4 L180.612 16150.2 Q182.371 16151 184.177 16151.5 Q185.982 16151.9 187.718 16151.9 Q192.348 16151.9 194.778 16148.8 Q197.232 16145.7 197.579 16139.3 Q196.237 16141.3 194.176 16142.4 Q192.116 16143.4 189.616 16143.4 Q184.431 16143.4 181.399 16140.3 Q178.39 16137.2 178.39 16131.7 Q178.39 16126.4 181.538 16123.2 Q184.686 16120 189.917 16120 Q195.913 16120 199.061 16124.6 Q202.232 16129.2 202.232 16137.9 Q202.232 16146.1 198.343 16151 Q194.477 16155.8 187.926 16155.8 Q186.167 16155.8 184.362 16155.5 Q182.556 16155.1 180.612 16154.4 M189.917 16139.8 Q193.065 16139.8 194.894 16137.6 Q196.746 16135.5 196.746 16131.7 Q196.746 16128 194.894 16125.9 Q193.065 16123.7 189.917 16123.7 Q186.769 16123.7 184.917 16125.9 Q183.089 16128 183.089 16131.7 Q183.089 16135.5 184.917 16137.6 Q186.769 16139.8 189.917 16139.8 Z\" fill=\"#000000\" fill-rule=\"evenodd\" fill-opacity=\"1\" /><path clip-path=\"url(#clip400)\" d=\"M 0 0 M203.945 16129.2 L228.783 16129.2 L228.783 16133.5 L225.519 16133.5 L225.519 16149.4 Q225.519 16151.1 226.074 16151.8 Q226.653 16152.5 227.926 16152.5 Q228.273 16152.5 228.783 16152.5 Q229.292 16152.4 229.454 16152.4 L229.454 16155.5 Q228.644 16155.8 227.787 16155.9 Q226.931 16156.1 226.074 16156.1 Q223.297 16156.1 222.232 16154.6 Q221.167 16153 221.167 16149 L221.167 16133.5 L211.607 16133.5 L211.607 16155.2 L207.255 16155.2 L207.255 16133.5 L203.945 16133.5 L203.945 16129.2 Z\" fill=\"#000000\" fill-rule=\"evenodd\" fill-opacity=\"1\" /><path clip-path=\"url(#clip400)\" d=\"M 0 0 M163.366 15927.5 Q160.033 15927.5 158.112 15929.3 Q156.214 15931.1 156.214 15934.2 Q156.214 15937.4 158.112 15939.1 Q160.033 15940.9 163.366 15940.9 Q166.7 15940.9 168.621 15939.1 Q170.542 15937.3 170.542 15934.2 Q170.542 15931.1 168.621 15929.3 Q166.723 15927.5 163.366 15927.5 M158.691 15925.6 Q155.681 15924.8 153.991 15922.7 Q152.325 15920.7 152.325 15917.7 Q152.325 15913.6 155.265 15911.2 Q158.228 15908.8 163.366 15908.8 Q168.528 15908.8 171.468 15911.2 Q174.408 15913.6 174.408 15917.7 Q174.408 15920.7 172.718 15922.7 Q171.052 15924.8 168.065 15925.6 Q171.445 15926.3 173.32 15928.6 Q175.218 15930.9 175.218 15934.2 Q175.218 15939.3 172.14 15941.9 Q169.084 15944.6 163.366 15944.6 Q157.649 15944.6 154.57 15941.9 Q151.515 15939.3 151.515 15934.2 Q151.515 15930.9 153.413 15928.6 Q155.311 15926.3 158.691 15925.6 M156.978 15918.2 Q156.978 15920.9 158.644 15922.4 Q160.334 15923.9 163.366 15923.9 Q166.376 15923.9 168.065 15922.4 Q169.778 15920.9 169.778 15918.2 Q169.778 15915.5 168.065 15914 Q166.376 15912.5 163.366 15912.5 Q160.334 15912.5 158.644 15914 Q156.978 15915.5 156.978 15918.2 Z\" fill=\"#000000\" fill-rule=\"evenodd\" fill-opacity=\"1\" /><path clip-path=\"url(#clip400)\" d=\"M 0 0 M190.288 15912.5 Q186.677 15912.5 184.848 15916 Q183.042 15919.6 183.042 15926.7 Q183.042 15933.8 184.848 15937.4 Q186.677 15940.9 190.288 15940.9 Q193.922 15940.9 195.727 15937.4 Q197.556 15933.8 197.556 15926.7 Q197.556 15919.6 195.727 15916 Q193.922 15912.5 190.288 15912.5 M190.288 15908.8 Q196.098 15908.8 199.153 15913.4 Q202.232 15918 202.232 15926.7 Q202.232 15935.4 199.153 15940 Q196.098 15944.6 190.288 15944.6 Q184.477 15944.6 181.399 15940 Q178.343 15935.4 178.343 15926.7 Q178.343 15918 181.399 15913.4 Q184.477 15908.8 190.288 15908.8 Z\" fill=\"#000000\" fill-rule=\"evenodd\" fill-opacity=\"1\" /><path clip-path=\"url(#clip400)\" d=\"M 0 0 M203.945 15918 L228.783 15918 L228.783 15922.3 L225.519 15922.3 L225.519 15938.2 Q225.519 15939.9 226.074 15940.6 Q226.653 15941.3 227.926 15941.3 Q228.273 15941.3 228.783 15941.3 Q229.292 15941.2 229.454 15941.2 L229.454 15944.3 Q228.644 15944.6 227.787 15944.7 Q226.931 15944.9 226.074 15944.9 Q223.297 15944.9 222.232 15943.4 Q221.167 15941.8 221.167 15937.7 L221.167 15922.3 L211.607 15922.3 L211.607 15944 L207.255 15944 L207.255 15922.3 L203.945 15922.3 L203.945 15918 Z\" fill=\"#000000\" fill-rule=\"evenodd\" fill-opacity=\"1\" /><path clip-path=\"url(#clip400)\" d=\"M 0 0 M164.593 15716.3 Q161.26 15716.3 159.339 15718.1 Q157.441 15719.9 157.441 15723 Q157.441 15726.1 159.339 15727.9 Q161.26 15729.7 164.593 15729.7 Q167.927 15729.7 169.848 15727.9 Q171.769 15726.1 171.769 15723 Q171.769 15719.9 169.848 15718.1 Q167.95 15716.3 164.593 15716.3 M159.917 15714.3 Q156.908 15713.6 155.218 15711.5 Q153.552 15709.5 153.552 15706.5 Q153.552 15702.4 156.491 15700 Q159.454 15697.6 164.593 15697.6 Q169.755 15697.6 172.695 15700 Q175.635 15702.4 175.635 15706.5 Q175.635 15709.5 173.945 15711.5 Q172.278 15713.6 169.292 15714.3 Q172.672 15715.1 174.547 15717.4 Q176.445 15719.7 176.445 15723 Q176.445 15728 173.366 15730.7 Q170.311 15733.4 164.593 15733.4 Q158.876 15733.4 155.797 15730.7 Q152.741 15728 152.741 15723 Q152.741 15719.7 154.64 15717.4 Q156.538 15715.1 159.917 15714.3 M158.204 15707 Q158.204 15709.6 159.871 15711.1 Q161.561 15712.7 164.593 15712.7 Q167.603 15712.7 169.292 15711.1 Q171.005 15709.6 171.005 15707 Q171.005 15704.3 169.292 15702.8 Q167.603 15701.3 164.593 15701.3 Q161.561 15701.3 159.871 15702.8 Q158.204 15704.3 158.204 15707 Z\" fill=\"#000000\" fill-rule=\"evenodd\" fill-opacity=\"1\" /><path clip-path=\"url(#clip400)\" d=\"M 0 0 M182.325 15728.8 L189.964 15728.8 L189.964 15702.4 L181.653 15704.1 L181.653 15699.9 L189.917 15698.2 L194.593 15698.2 L194.593 15728.8 L202.232 15728.8 L202.232 15732.7 L182.325 15732.7 L182.325 15728.8 Z\" fill=\"#000000\" fill-rule=\"evenodd\" fill-opacity=\"1\" /><path clip-path=\"url(#clip400)\" d=\"M 0 0 M203.945 15706.8 L228.783 15706.8 L228.783 15711.1 L225.519 15711.1 L225.519 15727 Q225.519 15728.7 226.074 15729.4 Q226.653 15730.1 227.926 15730.1 Q228.273 15730.1 228.783 15730.1 Q229.292 15730 229.454 15730 L229.454 15733.1 Q228.644 15733.4 227.787 15733.5 Q226.931 15733.6 226.074 15733.6 Q223.297 15733.6 222.232 15732.1 Q221.167 15730.6 221.167 15726.5 L221.167 15711.1 L211.607 15711.1 L211.607 15732.7 L207.255 15732.7 L207.255 15711.1 L203.945 15711.1 L203.945 15706.8 Z\" fill=\"#000000\" fill-rule=\"evenodd\" fill-opacity=\"1\" /><path clip-path=\"url(#clip400)\" d=\"M 0 0 M164.964 15505.1 Q161.63 15505.1 159.709 15506.9 Q157.811 15508.7 157.811 15511.8 Q157.811 15514.9 159.709 15516.7 Q161.63 15518.5 164.964 15518.5 Q168.297 15518.5 170.218 15516.7 Q172.14 15514.9 172.14 15511.8 Q172.14 15508.7 170.218 15506.9 Q168.32 15505.1 164.964 15505.1 M160.288 15503.1 Q157.279 15502.4 155.589 15500.3 Q153.922 15498.3 153.922 15495.3 Q153.922 15491.2 156.862 15488.8 Q159.825 15486.4 164.964 15486.4 Q170.126 15486.4 173.065 15488.8 Q176.005 15491.2 176.005 15495.3 Q176.005 15498.3 174.315 15500.3 Q172.649 15502.4 169.663 15503.1 Q173.042 15503.9 174.917 15506.2 Q176.815 15508.5 176.815 15511.8 Q176.815 15516.8 173.737 15519.5 Q170.681 15522.2 164.964 15522.2 Q159.246 15522.2 156.167 15519.5 Q153.112 15516.8 153.112 15511.8 Q153.112 15508.5 155.01 15506.2 Q156.908 15503.9 160.288 15503.1 M158.575 15495.8 Q158.575 15498.4 160.241 15499.9 Q161.931 15501.4 164.964 15501.4 Q167.973 15501.4 169.663 15499.9 Q171.376 15498.4 171.376 15495.8 Q171.376 15493.1 169.663 15491.6 Q167.973 15490.1 164.964 15490.1 Q161.931 15490.1 160.241 15491.6 Q158.575 15493.1 158.575 15495.8 Z\" fill=\"#000000\" fill-rule=\"evenodd\" fill-opacity=\"1\" /><path clip-path=\"url(#clip400)\" d=\"M 0 0 M185.913 15517.6 L202.232 15517.6 L202.232 15521.5 L180.288 15521.5 L180.288 15517.6 Q182.95 15514.9 187.533 15510.2 Q192.139 15505.6 193.32 15504.2 Q195.565 15501.7 196.445 15500 Q197.348 15498.2 197.348 15496.5 Q197.348 15493.8 195.403 15492 Q193.482 15490.3 190.38 15490.3 Q188.181 15490.3 185.727 15491.1 Q183.297 15491.8 180.519 15493.4 L180.519 15488.6 Q183.343 15487.5 185.797 15486.9 Q188.251 15486.4 190.288 15486.4 Q195.658 15486.4 198.852 15489 Q202.047 15491.7 202.047 15496.2 Q202.047 15498.3 201.237 15500.3 Q200.45 15502.2 198.343 15504.8 Q197.764 15505.4 194.663 15508.6 Q191.561 15511.8 185.913 15517.6 Z\" fill=\"#000000\" fill-rule=\"evenodd\" fill-opacity=\"1\" /><path clip-path=\"url(#clip400)\" d=\"M 0 0 M203.945 15495.6 L228.783 15495.6 L228.783 15499.9 L225.519 15499.9 L225.519 15515.8 Q225.519 15517.5 226.074 15518.2 Q226.653 15518.9 227.926 15518.9 Q228.273 15518.9 228.783 15518.9 Q229.292 15518.8 229.454 15518.8 L229.454 15521.9 Q228.644 15522.2 227.787 15522.3 Q226.931 15522.4 226.074 15522.4 Q223.297 15522.4 222.232 15520.9 Q221.167 15519.4 221.167 15515.3 L221.167 15499.9 L211.607 15499.9 L211.607 15521.5 L207.255 15521.5 L207.255 15499.9 L203.945 15499.9 L203.945 15495.6 Z\" fill=\"#000000\" fill-rule=\"evenodd\" fill-opacity=\"1\" /><path clip-path=\"url(#clip400)\" d=\"M 0 0 M164.015 15293.9 Q160.681 15293.9 158.76 15295.7 Q156.862 15297.5 156.862 15300.6 Q156.862 15303.7 158.76 15305.5 Q160.681 15307.3 164.015 15307.3 Q167.348 15307.3 169.269 15305.5 Q171.19 15303.7 171.19 15300.6 Q171.19 15297.5 169.269 15295.7 Q167.371 15293.9 164.015 15293.9 M159.339 15291.9 Q156.329 15291.2 154.64 15289.1 Q152.973 15287.1 152.973 15284.1 Q152.973 15280 155.913 15277.6 Q158.876 15275.1 164.015 15275.1 Q169.177 15275.1 172.116 15277.6 Q175.056 15280 175.056 15284.1 Q175.056 15287.1 173.366 15289.1 Q171.7 15291.2 168.714 15291.9 Q172.093 15292.7 173.968 15295 Q175.866 15297.3 175.866 15300.6 Q175.866 15305.6 172.788 15308.3 Q169.732 15311 164.015 15311 Q158.297 15311 155.218 15308.3 Q152.163 15305.6 152.163 15300.6 Q152.163 15297.3 154.061 15295 Q155.959 15292.7 159.339 15291.9 M157.626 15284.5 Q157.626 15287.2 159.292 15288.7 Q160.982 15290.2 164.015 15290.2 Q167.024 15290.2 168.714 15288.7 Q170.427 15287.2 170.427 15284.5 Q170.427 15281.9 168.714 15280.4 Q167.024 15278.9 164.015 15278.9 Q160.982 15278.9 159.292 15280.4 Q157.626 15281.9 157.626 15284.5 Z\" fill=\"#000000\" fill-rule=\"evenodd\" fill-opacity=\"1\" /><path clip-path=\"url(#clip400)\" d=\"M 0 0 M195.102 15291.7 Q198.459 15292.4 200.334 15294.7 Q202.232 15297 202.232 15300.3 Q202.232 15305.4 198.713 15308.2 Q195.195 15311 188.714 15311 Q186.538 15311 184.223 15310.6 Q181.931 15310.1 179.477 15309.3 L179.477 15304.8 Q181.422 15305.9 183.737 15306.5 Q186.052 15307.1 188.575 15307.1 Q192.973 15307.1 195.264 15305.3 Q197.579 15303.6 197.579 15300.3 Q197.579 15297.2 195.426 15295.5 Q193.297 15293.8 189.477 15293.8 L185.45 15293.8 L185.45 15289.9 L189.663 15289.9 Q193.112 15289.9 194.94 15288.6 Q196.769 15287.2 196.769 15284.6 Q196.769 15281.9 194.871 15280.5 Q192.996 15279.1 189.477 15279.1 Q187.556 15279.1 185.357 15279.5 Q183.158 15279.9 180.519 15280.8 L180.519 15276.6 Q183.181 15275.9 185.496 15275.5 Q187.834 15275.1 189.894 15275.1 Q195.218 15275.1 198.32 15277.6 Q201.422 15280 201.422 15284.1 Q201.422 15287 199.778 15289 Q198.135 15290.9 195.102 15291.7 Z\" fill=\"#000000\" fill-rule=\"evenodd\" fill-opacity=\"1\" /><path clip-path=\"url(#clip400)\" d=\"M 0 0 M203.945 15284.4 L228.783 15284.4 L228.783 15288.7 L225.519 15288.7 L225.519 15304.6 Q225.519 15306.3 226.074 15307 Q226.653 15307.7 227.926 15307.7 Q228.273 15307.7 228.783 15307.7 Q229.292 15307.6 229.454 15307.6 L229.454 15310.7 Q228.644 15311 227.787 15311.1 Q226.931 15311.2 226.074 15311.2 Q223.297 15311.2 222.232 15309.7 Q221.167 15308.2 221.167 15304.1 L221.167 15288.7 L211.607 15288.7 L211.607 15310.3 L207.255 15310.3 L207.255 15288.7 L203.945 15288.7 L203.945 15284.4 Z\" fill=\"#000000\" fill-rule=\"evenodd\" fill-opacity=\"1\" /><path clip-path=\"url(#clip400)\" d=\"M 0 0 M162.88 15082.7 Q159.547 15082.7 157.626 15084.5 Q155.728 15086.3 155.728 15089.4 Q155.728 15092.5 157.626 15094.3 Q159.547 15096.1 162.88 15096.1 Q166.214 15096.1 168.135 15094.3 Q170.056 15092.5 170.056 15089.4 Q170.056 15086.3 168.135 15084.5 Q166.237 15082.7 162.88 15082.7 M158.204 15080.7 Q155.195 15080 153.505 15077.9 Q151.839 15075.9 151.839 15072.9 Q151.839 15068.8 154.779 15066.3 Q157.741 15063.9 162.88 15063.9 Q168.042 15063.9 170.982 15066.3 Q173.922 15068.8 173.922 15072.9 Q173.922 15075.9 172.232 15077.9 Q170.565 15080 167.579 15080.7 Q170.959 15081.5 172.834 15083.8 Q174.732 15086.1 174.732 15089.4 Q174.732 15094.4 171.653 15097.1 Q168.598 15099.8 162.88 15099.8 Q157.163 15099.8 154.084 15097.1 Q151.029 15094.4 151.029 15089.4 Q151.029 15086.1 152.927 15083.8 Q154.825 15081.5 158.204 15080.7 M156.491 15073.3 Q156.491 15076 158.158 15077.5 Q159.848 15079 162.88 15079 Q165.89 15079 167.579 15077.5 Q169.292 15076 169.292 15073.3 Q169.292 15070.7 167.579 15069.2 Q165.89 15067.6 162.88 15067.6 Q159.848 15067.6 158.158 15069.2 Q156.491 15070.7 156.491 15073.3 Z\" fill=\"#000000\" fill-rule=\"evenodd\" fill-opacity=\"1\" /><path clip-path=\"url(#clip400)\" d=\"M 0 0 M192.649 15068.6 L180.843 15087.1 L192.649 15087.1 L192.649 15068.6 M191.422 15064.6 L197.301 15064.6 L197.301 15087.1 L202.232 15087.1 L202.232 15091 L197.301 15091 L197.301 15099.1 L192.649 15099.1 L192.649 15091 L177.047 15091 L177.047 15086.5 L191.422 15064.6 Z\" fill=\"#000000\" fill-rule=\"evenodd\" fill-opacity=\"1\" /><path clip-path=\"url(#clip400)\" d=\"M 0 0 M203.945 15073.2 L228.783 15073.2 L228.783 15077.5 L225.519 15077.5 L225.519 15093.4 Q225.519 15095.1 226.074 15095.8 Q226.653 15096.5 227.926 15096.5 Q228.273 15096.5 228.783 15096.5 Q229.292 15096.4 229.454 15096.4 L229.454 15099.5 Q228.644 15099.8 227.787 15099.9 Q226.931 15100 226.074 15100 Q223.297 15100 222.232 15098.5 Q221.167 15097 221.167 15092.9 L221.167 15077.5 L211.607 15077.5 L211.607 15099.1 L207.255 15099.1 L207.255 15077.5 L203.945 15077.5 L203.945 15073.2 Z\" fill=\"#000000\" fill-rule=\"evenodd\" fill-opacity=\"1\" /><path clip-path=\"url(#clip400)\" d=\"M 0 0 M164.362 14871.5 Q161.028 14871.5 159.107 14873.3 Q157.209 14875.1 157.209 14878.2 Q157.209 14881.3 159.107 14883.1 Q161.028 14884.9 164.362 14884.9 Q167.695 14884.9 169.616 14883.1 Q171.538 14881.3 171.538 14878.2 Q171.538 14875.1 169.616 14873.3 Q167.718 14871.5 164.362 14871.5 M159.686 14869.5 Q156.677 14868.8 154.987 14866.7 Q153.32 14864.7 153.32 14861.7 Q153.32 14857.6 156.26 14855.1 Q159.223 14852.7 164.362 14852.7 Q169.524 14852.7 172.464 14855.1 Q175.403 14857.6 175.403 14861.7 Q175.403 14864.7 173.714 14866.7 Q172.047 14868.8 169.061 14869.5 Q172.44 14870.3 174.315 14872.6 Q176.214 14874.9 176.214 14878.2 Q176.214 14883.2 173.135 14885.9 Q170.079 14888.6 164.362 14888.6 Q158.644 14888.6 155.566 14885.9 Q152.51 14883.2 152.51 14878.2 Q152.51 14874.9 154.408 14872.6 Q156.306 14870.3 159.686 14869.5 M157.973 14862.1 Q157.973 14864.8 159.64 14866.3 Q161.329 14867.8 164.362 14867.8 Q167.371 14867.8 169.061 14866.3 Q170.774 14864.8 170.774 14862.1 Q170.774 14859.4 169.061 14857.9 Q167.371 14856.4 164.362 14856.4 Q161.329 14856.4 159.64 14857.9 Q157.973 14859.4 157.973 14862.1 Z\" fill=\"#000000\" fill-rule=\"evenodd\" fill-opacity=\"1\" /><path clip-path=\"url(#clip400)\" d=\"M 0 0 M181.329 14853.4 L199.686 14853.4 L199.686 14857.3 L185.612 14857.3 L185.612 14865.8 Q186.63 14865.4 187.649 14865.3 Q188.667 14865.1 189.686 14865.1 Q195.473 14865.1 198.852 14868.2 Q202.232 14871.4 202.232 14876.8 Q202.232 14882.4 198.76 14885.5 Q195.288 14888.6 188.968 14888.6 Q186.792 14888.6 184.524 14888.2 Q182.278 14887.9 179.871 14887.1 L179.871 14882.4 Q181.954 14883.5 184.177 14884.1 Q186.399 14884.7 188.876 14884.7 Q192.88 14884.7 195.218 14882.6 Q197.556 14880.4 197.556 14876.8 Q197.556 14873.2 195.218 14871.1 Q192.88 14869 188.876 14869 Q187.001 14869 185.126 14869.4 Q183.274 14869.8 181.329 14870.7 L181.329 14853.4 Z\" fill=\"#000000\" fill-rule=\"evenodd\" fill-opacity=\"1\" /><path clip-path=\"url(#clip400)\" d=\"M 0 0 M203.945 14862 L228.783 14862 L228.783 14866.3 L225.519 14866.3 L225.519 14882.2 Q225.519 14883.8 226.074 14884.6 Q226.653 14885.3 227.926 14885.3 Q228.273 14885.3 228.783 14885.3 Q229.292 14885.2 229.454 14885.2 L229.454 14888.2 Q228.644 14888.5 227.787 14888.7 Q226.931 14888.8 226.074 14888.8 Q223.297 14888.8 222.232 14887.3 Q221.167 14885.8 221.167 14881.7 L221.167 14866.3 L211.607 14866.3 L211.607 14887.9 L207.255 14887.9 L207.255 14866.3 L203.945 14866.3 L203.945 14862 Z\" fill=\"#000000\" fill-rule=\"evenodd\" fill-opacity=\"1\" /><path clip-path=\"url(#clip400)\" d=\"M 0 0 M163.204 14660.3 Q159.871 14660.3 157.95 14662.1 Q156.052 14663.9 156.052 14667 Q156.052 14670.1 157.95 14671.9 Q159.871 14673.7 163.204 14673.7 Q166.538 14673.7 168.459 14671.9 Q170.38 14670.1 170.38 14667 Q170.38 14663.9 168.459 14662.1 Q166.561 14660.3 163.204 14660.3 M158.529 14658.3 Q155.519 14657.6 153.829 14655.5 Q152.163 14653.5 152.163 14650.5 Q152.163 14646.3 155.103 14643.9 Q158.066 14641.5 163.204 14641.5 Q168.366 14641.5 171.306 14643.9 Q174.246 14646.3 174.246 14650.5 Q174.246 14653.5 172.556 14655.5 Q170.89 14657.6 167.903 14658.3 Q171.283 14659.1 173.158 14661.4 Q175.056 14663.7 175.056 14667 Q175.056 14672 171.978 14674.7 Q168.922 14677.4 163.204 14677.4 Q157.487 14677.4 154.408 14674.7 Q151.353 14672 151.353 14667 Q151.353 14663.7 153.251 14661.4 Q155.149 14659.1 158.529 14658.3 M156.816 14650.9 Q156.816 14653.6 158.482 14655.1 Q160.172 14656.6 163.204 14656.6 Q166.214 14656.6 167.903 14655.1 Q169.616 14653.6 169.616 14650.9 Q169.616 14648.2 167.903 14646.7 Q166.214 14645.2 163.204 14645.2 Q160.172 14645.2 158.482 14646.7 Q156.816 14648.2 156.816 14650.9 Z\" fill=\"#000000\" fill-rule=\"evenodd\" fill-opacity=\"1\" /><path clip-path=\"url(#clip400)\" d=\"M 0 0 M190.704 14657.6 Q187.556 14657.6 185.704 14659.7 Q183.876 14661.9 183.876 14665.6 Q183.876 14669.4 185.704 14671.5 Q187.556 14673.7 190.704 14673.7 Q193.852 14673.7 195.681 14671.5 Q197.533 14669.4 197.533 14665.6 Q197.533 14661.9 195.681 14659.7 Q193.852 14657.6 190.704 14657.6 M199.987 14642.9 L199.987 14647.2 Q198.227 14646.3 196.422 14645.9 Q194.639 14645.5 192.88 14645.5 Q188.251 14645.5 185.797 14648.6 Q183.366 14651.7 183.019 14658 Q184.385 14656 186.445 14655 Q188.505 14653.9 190.982 14653.9 Q196.19 14653.9 199.2 14657 Q202.232 14660.2 202.232 14665.6 Q202.232 14671 199.084 14674.2 Q195.936 14677.4 190.704 14677.4 Q184.709 14677.4 181.538 14672.8 Q178.366 14668.2 178.366 14659.5 Q178.366 14651.3 182.255 14646.4 Q186.144 14641.5 192.695 14641.5 Q194.454 14641.5 196.237 14641.9 Q198.042 14642.2 199.987 14642.9 Z\" fill=\"#000000\" fill-rule=\"evenodd\" fill-opacity=\"1\" /><path clip-path=\"url(#clip400)\" d=\"M 0 0 M203.945 14650.8 L228.783 14650.8 L228.783 14655 L225.519 14655 L225.519 14671 Q225.519 14672.6 226.074 14673.4 Q226.653 14674.1 227.926 14674.1 Q228.273 14674.1 228.783 14674.1 Q229.292 14674 229.454 14674 L229.454 14677 Q228.644 14677.3 227.787 14677.5 Q226.931 14677.6 226.074 14677.6 Q223.297 14677.6 222.232 14676.1 Q221.167 14674.6 221.167 14670.5 L221.167 14655 L211.607 14655 L211.607 14676.7 L207.255 14676.7 L207.255 14655 L203.945 14655 L203.945 14650.8 Z\" fill=\"#000000\" fill-rule=\"evenodd\" fill-opacity=\"1\" /><path clip-path=\"url(#clip400)\" d=\"M 0 0 M164.269 14449.1 Q160.936 14449.1 159.015 14450.9 Q157.116 14452.7 157.116 14455.8 Q157.116 14458.9 159.015 14460.7 Q160.936 14462.5 164.269 14462.5 Q167.603 14462.5 169.524 14460.7 Q171.445 14458.9 171.445 14455.8 Q171.445 14452.7 169.524 14450.9 Q167.626 14449.1 164.269 14449.1 M159.593 14447.1 Q156.584 14446.4 154.894 14444.3 Q153.228 14442.2 153.228 14439.3 Q153.228 14435.1 156.167 14432.7 Q159.13 14430.3 164.269 14430.3 Q169.431 14430.3 172.371 14432.7 Q175.311 14435.1 175.311 14439.3 Q175.311 14442.2 173.621 14444.3 Q171.954 14446.4 168.968 14447.1 Q172.348 14447.9 174.223 14450.2 Q176.121 14452.5 176.121 14455.8 Q176.121 14460.8 173.042 14463.5 Q169.987 14466.2 164.269 14466.2 Q158.552 14466.2 155.473 14463.5 Q152.417 14460.8 152.417 14455.8 Q152.417 14452.5 154.316 14450.2 Q156.214 14447.9 159.593 14447.1 M157.88 14439.7 Q157.88 14442.4 159.547 14443.9 Q161.237 14445.4 164.269 14445.4 Q167.278 14445.4 168.968 14443.9 Q170.681 14442.4 170.681 14439.7 Q170.681 14437 168.968 14435.5 Q167.278 14434 164.269 14434 Q161.237 14434 159.547 14435.5 Q157.88 14437 157.88 14439.7 Z\" fill=\"#000000\" fill-rule=\"evenodd\" fill-opacity=\"1\" /><path clip-path=\"url(#clip400)\" d=\"M 0 0 M180.01 14430.9 L202.232 14430.9 L202.232 14432.9 L189.686 14465.5 L184.802 14465.5 L196.607 14434.9 L180.01 14434.9 L180.01 14430.9 Z\" fill=\"#000000\" fill-rule=\"evenodd\" fill-opacity=\"1\" /><path clip-path=\"url(#clip400)\" d=\"M 0 0 M203.945 14439.6 L228.783 14439.6 L228.783 14443.8 L225.519 14443.8 L225.519 14459.8 Q225.519 14461.4 226.074 14462.2 Q226.653 14462.9 227.926 14462.9 Q228.273 14462.9 228.783 14462.8 Q229.292 14462.8 229.454 14462.8 L229.454 14465.8 Q228.644 14466.1 227.787 14466.3 Q226.931 14466.4 226.074 14466.4 Q223.297 14466.4 222.232 14464.9 Q221.167 14463.4 221.167 14459.3 L221.167 14443.8 L211.607 14443.8 L211.607 14465.5 L207.255 14465.5 L207.255 14443.8 L203.945 14443.8 L203.945 14439.6 Z\" fill=\"#000000\" fill-rule=\"evenodd\" fill-opacity=\"1\" /><path clip-path=\"url(#clip400)\" d=\"M 0 0 M163.459 14237.9 Q160.126 14237.9 158.204 14239.7 Q156.306 14241.5 156.306 14244.6 Q156.306 14247.7 158.204 14249.5 Q160.126 14251.3 163.459 14251.3 Q166.792 14251.3 168.714 14249.5 Q170.635 14247.7 170.635 14244.6 Q170.635 14241.5 168.714 14239.7 Q166.815 14237.9 163.459 14237.9 M158.783 14235.9 Q155.774 14235.2 154.084 14233.1 Q152.417 14231 152.417 14228.1 Q152.417 14223.9 155.357 14221.5 Q158.32 14219.1 163.459 14219.1 Q168.621 14219.1 171.561 14221.5 Q174.501 14223.9 174.501 14228.1 Q174.501 14231 172.811 14233.1 Q171.144 14235.2 168.158 14235.9 Q171.538 14236.7 173.413 14239 Q175.311 14241.3 175.311 14244.6 Q175.311 14249.6 172.232 14252.3 Q169.177 14255 163.459 14255 Q157.741 14255 154.663 14252.3 Q151.607 14249.6 151.607 14244.6 Q151.607 14241.3 153.505 14239 Q155.404 14236.7 158.783 14235.9 M157.07 14228.5 Q157.07 14231.2 158.737 14232.7 Q160.427 14234.2 163.459 14234.2 Q166.468 14234.2 168.158 14232.7 Q169.871 14231.2 169.871 14228.5 Q169.871 14225.8 168.158 14224.3 Q166.468 14222.8 163.459 14222.8 Q160.427 14222.8 158.737 14224.3 Q157.07 14225.8 157.07 14228.5 Z\" fill=\"#000000\" fill-rule=\"evenodd\" fill-opacity=\"1\" /><path clip-path=\"url(#clip400)\" d=\"M 0 0 M190.38 14237.9 Q187.047 14237.9 185.126 14239.7 Q183.227 14241.5 183.227 14244.6 Q183.227 14247.7 185.126 14249.5 Q187.047 14251.3 190.38 14251.3 Q193.713 14251.3 195.635 14249.5 Q197.556 14247.7 197.556 14244.6 Q197.556 14241.5 195.635 14239.7 Q193.737 14237.9 190.38 14237.9 M185.704 14235.9 Q182.695 14235.2 181.005 14233.1 Q179.339 14231 179.339 14228.1 Q179.339 14223.9 182.278 14221.5 Q185.241 14219.1 190.38 14219.1 Q195.542 14219.1 198.482 14221.5 Q201.422 14223.9 201.422 14228.1 Q201.422 14231 199.732 14233.1 Q198.065 14235.2 195.079 14235.9 Q198.459 14236.7 200.334 14239 Q202.232 14241.3 202.232 14244.6 Q202.232 14249.6 199.153 14252.3 Q196.098 14255 190.38 14255 Q184.663 14255 181.584 14252.3 Q178.528 14249.6 178.528 14244.6 Q178.528 14241.3 180.427 14239 Q182.325 14236.7 185.704 14235.9 M183.991 14228.5 Q183.991 14231.2 185.658 14232.7 Q187.348 14234.2 190.38 14234.2 Q193.389 14234.2 195.079 14232.7 Q196.792 14231.2 196.792 14228.5 Q196.792 14225.8 195.079 14224.3 Q193.389 14222.8 190.38 14222.8 Q187.348 14222.8 185.658 14224.3 Q183.991 14225.8 183.991 14228.5 Z\" fill=\"#000000\" fill-rule=\"evenodd\" fill-opacity=\"1\" /><path clip-path=\"url(#clip400)\" d=\"M 0 0 M203.945 14228.4 L228.783 14228.4 L228.783 14232.6 L225.519 14232.6 L225.519 14248.6 Q225.519 14250.2 226.074 14251 Q226.653 14251.7 227.926 14251.7 Q228.273 14251.7 228.783 14251.6 Q229.292 14251.6 229.454 14251.5 L229.454 14254.6 Q228.644 14254.9 227.787 14255.1 Q226.931 14255.2 226.074 14255.2 Q223.297 14255.2 222.232 14253.7 Q221.167 14252.2 221.167 14248.1 L221.167 14232.6 L211.607 14232.6 L211.607 14254.3 L207.255 14254.3 L207.255 14232.6 L203.945 14232.6 L203.945 14228.4 Z\" fill=\"#000000\" fill-rule=\"evenodd\" fill-opacity=\"1\" /><path clip-path=\"url(#clip400)\" d=\"M 0 0 M163.552 14026.7 Q160.218 14026.7 158.297 14028.5 Q156.399 14030.2 156.399 14033.4 Q156.399 14036.5 158.297 14038.3 Q160.218 14040.1 163.552 14040.1 Q166.885 14040.1 168.806 14038.3 Q170.728 14036.5 170.728 14033.4 Q170.728 14030.2 168.806 14028.5 Q166.908 14026.7 163.552 14026.7 M158.876 14024.7 Q155.866 14024 154.177 14021.9 Q152.51 14019.8 152.51 14016.9 Q152.51 14012.7 155.45 14010.3 Q158.413 14007.9 163.552 14007.9 Q168.714 14007.9 171.653 14010.3 Q174.593 14012.7 174.593 14016.9 Q174.593 14019.8 172.903 14021.9 Q171.237 14024 168.251 14024.7 Q171.63 14025.5 173.505 14027.8 Q175.403 14030.1 175.403 14033.4 Q175.403 14038.4 172.325 14041.1 Q169.269 14043.8 163.552 14043.8 Q157.834 14043.8 154.755 14041.1 Q151.7 14038.4 151.7 14033.4 Q151.7 14030.1 153.598 14027.8 Q155.496 14025.5 158.876 14024.7 M157.163 14017.3 Q157.163 14020 158.829 14021.5 Q160.519 14023 163.552 14023 Q166.561 14023 168.251 14021.5 Q169.964 14020 169.964 14017.3 Q169.964 14014.6 168.251 14013.1 Q166.561 14011.6 163.552 14011.6 Q160.519 14011.6 158.829 14013.1 Q157.163 14014.6 157.163 14017.3 Z\" fill=\"#000000\" fill-rule=\"evenodd\" fill-opacity=\"1\" /><path clip-path=\"url(#clip400)\" d=\"M 0 0 M180.612 14042.4 L180.612 14038.1 Q182.371 14039 184.177 14039.4 Q185.982 14039.8 187.718 14039.8 Q192.348 14039.8 194.778 14036.7 Q197.232 14033.6 197.579 14027.3 Q196.237 14029.3 194.176 14030.3 Q192.116 14031.4 189.616 14031.4 Q184.431 14031.4 181.399 14028.3 Q178.39 14025.1 178.39 14019.7 Q178.39 14014.3 181.538 14011.1 Q184.686 14007.9 189.917 14007.9 Q195.913 14007.9 199.061 14012.5 Q202.232 14017.1 202.232 14025.8 Q202.232 14034 198.343 14038.9 Q194.477 14043.8 187.926 14043.8 Q186.167 14043.8 184.362 14043.4 Q182.556 14043.1 180.612 14042.4 M189.917 14027.7 Q193.065 14027.7 194.894 14025.6 Q196.746 14023.4 196.746 14019.7 Q196.746 14015.9 194.894 14013.8 Q193.065 14011.6 189.917 14011.6 Q186.769 14011.6 184.917 14013.8 Q183.089 14015.9 183.089 14019.7 Q183.089 14023.4 184.917 14025.6 Q186.769 14027.7 189.917 14027.7 Z\" fill=\"#000000\" fill-rule=\"evenodd\" fill-opacity=\"1\" /><path clip-path=\"url(#clip400)\" d=\"M 0 0 M203.945 14017.2 L228.783 14017.2 L228.783 14021.4 L225.519 14021.4 L225.519 14037.4 Q225.519 14039 226.074 14039.8 Q226.653 14040.5 227.926 14040.5 Q228.273 14040.5 228.783 14040.4 Q229.292 14040.4 229.454 14040.3 L229.454 14043.4 Q228.644 14043.7 227.787 14043.9 Q226.931 14044 226.074 14044 Q223.297 14044 222.232 14042.5 Q221.167 14041 221.167 14036.9 L221.167 14021.4 L211.607 14021.4 L211.607 14043.1 L207.255 14043.1 L207.255 14021.4 L203.945 14021.4 L203.945 14017.2 Z\" fill=\"#000000\" fill-rule=\"evenodd\" fill-opacity=\"1\" /><path clip-path=\"url(#clip400)\" d=\"M 0 0 M153.598 13831.2 L153.598 13826.9 Q155.357 13827.7 157.163 13828.2 Q158.968 13828.6 160.704 13828.6 Q165.334 13828.6 167.765 13825.5 Q170.218 13822.4 170.565 13816.1 Q169.223 13818 167.163 13819.1 Q165.103 13820.2 162.603 13820.2 Q157.417 13820.2 154.385 13817.1 Q151.376 13813.9 151.376 13808.5 Q151.376 13803.1 154.524 13799.9 Q157.672 13796.7 162.903 13796.7 Q168.899 13796.7 172.047 13801.3 Q175.218 13805.9 175.218 13814.6 Q175.218 13822.8 171.329 13827.7 Q167.464 13832.6 160.913 13832.6 Q159.153 13832.6 157.348 13832.2 Q155.542 13831.9 153.598 13831.2 M162.903 13816.5 Q166.052 13816.5 167.88 13814.4 Q169.732 13812.2 169.732 13808.5 Q169.732 13804.7 167.88 13802.6 Q166.052 13800.4 162.903 13800.4 Q159.755 13800.4 157.904 13802.6 Q156.075 13804.7 156.075 13808.5 Q156.075 13812.2 157.904 13814.4 Q159.755 13816.5 162.903 13816.5 Z\" fill=\"#000000\" fill-rule=\"evenodd\" fill-opacity=\"1\" /><path clip-path=\"url(#clip400)\" d=\"M 0 0 M190.288 13800.4 Q186.677 13800.4 184.848 13804 Q183.042 13807.5 183.042 13814.6 Q183.042 13821.7 184.848 13825.3 Q186.677 13828.9 190.288 13828.9 Q193.922 13828.9 195.727 13825.3 Q197.556 13821.7 197.556 13814.6 Q197.556 13807.5 195.727 13804 Q193.922 13800.4 190.288 13800.4 M190.288 13796.7 Q196.098 13796.7 199.153 13801.3 Q202.232 13805.9 202.232 13814.6 Q202.232 13823.4 199.153 13828 Q196.098 13832.6 190.288 13832.6 Q184.477 13832.6 181.399 13828 Q178.343 13823.4 178.343 13814.6 Q178.343 13805.9 181.399 13801.3 Q184.477 13796.7 190.288 13796.7 Z\" fill=\"#000000\" fill-rule=\"evenodd\" fill-opacity=\"1\" /><path clip-path=\"url(#clip400)\" d=\"M 0 0 M203.945 13806 L228.783 13806 L228.783 13810.2 L225.519 13810.2 L225.519 13826.1 Q225.519 13827.8 226.074 13828.6 Q226.653 13829.3 227.926 13829.3 Q228.273 13829.3 228.783 13829.2 Q229.292 13829.2 229.454 13829.1 L229.454 13832.2 Q228.644 13832.5 227.787 13832.7 Q226.931 13832.8 226.074 13832.8 Q223.297 13832.8 222.232 13831.3 Q221.167 13829.8 221.167 13825.7 L221.167 13810.2 L211.607 13810.2 L211.607 13831.9 L207.255 13831.9 L207.255 13810.2 L203.945 13810.2 L203.945 13806 Z\" fill=\"#000000\" fill-rule=\"evenodd\" fill-opacity=\"1\" /><path clip-path=\"url(#clip400)\" d=\"M 0 0 M154.825 13620 L154.825 13615.7 Q156.584 13616.5 158.39 13617 Q160.195 13617.4 161.931 13617.4 Q166.561 13617.4 168.991 13614.3 Q171.445 13611.2 171.792 13604.8 Q170.45 13606.8 168.39 13607.9 Q166.329 13609 163.829 13609 Q158.644 13609 155.612 13605.8 Q152.603 13602.7 152.603 13597.3 Q152.603 13591.9 155.751 13588.7 Q158.899 13585.5 164.13 13585.5 Q170.126 13585.5 173.274 13590.1 Q176.445 13594.7 176.445 13603.4 Q176.445 13611.6 172.556 13616.5 Q168.69 13621.4 162.14 13621.4 Q160.38 13621.4 158.575 13621 Q156.769 13620.7 154.825 13620 M164.13 13605.3 Q167.278 13605.3 169.107 13603.2 Q170.959 13601 170.959 13597.3 Q170.959 13593.5 169.107 13591.4 Q167.278 13589.2 164.13 13589.2 Q160.982 13589.2 159.13 13591.4 Q157.302 13593.5 157.302 13597.3 Q157.302 13601 159.13 13603.2 Q160.982 13605.3 164.13 13605.3 Z\" fill=\"#000000\" fill-rule=\"evenodd\" fill-opacity=\"1\" /><path clip-path=\"url(#clip400)\" d=\"M 0 0 M182.325 13616.7 L189.964 13616.7 L189.964 13590.4 L181.653 13592 L181.653 13587.8 L189.917 13586.1 L194.593 13586.1 L194.593 13616.7 L202.232 13616.7 L202.232 13620.7 L182.325 13620.7 L182.325 13616.7 Z\" fill=\"#000000\" fill-rule=\"evenodd\" fill-opacity=\"1\" /><path clip-path=\"url(#clip400)\" d=\"M 0 0 M203.945 13594.8 L228.783 13594.8 L228.783 13599 L225.519 13599 L225.519 13614.9 Q225.519 13616.6 226.074 13617.3 Q226.653 13618.1 227.926 13618.1 Q228.273 13618.1 228.783 13618 Q229.292 13618 229.454 13617.9 L229.454 13621 Q228.644 13621.3 227.787 13621.4 Q226.931 13621.6 226.074 13621.6 Q223.297 13621.6 222.232 13620.1 Q221.167 13618.6 221.167 13614.5 L221.167 13599 L211.607 13599 L211.607 13620.7 L207.255 13620.7 L207.255 13599 L203.945 13599 L203.945 13594.8 Z\" fill=\"#000000\" fill-rule=\"evenodd\" fill-opacity=\"1\" /><path clip-path=\"url(#clip400)\" d=\"M 0 0 M155.195 13408.8 L155.195 13404.5 Q156.954 13405.3 158.76 13405.8 Q160.566 13406.2 162.302 13406.2 Q166.931 13406.2 169.362 13403.1 Q171.815 13400 172.163 13393.6 Q170.82 13395.6 168.76 13396.7 Q166.7 13397.8 164.2 13397.8 Q159.015 13397.8 155.982 13394.6 Q152.973 13391.5 152.973 13386 Q152.973 13380.7 156.121 13377.5 Q159.269 13374.3 164.501 13374.3 Q170.496 13374.3 173.644 13378.9 Q176.815 13383.5 176.815 13392.2 Q176.815 13400.4 172.927 13405.3 Q169.061 13410.1 162.51 13410.1 Q160.751 13410.1 158.945 13409.8 Q157.14 13409.5 155.195 13408.8 M164.501 13394.1 Q167.649 13394.1 169.478 13392 Q171.329 13389.8 171.329 13386 Q171.329 13382.3 169.478 13380.2 Q167.649 13378 164.501 13378 Q161.353 13378 159.501 13380.2 Q157.672 13382.3 157.672 13386 Q157.672 13389.8 159.501 13392 Q161.353 13394.1 164.501 13394.1 Z\" fill=\"#000000\" fill-rule=\"evenodd\" fill-opacity=\"1\" /><path clip-path=\"url(#clip400)\" d=\"M 0 0 M185.913 13405.5 L202.232 13405.5 L202.232 13409.5 L180.288 13409.5 L180.288 13405.5 Q182.95 13402.8 187.533 13398.2 Q192.139 13393.5 193.32 13392.2 Q195.565 13389.6 196.445 13387.9 Q197.348 13386.1 197.348 13384.5 Q197.348 13381.7 195.403 13380 Q193.482 13378.2 190.38 13378.2 Q188.181 13378.2 185.727 13379 Q183.297 13379.8 180.519 13381.3 L180.519 13376.6 Q183.343 13375.4 185.797 13374.9 Q188.251 13374.3 190.288 13374.3 Q195.658 13374.3 198.852 13377 Q202.047 13379.7 202.047 13384.2 Q202.047 13386.3 201.237 13388.2 Q200.45 13390.1 198.343 13392.7 Q197.764 13393.4 194.663 13396.6 Q191.561 13399.8 185.913 13405.5 Z\" fill=\"#000000\" fill-rule=\"evenodd\" fill-opacity=\"1\" /><path clip-path=\"url(#clip400)\" d=\"M 0 0 M203.945 13383.5 L228.783 13383.5 L228.783 13387.8 L225.519 13387.8 L225.519 13403.7 Q225.519 13405.4 226.074 13406.1 Q226.653 13406.9 227.926 13406.9 Q228.273 13406.9 228.783 13406.8 Q229.292 13406.7 229.454 13406.7 L229.454 13409.8 Q228.644 13410.1 227.787 13410.2 Q226.931 13410.4 226.074 13410.4 Q223.297 13410.4 222.232 13408.9 Q221.167 13407.3 221.167 13403.3 L221.167 13387.8 L211.607 13387.8 L211.607 13409.5 L207.255 13409.5 L207.255 13387.8 L203.945 13387.8 L203.945 13383.5 Z\" fill=\"#000000\" fill-rule=\"evenodd\" fill-opacity=\"1\" /><path clip-path=\"url(#clip400)\" d=\"M 0 0 M154.246 13197.6 L154.246 13193.3 Q156.005 13194.1 157.811 13194.6 Q159.616 13195 161.353 13195 Q165.982 13195 168.413 13191.9 Q170.866 13188.8 171.214 13182.4 Q169.871 13184.4 167.811 13185.5 Q165.751 13186.6 163.251 13186.6 Q158.066 13186.6 155.033 13183.4 Q152.024 13180.3 152.024 13174.8 Q152.024 13169.5 155.172 13166.3 Q158.32 13163.1 163.552 13163.1 Q169.547 13163.1 172.695 13167.7 Q175.866 13172.3 175.866 13181 Q175.866 13189.2 171.978 13194.1 Q168.112 13198.9 161.561 13198.9 Q159.802 13198.9 157.996 13198.6 Q156.191 13198.2 154.246 13197.6 M163.552 13182.9 Q166.7 13182.9 168.528 13180.7 Q170.38 13178.6 170.38 13174.8 Q170.38 13171.1 168.528 13169 Q166.7 13166.8 163.552 13166.8 Q160.403 13166.8 158.552 13169 Q156.723 13171.1 156.723 13174.8 Q156.723 13178.6 158.552 13180.7 Q160.403 13182.9 163.552 13182.9 Z\" fill=\"#000000\" fill-rule=\"evenodd\" fill-opacity=\"1\" /><path clip-path=\"url(#clip400)\" d=\"M 0 0 M195.102 13179.6 Q198.459 13180.4 200.334 13182.6 Q202.232 13184.9 202.232 13188.2 Q202.232 13193.3 198.713 13196.1 Q195.195 13198.9 188.714 13198.9 Q186.538 13198.9 184.223 13198.5 Q181.931 13198.1 179.477 13197.2 L179.477 13192.7 Q181.422 13193.8 183.737 13194.4 Q186.052 13195 188.575 13195 Q192.973 13195 195.264 13193.3 Q197.579 13191.5 197.579 13188.2 Q197.579 13185.2 195.426 13183.5 Q193.297 13181.7 189.477 13181.7 L185.45 13181.7 L185.45 13177.9 L189.663 13177.9 Q193.112 13177.9 194.94 13176.5 Q196.769 13175.1 196.769 13172.5 Q196.769 13169.9 194.871 13168.5 Q192.996 13167 189.477 13167 Q187.556 13167 185.357 13167.4 Q183.158 13167.9 180.519 13168.7 L180.519 13164.6 Q183.181 13163.8 185.496 13163.5 Q187.834 13163.1 189.894 13163.1 Q195.218 13163.1 198.32 13165.5 Q201.422 13167.9 201.422 13172 Q201.422 13174.9 199.778 13176.9 Q198.135 13178.9 195.102 13179.6 Z\" fill=\"#000000\" fill-rule=\"evenodd\" fill-opacity=\"1\" /><path clip-path=\"url(#clip400)\" d=\"M 0 0 M203.945 13172.3 L228.783 13172.3 L228.783 13176.6 L225.519 13176.6 L225.519 13192.5 Q225.519 13194.2 226.074 13194.9 Q226.653 13195.7 227.926 13195.7 Q228.273 13195.7 228.783 13195.6 Q229.292 13195.5 229.454 13195.5 L229.454 13198.6 Q228.644 13198.9 227.787 13199 Q226.931 13199.2 226.074 13199.2 Q223.297 13199.2 222.232 13197.7 Q221.167 13196.1 221.167 13192.1 L221.167 13176.6 L211.607 13176.6 L211.607 13198.3 L207.255 13198.3 L207.255 13176.6 L203.945 13176.6 L203.945 13172.3 Z\" fill=\"#000000\" fill-rule=\"evenodd\" fill-opacity=\"1\" /><path clip-path=\"url(#clip400)\" d=\"M 0 0 M153.112 12986.3 L153.112 12982.1 Q154.871 12982.9 156.677 12983.4 Q158.482 12983.8 160.218 12983.8 Q164.848 12983.8 167.278 12980.7 Q169.732 12977.6 170.079 12971.2 Q168.737 12973.2 166.677 12974.3 Q164.616 12975.3 162.116 12975.3 Q156.931 12975.3 153.899 12972.2 Q150.89 12969.1 150.89 12963.6 Q150.89 12958.3 154.038 12955.1 Q157.186 12951.9 162.417 12951.9 Q168.413 12951.9 171.561 12956.5 Q174.732 12961.1 174.732 12969.8 Q174.732 12978 170.843 12982.9 Q166.978 12987.7 160.427 12987.7 Q158.667 12987.7 156.862 12987.4 Q155.056 12987 153.112 12986.3 M162.417 12971.7 Q165.566 12971.7 167.394 12969.5 Q169.246 12967.4 169.246 12963.6 Q169.246 12959.9 167.394 12957.8 Q165.566 12955.6 162.417 12955.6 Q159.269 12955.6 157.417 12957.8 Q155.589 12959.9 155.589 12963.6 Q155.589 12967.4 157.417 12969.5 Q159.269 12971.7 162.417 12971.7 Z\" fill=\"#000000\" fill-rule=\"evenodd\" fill-opacity=\"1\" /><path clip-path=\"url(#clip400)\" d=\"M 0 0 M192.649 12956.6 L180.843 12975 L192.649 12975 L192.649 12956.6 M191.422 12952.5 L197.301 12952.5 L197.301 12975 L202.232 12975 L202.232 12978.9 L197.301 12978.9 L197.301 12987.1 L192.649 12987.1 L192.649 12978.9 L177.047 12978.9 L177.047 12974.4 L191.422 12952.5 Z\" fill=\"#000000\" fill-rule=\"evenodd\" fill-opacity=\"1\" /><path clip-path=\"url(#clip400)\" d=\"M 0 0 M203.945 12961.1 L228.783 12961.1 L228.783 12965.4 L225.519 12965.4 L225.519 12981.3 Q225.519 12983 226.074 12983.7 Q226.653 12984.4 227.926 12984.4 Q228.273 12984.4 228.783 12984.4 Q229.292 12984.3 229.454 12984.3 L229.454 12987.4 Q228.644 12987.7 227.787 12987.8 Q226.931 12988 226.074 12988 Q223.297 12988 222.232 12986.5 Q221.167 12984.9 221.167 12980.9 L221.167 12965.4 L211.607 12965.4 L211.607 12987.1 L207.255 12987.1 L207.255 12965.4 L203.945 12965.4 L203.945 12961.1 Z\" fill=\"#000000\" fill-rule=\"evenodd\" fill-opacity=\"1\" /><path clip-path=\"url(#clip400)\" d=\"M 0 0 M154.593 12775.1 L154.593 12770.9 Q156.353 12771.7 158.158 12772.2 Q159.964 12772.6 161.7 12772.6 Q166.329 12772.6 168.76 12769.5 Q171.214 12766.4 171.561 12760 Q170.218 12762 168.158 12763.1 Q166.098 12764.1 163.598 12764.1 Q158.413 12764.1 155.38 12761 Q152.371 12757.9 152.371 12752.4 Q152.371 12747.1 155.519 12743.9 Q158.667 12740.7 163.899 12740.7 Q169.894 12740.7 173.042 12745.3 Q176.214 12749.9 176.214 12758.6 Q176.214 12766.8 172.325 12771.7 Q168.459 12776.5 161.908 12776.5 Q160.149 12776.5 158.343 12776.2 Q156.538 12775.8 154.593 12775.1 M163.899 12760.5 Q167.047 12760.5 168.876 12758.3 Q170.728 12756.2 170.728 12752.4 Q170.728 12748.7 168.876 12746.6 Q167.047 12744.4 163.899 12744.4 Q160.751 12744.4 158.899 12746.6 Q157.07 12748.7 157.07 12752.4 Q157.07 12756.2 158.899 12758.3 Q160.751 12760.5 163.899 12760.5 Z\" fill=\"#000000\" fill-rule=\"evenodd\" fill-opacity=\"1\" /><path clip-path=\"url(#clip400)\" d=\"M 0 0 M181.329 12741.3 L199.686 12741.3 L199.686 12745.2 L185.612 12745.2 L185.612 12753.7 Q186.63 12753.4 187.649 12753.2 Q188.667 12753 189.686 12753 Q195.473 12753 198.852 12756.2 Q202.232 12759.4 202.232 12764.8 Q202.232 12770.3 198.76 12773.4 Q195.288 12776.5 188.968 12776.5 Q186.792 12776.5 184.524 12776.2 Q182.278 12775.8 179.871 12775 L179.871 12770.3 Q181.954 12771.5 184.177 12772 Q186.399 12772.6 188.876 12772.6 Q192.88 12772.6 195.218 12770.5 Q197.556 12768.4 197.556 12764.8 Q197.556 12761.2 195.218 12759.1 Q192.88 12756.9 188.876 12756.9 Q187.001 12756.9 185.126 12757.4 Q183.274 12757.8 181.329 12758.7 L181.329 12741.3 Z\" fill=\"#000000\" fill-rule=\"evenodd\" fill-opacity=\"1\" /><path clip-path=\"url(#clip400)\" d=\"M 0 0 M203.945 12749.9 L228.783 12749.9 L228.783 12754.2 L225.519 12754.2 L225.519 12770.1 Q225.519 12771.8 226.074 12772.5 Q226.653 12773.2 227.926 12773.2 Q228.273 12773.2 228.783 12773.2 Q229.292 12773.1 229.454 12773.1 L229.454 12776.2 Q228.644 12776.5 227.787 12776.6 Q226.931 12776.8 226.074 12776.8 Q223.297 12776.8 222.232 12775.3 Q221.167 12773.7 221.167 12769.7 L221.167 12754.2 L211.607 12754.2 L211.607 12775.9 L207.255 12775.9 L207.255 12754.2 L203.945 12754.2 L203.945 12749.9 Z\" fill=\"#000000\" fill-rule=\"evenodd\" fill-opacity=\"1\" /><path clip-path=\"url(#clip400)\" d=\"M 0 0 M153.436 12563.9 L153.436 12559.7 Q155.195 12560.5 157.001 12560.9 Q158.806 12561.4 160.542 12561.4 Q165.172 12561.4 167.603 12558.3 Q170.056 12555.2 170.403 12548.8 Q169.061 12550.8 167.001 12551.9 Q164.941 12552.9 162.441 12552.9 Q157.255 12552.9 154.223 12549.8 Q151.214 12546.7 151.214 12541.2 Q151.214 12535.9 154.362 12532.7 Q157.51 12529.5 162.741 12529.5 Q168.737 12529.5 171.885 12534.1 Q175.056 12538.7 175.056 12547.4 Q175.056 12555.6 171.167 12560.5 Q167.302 12565.3 160.751 12565.3 Q158.991 12565.3 157.186 12565 Q155.38 12564.6 153.436 12563.9 M162.741 12549.3 Q165.89 12549.3 167.718 12547.1 Q169.57 12545 169.57 12541.2 Q169.57 12537.5 167.718 12535.3 Q165.89 12533.2 162.741 12533.2 Q159.593 12533.2 157.741 12535.3 Q155.913 12537.5 155.913 12541.2 Q155.913 12545 157.741 12547.1 Q159.593 12549.3 162.741 12549.3 Z\" fill=\"#000000\" fill-rule=\"evenodd\" fill-opacity=\"1\" /><path clip-path=\"url(#clip400)\" d=\"M 0 0 M190.704 12545.5 Q187.556 12545.5 185.704 12547.7 Q183.876 12549.8 183.876 12553.6 Q183.876 12557.3 185.704 12559.5 Q187.556 12561.6 190.704 12561.6 Q193.852 12561.6 195.681 12559.5 Q197.533 12557.3 197.533 12553.6 Q197.533 12549.8 195.681 12547.7 Q193.852 12545.5 190.704 12545.5 M199.987 12530.9 L199.987 12535.1 Q198.227 12534.3 196.422 12533.8 Q194.639 12533.4 192.88 12533.4 Q188.251 12533.4 185.797 12536.5 Q183.366 12539.6 183.019 12546 Q184.385 12544 186.445 12542.9 Q188.505 12541.8 190.982 12541.8 Q196.19 12541.8 199.2 12545 Q202.232 12548.1 202.232 12553.6 Q202.232 12558.9 199.084 12562.1 Q195.936 12565.3 190.704 12565.3 Q184.709 12565.3 181.538 12560.7 Q178.366 12556.1 178.366 12547.4 Q178.366 12539.2 182.255 12534.3 Q186.144 12529.5 192.695 12529.5 Q194.454 12529.5 196.237 12529.8 Q198.042 12530.2 199.987 12530.9 Z\" fill=\"#000000\" fill-rule=\"evenodd\" fill-opacity=\"1\" /><path clip-path=\"url(#clip400)\" d=\"M 0 0 M203.945 12538.7 L228.783 12538.7 L228.783 12543 L225.519 12543 L225.519 12558.9 Q225.519 12560.6 226.074 12561.3 Q226.653 12562 227.926 12562 Q228.273 12562 228.783 12562 Q229.292 12561.9 229.454 12561.9 L229.454 12565 Q228.644 12565.3 227.787 12565.4 Q226.931 12565.6 226.074 12565.6 Q223.297 12565.6 222.232 12564 Q221.167 12562.5 221.167 12558.4 L221.167 12543 L211.607 12543 L211.607 12564.6 L207.255 12564.6 L207.255 12543 L203.945 12543 L203.945 12538.7 Z\" fill=\"#000000\" fill-rule=\"evenodd\" fill-opacity=\"1\" /><path clip-path=\"url(#clip400)\" d=\"M 0 0 M154.501 12352.7 L154.501 12348.5 Q156.26 12349.3 158.066 12349.7 Q159.871 12350.2 161.607 12350.2 Q166.237 12350.2 168.667 12347.1 Q171.121 12344 171.468 12337.6 Q170.126 12339.6 168.065 12340.7 Q166.005 12341.7 163.505 12341.7 Q158.32 12341.7 155.288 12338.6 Q152.279 12335.5 152.279 12330 Q152.279 12324.7 155.427 12321.5 Q158.575 12318.3 163.806 12318.3 Q169.802 12318.3 172.95 12322.9 Q176.121 12327.4 176.121 12336.2 Q176.121 12344.4 172.232 12349.3 Q168.366 12354.1 161.816 12354.1 Q160.056 12354.1 158.251 12353.8 Q156.445 12353.4 154.501 12352.7 M163.806 12338.1 Q166.954 12338.1 168.783 12335.9 Q170.635 12333.8 170.635 12330 Q170.635 12326.3 168.783 12324.1 Q166.954 12322 163.806 12322 Q160.658 12322 158.806 12324.1 Q156.978 12326.3 156.978 12330 Q156.978 12333.8 158.806 12335.9 Q160.658 12338.1 163.806 12338.1 Z\" fill=\"#000000\" fill-rule=\"evenodd\" fill-opacity=\"1\" /><path clip-path=\"url(#clip400)\" d=\"M 0 0 M180.01 12318.9 L202.232 12318.9 L202.232 12320.9 L189.686 12353.4 L184.802 12353.4 L196.607 12322.8 L180.01 12322.8 L180.01 12318.9 Z\" fill=\"#000000\" fill-rule=\"evenodd\" fill-opacity=\"1\" /><path clip-path=\"url(#clip400)\" d=\"M 0 0 M203.945 12327.5 L228.783 12327.5 L228.783 12331.8 L225.519 12331.8 L225.519 12347.7 Q225.519 12349.4 226.074 12350.1 Q226.653 12350.8 227.926 12350.8 Q228.273 12350.8 228.783 12350.8 Q229.292 12350.7 229.454 12350.7 L229.454 12353.8 Q228.644 12354.1 227.787 12354.2 Q226.931 12354.3 226.074 12354.3 Q223.297 12354.3 222.232 12352.8 Q221.167 12351.3 221.167 12347.2 L221.167 12331.8 L211.607 12331.8 L211.607 12353.4 L207.255 12353.4 L207.255 12331.8 L203.945 12331.8 L203.945 12327.5 Z\" fill=\"#000000\" fill-rule=\"evenodd\" fill-opacity=\"1\" /><path clip-path=\"url(#clip400)\" d=\"M 0 0 M153.691 12141.5 L153.691 12137.3 Q155.45 12138.1 157.255 12138.5 Q159.061 12139 160.797 12139 Q165.427 12139 167.857 12135.9 Q170.311 12132.7 170.658 12126.4 Q169.315 12128.4 167.255 12129.5 Q165.195 12130.5 162.695 12130.5 Q157.51 12130.5 154.478 12127.4 Q151.468 12124.3 151.468 12118.8 Q151.468 12113.5 154.616 12110.3 Q157.765 12107.1 162.996 12107.1 Q168.991 12107.1 172.14 12111.7 Q175.311 12116.2 175.311 12125 Q175.311 12133.2 171.422 12138 Q167.556 12142.9 161.005 12142.9 Q159.246 12142.9 157.441 12142.6 Q155.635 12142.2 153.691 12141.5 M162.996 12126.9 Q166.144 12126.9 167.973 12124.7 Q169.825 12122.6 169.825 12118.8 Q169.825 12115.1 167.973 12112.9 Q166.144 12110.8 162.996 12110.8 Q159.848 12110.8 157.996 12112.9 Q156.167 12115.1 156.167 12118.8 Q156.167 12122.6 157.996 12124.7 Q159.848 12126.9 162.996 12126.9 Z\" fill=\"#000000\" fill-rule=\"evenodd\" fill-opacity=\"1\" /><path clip-path=\"url(#clip400)\" d=\"M 0 0 M190.38 12125.8 Q187.047 12125.8 185.126 12127.6 Q183.227 12129.4 183.227 12132.5 Q183.227 12135.6 185.126 12137.4 Q187.047 12139.2 190.38 12139.2 Q193.713 12139.2 195.635 12137.4 Q197.556 12135.6 197.556 12132.5 Q197.556 12129.4 195.635 12127.6 Q193.737 12125.8 190.38 12125.8 M185.704 12123.8 Q182.695 12123.1 181.005 12121 Q179.339 12119 179.339 12116 Q179.339 12111.9 182.278 12109.5 Q185.241 12107.1 190.38 12107.1 Q195.542 12107.1 198.482 12109.5 Q201.422 12111.9 201.422 12116 Q201.422 12119 199.732 12121 Q198.065 12123.1 195.079 12123.8 Q198.459 12124.6 200.334 12126.9 Q202.232 12129.2 202.232 12132.5 Q202.232 12137.5 199.153 12140.2 Q196.098 12142.9 190.38 12142.9 Q184.663 12142.9 181.584 12140.2 Q178.528 12137.5 178.528 12132.5 Q178.528 12129.2 180.427 12126.9 Q182.325 12124.6 185.704 12123.8 M183.991 12116.4 Q183.991 12119.1 185.658 12120.6 Q187.348 12122.1 190.38 12122.1 Q193.389 12122.1 195.079 12120.6 Q196.792 12119.1 196.792 12116.4 Q196.792 12113.8 195.079 12112.3 Q193.389 12110.8 190.38 12110.8 Q187.348 12110.8 185.658 12112.3 Q183.991 12113.8 183.991 12116.4 Z\" fill=\"#000000\" fill-rule=\"evenodd\" fill-opacity=\"1\" /><path clip-path=\"url(#clip400)\" d=\"M 0 0 M203.945 12116.3 L228.783 12116.3 L228.783 12120.6 L225.519 12120.6 L225.519 12136.5 Q225.519 12138.2 226.074 12138.9 Q226.653 12139.6 227.926 12139.6 Q228.273 12139.6 228.783 12139.6 Q229.292 12139.5 229.454 12139.5 L229.454 12142.6 Q228.644 12142.9 227.787 12143 Q226.931 12143.1 226.074 12143.1 Q223.297 12143.1 222.232 12141.6 Q221.167 12140.1 221.167 12136 L221.167 12120.6 L211.607 12120.6 L211.607 12142.2 L207.255 12142.2 L207.255 12120.6 L203.945 12120.6 L203.945 12116.3 Z\" fill=\"#000000\" fill-rule=\"evenodd\" fill-opacity=\"1\" /><path clip-path=\"url(#clip400)\" d=\"M 0 0 M153.783 11930.3 L153.783 11926.1 Q155.542 11926.9 157.348 11927.3 Q159.153 11927.8 160.89 11927.8 Q165.519 11927.8 167.95 11924.7 Q170.403 11921.5 170.751 11915.2 Q169.408 11917.2 167.348 11918.3 Q165.288 11919.3 162.788 11919.3 Q157.603 11919.3 154.57 11916.2 Q151.561 11913 151.561 11907.6 Q151.561 11902.3 154.709 11899.1 Q157.857 11895.8 163.089 11895.8 Q169.084 11895.8 172.232 11900.5 Q175.403 11905 175.403 11913.8 Q175.403 11922 171.515 11926.8 Q167.649 11931.7 161.098 11931.7 Q159.339 11931.7 157.533 11931.4 Q155.728 11931 153.783 11930.3 M163.089 11915.7 Q166.237 11915.7 168.065 11913.5 Q169.917 11911.4 169.917 11907.6 Q169.917 11903.9 168.065 11901.7 Q166.237 11899.5 163.089 11899.5 Q159.941 11899.5 158.089 11901.7 Q156.26 11903.9 156.26 11907.6 Q156.26 11911.4 158.089 11913.5 Q159.941 11915.7 163.089 11915.7 Z\" fill=\"#000000\" fill-rule=\"evenodd\" fill-opacity=\"1\" /><path clip-path=\"url(#clip400)\" d=\"M 0 0 M180.612 11930.3 L180.612 11926.1 Q182.371 11926.9 184.177 11927.3 Q185.982 11927.8 187.718 11927.8 Q192.348 11927.8 194.778 11924.7 Q197.232 11921.5 197.579 11915.2 Q196.237 11917.2 194.176 11918.3 Q192.116 11919.3 189.616 11919.3 Q184.431 11919.3 181.399 11916.2 Q178.39 11913 178.39 11907.6 Q178.39 11902.3 181.538 11899.1 Q184.686 11895.8 189.917 11895.8 Q195.913 11895.8 199.061 11900.5 Q202.232 11905 202.232 11913.8 Q202.232 11922 198.343 11926.8 Q194.477 11931.7 187.926 11931.7 Q186.167 11931.7 184.362 11931.4 Q182.556 11931 180.612 11930.3 M189.917 11915.7 Q193.065 11915.7 194.894 11913.5 Q196.746 11911.4 196.746 11907.6 Q196.746 11903.9 194.894 11901.7 Q193.065 11899.5 189.917 11899.5 Q186.769 11899.5 184.917 11901.7 Q183.089 11903.9 183.089 11907.6 Q183.089 11911.4 184.917 11913.5 Q186.769 11915.7 189.917 11915.7 Z\" fill=\"#000000\" fill-rule=\"evenodd\" fill-opacity=\"1\" /><path clip-path=\"url(#clip400)\" d=\"M 0 0 M203.945 11905.1 L228.783 11905.1 L228.783 11909.4 L225.519 11909.4 L225.519 11925.3 Q225.519 11927 226.074 11927.7 Q226.653 11928.4 227.926 11928.4 Q228.273 11928.4 228.783 11928.4 Q229.292 11928.3 229.454 11928.3 L229.454 11931.4 Q228.644 11931.7 227.787 11931.8 Q226.931 11931.9 226.074 11931.9 Q223.297 11931.9 222.232 11930.4 Q221.167 11928.9 221.167 11924.8 L221.167 11909.4 L211.607 11909.4 L211.607 11931 L207.255 11931 L207.255 11909.4 L203.945 11909.4 L203.945 11905.1 Z\" fill=\"#000000\" fill-rule=\"evenodd\" fill-opacity=\"1\" /><path clip-path=\"url(#clip400)\" d=\"M 0 0 M128.297 11715.9 L135.936 11715.9 L135.936 11689.5 L127.626 11691.2 L127.626 11686.9 L135.89 11685.3 L140.566 11685.3 L140.566 11715.9 L148.204 11715.9 L148.204 11719.8 L128.297 11719.8 L128.297 11715.9 Z\" fill=\"#000000\" fill-rule=\"evenodd\" fill-opacity=\"1\" /><path clip-path=\"url(#clip400)\" d=\"M 0 0 M163.274 11688.3 Q159.663 11688.3 157.834 11691.9 Q156.029 11695.4 156.029 11702.6 Q156.029 11709.7 157.834 11713.2 Q159.663 11716.8 163.274 11716.8 Q166.908 11716.8 168.714 11713.2 Q170.542 11709.7 170.542 11702.6 Q170.542 11695.4 168.714 11691.9 Q166.908 11688.3 163.274 11688.3 M163.274 11684.6 Q169.084 11684.6 172.14 11689.2 Q175.218 11693.8 175.218 11702.6 Q175.218 11711.3 172.14 11715.9 Q169.084 11720.5 163.274 11720.5 Q157.464 11720.5 154.385 11715.9 Q151.329 11711.3 151.329 11702.6 Q151.329 11693.8 154.385 11689.2 Q157.464 11684.6 163.274 11684.6 Z\" fill=\"#000000\" fill-rule=\"evenodd\" fill-opacity=\"1\" /><path clip-path=\"url(#clip400)\" d=\"M 0 0 M190.288 11688.3 Q186.677 11688.3 184.848 11691.9 Q183.042 11695.4 183.042 11702.6 Q183.042 11709.7 184.848 11713.2 Q186.677 11716.8 190.288 11716.8 Q193.922 11716.8 195.727 11713.2 Q197.556 11709.7 197.556 11702.6 Q197.556 11695.4 195.727 11691.9 Q193.922 11688.3 190.288 11688.3 M190.288 11684.6 Q196.098 11684.6 199.153 11689.2 Q202.232 11693.8 202.232 11702.6 Q202.232 11711.3 199.153 11715.9 Q196.098 11720.5 190.288 11720.5 Q184.477 11720.5 181.399 11715.9 Q178.343 11711.3 178.343 11702.6 Q178.343 11693.8 181.399 11689.2 Q184.477 11684.6 190.288 11684.6 Z\" fill=\"#000000\" fill-rule=\"evenodd\" fill-opacity=\"1\" /><path clip-path=\"url(#clip400)\" d=\"M 0 0 M203.945 11693.9 L228.783 11693.9 L228.783 11698.2 L225.519 11698.2 L225.519 11714.1 Q225.519 11715.7 226.074 11716.5 Q226.653 11717.2 227.926 11717.2 Q228.273 11717.2 228.783 11717.2 Q229.292 11717.1 229.454 11717.1 L229.454 11720.1 Q228.644 11720.4 227.787 11720.6 Q226.931 11720.7 226.074 11720.7 Q223.297 11720.7 222.232 11719.2 Q221.167 11717.7 221.167 11713.6 L221.167 11698.2 L211.607 11698.2 L211.607 11719.8 L207.255 11719.8 L207.255 11698.2 L203.945 11698.2 L203.945 11693.9 Z\" fill=\"#000000\" fill-rule=\"evenodd\" fill-opacity=\"1\" /><path clip-path=\"url(#clip400)\" d=\"M 0 0 M129.524 11504.7 L137.163 11504.7 L137.163 11478.3 L128.853 11480 L128.853 11475.7 L137.117 11474.1 L141.792 11474.1 L141.792 11504.7 L149.431 11504.7 L149.431 11508.6 L129.524 11508.6 L129.524 11504.7 Z\" fill=\"#000000\" fill-rule=\"evenodd\" fill-opacity=\"1\" /><path clip-path=\"url(#clip400)\" d=\"M 0 0 M164.501 11477.1 Q160.89 11477.1 159.061 11480.7 Q157.255 11484.2 157.255 11491.4 Q157.255 11498.5 159.061 11502 Q160.89 11505.6 164.501 11505.6 Q168.135 11505.6 169.94 11502 Q171.769 11498.5 171.769 11491.4 Q171.769 11484.2 169.94 11480.7 Q168.135 11477.1 164.501 11477.1 M164.501 11473.4 Q170.311 11473.4 173.366 11478 Q176.445 11482.6 176.445 11491.4 Q176.445 11500.1 173.366 11504.7 Q170.311 11509.3 164.501 11509.3 Q158.691 11509.3 155.612 11504.7 Q152.556 11500.1 152.556 11491.4 Q152.556 11482.6 155.612 11478 Q158.691 11473.4 164.501 11473.4 Z\" fill=\"#000000\" fill-rule=\"evenodd\" fill-opacity=\"1\" /><path clip-path=\"url(#clip400)\" d=\"M 0 0 M182.325 11504.7 L189.964 11504.7 L189.964 11478.3 L181.653 11480 L181.653 11475.7 L189.917 11474.1 L194.593 11474.1 L194.593 11504.7 L202.232 11504.7 L202.232 11508.6 L182.325 11508.6 L182.325 11504.7 Z\" fill=\"#000000\" fill-rule=\"evenodd\" fill-opacity=\"1\" /><path clip-path=\"url(#clip400)\" d=\"M 0 0 M203.945 11482.7 L228.783 11482.7 L228.783 11487 L225.519 11487 L225.519 11502.9 Q225.519 11504.5 226.074 11505.3 Q226.653 11506 227.926 11506 Q228.273 11506 228.783 11506 Q229.292 11505.9 229.454 11505.9 L229.454 11508.9 Q228.644 11509.2 227.787 11509.4 Q226.931 11509.5 226.074 11509.5 Q223.297 11509.5 222.232 11508 Q221.167 11506.5 221.167 11502.4 L221.167 11487 L211.607 11487 L211.607 11508.6 L207.255 11508.6 L207.255 11487 L203.945 11487 L203.945 11482.7 Z\" fill=\"#000000\" fill-rule=\"evenodd\" fill-opacity=\"1\" /><path clip-path=\"url(#clip400)\" d=\"M 0 0 M129.894 11293.5 L137.533 11293.5 L137.533 11267.1 L129.223 11268.8 L129.223 11264.5 L137.487 11262.9 L142.163 11262.9 L142.163 11293.5 L149.802 11293.5 L149.802 11297.4 L129.894 11297.4 L129.894 11293.5 Z\" fill=\"#000000\" fill-rule=\"evenodd\" fill-opacity=\"1\" /><path clip-path=\"url(#clip400)\" d=\"M 0 0 M164.871 11265.9 Q161.26 11265.9 159.431 11269.5 Q157.626 11273 157.626 11280.2 Q157.626 11287.3 159.431 11290.8 Q161.26 11294.4 164.871 11294.4 Q168.505 11294.4 170.311 11290.8 Q172.14 11287.3 172.14 11280.2 Q172.14 11273 170.311 11269.5 Q168.505 11265.9 164.871 11265.9 M164.871 11262.2 Q170.681 11262.2 173.737 11266.8 Q176.815 11271.4 176.815 11280.2 Q176.815 11288.9 173.737 11293.5 Q170.681 11298.1 164.871 11298.1 Q159.061 11298.1 155.982 11293.5 Q152.927 11288.9 152.927 11280.2 Q152.927 11271.4 155.982 11266.8 Q159.061 11262.2 164.871 11262.2 Z\" fill=\"#000000\" fill-rule=\"evenodd\" fill-opacity=\"1\" /><path clip-path=\"url(#clip400)\" d=\"M 0 0 M185.913 11293.5 L202.232 11293.5 L202.232 11297.4 L180.288 11297.4 L180.288 11293.5 Q182.95 11290.7 187.533 11286.1 Q192.139 11281.4 193.32 11280.1 Q195.565 11277.6 196.445 11275.8 Q197.348 11274.1 197.348 11272.4 Q197.348 11269.6 195.403 11267.9 Q193.482 11266.2 190.38 11266.2 Q188.181 11266.2 185.727 11266.9 Q183.297 11267.7 180.519 11269.2 L180.519 11264.5 Q183.343 11263.4 185.797 11262.8 Q188.251 11262.2 190.288 11262.2 Q195.658 11262.2 198.852 11264.9 Q202.047 11267.6 202.047 11272.1 Q202.047 11274.2 201.237 11276.1 Q200.45 11278 198.343 11280.6 Q197.764 11281.3 194.663 11284.5 Q191.561 11287.7 185.913 11293.5 Z\" fill=\"#000000\" fill-rule=\"evenodd\" fill-opacity=\"1\" /><path clip-path=\"url(#clip400)\" d=\"M 0 0 M203.945 11271.5 L228.783 11271.5 L228.783 11275.7 L225.519 11275.7 L225.519 11291.7 Q225.519 11293.3 226.074 11294.1 Q226.653 11294.8 227.926 11294.8 Q228.273 11294.8 228.783 11294.7 Q229.292 11294.7 229.454 11294.7 L229.454 11297.7 Q228.644 11298 227.787 11298.2 Q226.931 11298.3 226.074 11298.3 Q223.297 11298.3 222.232 11296.8 Q221.167 11295.3 221.167 11291.2 L221.167 11275.7 L211.607 11275.7 L211.607 11297.4 L207.255 11297.4 L207.255 11275.7 L203.945 11275.7 L203.945 11271.5 Z\" fill=\"#000000\" fill-rule=\"evenodd\" fill-opacity=\"1\" /><path clip-path=\"url(#clip400)\" d=\"M 0 0 M128.945 11082.3 L136.584 11082.3 L136.584 11055.9 L128.274 11057.6 L128.274 11053.3 L136.538 11051.6 L141.214 11051.6 L141.214 11082.3 L148.853 11082.3 L148.853 11086.2 L128.945 11086.2 L128.945 11082.3 Z\" fill=\"#000000\" fill-rule=\"evenodd\" fill-opacity=\"1\" /><path clip-path=\"url(#clip400)\" d=\"M 0 0 M163.922 11054.7 Q160.311 11054.7 158.482 11058.3 Q156.677 11061.8 156.677 11069 Q156.677 11076.1 158.482 11079.6 Q160.311 11083.2 163.922 11083.2 Q167.556 11083.2 169.362 11079.6 Q171.19 11076.1 171.19 11069 Q171.19 11061.8 169.362 11058.3 Q167.556 11054.7 163.922 11054.7 M163.922 11051 Q169.732 11051 172.788 11055.6 Q175.866 11060.2 175.866 11069 Q175.866 11077.7 172.788 11082.3 Q169.732 11086.9 163.922 11086.9 Q158.112 11086.9 155.033 11082.3 Q151.978 11077.7 151.978 11069 Q151.978 11060.2 155.033 11055.6 Q158.112 11051 163.922 11051 Z\" fill=\"#000000\" fill-rule=\"evenodd\" fill-opacity=\"1\" /><path clip-path=\"url(#clip400)\" d=\"M 0 0 M195.102 11067.6 Q198.459 11068.3 200.334 11070.6 Q202.232 11072.8 202.232 11076.2 Q202.232 11081.3 198.713 11084.1 Q195.195 11086.9 188.714 11086.9 Q186.538 11086.9 184.223 11086.4 Q181.931 11086 179.477 11085.2 L179.477 11080.6 Q181.422 11081.8 183.737 11082.4 Q186.052 11082.9 188.575 11082.9 Q192.973 11082.9 195.264 11081.2 Q197.579 11079.5 197.579 11076.2 Q197.579 11073.1 195.426 11071.4 Q193.297 11069.7 189.477 11069.7 L185.45 11069.7 L185.45 11065.8 L189.663 11065.8 Q193.112 11065.8 194.94 11064.4 Q196.769 11063.1 196.769 11060.5 Q196.769 11057.8 194.871 11056.4 Q192.996 11055 189.477 11055 Q187.556 11055 185.357 11055.4 Q183.158 11055.8 180.519 11056.7 L180.519 11052.5 Q183.181 11051.8 185.496 11051.4 Q187.834 11051 189.894 11051 Q195.218 11051 198.32 11053.4 Q201.422 11055.9 201.422 11060 Q201.422 11062.8 199.778 11064.8 Q198.135 11066.8 195.102 11067.6 Z\" fill=\"#000000\" fill-rule=\"evenodd\" fill-opacity=\"1\" /><path clip-path=\"url(#clip400)\" d=\"M 0 0 M203.945 11060.3 L228.783 11060.3 L228.783 11064.5 L225.519 11064.5 L225.519 11080.5 Q225.519 11082.1 226.074 11082.9 Q226.653 11083.6 227.926 11083.6 Q228.273 11083.6 228.783 11083.5 Q229.292 11083.5 229.454 11083.4 L229.454 11086.5 Q228.644 11086.8 227.787 11087 Q226.931 11087.1 226.074 11087.1 Q223.297 11087.1 222.232 11085.6 Q221.167 11084.1 221.167 11080 L221.167 11064.5 L211.607 11064.5 L211.607 11086.2 L207.255 11086.2 L207.255 11064.5 L203.945 11064.5 L203.945 11060.3 Z\" fill=\"#000000\" fill-rule=\"evenodd\" fill-opacity=\"1\" /><path clip-path=\"url(#clip400)\" d=\"M 0 0 M127.811 10871.1 L135.45 10871.1 L135.45 10844.7 L127.14 10846.4 L127.14 10842.1 L135.404 10840.4 L140.08 10840.4 L140.08 10871.1 L147.718 10871.1 L147.718 10875 L127.811 10875 L127.811 10871.1 Z\" fill=\"#000000\" fill-rule=\"evenodd\" fill-opacity=\"1\" /><path clip-path=\"url(#clip400)\" d=\"M 0 0 M162.788 10843.5 Q159.177 10843.5 157.348 10847.1 Q155.542 10850.6 155.542 10857.8 Q155.542 10864.9 157.348 10868.4 Q159.177 10872 162.788 10872 Q166.422 10872 168.228 10868.4 Q170.056 10864.9 170.056 10857.8 Q170.056 10850.6 168.228 10847.1 Q166.422 10843.5 162.788 10843.5 M162.788 10839.8 Q168.598 10839.8 171.653 10844.4 Q174.732 10849 174.732 10857.8 Q174.732 10866.5 171.653 10871.1 Q168.598 10875.7 162.788 10875.7 Q156.978 10875.7 153.899 10871.1 Q150.843 10866.5 150.843 10857.8 Q150.843 10849 153.899 10844.4 Q156.978 10839.8 162.788 10839.8 Z\" fill=\"#000000\" fill-rule=\"evenodd\" fill-opacity=\"1\" /><path clip-path=\"url(#clip400)\" d=\"M 0 0 M192.649 10844.5 L180.843 10863 L192.649 10863 L192.649 10844.5 M191.422 10840.4 L197.301 10840.4 L197.301 10863 L202.232 10863 L202.232 10866.8 L197.301 10866.8 L197.301 10875 L192.649 10875 L192.649 10866.8 L177.047 10866.8 L177.047 10862.3 L191.422 10840.4 Z\" fill=\"#000000\" fill-rule=\"evenodd\" fill-opacity=\"1\" /><path clip-path=\"url(#clip400)\" d=\"M 0 0 M203.945 10849.1 L228.783 10849.1 L228.783 10853.3 L225.519 10853.3 L225.519 10869.3 Q225.519 10870.9 226.074 10871.7 Q226.653 10872.4 227.926 10872.4 Q228.273 10872.4 228.783 10872.3 Q229.292 10872.3 229.454 10872.2 L229.454 10875.3 Q228.644 10875.6 227.787 10875.8 Q226.931 10875.9 226.074 10875.9 Q223.297 10875.9 222.232 10874.4 Q221.167 10872.9 221.167 10868.8 L221.167 10853.3 L211.607 10853.3 L211.607 10875 L207.255 10875 L207.255 10853.3 L203.945 10853.3 L203.945 10849.1 Z\" fill=\"#000000\" fill-rule=\"evenodd\" fill-opacity=\"1\" /><path clip-path=\"url(#clip400)\" d=\"M 0 0 M129.293 10659.9 L136.931 10659.9 L136.931 10633.5 L128.621 10635.2 L128.621 10630.9 L136.885 10629.2 L141.561 10629.2 L141.561 10659.9 L149.2 10659.9 L149.2 10663.8 L129.293 10663.8 L129.293 10659.9 Z\" fill=\"#000000\" fill-rule=\"evenodd\" fill-opacity=\"1\" /><path clip-path=\"url(#clip400)\" d=\"M 0 0 M164.269 10632.3 Q160.658 10632.3 158.829 10635.9 Q157.024 10639.4 157.024 10646.5 Q157.024 10653.7 158.829 10657.2 Q160.658 10660.8 164.269 10660.8 Q167.903 10660.8 169.709 10657.2 Q171.538 10653.7 171.538 10646.5 Q171.538 10639.4 169.709 10635.9 Q167.903 10632.3 164.269 10632.3 M164.269 10628.6 Q170.079 10628.6 173.135 10633.2 Q176.214 10637.8 176.214 10646.5 Q176.214 10655.3 173.135 10659.9 Q170.079 10664.5 164.269 10664.5 Q158.459 10664.5 155.38 10659.9 Q152.325 10655.3 152.325 10646.5 Q152.325 10637.8 155.38 10633.2 Q158.459 10628.6 164.269 10628.6 Z\" fill=\"#000000\" fill-rule=\"evenodd\" fill-opacity=\"1\" /><path clip-path=\"url(#clip400)\" d=\"M 0 0 M181.329 10629.2 L199.686 10629.2 L199.686 10633.2 L185.612 10633.2 L185.612 10641.6 Q186.63 10641.3 187.649 10641.1 Q188.667 10640.9 189.686 10640.9 Q195.473 10640.9 198.852 10644.1 Q202.232 10647.3 202.232 10652.7 Q202.232 10658.3 198.76 10661.4 Q195.288 10664.5 188.968 10664.5 Q186.792 10664.5 184.524 10664.1 Q182.278 10663.7 179.871 10663 L179.871 10658.3 Q181.954 10659.4 184.177 10660 Q186.399 10660.5 188.876 10660.5 Q192.88 10660.5 195.218 10658.4 Q197.556 10656.3 197.556 10652.7 Q197.556 10649.1 195.218 10647 Q192.88 10644.9 188.876 10644.9 Q187.001 10644.9 185.126 10645.3 Q183.274 10645.7 181.329 10646.6 L181.329 10629.2 Z\" fill=\"#000000\" fill-rule=\"evenodd\" fill-opacity=\"1\" /><path clip-path=\"url(#clip400)\" d=\"M 0 0 M203.945 10637.9 L228.783 10637.9 L228.783 10642.1 L225.519 10642.1 L225.519 10658 Q225.519 10659.7 226.074 10660.5 Q226.653 10661.2 227.926 10661.2 Q228.273 10661.2 228.783 10661.1 Q229.292 10661.1 229.454 10661 L229.454 10664.1 Q228.644 10664.4 227.787 10664.6 Q226.931 10664.7 226.074 10664.7 Q223.297 10664.7 222.232 10663.2 Q221.167 10661.7 221.167 10657.6 L221.167 10642.1 L211.607 10642.1 L211.607 10663.8 L207.255 10663.8 L207.255 10642.1 L203.945 10642.1 L203.945 10637.9 Z\" fill=\"#000000\" fill-rule=\"evenodd\" fill-opacity=\"1\" /><path clip-path=\"url(#clip400)\" d=\"M 0 0 M128.135 10448.6 L135.774 10448.6 L135.774 10422.3 L127.464 10424 L127.464 10419.7 L135.728 10418 L140.404 10418 L140.404 10448.6 L148.042 10448.6 L148.042 10452.6 L128.135 10452.6 L128.135 10448.6 Z\" fill=\"#000000\" fill-rule=\"evenodd\" fill-opacity=\"1\" /><path clip-path=\"url(#clip400)\" d=\"M 0 0 M163.112 10421.1 Q159.501 10421.1 157.672 10424.7 Q155.866 10428.2 155.866 10435.3 Q155.866 10442.4 157.672 10446 Q159.501 10449.6 163.112 10449.6 Q166.746 10449.6 168.552 10446 Q170.38 10442.4 170.38 10435.3 Q170.38 10428.2 168.552 10424.7 Q166.746 10421.1 163.112 10421.1 M163.112 10417.4 Q168.922 10417.4 171.978 10422 Q175.056 10426.6 175.056 10435.3 Q175.056 10444.1 171.978 10448.7 Q168.922 10453.3 163.112 10453.3 Q157.302 10453.3 154.223 10448.7 Q151.167 10444.1 151.167 10435.3 Q151.167 10426.6 154.223 10422 Q157.302 10417.4 163.112 10417.4 Z\" fill=\"#000000\" fill-rule=\"evenodd\" fill-opacity=\"1\" /><path clip-path=\"url(#clip400)\" d=\"M 0 0 M190.704 10433.4 Q187.556 10433.4 185.704 10435.6 Q183.876 10437.7 183.876 10441.5 Q183.876 10445.2 185.704 10447.4 Q187.556 10449.6 190.704 10449.6 Q193.852 10449.6 195.681 10447.4 Q197.533 10445.2 197.533 10441.5 Q197.533 10437.7 195.681 10435.6 Q193.852 10433.4 190.704 10433.4 M199.987 10418.8 L199.987 10423 Q198.227 10422.2 196.422 10421.8 Q194.639 10421.3 192.88 10421.3 Q188.251 10421.3 185.797 10424.5 Q183.366 10427.6 183.019 10433.9 Q184.385 10431.9 186.445 10430.8 Q188.505 10429.7 190.982 10429.7 Q196.19 10429.7 199.2 10432.9 Q202.232 10436.1 202.232 10441.5 Q202.232 10446.8 199.084 10450 Q195.936 10453.3 190.704 10453.3 Q184.709 10453.3 181.538 10448.7 Q178.366 10444.1 178.366 10435.3 Q178.366 10427.1 182.255 10422.3 Q186.144 10417.4 192.695 10417.4 Q194.454 10417.4 196.237 10417.7 Q198.042 10418.1 199.987 10418.8 Z\" fill=\"#000000\" fill-rule=\"evenodd\" fill-opacity=\"1\" /><path clip-path=\"url(#clip400)\" d=\"M 0 0 M203.945 10426.7 L228.783 10426.7 L228.783 10430.9 L225.519 10430.9 L225.519 10446.8 Q225.519 10448.5 226.074 10449.3 Q226.653 10450 227.926 10450 Q228.273 10450 228.783 10449.9 Q229.292 10449.9 229.454 10449.8 L229.454 10452.9 Q228.644 10453.2 227.787 10453.3 Q226.931 10453.5 226.074 10453.5 Q223.297 10453.5 222.232 10452 Q221.167 10450.5 221.167 10446.4 L221.167 10430.9 L211.607 10430.9 L211.607 10452.6 L207.255 10452.6 L207.255 10430.9 L203.945 10430.9 L203.945 10426.7 Z\" fill=\"#000000\" fill-rule=\"evenodd\" fill-opacity=\"1\" /><path clip-path=\"url(#clip400)\" d=\"M 0 0 M129.2 10237.4 L136.839 10237.4 L136.839 10211.1 L128.529 10212.7 L128.529 10208.5 L136.793 10206.8 L141.468 10206.8 L141.468 10237.4 L149.107 10237.4 L149.107 10241.4 L129.2 10241.4 L129.2 10237.4 Z\" fill=\"#000000\" fill-rule=\"evenodd\" fill-opacity=\"1\" /><path clip-path=\"url(#clip400)\" d=\"M 0 0 M164.177 10209.9 Q160.566 10209.9 158.737 10213.5 Q156.931 10217 156.931 10224.1 Q156.931 10231.2 158.737 10234.8 Q160.566 10238.3 164.177 10238.3 Q167.811 10238.3 169.616 10234.8 Q171.445 10231.2 171.445 10224.1 Q171.445 10217 169.616 10213.5 Q167.811 10209.9 164.177 10209.9 M164.177 10206.2 Q169.987 10206.2 173.042 10210.8 Q176.121 10215.4 176.121 10224.1 Q176.121 10232.9 173.042 10237.5 Q169.987 10242 164.177 10242 Q158.366 10242 155.288 10237.5 Q152.232 10232.9 152.232 10224.1 Q152.232 10215.4 155.288 10210.8 Q158.366 10206.2 164.177 10206.2 Z\" fill=\"#000000\" fill-rule=\"evenodd\" fill-opacity=\"1\" /><path clip-path=\"url(#clip400)\" d=\"M 0 0 M180.01 10206.8 L202.232 10206.8 L202.232 10208.8 L189.686 10241.4 L184.802 10241.4 L196.607 10210.8 L180.01 10210.8 L180.01 10206.8 Z\" fill=\"#000000\" fill-rule=\"evenodd\" fill-opacity=\"1\" /><path clip-path=\"url(#clip400)\" d=\"M 0 0 M203.945 10215.5 L228.783 10215.5 L228.783 10219.7 L225.519 10219.7 L225.519 10235.6 Q225.519 10237.3 226.074 10238 Q226.653 10238.8 227.926 10238.8 Q228.273 10238.8 228.783 10238.7 Q229.292 10238.6 229.454 10238.6 L229.454 10241.7 Q228.644 10242 227.787 10242.1 Q226.931 10242.3 226.074 10242.3 Q223.297 10242.3 222.232 10240.8 Q221.167 10239.2 221.167 10235.2 L221.167 10219.7 L211.607 10219.7 L211.607 10241.4 L207.255 10241.4 L207.255 10219.7 L203.945 10219.7 L203.945 10215.5 Z\" fill=\"#000000\" fill-rule=\"evenodd\" fill-opacity=\"1\" /><path clip-path=\"url(#clip400)\" d=\"M 0 0 M128.39 10026.2 L136.029 10026.2 L136.029 9999.87 L127.718 10001.5 L127.718 9997.28 L135.982 9995.61 L140.658 9995.61 L140.658 10026.2 L148.297 10026.2 L148.297 10030.2 L128.39 10030.2 L128.39 10026.2 Z\" fill=\"#000000\" fill-rule=\"evenodd\" fill-opacity=\"1\" /><path clip-path=\"url(#clip400)\" d=\"M 0 0 M163.366 9998.69 Q159.755 9998.69 157.927 10002.3 Q156.121 10005.8 156.121 10012.9 Q156.121 10020 157.927 10023.6 Q159.755 10027.1 163.366 10027.1 Q167.001 10027.1 168.806 10023.6 Q170.635 10020 170.635 10012.9 Q170.635 10005.8 168.806 10002.3 Q167.001 9998.69 163.366 9998.69 M163.366 9994.99 Q169.177 9994.99 172.232 9999.59 Q175.311 10004.2 175.311 10012.9 Q175.311 10021.7 172.232 10026.3 Q169.177 10030.8 163.366 10030.8 Q157.556 10030.8 154.478 10026.3 Q151.422 10021.7 151.422 10012.9 Q151.422 10004.2 154.478 9999.59 Q157.556 9994.99 163.366 9994.99 Z\" fill=\"#000000\" fill-rule=\"evenodd\" fill-opacity=\"1\" /><path clip-path=\"url(#clip400)\" d=\"M 0 0 M190.38 10013.8 Q187.047 10013.8 185.126 10015.5 Q183.227 10017.3 183.227 10020.4 Q183.227 10023.6 185.126 10025.4 Q187.047 10027.1 190.38 10027.1 Q193.713 10027.1 195.635 10025.4 Q197.556 10023.6 197.556 10020.4 Q197.556 10017.3 195.635 10015.5 Q193.737 10013.8 190.38 10013.8 M185.704 10011.8 Q182.695 10011 181.005 10009 Q179.339 10006.9 179.339 10003.9 Q179.339 9999.8 182.278 9997.39 Q185.241 9994.99 190.38 9994.99 Q195.542 9994.99 198.482 9997.39 Q201.422 9999.8 201.422 10003.9 Q201.422 10006.9 199.732 10009 Q198.065 10011 195.079 10011.8 Q198.459 10012.6 200.334 10014.8 Q202.232 10017.1 202.232 10020.4 Q202.232 10025.5 199.153 10028.2 Q196.098 10030.8 190.38 10030.8 Q184.663 10030.8 181.584 10028.2 Q178.528 10025.5 178.528 10020.4 Q178.528 10017.1 180.427 10014.8 Q182.325 10012.6 185.704 10011.8 M183.991 10004.4 Q183.991 10007.1 185.658 10008.6 Q187.348 10010.1 190.38 10010.1 Q193.389 10010.1 195.079 10008.6 Q196.792 10007.1 196.792 10004.4 Q196.792 10001.7 195.079 10000.2 Q193.389 9998.69 190.38 9998.69 Q187.348 9998.69 185.658 10000.2 Q183.991 10001.7 183.991 10004.4 Z\" fill=\"#000000\" fill-rule=\"evenodd\" fill-opacity=\"1\" /><path clip-path=\"url(#clip400)\" d=\"M 0 0 M203.945 10004.2 L228.783 10004.2 L228.783 10008.5 L225.519 10008.5 L225.519 10024.4 Q225.519 10026.1 226.074 10026.8 Q226.653 10027.6 227.926 10027.6 Q228.273 10027.6 228.783 10027.5 Q229.292 10027.4 229.454 10027.4 L229.454 10030.5 Q228.644 10030.8 227.787 10030.9 Q226.931 10031.1 226.074 10031.1 Q223.297 10031.1 222.232 10029.6 Q221.167 10028 221.167 10024 L221.167 10008.5 L211.607 10008.5 L211.607 10030.2 L207.255 10030.2 L207.255 10008.5 L203.945 10008.5 L203.945 10004.2 Z\" fill=\"#000000\" fill-rule=\"evenodd\" fill-opacity=\"1\" /><path clip-path=\"url(#clip400)\" d=\"M 0 0 M128.482 9815.03 L136.121 9815.03 L136.121 9788.66 L127.811 9790.33 L127.811 9786.07 L136.075 9784.4 L140.751 9784.4 L140.751 9815.03 L148.39 9815.03 L148.39 9818.96 L128.482 9818.96 L128.482 9815.03 Z\" fill=\"#000000\" fill-rule=\"evenodd\" fill-opacity=\"1\" /><path clip-path=\"url(#clip400)\" d=\"M 0 0 M163.459 9787.48 Q159.848 9787.48 158.019 9791.05 Q156.214 9794.59 156.214 9801.72 Q156.214 9808.83 158.019 9812.39 Q159.848 9815.93 163.459 9815.93 Q167.093 9815.93 168.899 9812.39 Q170.728 9808.83 170.728 9801.72 Q170.728 9794.59 168.899 9791.05 Q167.093 9787.48 163.459 9787.48 M163.459 9783.78 Q169.269 9783.78 172.325 9788.39 Q175.403 9792.97 175.403 9801.72 Q175.403 9810.45 172.325 9815.05 Q169.269 9819.64 163.459 9819.64 Q157.649 9819.64 154.57 9815.05 Q151.515 9810.45 151.515 9801.72 Q151.515 9792.97 154.57 9788.39 Q157.649 9783.78 163.459 9783.78 Z\" fill=\"#000000\" fill-rule=\"evenodd\" fill-opacity=\"1\" /><path clip-path=\"url(#clip400)\" d=\"M 0 0 M180.612 9818.25 L180.612 9813.99 Q182.371 9814.82 184.177 9815.26 Q185.982 9815.7 187.718 9815.7 Q192.348 9815.7 194.778 9812.6 Q197.232 9809.47 197.579 9803.13 Q196.237 9805.12 194.176 9806.19 Q192.116 9807.25 189.616 9807.25 Q184.431 9807.25 181.399 9804.13 Q178.39 9800.98 178.39 9795.54 Q178.39 9790.21 181.538 9787 Q184.686 9783.78 189.917 9783.78 Q195.913 9783.78 199.061 9788.39 Q202.232 9792.97 202.232 9801.72 Q202.232 9809.89 198.343 9814.77 Q194.477 9819.64 187.926 9819.64 Q186.167 9819.64 184.362 9819.29 Q182.556 9818.94 180.612 9818.25 M189.917 9803.59 Q193.065 9803.59 194.894 9801.44 Q196.746 9799.29 196.746 9795.54 Q196.746 9791.81 194.894 9789.66 Q193.065 9787.48 189.917 9787.48 Q186.769 9787.48 184.917 9789.66 Q183.089 9791.81 183.089 9795.54 Q183.089 9799.29 184.917 9801.44 Q186.769 9803.59 189.917 9803.59 Z\" fill=\"#000000\" fill-rule=\"evenodd\" fill-opacity=\"1\" /><path clip-path=\"url(#clip400)\" d=\"M 0 0 M203.945 9793.04 L228.783 9793.04 L228.783 9797.3 L225.519 9797.3 L225.519 9813.22 Q225.519 9814.89 226.074 9815.63 Q226.653 9816.35 227.926 9816.35 Q228.273 9816.35 228.783 9816.3 Q229.292 9816.23 229.454 9816.21 L229.454 9819.29 Q228.644 9819.59 227.787 9819.73 Q226.931 9819.87 226.074 9819.87 Q223.297 9819.87 222.232 9818.36 Q221.167 9816.83 221.167 9812.76 L221.167 9797.3 L211.607 9797.3 L211.607 9818.96 L207.255 9818.96 L207.255 9797.3 L203.945 9797.3 L203.945 9793.04 Z\" fill=\"#000000\" fill-rule=\"evenodd\" fill-opacity=\"1\" /><path clip-path=\"url(#clip400)\" d=\"M 0 0 M129.524 9603.82 L137.163 9603.82 L137.163 9577.46 L128.853 9579.12 L128.853 9574.86 L137.117 9573.2 L141.792 9573.2 L141.792 9603.82 L149.431 9603.82 L149.431 9607.76 L129.524 9607.76 L129.524 9603.82 Z\" fill=\"#000000\" fill-rule=\"evenodd\" fill-opacity=\"1\" /><path clip-path=\"url(#clip400)\" d=\"M 0 0 M155.311 9603.82 L162.95 9603.82 L162.95 9577.46 L154.64 9579.12 L154.64 9574.86 L162.903 9573.2 L167.579 9573.2 L167.579 9603.82 L175.218 9603.82 L175.218 9607.76 L155.311 9607.76 L155.311 9603.82 Z\" fill=\"#000000\" fill-rule=\"evenodd\" fill-opacity=\"1\" /><path clip-path=\"url(#clip400)\" d=\"M 0 0 M190.288 9576.28 Q186.677 9576.28 184.848 9579.84 Q183.042 9583.38 183.042 9590.51 Q183.042 9597.62 184.848 9601.18 Q186.677 9604.73 190.288 9604.73 Q193.922 9604.73 195.727 9601.18 Q197.556 9597.62 197.556 9590.51 Q197.556 9583.38 195.727 9579.84 Q193.922 9576.28 190.288 9576.28 M190.288 9572.57 Q196.098 9572.57 199.153 9577.18 Q202.232 9581.76 202.232 9590.51 Q202.232 9599.24 199.153 9603.85 Q196.098 9608.43 190.288 9608.43 Q184.477 9608.43 181.399 9603.85 Q178.343 9599.24 178.343 9590.51 Q178.343 9581.76 181.399 9577.18 Q184.477 9572.57 190.288 9572.57 Z\" fill=\"#000000\" fill-rule=\"evenodd\" fill-opacity=\"1\" /><path clip-path=\"url(#clip400)\" d=\"M 0 0 M203.945 9581.83 L228.783 9581.83 L228.783 9586.09 L225.519 9586.09 L225.519 9602.02 Q225.519 9603.68 226.074 9604.42 Q226.653 9605.14 227.926 9605.14 Q228.273 9605.14 228.783 9605.1 Q229.292 9605.03 229.454 9605 L229.454 9608.08 Q228.644 9608.38 227.787 9608.52 Q226.931 9608.66 226.074 9608.66 Q223.297 9608.66 222.232 9607.16 Q221.167 9605.63 221.167 9601.55 L221.167 9586.09 L211.607 9586.09 L211.607 9607.76 L207.255 9607.76 L207.255 9586.09 L203.945 9586.09 L203.945 9581.83 Z\" fill=\"#000000\" fill-rule=\"evenodd\" fill-opacity=\"1\" /><path clip-path=\"url(#clip400)\" d=\"M 0 0 M130.751 9392.62 L138.39 9392.62 L138.39 9366.25 L130.08 9367.92 L130.08 9363.66 L138.343 9361.99 L143.019 9361.99 L143.019 9392.62 L150.658 9392.62 L150.658 9396.55 L130.751 9396.55 L130.751 9392.62 Z\" fill=\"#000000\" fill-rule=\"evenodd\" fill-opacity=\"1\" /><path clip-path=\"url(#clip400)\" d=\"M 0 0 M156.538 9392.62 L164.177 9392.62 L164.177 9366.25 L155.866 9367.92 L155.866 9363.66 L164.13 9361.99 L168.806 9361.99 L168.806 9392.62 L176.445 9392.62 L176.445 9396.55 L156.538 9396.55 L156.538 9392.62 Z\" fill=\"#000000\" fill-rule=\"evenodd\" fill-opacity=\"1\" /><path clip-path=\"url(#clip400)\" d=\"M 0 0 M182.325 9392.62 L189.964 9392.62 L189.964 9366.25 L181.653 9367.92 L181.653 9363.66 L189.917 9361.99 L194.593 9361.99 L194.593 9392.62 L202.232 9392.62 L202.232 9396.55 L182.325 9396.55 L182.325 9392.62 Z\" fill=\"#000000\" fill-rule=\"evenodd\" fill-opacity=\"1\" /><path clip-path=\"url(#clip400)\" d=\"M 0 0 M203.945 9370.63 L228.783 9370.63 L228.783 9374.89 L225.519 9374.89 L225.519 9390.81 Q225.519 9392.48 226.074 9393.22 Q226.653 9393.94 227.926 9393.94 Q228.273 9393.94 228.783 9393.89 Q229.292 9393.82 229.454 9393.8 L229.454 9396.88 Q228.644 9397.18 227.787 9397.32 Q226.931 9397.45 226.074 9397.45 Q223.297 9397.45 222.232 9395.95 Q221.167 9394.42 221.167 9390.35 L221.167 9374.89 L211.607 9374.89 L211.607 9396.55 L207.255 9396.55 L207.255 9374.89 L203.945 9374.89 L203.945 9370.63 Z\" fill=\"#000000\" fill-rule=\"evenodd\" fill-opacity=\"1\" /><path clip-path=\"url(#clip400)\" d=\"M 0 0 M131.121 9181.41 L138.76 9181.41 L138.76 9155.04 L130.45 9156.71 L130.45 9152.45 L138.714 9150.79 L143.39 9150.79 L143.39 9181.41 L151.029 9181.41 L151.029 9185.35 L131.121 9185.35 L131.121 9181.41 Z\" fill=\"#000000\" fill-rule=\"evenodd\" fill-opacity=\"1\" /><path clip-path=\"url(#clip400)\" d=\"M 0 0 M156.908 9181.41 L164.547 9181.41 L164.547 9155.04 L156.237 9156.71 L156.237 9152.45 L164.501 9150.79 L169.177 9150.79 L169.177 9181.41 L176.815 9181.41 L176.815 9185.35 L156.908 9185.35 L156.908 9181.41 Z\" fill=\"#000000\" fill-rule=\"evenodd\" fill-opacity=\"1\" /><path clip-path=\"url(#clip400)\" d=\"M 0 0 M185.913 9181.41 L202.232 9181.41 L202.232 9185.35 L180.288 9185.35 L180.288 9181.41 Q182.95 9178.66 187.533 9174.03 Q192.139 9169.37 193.32 9168.03 Q195.565 9165.51 196.445 9163.77 Q197.348 9162.01 197.348 9160.32 Q197.348 9157.57 195.403 9155.83 Q193.482 9154.1 190.38 9154.1 Q188.181 9154.1 185.727 9154.86 Q183.297 9155.62 180.519 9157.17 L180.519 9152.45 Q183.343 9151.32 185.797 9150.74 Q188.251 9150.16 190.288 9150.16 Q195.658 9150.16 198.852 9152.85 Q202.047 9155.53 202.047 9160.02 Q202.047 9162.15 201.237 9164.07 Q200.45 9165.97 198.343 9168.56 Q197.764 9169.23 194.663 9172.45 Q191.561 9175.65 185.913 9181.41 Z\" fill=\"#000000\" fill-rule=\"evenodd\" fill-opacity=\"1\" /><path clip-path=\"url(#clip400)\" d=\"M 0 0 M203.945 9159.42 L228.783 9159.42 L228.783 9163.68 L225.519 9163.68 L225.519 9179.6 Q225.519 9181.27 226.074 9182.01 Q226.653 9182.73 227.926 9182.73 Q228.273 9182.73 228.783 9182.68 Q229.292 9182.61 229.454 9182.59 L229.454 9185.67 Q228.644 9185.97 227.787 9186.11 Q226.931 9186.25 226.074 9186.25 Q223.297 9186.25 222.232 9184.74 Q221.167 9183.22 221.167 9179.14 L221.167 9163.68 L211.607 9163.68 L211.607 9185.35 L207.255 9185.35 L207.255 9163.68 L203.945 9163.68 L203.945 9159.42 Z\" fill=\"#000000\" fill-rule=\"evenodd\" fill-opacity=\"1\" /><path clip-path=\"url(#clip400)\" d=\"M 0 0 M130.172 8970.2 L137.811 8970.2 L137.811 8943.84 L129.501 8945.5 L129.501 8941.25 L137.765 8939.58 L142.441 8939.58 L142.441 8970.2 L150.079 8970.2 L150.079 8974.14 L130.172 8974.14 L130.172 8970.2 Z\" fill=\"#000000\" fill-rule=\"evenodd\" fill-opacity=\"1\" /><path clip-path=\"url(#clip400)\" d=\"M 0 0 M155.959 8970.2 L163.598 8970.2 L163.598 8943.84 L155.288 8945.5 L155.288 8941.25 L163.552 8939.58 L168.228 8939.58 L168.228 8970.2 L175.866 8970.2 L175.866 8974.14 L155.959 8974.14 L155.959 8970.2 Z\" fill=\"#000000\" fill-rule=\"evenodd\" fill-opacity=\"1\" /><path clip-path=\"url(#clip400)\" d=\"M 0 0 M195.102 8955.5 Q198.459 8956.22 200.334 8958.49 Q202.232 8960.76 202.232 8964.09 Q202.232 8969.21 198.713 8972.01 Q195.195 8974.81 188.714 8974.81 Q186.538 8974.81 184.223 8974.37 Q181.931 8973.95 179.477 8973.1 L179.477 8968.58 Q181.422 8969.72 183.737 8970.3 Q186.052 8970.87 188.575 8970.87 Q192.973 8970.87 195.264 8969.14 Q197.579 8967.4 197.579 8964.09 Q197.579 8961.04 195.426 8959.32 Q193.297 8957.59 189.477 8957.59 L185.45 8957.59 L185.45 8953.75 L189.663 8953.75 Q193.112 8953.75 194.94 8952.38 Q196.769 8950.99 196.769 8948.4 Q196.769 8945.74 194.871 8944.32 Q192.996 8942.89 189.477 8942.89 Q187.556 8942.89 185.357 8943.31 Q183.158 8943.72 180.519 8944.6 L180.519 8940.44 Q183.181 8939.69 185.496 8939.32 Q187.834 8938.95 189.894 8938.95 Q195.218 8938.95 198.32 8941.38 Q201.422 8943.79 201.422 8947.91 Q201.422 8950.78 199.778 8952.77 Q198.135 8954.74 195.102 8955.5 Z\" fill=\"#000000\" fill-rule=\"evenodd\" fill-opacity=\"1\" /><path clip-path=\"url(#clip400)\" d=\"M 0 0 M203.945 8948.21 L228.783 8948.21 L228.783 8952.47 L225.519 8952.47 L225.519 8968.4 Q225.519 8970.06 226.074 8970.81 Q226.653 8971.52 227.926 8971.52 Q228.273 8971.52 228.783 8971.48 Q229.292 8971.41 229.454 8971.38 L229.454 8974.46 Q228.644 8974.76 227.787 8974.9 Q226.931 8975.04 226.074 8975.04 Q223.297 8975.04 222.232 8973.54 Q221.167 8972.01 221.167 8967.93 L221.167 8952.47 L211.607 8952.47 L211.607 8974.14 L207.255 8974.14 L207.255 8952.47 L203.945 8952.47 L203.945 8948.21 Z\" fill=\"#000000\" fill-rule=\"evenodd\" fill-opacity=\"1\" /><path clip-path=\"url(#clip400)\" d=\"M 0 0 M129.038 8759 L136.677 8759 L136.677 8732.63 L128.367 8734.3 L128.367 8730.04 L136.63 8728.37 L141.306 8728.37 L141.306 8759 L148.945 8759 L148.945 8762.93 L129.038 8762.93 L129.038 8759 Z\" fill=\"#000000\" fill-rule=\"evenodd\" fill-opacity=\"1\" /><path clip-path=\"url(#clip400)\" d=\"M 0 0 M154.825 8759 L162.464 8759 L162.464 8732.63 L154.154 8734.3 L154.154 8730.04 L162.417 8728.37 L167.093 8728.37 L167.093 8759 L174.732 8759 L174.732 8762.93 L154.825 8762.93 L154.825 8759 Z\" fill=\"#000000\" fill-rule=\"evenodd\" fill-opacity=\"1\" /><path clip-path=\"url(#clip400)\" d=\"M 0 0 M192.649 8732.45 L180.843 8750.9 L192.649 8750.9 L192.649 8732.45 M191.422 8728.37 L197.301 8728.37 L197.301 8750.9 L202.232 8750.9 L202.232 8754.78 L197.301 8754.78 L197.301 8762.93 L192.649 8762.93 L192.649 8754.78 L177.047 8754.78 L177.047 8750.27 L191.422 8728.37 Z\" fill=\"#000000\" fill-rule=\"evenodd\" fill-opacity=\"1\" /><path clip-path=\"url(#clip400)\" d=\"M 0 0 M203.945 8737.01 L228.783 8737.01 L228.783 8741.27 L225.519 8741.27 L225.519 8757.19 Q225.519 8758.86 226.074 8759.6 Q226.653 8760.32 227.926 8760.32 Q228.273 8760.32 228.783 8760.27 Q229.292 8760.2 229.454 8760.18 L229.454 8763.26 Q228.644 8763.56 227.787 8763.7 Q226.931 8763.83 226.074 8763.83 Q223.297 8763.83 222.232 8762.33 Q221.167 8760.8 221.167 8756.73 L221.167 8741.27 L211.607 8741.27 L211.607 8762.93 L207.255 8762.93 L207.255 8741.27 L203.945 8741.27 L203.945 8737.01 Z\" fill=\"#000000\" fill-rule=\"evenodd\" fill-opacity=\"1\" /><path clip-path=\"url(#clip400)\" d=\"M 0 0 M130.519 8547.79 L138.158 8547.79 L138.158 8521.42 L129.848 8523.09 L129.848 8518.83 L138.112 8517.17 L142.788 8517.17 L142.788 8547.79 L150.427 8547.79 L150.427 8551.73 L130.519 8551.73 L130.519 8547.79 Z\" fill=\"#000000\" fill-rule=\"evenodd\" fill-opacity=\"1\" /><path clip-path=\"url(#clip400)\" d=\"M 0 0 M156.306 8547.79 L163.945 8547.79 L163.945 8521.42 L155.635 8523.09 L155.635 8518.83 L163.899 8517.17 L168.575 8517.17 L168.575 8547.79 L176.214 8547.79 L176.214 8551.73 L156.306 8551.73 L156.306 8547.79 Z\" fill=\"#000000\" fill-rule=\"evenodd\" fill-opacity=\"1\" /><path clip-path=\"url(#clip400)\" d=\"M 0 0 M181.329 8517.17 L199.686 8517.17 L199.686 8521.1 L185.612 8521.1 L185.612 8529.57 Q186.63 8529.23 187.649 8529.06 Q188.667 8528.88 189.686 8528.88 Q195.473 8528.88 198.852 8532.05 Q202.232 8535.22 202.232 8540.64 Q202.232 8546.22 198.76 8549.32 Q195.288 8552.4 188.968 8552.4 Q186.792 8552.4 184.524 8552.03 Q182.278 8551.66 179.871 8550.92 L179.871 8546.22 Q181.954 8547.35 184.177 8547.91 Q186.399 8548.46 188.876 8548.46 Q192.88 8548.46 195.218 8546.36 Q197.556 8544.25 197.556 8540.64 Q197.556 8537.03 195.218 8534.92 Q192.88 8532.81 188.876 8532.81 Q187.001 8532.81 185.126 8533.23 Q183.274 8533.65 181.329 8534.53 L181.329 8517.17 Z\" fill=\"#000000\" fill-rule=\"evenodd\" fill-opacity=\"1\" /><path clip-path=\"url(#clip400)\" d=\"M 0 0 M203.945 8525.8 L228.783 8525.8 L228.783 8530.06 L225.519 8530.06 L225.519 8545.98 Q225.519 8547.65 226.074 8548.39 Q226.653 8549.11 227.926 8549.11 Q228.273 8549.11 228.783 8549.06 Q229.292 8548.99 229.454 8548.97 L229.454 8552.05 Q228.644 8552.35 227.787 8552.49 Q226.931 8552.63 226.074 8552.63 Q223.297 8552.63 222.232 8551.12 Q221.167 8549.6 221.167 8545.52 L221.167 8530.06 L211.607 8530.06 L211.607 8551.73 L207.255 8551.73 L207.255 8530.06 L203.945 8530.06 L203.945 8525.8 Z\" fill=\"#000000\" fill-rule=\"evenodd\" fill-opacity=\"1\" /><path clip-path=\"url(#clip400)\" d=\"M 0 0 M129.362 8336.58 L137.001 8336.58 L137.001 8310.22 L128.691 8311.89 L128.691 8307.63 L136.955 8305.96 L141.63 8305.96 L141.63 8336.58 L149.269 8336.58 L149.269 8340.52 L129.362 8340.52 L129.362 8336.58 Z\" fill=\"#000000\" fill-rule=\"evenodd\" fill-opacity=\"1\" /><path clip-path=\"url(#clip400)\" d=\"M 0 0 M155.149 8336.58 L162.788 8336.58 L162.788 8310.22 L154.478 8311.89 L154.478 8307.63 L162.741 8305.96 L167.417 8305.96 L167.417 8336.58 L175.056 8336.58 L175.056 8340.52 L155.149 8340.52 L155.149 8336.58 Z\" fill=\"#000000\" fill-rule=\"evenodd\" fill-opacity=\"1\" /><path clip-path=\"url(#clip400)\" d=\"M 0 0 M190.704 8321.38 Q187.556 8321.38 185.704 8323.53 Q183.876 8325.68 183.876 8329.43 Q183.876 8333.16 185.704 8335.33 Q187.556 8337.49 190.704 8337.49 Q193.852 8337.49 195.681 8335.33 Q197.533 8333.16 197.533 8329.43 Q197.533 8325.68 195.681 8323.53 Q193.852 8321.38 190.704 8321.38 M199.987 8306.72 L199.987 8310.98 Q198.227 8310.15 196.422 8309.71 Q194.639 8309.27 192.88 8309.27 Q188.251 8309.27 185.797 8312.39 Q183.366 8315.52 183.019 8321.84 Q184.385 8319.82 186.445 8318.76 Q188.505 8317.67 190.982 8317.67 Q196.19 8317.67 199.2 8320.84 Q202.232 8323.99 202.232 8329.43 Q202.232 8334.76 199.084 8337.97 Q195.936 8341.19 190.704 8341.19 Q184.709 8341.19 181.538 8336.61 Q178.366 8332 178.366 8323.27 Q178.366 8315.08 182.255 8310.22 Q186.144 8305.33 192.695 8305.33 Q194.454 8305.33 196.237 8305.68 Q198.042 8306.03 199.987 8306.72 Z\" fill=\"#000000\" fill-rule=\"evenodd\" fill-opacity=\"1\" /><path clip-path=\"url(#clip400)\" d=\"M 0 0 M203.945 8314.59 L228.783 8314.59 L228.783 8318.85 L225.519 8318.85 L225.519 8334.78 Q225.519 8336.45 226.074 8337.19 Q226.653 8337.9 227.926 8337.9 Q228.273 8337.9 228.783 8337.86 Q229.292 8337.79 229.454 8337.76 L229.454 8340.84 Q228.644 8341.14 227.787 8341.28 Q226.931 8341.42 226.074 8341.42 Q223.297 8341.42 222.232 8339.92 Q221.167 8338.39 221.167 8334.32 L221.167 8318.85 L211.607 8318.85 L211.607 8340.52 L207.255 8340.52 L207.255 8318.85 L203.945 8318.85 L203.945 8314.59 Z\" fill=\"#000000\" fill-rule=\"evenodd\" fill-opacity=\"1\" /><path clip-path=\"url(#clip400)\" d=\"M 0 0 M130.427 8125.38 L138.066 8125.38 L138.066 8099.01 L129.756 8100.68 L129.756 8096.42 L138.019 8094.75 L142.695 8094.75 L142.695 8125.38 L150.334 8125.38 L150.334 8129.31 L130.427 8129.31 L130.427 8125.38 Z\" fill=\"#000000\" fill-rule=\"evenodd\" fill-opacity=\"1\" /><path clip-path=\"url(#clip400)\" d=\"M 0 0 M156.214 8125.38 L163.853 8125.38 L163.853 8099.01 L155.542 8100.68 L155.542 8096.42 L163.806 8094.75 L168.482 8094.75 L168.482 8125.38 L176.121 8125.38 L176.121 8129.31 L156.214 8129.31 L156.214 8125.38 Z\" fill=\"#000000\" fill-rule=\"evenodd\" fill-opacity=\"1\" /><path clip-path=\"url(#clip400)\" d=\"M 0 0 M180.01 8094.75 L202.232 8094.75 L202.232 8096.74 L189.686 8129.31 L184.802 8129.31 L196.607 8098.69 L180.01 8098.69 L180.01 8094.75 Z\" fill=\"#000000\" fill-rule=\"evenodd\" fill-opacity=\"1\" /><path clip-path=\"url(#clip400)\" d=\"M 0 0 M203.945 8103.39 L228.783 8103.39 L228.783 8107.65 L225.519 8107.65 L225.519 8123.57 Q225.519 8125.24 226.074 8125.98 Q226.653 8126.7 227.926 8126.7 Q228.273 8126.7 228.783 8126.65 Q229.292 8126.58 229.454 8126.56 L229.454 8129.64 Q228.644 8129.94 227.787 8130.08 Q226.931 8130.22 226.074 8130.22 Q223.297 8130.22 222.232 8128.71 Q221.167 8127.18 221.167 8123.11 L221.167 8107.65 L211.607 8107.65 L211.607 8129.31 L207.255 8129.31 L207.255 8107.65 L203.945 8107.65 L203.945 8103.39 Z\" fill=\"#000000\" fill-rule=\"evenodd\" fill-opacity=\"1\" /><path clip-path=\"url(#clip400)\" d=\"M 0 0 M129.617 7914.17 L137.255 7914.17 L137.255 7887.81 L128.945 7889.47 L128.945 7885.21 L137.209 7883.55 L141.885 7883.55 L141.885 7914.17 L149.524 7914.17 L149.524 7918.11 L129.617 7918.11 L129.617 7914.17 Z\" fill=\"#000000\" fill-rule=\"evenodd\" fill-opacity=\"1\" /><path clip-path=\"url(#clip400)\" d=\"M 0 0 M155.404 7914.17 L163.042 7914.17 L163.042 7887.81 L154.732 7889.47 L154.732 7885.21 L162.996 7883.55 L167.672 7883.55 L167.672 7914.17 L175.311 7914.17 L175.311 7918.11 L155.404 7918.11 L155.404 7914.17 Z\" fill=\"#000000\" fill-rule=\"evenodd\" fill-opacity=\"1\" /><path clip-path=\"url(#clip400)\" d=\"M 0 0 M190.38 7901.69 Q187.047 7901.69 185.126 7903.48 Q183.227 7905.26 183.227 7908.38 Q183.227 7911.51 185.126 7913.29 Q187.047 7915.07 190.38 7915.07 Q193.713 7915.07 195.635 7913.29 Q197.556 7911.49 197.556 7908.38 Q197.556 7905.26 195.635 7903.48 Q193.737 7901.69 190.38 7901.69 M185.704 7899.7 Q182.695 7898.96 181.005 7896.9 Q179.339 7894.84 179.339 7891.88 Q179.339 7887.74 182.278 7885.33 Q185.241 7882.92 190.38 7882.92 Q195.542 7882.92 198.482 7885.33 Q201.422 7887.74 201.422 7891.88 Q201.422 7894.84 199.732 7896.9 Q198.065 7898.96 195.079 7899.7 Q198.459 7900.49 200.334 7902.78 Q202.232 7905.07 202.232 7908.38 Q202.232 7913.41 199.153 7916.09 Q196.098 7918.78 190.38 7918.78 Q184.663 7918.78 181.584 7916.09 Q178.528 7913.41 178.528 7908.38 Q178.528 7905.07 180.427 7902.78 Q182.325 7900.49 185.704 7899.7 M183.991 7892.32 Q183.991 7895 185.658 7896.51 Q187.348 7898.01 190.38 7898.01 Q193.389 7898.01 195.079 7896.51 Q196.792 7895 196.792 7892.32 Q196.792 7889.63 195.079 7888.13 Q193.389 7886.62 190.38 7886.62 Q187.348 7886.62 185.658 7888.13 Q183.991 7889.63 183.991 7892.32 Z\" fill=\"#000000\" fill-rule=\"evenodd\" fill-opacity=\"1\" /><path clip-path=\"url(#clip400)\" d=\"M 0 0 M203.945 7892.18 L228.783 7892.18 L228.783 7896.44 L225.519 7896.44 L225.519 7912.37 Q225.519 7914.03 226.074 7914.77 Q226.653 7915.49 227.926 7915.49 Q228.273 7915.49 228.783 7915.44 Q229.292 7915.37 229.454 7915.35 L229.454 7918.43 Q228.644 7918.73 227.787 7918.87 Q226.931 7919.01 226.074 7919.01 Q223.297 7919.01 222.232 7917.5 Q221.167 7915.98 221.167 7911.9 L221.167 7896.44 L211.607 7896.44 L211.607 7918.11 L207.255 7918.11 L207.255 7896.44 L203.945 7896.44 L203.945 7892.18 Z\" fill=\"#000000\" fill-rule=\"evenodd\" fill-opacity=\"1\" /><path clip-path=\"url(#clip400)\" d=\"M 0 0 M129.709 7702.96 L137.348 7702.96 L137.348 7676.6 L129.038 7678.27 L129.038 7674.01 L137.302 7672.34 L141.978 7672.34 L141.978 7702.96 L149.617 7702.96 L149.617 7706.9 L129.709 7706.9 L129.709 7702.96 Z\" fill=\"#000000\" fill-rule=\"evenodd\" fill-opacity=\"1\" /><path clip-path=\"url(#clip400)\" d=\"M 0 0 M155.496 7702.96 L163.135 7702.96 L163.135 7676.6 L154.825 7678.27 L154.825 7674.01 L163.089 7672.34 L167.765 7672.34 L167.765 7702.96 L175.403 7702.96 L175.403 7706.9 L155.496 7706.9 L155.496 7702.96 Z\" fill=\"#000000\" fill-rule=\"evenodd\" fill-opacity=\"1\" /><path clip-path=\"url(#clip400)\" d=\"M 0 0 M180.612 7706.18 L180.612 7701.92 Q182.371 7702.76 184.177 7703.2 Q185.982 7703.64 187.718 7703.64 Q192.348 7703.64 194.778 7700.53 Q197.232 7697.41 197.579 7691.07 Q196.237 7693.06 194.176 7694.12 Q192.116 7695.19 189.616 7695.19 Q184.431 7695.19 181.399 7692.06 Q178.39 7688.91 178.39 7683.47 Q178.39 7678.15 181.538 7674.93 Q184.686 7671.71 189.917 7671.71 Q195.913 7671.71 199.061 7676.32 Q202.232 7680.9 202.232 7689.65 Q202.232 7697.83 198.343 7702.71 Q194.477 7707.57 187.926 7707.57 Q186.167 7707.57 184.362 7707.22 Q182.556 7706.88 180.612 7706.18 M189.917 7691.53 Q193.065 7691.53 194.894 7689.38 Q196.746 7687.22 196.746 7683.47 Q196.746 7679.75 194.894 7677.59 Q193.065 7675.42 189.917 7675.42 Q186.769 7675.42 184.917 7677.59 Q183.089 7679.75 183.089 7683.47 Q183.089 7687.22 184.917 7689.38 Q186.769 7691.53 189.917 7691.53 Z\" fill=\"#000000\" fill-rule=\"evenodd\" fill-opacity=\"1\" /><path clip-path=\"url(#clip400)\" d=\"M 0 0 M203.945 7680.97 L228.783 7680.97 L228.783 7685.23 L225.519 7685.23 L225.519 7701.16 Q225.519 7702.83 226.074 7703.57 Q226.653 7704.28 227.926 7704.28 Q228.273 7704.28 228.783 7704.24 Q229.292 7704.17 229.454 7704.15 L229.454 7707.22 Q228.644 7707.52 227.787 7707.66 Q226.931 7707.8 226.074 7707.8 Q223.297 7707.8 222.232 7706.3 Q221.167 7704.77 221.167 7700.7 L221.167 7685.23 L211.607 7685.23 L211.607 7706.9 L207.255 7706.9 L207.255 7685.23 L203.945 7685.23 L203.945 7680.97 Z\" fill=\"#000000\" fill-rule=\"evenodd\" fill-opacity=\"1\" /><path clip-path=\"url(#clip400)\" d=\"M 0 0 M129.894 7491.76 L137.533 7491.76 L137.533 7465.39 L129.223 7467.06 L129.223 7462.8 L137.487 7461.13 L142.163 7461.13 L142.163 7491.76 L149.802 7491.76 L149.802 7495.69 L129.894 7495.69 L129.894 7491.76 Z\" fill=\"#000000\" fill-rule=\"evenodd\" fill-opacity=\"1\" /><path clip-path=\"url(#clip400)\" d=\"M 0 0 M158.899 7491.76 L175.218 7491.76 L175.218 7495.69 L153.274 7495.69 L153.274 7491.76 Q155.936 7489 160.519 7484.37 Q165.126 7479.72 166.306 7478.38 Q168.552 7475.86 169.431 7474.12 Q170.334 7472.36 170.334 7470.67 Q170.334 7467.92 168.39 7466.18 Q166.468 7464.44 163.366 7464.44 Q161.167 7464.44 158.714 7465.21 Q156.283 7465.97 153.505 7467.52 L153.505 7462.8 Q156.329 7461.67 158.783 7461.09 Q161.237 7460.51 163.274 7460.51 Q168.644 7460.51 171.839 7463.19 Q175.033 7465.88 175.033 7470.37 Q175.033 7472.5 174.223 7474.42 Q173.436 7476.32 171.329 7478.91 Q170.751 7479.58 167.649 7482.8 Q164.547 7485.99 158.899 7491.76 Z\" fill=\"#000000\" fill-rule=\"evenodd\" fill-opacity=\"1\" /><path clip-path=\"url(#clip400)\" d=\"M 0 0 M190.288 7464.21 Q186.677 7464.21 184.848 7467.78 Q183.042 7471.32 183.042 7478.45 Q183.042 7485.55 184.848 7489.12 Q186.677 7492.66 190.288 7492.66 Q193.922 7492.66 195.727 7489.12 Q197.556 7485.55 197.556 7478.45 Q197.556 7471.32 195.727 7467.78 Q193.922 7464.21 190.288 7464.21 M190.288 7460.51 Q196.098 7460.51 199.153 7465.11 Q202.232 7469.7 202.232 7478.45 Q202.232 7487.17 199.153 7491.78 Q196.098 7496.36 190.288 7496.36 Q184.477 7496.36 181.399 7491.78 Q178.343 7487.17 178.343 7478.45 Q178.343 7469.7 181.399 7465.11 Q184.477 7460.51 190.288 7460.51 Z\" fill=\"#000000\" fill-rule=\"evenodd\" fill-opacity=\"1\" /><path clip-path=\"url(#clip400)\" d=\"M 0 0 M203.945 7469.77 L228.783 7469.77 L228.783 7474.03 L225.519 7474.03 L225.519 7489.95 Q225.519 7491.62 226.074 7492.36 Q226.653 7493.08 227.926 7493.08 Q228.273 7493.08 228.783 7493.03 Q229.292 7492.96 229.454 7492.94 L229.454 7496.02 Q228.644 7496.32 227.787 7496.46 Q226.931 7496.6 226.074 7496.6 Q223.297 7496.6 222.232 7495.09 Q221.167 7493.56 221.167 7489.49 L221.167 7474.03 L211.607 7474.03 L211.607 7495.69 L207.255 7495.69 L207.255 7474.03 L203.945 7474.03 L203.945 7469.77 Z\" fill=\"#000000\" fill-rule=\"evenodd\" fill-opacity=\"1\" /><path clip-path=\"url(#clip400)\" d=\"M 0 0 M131.121 7280.55 L138.76 7280.55 L138.76 7254.19 L130.45 7255.85 L130.45 7251.59 L138.714 7249.93 L143.39 7249.93 L143.39 7280.55 L151.029 7280.55 L151.029 7284.49 L131.121 7284.49 L131.121 7280.55 Z\" fill=\"#000000\" fill-rule=\"evenodd\" fill-opacity=\"1\" /><path clip-path=\"url(#clip400)\" d=\"M 0 0 M160.126 7280.55 L176.445 7280.55 L176.445 7284.49 L154.501 7284.49 L154.501 7280.55 Q157.163 7277.8 161.746 7273.17 Q166.353 7268.51 167.533 7267.17 Q169.778 7264.65 170.658 7262.91 Q171.561 7261.15 171.561 7259.46 Q171.561 7256.71 169.616 7254.97 Q167.695 7253.24 164.593 7253.24 Q162.394 7253.24 159.941 7254 Q157.51 7254.76 154.732 7256.32 L154.732 7251.59 Q157.556 7250.46 160.01 7249.88 Q162.464 7249.3 164.501 7249.3 Q169.871 7249.3 173.065 7251.99 Q176.26 7254.67 176.26 7259.16 Q176.26 7261.29 175.45 7263.21 Q174.663 7265.11 172.556 7267.7 Q171.978 7268.38 168.876 7271.59 Q165.774 7274.79 160.126 7280.55 Z\" fill=\"#000000\" fill-rule=\"evenodd\" fill-opacity=\"1\" /><path clip-path=\"url(#clip400)\" d=\"M 0 0 M182.325 7280.55 L189.964 7280.55 L189.964 7254.19 L181.653 7255.85 L181.653 7251.59 L189.917 7249.93 L194.593 7249.93 L194.593 7280.55 L202.232 7280.55 L202.232 7284.49 L182.325 7284.49 L182.325 7280.55 Z\" fill=\"#000000\" fill-rule=\"evenodd\" fill-opacity=\"1\" /><path clip-path=\"url(#clip400)\" d=\"M 0 0 M203.945 7258.56 L228.783 7258.56 L228.783 7262.82 L225.519 7262.82 L225.519 7278.75 Q225.519 7280.41 226.074 7281.15 Q226.653 7281.87 227.926 7281.87 Q228.273 7281.87 228.783 7281.82 Q229.292 7281.76 229.454 7281.73 L229.454 7284.81 Q228.644 7285.11 227.787 7285.25 Q226.931 7285.39 226.074 7285.39 Q223.297 7285.39 222.232 7283.88 Q221.167 7282.36 221.167 7278.28 L221.167 7262.82 L211.607 7262.82 L211.607 7284.49 L207.255 7284.49 L207.255 7262.82 L203.945 7262.82 L203.945 7258.56 Z\" fill=\"#000000\" fill-rule=\"evenodd\" fill-opacity=\"1\" /><path clip-path=\"url(#clip400)\" d=\"M 0 0 M131.492 7069.34 L139.13 7069.34 L139.13 7042.98 L130.82 7044.65 L130.82 7040.39 L139.084 7038.72 L143.76 7038.72 L143.76 7069.34 L151.399 7069.34 L151.399 7073.28 L131.492 7073.28 L131.492 7069.34 Z\" fill=\"#000000\" fill-rule=\"evenodd\" fill-opacity=\"1\" /><path clip-path=\"url(#clip400)\" d=\"M 0 0 M160.496 7069.34 L176.815 7069.34 L176.815 7073.28 L154.871 7073.28 L154.871 7069.34 Q157.533 7066.59 162.116 7061.96 Q166.723 7057.31 167.903 7055.97 Q170.149 7053.44 171.028 7051.71 Q171.931 7049.95 171.931 7048.26 Q171.931 7045.5 169.987 7043.77 Q168.065 7042.03 164.964 7042.03 Q162.765 7042.03 160.311 7042.79 Q157.88 7043.56 155.103 7045.11 L155.103 7040.39 Q157.927 7039.25 160.38 7038.67 Q162.834 7038.1 164.871 7038.1 Q170.241 7038.1 173.436 7040.78 Q176.63 7043.47 176.63 7047.96 Q176.63 7050.09 175.82 7052.01 Q175.033 7053.91 172.927 7056.5 Q172.348 7057.17 169.246 7060.39 Q166.144 7063.58 160.496 7069.34 Z\" fill=\"#000000\" fill-rule=\"evenodd\" fill-opacity=\"1\" /><path clip-path=\"url(#clip400)\" d=\"M 0 0 M185.913 7069.34 L202.232 7069.34 L202.232 7073.28 L180.288 7073.28 L180.288 7069.34 Q182.95 7066.59 187.533 7061.96 Q192.139 7057.31 193.32 7055.97 Q195.565 7053.44 196.445 7051.71 Q197.348 7049.95 197.348 7048.26 Q197.348 7045.5 195.403 7043.77 Q193.482 7042.03 190.38 7042.03 Q188.181 7042.03 185.727 7042.79 Q183.297 7043.56 180.519 7045.11 L180.519 7040.39 Q183.343 7039.25 185.797 7038.67 Q188.251 7038.1 190.288 7038.1 Q195.658 7038.1 198.852 7040.78 Q202.047 7043.47 202.047 7047.96 Q202.047 7050.09 201.237 7052.01 Q200.45 7053.91 198.343 7056.5 Q197.764 7057.17 194.663 7060.39 Q191.561 7063.58 185.913 7069.34 Z\" fill=\"#000000\" fill-rule=\"evenodd\" fill-opacity=\"1\" /><path clip-path=\"url(#clip400)\" d=\"M 0 0 M203.945 7047.35 L228.783 7047.35 L228.783 7051.61 L225.519 7051.61 L225.519 7067.54 Q225.519 7069.21 226.074 7069.95 Q226.653 7070.66 227.926 7070.66 Q228.273 7070.66 228.783 7070.62 Q229.292 7070.55 229.454 7070.53 L229.454 7073.6 Q228.644 7073.91 227.787 7074.04 Q226.931 7074.18 226.074 7074.18 Q223.297 7074.18 222.232 7072.68 Q221.167 7071.15 221.167 7067.08 L221.167 7051.61 L211.607 7051.61 L211.607 7073.28 L207.255 7073.28 L207.255 7051.61 L203.945 7051.61 L203.945 7047.35 Z\" fill=\"#000000\" fill-rule=\"evenodd\" fill-opacity=\"1\" /><path clip-path=\"url(#clip400)\" d=\"M 0 0 M130.543 6858.14 L138.181 6858.14 L138.181 6831.77 L129.871 6833.44 L129.871 6829.18 L138.135 6827.51 L142.811 6827.51 L142.811 6858.14 L150.45 6858.14 L150.45 6862.07 L130.543 6862.07 L130.543 6858.14 Z\" fill=\"#000000\" fill-rule=\"evenodd\" fill-opacity=\"1\" /><path clip-path=\"url(#clip400)\" d=\"M 0 0 M159.547 6858.14 L175.866 6858.14 L175.866 6862.07 L153.922 6862.07 L153.922 6858.14 Q156.584 6855.38 161.167 6850.75 Q165.774 6846.1 166.954 6844.76 Q169.2 6842.24 170.079 6840.5 Q170.982 6838.74 170.982 6837.05 Q170.982 6834.3 169.038 6832.56 Q167.116 6830.82 164.015 6830.82 Q161.816 6830.82 159.362 6831.59 Q156.931 6832.35 154.154 6833.9 L154.154 6829.18 Q156.978 6828.05 159.431 6827.47 Q161.885 6826.89 163.922 6826.89 Q169.292 6826.89 172.487 6829.57 Q175.681 6832.26 175.681 6836.75 Q175.681 6838.88 174.871 6840.8 Q174.084 6842.7 171.978 6845.29 Q171.399 6845.96 168.297 6849.18 Q165.195 6852.37 159.547 6858.14 Z\" fill=\"#000000\" fill-rule=\"evenodd\" fill-opacity=\"1\" /><path clip-path=\"url(#clip400)\" d=\"M 0 0 M195.102 6843.44 Q198.459 6844.16 200.334 6846.43 Q202.232 6848.69 202.232 6852.03 Q202.232 6857.14 198.713 6859.94 Q195.195 6862.74 188.714 6862.74 Q186.538 6862.74 184.223 6862.31 Q181.931 6861.89 179.477 6861.03 L179.477 6856.52 Q181.422 6857.65 183.737 6858.23 Q186.052 6858.81 188.575 6858.81 Q192.973 6858.81 195.264 6857.07 Q197.579 6855.34 197.579 6852.03 Q197.579 6848.97 195.426 6847.26 Q193.297 6845.52 189.477 6845.52 L185.45 6845.52 L185.45 6841.68 L189.663 6841.68 Q193.112 6841.68 194.94 6840.31 Q196.769 6838.93 196.769 6836.33 Q196.769 6833.67 194.871 6832.26 Q192.996 6830.82 189.477 6830.82 Q187.556 6830.82 185.357 6831.24 Q183.158 6831.66 180.519 6832.54 L180.519 6828.37 Q183.181 6827.63 185.496 6827.26 Q187.834 6826.89 189.894 6826.89 Q195.218 6826.89 198.32 6829.32 Q201.422 6831.73 201.422 6835.85 Q201.422 6838.72 199.778 6840.71 Q198.135 6842.68 195.102 6843.44 Z\" fill=\"#000000\" fill-rule=\"evenodd\" fill-opacity=\"1\" /><path clip-path=\"url(#clip400)\" d=\"M 0 0 M203.945 6836.15 L228.783 6836.15 L228.783 6840.41 L225.519 6840.41 L225.519 6856.33 Q225.519 6858 226.074 6858.74 Q226.653 6859.46 227.926 6859.46 Q228.273 6859.46 228.783 6859.41 Q229.292 6859.34 229.454 6859.32 L229.454 6862.4 Q228.644 6862.7 227.787 6862.84 Q226.931 6862.98 226.074 6862.98 Q223.297 6862.98 222.232 6861.47 Q221.167 6859.94 221.167 6855.87 L221.167 6840.41 L211.607 6840.41 L211.607 6862.07 L207.255 6862.07 L207.255 6840.41 L203.945 6840.41 L203.945 6836.15 Z\" fill=\"#000000\" fill-rule=\"evenodd\" fill-opacity=\"1\" /><path clip-path=\"url(#clip400)\" d=\"M 0 0 M129.408 6646.93 L137.047 6646.93 L137.047 6620.57 L128.737 6622.23 L128.737 6617.97 L137.001 6616.31 L141.677 6616.31 L141.677 6646.93 L149.316 6646.93 L149.316 6650.87 L129.408 6650.87 L129.408 6646.93 Z\" fill=\"#000000\" fill-rule=\"evenodd\" fill-opacity=\"1\" /><path clip-path=\"url(#clip400)\" d=\"M 0 0 M158.413 6646.93 L174.732 6646.93 L174.732 6650.87 L152.788 6650.87 L152.788 6646.93 Q155.45 6644.18 160.033 6639.55 Q164.64 6634.89 165.82 6633.55 Q168.065 6631.03 168.945 6629.29 Q169.848 6627.53 169.848 6625.84 Q169.848 6623.09 167.903 6621.35 Q165.982 6619.62 162.88 6619.62 Q160.681 6619.62 158.228 6620.38 Q155.797 6621.15 153.019 6622.7 L153.019 6617.97 Q155.843 6616.84 158.297 6616.26 Q160.751 6615.68 162.788 6615.68 Q168.158 6615.68 171.353 6618.37 Q174.547 6621.05 174.547 6625.54 Q174.547 6627.67 173.737 6629.59 Q172.95 6631.49 170.843 6634.08 Q170.265 6634.76 167.163 6637.97 Q164.061 6641.17 158.413 6646.93 Z\" fill=\"#000000\" fill-rule=\"evenodd\" fill-opacity=\"1\" /><path clip-path=\"url(#clip400)\" d=\"M 0 0 M192.649 6620.38 L180.843 6638.83 L192.649 6638.83 L192.649 6620.38 M191.422 6616.31 L197.301 6616.31 L197.301 6638.83 L202.232 6638.83 L202.232 6642.72 L197.301 6642.72 L197.301 6650.87 L192.649 6650.87 L192.649 6642.72 L177.047 6642.72 L177.047 6638.21 L191.422 6616.31 Z\" fill=\"#000000\" fill-rule=\"evenodd\" fill-opacity=\"1\" /><path clip-path=\"url(#clip400)\" d=\"M 0 0 M203.945 6624.94 L228.783 6624.94 L228.783 6629.2 L225.519 6629.2 L225.519 6645.13 Q225.519 6646.79 226.074 6647.53 Q226.653 6648.25 227.926 6648.25 Q228.273 6648.25 228.783 6648.21 Q229.292 6648.14 229.454 6648.11 L229.454 6651.19 Q228.644 6651.49 227.787 6651.63 Q226.931 6651.77 226.074 6651.77 Q223.297 6651.77 222.232 6650.27 Q221.167 6648.74 221.167 6644.66 L221.167 6629.2 L211.607 6629.2 L211.607 6650.87 L207.255 6650.87 L207.255 6629.2 L203.945 6629.2 L203.945 6624.94 Z\" fill=\"#000000\" fill-rule=\"evenodd\" fill-opacity=\"1\" /><path clip-path=\"url(#clip400)\" d=\"M 0 0 M130.89 6435.73 L138.529 6435.73 L138.529 6409.36 L130.218 6411.03 L130.218 6406.77 L138.482 6405.1 L143.158 6405.1 L143.158 6435.73 L150.797 6435.73 L150.797 6439.66 L130.89 6439.66 L130.89 6435.73 Z\" fill=\"#000000\" fill-rule=\"evenodd\" fill-opacity=\"1\" /><path clip-path=\"url(#clip400)\" d=\"M 0 0 M159.894 6435.73 L176.214 6435.73 L176.214 6439.66 L154.269 6439.66 L154.269 6435.73 Q156.931 6432.97 161.515 6428.34 Q166.121 6423.69 167.302 6422.35 Q169.547 6419.82 170.427 6418.09 Q171.329 6416.33 171.329 6414.64 Q171.329 6411.88 169.385 6410.15 Q167.464 6408.41 164.362 6408.41 Q162.163 6408.41 159.709 6409.17 Q157.279 6409.94 154.501 6411.49 L154.501 6406.77 Q157.325 6405.63 159.778 6405.05 Q162.232 6404.48 164.269 6404.48 Q169.64 6404.48 172.834 6407.16 Q176.028 6409.85 176.028 6414.34 Q176.028 6416.47 175.218 6418.39 Q174.431 6420.29 172.325 6422.88 Q171.746 6423.55 168.644 6426.77 Q165.542 6429.96 159.894 6435.73 Z\" fill=\"#000000\" fill-rule=\"evenodd\" fill-opacity=\"1\" /><path clip-path=\"url(#clip400)\" d=\"M 0 0 M181.329 6405.1 L199.686 6405.1 L199.686 6409.04 L185.612 6409.04 L185.612 6417.51 Q186.63 6417.16 187.649 6417 Q188.667 6416.81 189.686 6416.81 Q195.473 6416.81 198.852 6419.98 Q202.232 6423.16 202.232 6428.57 Q202.232 6434.15 198.76 6437.25 Q195.288 6440.33 188.968 6440.33 Q186.792 6440.33 184.524 6439.96 Q182.278 6439.59 179.871 6438.85 L179.871 6434.15 Q181.954 6435.29 184.177 6435.84 Q186.399 6436.4 188.876 6436.4 Q192.88 6436.4 195.218 6434.29 Q197.556 6432.18 197.556 6428.57 Q197.556 6424.96 195.218 6422.86 Q192.88 6420.75 188.876 6420.75 Q187.001 6420.75 185.126 6421.17 Q183.274 6421.58 181.329 6422.46 L181.329 6405.1 Z\" fill=\"#000000\" fill-rule=\"evenodd\" fill-opacity=\"1\" /><path clip-path=\"url(#clip400)\" d=\"M 0 0 M203.945 6413.73 L228.783 6413.73 L228.783 6417.99 L225.519 6417.99 L225.519 6433.92 Q225.519 6435.59 226.074 6436.33 Q226.653 6437.04 227.926 6437.04 Q228.273 6437.04 228.783 6437 Q229.292 6436.93 229.454 6436.91 L229.454 6439.98 Q228.644 6440.29 227.787 6440.42 Q226.931 6440.56 226.074 6440.56 Q223.297 6440.56 222.232 6439.06 Q221.167 6437.53 221.167 6433.46 L221.167 6417.99 L211.607 6417.99 L211.607 6439.66 L207.255 6439.66 L207.255 6417.99 L203.945 6417.99 L203.945 6413.73 Z\" fill=\"#000000\" fill-rule=\"evenodd\" fill-opacity=\"1\" /><path clip-path=\"url(#clip400)\" d=\"M 0 0 M129.732 6224.52 L137.371 6224.52 L137.371 6198.15 L129.061 6199.82 L129.061 6195.56 L137.325 6193.89 L142.001 6193.89 L142.001 6224.52 L149.64 6224.52 L149.64 6228.45 L129.732 6228.45 L129.732 6224.52 Z\" fill=\"#000000\" fill-rule=\"evenodd\" fill-opacity=\"1\" /><path clip-path=\"url(#clip400)\" d=\"M 0 0 M158.737 6224.52 L175.056 6224.52 L175.056 6228.45 L153.112 6228.45 L153.112 6224.52 Q155.774 6221.76 160.357 6217.13 Q164.964 6212.48 166.144 6211.14 Q168.39 6208.62 169.269 6206.88 Q170.172 6205.12 170.172 6203.43 Q170.172 6200.68 168.228 6198.94 Q166.306 6197.2 163.204 6197.2 Q161.005 6197.2 158.552 6197.97 Q156.121 6198.73 153.343 6200.28 L153.343 6195.56 Q156.167 6194.43 158.621 6193.85 Q161.075 6193.27 163.112 6193.27 Q168.482 6193.27 171.677 6195.95 Q174.871 6198.64 174.871 6203.13 Q174.871 6205.26 174.061 6207.18 Q173.274 6209.08 171.167 6211.67 Q170.589 6212.34 167.487 6215.56 Q164.385 6218.76 158.737 6224.52 Z\" fill=\"#000000\" fill-rule=\"evenodd\" fill-opacity=\"1\" /><path clip-path=\"url(#clip400)\" d=\"M 0 0 M190.704 6209.31 Q187.556 6209.31 185.704 6211.46 Q183.876 6213.62 183.876 6217.37 Q183.876 6221.09 185.704 6223.27 Q187.556 6225.42 190.704 6225.42 Q193.852 6225.42 195.681 6223.27 Q197.533 6221.09 197.533 6217.37 Q197.533 6213.62 195.681 6211.46 Q193.852 6209.31 190.704 6209.31 M199.987 6194.66 L199.987 6198.92 Q198.227 6198.08 196.422 6197.64 Q194.639 6197.2 192.88 6197.2 Q188.251 6197.2 185.797 6200.33 Q183.366 6203.45 183.019 6209.77 Q184.385 6207.76 186.445 6206.69 Q188.505 6205.61 190.982 6205.61 Q196.19 6205.61 199.2 6208.78 Q202.232 6211.93 202.232 6217.37 Q202.232 6222.69 199.084 6225.91 Q195.936 6229.13 190.704 6229.13 Q184.709 6229.13 181.538 6224.54 Q178.366 6219.94 178.366 6211.21 Q178.366 6203.01 182.255 6198.15 Q186.144 6193.27 192.695 6193.27 Q194.454 6193.27 196.237 6193.62 Q198.042 6193.96 199.987 6194.66 Z\" fill=\"#000000\" fill-rule=\"evenodd\" fill-opacity=\"1\" /><path clip-path=\"url(#clip400)\" d=\"M 0 0 M203.945 6202.53 L228.783 6202.53 L228.783 6206.79 L225.519 6206.79 L225.519 6222.71 Q225.519 6224.38 226.074 6225.12 Q226.653 6225.84 227.926 6225.84 Q228.273 6225.84 228.783 6225.79 Q229.292 6225.72 229.454 6225.7 L229.454 6228.78 Q228.644 6229.08 227.787 6229.22 Q226.931 6229.36 226.074 6229.36 Q223.297 6229.36 222.232 6227.85 Q221.167 6226.32 221.167 6222.25 L221.167 6206.79 L211.607 6206.79 L211.607 6228.45 L207.255 6228.45 L207.255 6206.79 L203.945 6206.79 L203.945 6202.53 Z\" fill=\"#000000\" fill-rule=\"evenodd\" fill-opacity=\"1\" /><path clip-path=\"url(#clip400)\" d=\"M 0 0 M130.797 6013.31 L138.436 6013.31 L138.436 5986.95 L130.126 5988.61 L130.126 5984.35 L138.39 5982.69 L143.066 5982.69 L143.066 6013.31 L150.704 6013.31 L150.704 6017.25 L130.797 6017.25 L130.797 6013.31 Z\" fill=\"#000000\" fill-rule=\"evenodd\" fill-opacity=\"1\" /><path clip-path=\"url(#clip400)\" d=\"M 0 0 M159.802 6013.31 L176.121 6013.31 L176.121 6017.25 L154.177 6017.25 L154.177 6013.31 Q156.839 6010.56 161.422 6005.93 Q166.028 6001.28 167.209 5999.93 Q169.454 5997.41 170.334 5995.67 Q171.237 5993.91 171.237 5992.22 Q171.237 5989.47 169.292 5987.73 Q167.371 5986 164.269 5986 Q162.07 5986 159.616 5986.76 Q157.186 5987.53 154.408 5989.08 L154.408 5984.35 Q157.232 5983.22 159.686 5982.64 Q162.14 5982.06 164.177 5982.06 Q169.547 5982.06 172.741 5984.75 Q175.936 5987.43 175.936 5991.92 Q175.936 5994.05 175.126 5995.97 Q174.339 5997.87 172.232 6000.47 Q171.653 6001.14 168.552 6004.35 Q165.45 6007.55 159.802 6013.31 Z\" fill=\"#000000\" fill-rule=\"evenodd\" fill-opacity=\"1\" /><path clip-path=\"url(#clip400)\" d=\"M 0 0 M180.01 5982.69 L202.232 5982.69 L202.232 5984.68 L189.686 6017.25 L184.802 6017.25 L196.607 5986.62 L180.01 5986.62 L180.01 5982.69 Z\" fill=\"#000000\" fill-rule=\"evenodd\" fill-opacity=\"1\" /><path clip-path=\"url(#clip400)\" d=\"M 0 0 M203.945 5991.32 L228.783 5991.32 L228.783 5995.58 L225.519 5995.58 L225.519 6011.51 Q225.519 6013.17 226.074 6013.91 Q226.653 6014.63 227.926 6014.63 Q228.273 6014.63 228.783 6014.59 Q229.292 6014.52 229.454 6014.49 L229.454 6017.57 Q228.644 6017.87 227.787 6018.01 Q226.931 6018.15 226.074 6018.15 Q223.297 6018.15 222.232 6016.65 Q221.167 6015.12 221.167 6011.04 L221.167 5995.58 L211.607 5995.58 L211.607 6017.25 L207.255 6017.25 L207.255 5995.58 L203.945 5995.58 L203.945 5991.32 Z\" fill=\"#000000\" fill-rule=\"evenodd\" fill-opacity=\"1\" /><path clip-path=\"url(#clip400)\" d=\"M 0 0 M129.987 5802.11 L137.626 5802.11 L137.626 5775.74 L129.316 5777.41 L129.316 5773.15 L137.58 5771.48 L142.255 5771.48 L142.255 5802.11 L149.894 5802.11 L149.894 5806.04 L129.987 5806.04 L129.987 5802.11 Z\" fill=\"#000000\" fill-rule=\"evenodd\" fill-opacity=\"1\" /><path clip-path=\"url(#clip400)\" d=\"M 0 0 M158.991 5802.11 L175.311 5802.11 L175.311 5806.04 L153.366 5806.04 L153.366 5802.11 Q156.029 5799.35 160.612 5794.72 Q165.218 5790.07 166.399 5788.73 Q168.644 5786.2 169.524 5784.47 Q170.427 5782.71 170.427 5781.02 Q170.427 5778.26 168.482 5776.53 Q166.561 5774.79 163.459 5774.79 Q161.26 5774.79 158.806 5775.56 Q156.376 5776.32 153.598 5777.87 L153.598 5773.15 Q156.422 5772.01 158.876 5771.43 Q161.329 5770.86 163.366 5770.86 Q168.737 5770.86 171.931 5773.54 Q175.126 5776.23 175.126 5780.72 Q175.126 5782.85 174.315 5784.77 Q173.528 5786.67 171.422 5789.26 Q170.843 5789.93 167.741 5793.15 Q164.64 5796.34 158.991 5802.11 Z\" fill=\"#000000\" fill-rule=\"evenodd\" fill-opacity=\"1\" /><path clip-path=\"url(#clip400)\" d=\"M 0 0 M190.38 5789.63 Q187.047 5789.63 185.126 5791.41 Q183.227 5793.19 183.227 5796.32 Q183.227 5799.44 185.126 5801.23 Q187.047 5803.01 190.38 5803.01 Q193.713 5803.01 195.635 5801.23 Q197.556 5799.42 197.556 5796.32 Q197.556 5793.19 195.635 5791.41 Q193.737 5789.63 190.38 5789.63 M185.704 5787.64 Q182.695 5786.9 181.005 5784.84 Q179.339 5782.78 179.339 5779.81 Q179.339 5775.67 182.278 5773.26 Q185.241 5770.86 190.38 5770.86 Q195.542 5770.86 198.482 5773.26 Q201.422 5775.67 201.422 5779.81 Q201.422 5782.78 199.732 5784.84 Q198.065 5786.9 195.079 5787.64 Q198.459 5788.43 200.334 5790.72 Q202.232 5793.01 202.232 5796.32 Q202.232 5801.34 199.153 5804.03 Q196.098 5806.71 190.38 5806.71 Q184.663 5806.71 181.584 5804.03 Q178.528 5801.34 178.528 5796.32 Q178.528 5793.01 180.427 5790.72 Q182.325 5788.43 185.704 5787.64 M183.991 5780.25 Q183.991 5782.94 185.658 5784.44 Q187.348 5785.95 190.38 5785.95 Q193.389 5785.95 195.079 5784.44 Q196.792 5782.94 196.792 5780.25 Q196.792 5777.57 195.079 5776.06 Q193.389 5774.56 190.38 5774.56 Q187.348 5774.56 185.658 5776.06 Q183.991 5777.57 183.991 5780.25 Z\" fill=\"#000000\" fill-rule=\"evenodd\" fill-opacity=\"1\" /><path clip-path=\"url(#clip400)\" d=\"M 0 0 M203.945 5780.12 L228.783 5780.12 L228.783 5784.37 L225.519 5784.37 L225.519 5800.3 Q225.519 5801.97 226.074 5802.71 Q226.653 5803.43 227.926 5803.43 Q228.273 5803.43 228.783 5803.38 Q229.292 5803.31 229.454 5803.29 L229.454 5806.37 Q228.644 5806.67 227.787 5806.81 Q226.931 5806.94 226.074 5806.94 Q223.297 5806.94 222.232 5805.44 Q221.167 5803.91 221.167 5799.84 L221.167 5784.37 L211.607 5784.37 L211.607 5806.04 L207.255 5806.04 L207.255 5784.37 L203.945 5784.37 L203.945 5780.12 Z\" fill=\"#000000\" fill-rule=\"evenodd\" fill-opacity=\"1\" /><path clip-path=\"url(#clip400)\" d=\"M 0 0 M130.08 5590.9 L137.718 5590.9 L137.718 5564.53 L129.408 5566.2 L129.408 5561.94 L137.672 5560.27 L142.348 5560.27 L142.348 5590.9 L149.987 5590.9 L149.987 5594.83 L130.08 5594.83 L130.08 5590.9 Z\" fill=\"#000000\" fill-rule=\"evenodd\" fill-opacity=\"1\" /><path clip-path=\"url(#clip400)\" d=\"M 0 0 M159.084 5590.9 L175.403 5590.9 L175.403 5594.83 L153.459 5594.83 L153.459 5590.9 Q156.121 5588.14 160.704 5583.52 Q165.311 5578.86 166.491 5577.52 Q168.737 5575 169.616 5573.26 Q170.519 5571.5 170.519 5569.81 Q170.519 5567.06 168.575 5565.32 Q166.653 5563.58 163.552 5563.58 Q161.353 5563.58 158.899 5564.35 Q156.468 5565.11 153.691 5566.66 L153.691 5561.94 Q156.515 5560.81 158.968 5560.23 Q161.422 5559.65 163.459 5559.65 Q168.829 5559.65 172.024 5562.33 Q175.218 5565.02 175.218 5569.51 Q175.218 5571.64 174.408 5573.56 Q173.621 5575.46 171.515 5578.05 Q170.936 5578.72 167.834 5581.94 Q164.732 5585.14 159.084 5590.9 Z\" fill=\"#000000\" fill-rule=\"evenodd\" fill-opacity=\"1\" /><path clip-path=\"url(#clip400)\" d=\"M 0 0 M180.612 5594.12 L180.612 5589.86 Q182.371 5590.69 184.177 5591.13 Q185.982 5591.57 187.718 5591.57 Q192.348 5591.57 194.778 5588.47 Q197.232 5585.34 197.579 5579 Q196.237 5580.99 194.176 5582.06 Q192.116 5583.12 189.616 5583.12 Q184.431 5583.12 181.399 5580 Q178.39 5576.85 178.39 5571.41 Q178.39 5566.08 181.538 5562.87 Q184.686 5559.65 189.917 5559.65 Q195.913 5559.65 199.061 5564.26 Q202.232 5568.84 202.232 5577.59 Q202.232 5585.76 198.343 5590.64 Q194.477 5595.51 187.926 5595.51 Q186.167 5595.51 184.362 5595.16 Q182.556 5594.81 180.612 5594.12 M189.917 5579.46 Q193.065 5579.46 194.894 5577.31 Q196.746 5575.16 196.746 5571.41 Q196.746 5567.68 194.894 5565.53 Q193.065 5563.35 189.917 5563.35 Q186.769 5563.35 184.917 5565.53 Q183.089 5567.68 183.089 5571.41 Q183.089 5575.16 184.917 5577.31 Q186.769 5579.46 189.917 5579.46 Z\" fill=\"#000000\" fill-rule=\"evenodd\" fill-opacity=\"1\" /><path clip-path=\"url(#clip400)\" d=\"M 0 0 M203.945 5568.91 L228.783 5568.91 L228.783 5573.17 L225.519 5573.17 L225.519 5589.09 Q225.519 5590.76 226.074 5591.5 Q226.653 5592.22 227.926 5592.22 Q228.273 5592.22 228.783 5592.17 Q229.292 5592.1 229.454 5592.08 L229.454 5595.16 Q228.644 5595.46 227.787 5595.6 Q226.931 5595.74 226.074 5595.74 Q223.297 5595.74 222.232 5594.23 Q221.167 5592.71 221.167 5588.63 L221.167 5573.17 L211.607 5573.17 L211.607 5594.83 L207.255 5594.83 L207.255 5573.17 L203.945 5573.17 L203.945 5568.91 Z\" fill=\"#000000\" fill-rule=\"evenodd\" fill-opacity=\"1\" /><path clip-path=\"url(#clip400)\" d=\"M 0 0 M128.945 5379.69 L136.584 5379.69 L136.584 5353.33 L128.274 5354.99 L128.274 5350.73 L136.538 5349.07 L141.214 5349.07 L141.214 5379.69 L148.853 5379.69 L148.853 5383.63 L128.945 5383.63 L128.945 5379.69 Z\" fill=\"#000000\" fill-rule=\"evenodd\" fill-opacity=\"1\" /><path clip-path=\"url(#clip400)\" d=\"M 0 0 M168.089 5364.99 Q171.445 5365.71 173.32 5367.98 Q175.218 5370.25 175.218 5373.58 Q175.218 5378.7 171.7 5381.5 Q168.181 5384.3 161.7 5384.3 Q159.524 5384.3 157.209 5383.86 Q154.917 5383.44 152.464 5382.59 L152.464 5378.07 Q154.408 5379.21 156.723 5379.79 Q159.038 5380.36 161.561 5380.36 Q165.959 5380.36 168.251 5378.63 Q170.565 5376.89 170.565 5373.58 Q170.565 5370.53 168.413 5368.81 Q166.283 5367.08 162.464 5367.08 L158.436 5367.08 L158.436 5363.23 L162.649 5363.23 Q166.098 5363.23 167.927 5361.87 Q169.755 5360.48 169.755 5357.89 Q169.755 5355.23 167.857 5353.81 Q165.982 5352.38 162.464 5352.38 Q160.542 5352.38 158.343 5352.79 Q156.144 5353.21 153.505 5354.09 L153.505 5349.92 Q156.167 5349.18 158.482 5348.81 Q160.82 5348.44 162.88 5348.44 Q168.204 5348.44 171.306 5350.87 Q174.408 5353.28 174.408 5357.4 Q174.408 5360.27 172.765 5362.26 Q171.121 5364.23 168.089 5364.99 Z\" fill=\"#000000\" fill-rule=\"evenodd\" fill-opacity=\"1\" /><path clip-path=\"url(#clip400)\" d=\"M 0 0 M190.288 5352.15 Q186.677 5352.15 184.848 5355.71 Q183.042 5359.25 183.042 5366.38 Q183.042 5373.49 184.848 5377.05 Q186.677 5380.6 190.288 5380.6 Q193.922 5380.6 195.727 5377.05 Q197.556 5373.49 197.556 5366.38 Q197.556 5359.25 195.727 5355.71 Q193.922 5352.15 190.288 5352.15 M190.288 5348.44 Q196.098 5348.44 199.153 5353.05 Q202.232 5357.63 202.232 5366.38 Q202.232 5375.11 199.153 5379.72 Q196.098 5384.3 190.288 5384.3 Q184.477 5384.3 181.399 5379.72 Q178.343 5375.11 178.343 5366.38 Q178.343 5357.63 181.399 5353.05 Q184.477 5348.44 190.288 5348.44 Z\" fill=\"#000000\" fill-rule=\"evenodd\" fill-opacity=\"1\" /><path clip-path=\"url(#clip400)\" d=\"M 0 0 M203.945 5357.7 L228.783 5357.7 L228.783 5361.96 L225.519 5361.96 L225.519 5377.89 Q225.519 5379.55 226.074 5380.29 Q226.653 5381.01 227.926 5381.01 Q228.273 5381.01 228.783 5380.97 Q229.292 5380.9 229.454 5380.87 L229.454 5383.95 Q228.644 5384.25 227.787 5384.39 Q226.931 5384.53 226.074 5384.53 Q223.297 5384.53 222.232 5383.03 Q221.167 5381.5 221.167 5377.42 L221.167 5361.96 L211.607 5361.96 L211.607 5383.63 L207.255 5383.63 L207.255 5361.96 L203.945 5361.96 L203.945 5357.7 Z\" fill=\"#000000\" fill-rule=\"evenodd\" fill-opacity=\"1\" /><path clip-path=\"url(#clip400)\" d=\"M 0 0 M130.172 5168.49 L137.811 5168.49 L137.811 5142.12 L129.501 5143.79 L129.501 5139.53 L137.765 5137.86 L142.441 5137.86 L142.441 5168.49 L150.079 5168.49 L150.079 5172.42 L130.172 5172.42 L130.172 5168.49 Z\" fill=\"#000000\" fill-rule=\"evenodd\" fill-opacity=\"1\" /><path clip-path=\"url(#clip400)\" d=\"M 0 0 M169.315 5153.79 Q172.672 5154.51 174.547 5156.77 Q176.445 5159.04 176.445 5162.38 Q176.445 5167.49 172.927 5170.29 Q169.408 5173.09 162.927 5173.09 Q160.751 5173.09 158.436 5172.65 Q156.144 5172.24 153.691 5171.38 L153.691 5166.87 Q155.635 5168 157.95 5168.58 Q160.265 5169.16 162.788 5169.16 Q167.186 5169.16 169.478 5167.42 Q171.792 5165.69 171.792 5162.38 Q171.792 5159.32 169.64 5157.61 Q167.51 5155.87 163.691 5155.87 L159.663 5155.87 L159.663 5152.03 L163.876 5152.03 Q167.325 5152.03 169.153 5150.66 Q170.982 5149.27 170.982 5146.68 Q170.982 5144.02 169.084 5142.61 Q167.209 5141.17 163.691 5141.17 Q161.769 5141.17 159.57 5141.59 Q157.371 5142.01 154.732 5142.88 L154.732 5138.72 Q157.394 5137.98 159.709 5137.61 Q162.047 5137.24 164.107 5137.24 Q169.431 5137.24 172.533 5139.67 Q175.635 5142.07 175.635 5146.19 Q175.635 5149.07 173.991 5151.06 Q172.348 5153.02 169.315 5153.79 Z\" fill=\"#000000\" fill-rule=\"evenodd\" fill-opacity=\"1\" /><path clip-path=\"url(#clip400)\" d=\"M 0 0 M182.325 5168.49 L189.964 5168.49 L189.964 5142.12 L181.653 5143.79 L181.653 5139.53 L189.917 5137.86 L194.593 5137.86 L194.593 5168.49 L202.232 5168.49 L202.232 5172.42 L182.325 5172.42 L182.325 5168.49 Z\" fill=\"#000000\" fill-rule=\"evenodd\" fill-opacity=\"1\" /><path clip-path=\"url(#clip400)\" d=\"M 0 0 M203.945 5146.5 L228.783 5146.5 L228.783 5150.76 L225.519 5150.76 L225.519 5166.68 Q225.519 5168.35 226.074 5169.09 Q226.653 5169.81 227.926 5169.81 Q228.273 5169.81 228.783 5169.76 Q229.292 5169.69 229.454 5169.67 L229.454 5172.75 Q228.644 5173.05 227.787 5173.19 Q226.931 5173.32 226.074 5173.32 Q223.297 5173.32 222.232 5171.82 Q221.167 5170.29 221.167 5166.22 L221.167 5150.76 L211.607 5150.76 L211.607 5172.42 L207.255 5172.42 L207.255 5150.76 L203.945 5150.76 L203.945 5146.5 Z\" fill=\"#000000\" fill-rule=\"evenodd\" fill-opacity=\"1\" /><path clip-path=\"url(#clip400)\" d=\"M 0 0 M130.543 4957.28 L138.181 4957.28 L138.181 4930.91 L129.871 4932.58 L129.871 4928.32 L138.135 4926.66 L142.811 4926.66 L142.811 4957.28 L150.45 4957.28 L150.45 4961.22 L130.543 4961.22 L130.543 4957.28 Z\" fill=\"#000000\" fill-rule=\"evenodd\" fill-opacity=\"1\" /><path clip-path=\"url(#clip400)\" d=\"M 0 0 M169.686 4942.58 Q173.042 4943.3 174.917 4945.57 Q176.815 4947.84 176.815 4951.17 Q176.815 4956.28 173.297 4959.09 Q169.778 4961.89 163.297 4961.89 Q161.121 4961.89 158.806 4961.45 Q156.515 4961.03 154.061 4960.17 L154.061 4955.66 Q156.005 4956.79 158.32 4957.37 Q160.635 4957.95 163.158 4957.95 Q167.556 4957.95 169.848 4956.22 Q172.163 4954.48 172.163 4951.17 Q172.163 4948.11 170.01 4946.4 Q167.88 4944.66 164.061 4944.66 L160.033 4944.66 L160.033 4940.82 L164.246 4940.82 Q167.695 4940.82 169.524 4939.46 Q171.353 4938.07 171.353 4935.47 Q171.353 4932.81 169.454 4931.4 Q167.579 4929.97 164.061 4929.97 Q162.14 4929.97 159.941 4930.38 Q157.741 4930.8 155.103 4931.68 L155.103 4927.51 Q157.765 4926.77 160.079 4926.4 Q162.417 4926.03 164.478 4926.03 Q169.802 4926.03 172.903 4928.46 Q176.005 4930.87 176.005 4934.99 Q176.005 4937.86 174.362 4939.85 Q172.718 4941.82 169.686 4942.58 Z\" fill=\"#000000\" fill-rule=\"evenodd\" fill-opacity=\"1\" /><path clip-path=\"url(#clip400)\" d=\"M 0 0 M185.913 4957.28 L202.232 4957.28 L202.232 4961.22 L180.288 4961.22 L180.288 4957.28 Q182.95 4954.53 187.533 4949.9 Q192.139 4945.24 193.32 4943.9 Q195.565 4941.38 196.445 4939.64 Q197.348 4937.88 197.348 4936.19 Q197.348 4933.44 195.403 4931.7 Q193.482 4929.97 190.38 4929.97 Q188.181 4929.97 185.727 4930.73 Q183.297 4931.49 180.519 4933.04 L180.519 4928.32 Q183.343 4927.19 185.797 4926.61 Q188.251 4926.03 190.288 4926.03 Q195.658 4926.03 198.852 4928.72 Q202.047 4931.4 202.047 4935.89 Q202.047 4938.02 201.237 4939.94 Q200.45 4941.84 198.343 4944.43 Q197.764 4945.1 194.663 4948.32 Q191.561 4951.52 185.913 4957.28 Z\" fill=\"#000000\" fill-rule=\"evenodd\" fill-opacity=\"1\" /><path clip-path=\"url(#clip400)\" d=\"M 0 0 M203.945 4935.29 L228.783 4935.29 L228.783 4939.55 L225.519 4939.55 L225.519 4955.47 Q225.519 4957.14 226.074 4957.88 Q226.653 4958.6 227.926 4958.6 Q228.273 4958.6 228.783 4958.55 Q229.292 4958.48 229.454 4958.46 L229.454 4961.54 Q228.644 4961.84 227.787 4961.98 Q226.931 4962.12 226.074 4962.12 Q223.297 4962.12 222.232 4960.61 Q221.167 4959.09 221.167 4955.01 L221.167 4939.55 L211.607 4939.55 L211.607 4961.22 L207.255 4961.22 L207.255 4939.55 L203.945 4939.55 L203.945 4935.29 Z\" fill=\"#000000\" fill-rule=\"evenodd\" fill-opacity=\"1\" /><path clip-path=\"url(#clip400)\" d=\"M 0 0 M129.593 4746.07 L137.232 4746.07 L137.232 4719.71 L128.922 4721.37 L128.922 4717.12 L137.186 4715.45 L141.862 4715.45 L141.862 4746.07 L149.501 4746.07 L149.501 4750.01 L129.593 4750.01 L129.593 4746.07 Z\" fill=\"#000000\" fill-rule=\"evenodd\" fill-opacity=\"1\" /><path clip-path=\"url(#clip400)\" d=\"M 0 0 M168.737 4731.37 Q172.093 4732.09 173.968 4734.36 Q175.866 4736.63 175.866 4739.96 Q175.866 4745.08 172.348 4747.88 Q168.829 4750.68 162.348 4750.68 Q160.172 4750.68 157.857 4750.24 Q155.566 4749.82 153.112 4748.97 L153.112 4744.45 Q155.056 4745.59 157.371 4746.17 Q159.686 4746.74 162.209 4746.74 Q166.607 4746.74 168.899 4745.01 Q171.214 4743.27 171.214 4739.96 Q171.214 4736.91 169.061 4735.19 Q166.931 4733.46 163.112 4733.46 L159.084 4733.46 L159.084 4729.62 L163.297 4729.62 Q166.746 4729.62 168.575 4728.25 Q170.403 4726.86 170.403 4724.27 Q170.403 4721.61 168.505 4720.19 Q166.63 4718.76 163.112 4718.76 Q161.191 4718.76 158.991 4719.18 Q156.792 4719.59 154.154 4720.47 L154.154 4716.31 Q156.816 4715.56 159.13 4715.19 Q161.468 4714.82 163.528 4714.82 Q168.853 4714.82 171.954 4717.25 Q175.056 4719.66 175.056 4723.78 Q175.056 4726.65 173.413 4728.64 Q171.769 4730.61 168.737 4731.37 Z\" fill=\"#000000\" fill-rule=\"evenodd\" fill-opacity=\"1\" /><path clip-path=\"url(#clip400)\" d=\"M 0 0 M195.102 4731.37 Q198.459 4732.09 200.334 4734.36 Q202.232 4736.63 202.232 4739.96 Q202.232 4745.08 198.713 4747.88 Q195.195 4750.68 188.714 4750.68 Q186.538 4750.68 184.223 4750.24 Q181.931 4749.82 179.477 4748.97 L179.477 4744.45 Q181.422 4745.59 183.737 4746.17 Q186.052 4746.74 188.575 4746.74 Q192.973 4746.74 195.264 4745.01 Q197.579 4743.27 197.579 4739.96 Q197.579 4736.91 195.426 4735.19 Q193.297 4733.46 189.477 4733.46 L185.45 4733.46 L185.45 4729.62 L189.663 4729.62 Q193.112 4729.62 194.94 4728.25 Q196.769 4726.86 196.769 4724.27 Q196.769 4721.61 194.871 4720.19 Q192.996 4718.76 189.477 4718.76 Q187.556 4718.76 185.357 4719.18 Q183.158 4719.59 180.519 4720.47 L180.519 4716.31 Q183.181 4715.56 185.496 4715.19 Q187.834 4714.82 189.894 4714.82 Q195.218 4714.82 198.32 4717.25 Q201.422 4719.66 201.422 4723.78 Q201.422 4726.65 199.778 4728.64 Q198.135 4730.61 195.102 4731.37 Z\" fill=\"#000000\" fill-rule=\"evenodd\" fill-opacity=\"1\" /><path clip-path=\"url(#clip400)\" d=\"M 0 0 M203.945 4724.08 L228.783 4724.08 L228.783 4728.34 L225.519 4728.34 L225.519 4744.27 Q225.519 4745.93 226.074 4746.68 Q226.653 4747.39 227.926 4747.39 Q228.273 4747.39 228.783 4747.35 Q229.292 4747.28 229.454 4747.25 L229.454 4750.33 Q228.644 4750.63 227.787 4750.77 Q226.931 4750.91 226.074 4750.91 Q223.297 4750.91 222.232 4749.41 Q221.167 4747.88 221.167 4743.8 L221.167 4728.34 L211.607 4728.34 L211.607 4750.01 L207.255 4750.01 L207.255 4728.34 L203.945 4728.34 L203.945 4724.08 Z\" fill=\"#000000\" fill-rule=\"evenodd\" fill-opacity=\"1\" /><path clip-path=\"url(#clip400)\" d=\"M 0 0 M128.459 4534.87 L136.098 4534.87 L136.098 4508.5 L127.788 4510.17 L127.788 4505.91 L136.052 4504.24 L140.728 4504.24 L140.728 4534.87 L148.367 4534.87 L148.367 4538.8 L128.459 4538.8 L128.459 4534.87 Z\" fill=\"#000000\" fill-rule=\"evenodd\" fill-opacity=\"1\" /><path clip-path=\"url(#clip400)\" d=\"M 0 0 M167.603 4520.17 Q170.959 4520.89 172.834 4523.15 Q174.732 4525.42 174.732 4528.76 Q174.732 4533.87 171.214 4536.67 Q167.695 4539.47 161.214 4539.47 Q159.038 4539.47 156.723 4539.03 Q154.431 4538.62 151.978 4537.76 L151.978 4533.25 Q153.922 4534.38 156.237 4534.96 Q158.552 4535.54 161.075 4535.54 Q165.473 4535.54 167.765 4533.8 Q170.079 4532.07 170.079 4528.76 Q170.079 4525.7 167.927 4523.99 Q165.797 4522.25 161.978 4522.25 L157.95 4522.25 L157.95 4518.41 L162.163 4518.41 Q165.612 4518.41 167.44 4517.04 Q169.269 4515.65 169.269 4513.06 Q169.269 4510.4 167.371 4508.99 Q165.496 4507.55 161.978 4507.55 Q160.056 4507.55 157.857 4507.97 Q155.658 4508.39 153.019 4509.27 L153.019 4505.1 Q155.681 4504.36 157.996 4503.99 Q160.334 4503.62 162.394 4503.62 Q167.718 4503.62 170.82 4506.05 Q173.922 4508.46 173.922 4512.58 Q173.922 4515.45 172.278 4517.44 Q170.635 4519.4 167.603 4520.17 Z\" fill=\"#000000\" fill-rule=\"evenodd\" fill-opacity=\"1\" /><path clip-path=\"url(#clip400)\" d=\"M 0 0 M192.649 4508.32 L180.843 4526.77 L192.649 4526.77 L192.649 4508.32 M191.422 4504.24 L197.301 4504.24 L197.301 4526.77 L202.232 4526.77 L202.232 4530.65 L197.301 4530.65 L197.301 4538.8 L192.649 4538.8 L192.649 4530.65 L177.047 4530.65 L177.047 4526.14 L191.422 4504.24 Z\" fill=\"#000000\" fill-rule=\"evenodd\" fill-opacity=\"1\" /><path clip-path=\"url(#clip400)\" d=\"M 0 0 M203.945 4512.88 L228.783 4512.88 L228.783 4517.14 L225.519 4517.14 L225.519 4533.06 Q225.519 4534.73 226.074 4535.47 Q226.653 4536.19 227.926 4536.19 Q228.273 4536.19 228.783 4536.14 Q229.292 4536.07 229.454 4536.05 L229.454 4539.13 Q228.644 4539.43 227.787 4539.57 Q226.931 4539.7 226.074 4539.7 Q223.297 4539.7 222.232 4538.2 Q221.167 4536.67 221.167 4532.6 L221.167 4517.14 L211.607 4517.14 L211.607 4538.8 L207.255 4538.8 L207.255 4517.14 L203.945 4517.14 L203.945 4512.88 Z\" fill=\"#000000\" fill-rule=\"evenodd\" fill-opacity=\"1\" /><path clip-path=\"url(#clip400)\" d=\"M 0 0 M129.941 4323.66 L137.58 4323.66 L137.58 4297.29 L129.269 4298.96 L129.269 4294.7 L137.533 4293.04 L142.209 4293.04 L142.209 4323.66 L149.848 4323.66 L149.848 4327.6 L129.941 4327.6 L129.941 4323.66 Z\" fill=\"#000000\" fill-rule=\"evenodd\" fill-opacity=\"1\" /><path clip-path=\"url(#clip400)\" d=\"M 0 0 M169.084 4308.96 Q172.44 4309.68 174.315 4311.95 Q176.214 4314.22 176.214 4317.55 Q176.214 4322.67 172.695 4325.47 Q169.177 4328.27 162.695 4328.27 Q160.519 4328.27 158.204 4327.83 Q155.913 4327.41 153.459 4326.55 L153.459 4322.04 Q155.404 4323.17 157.718 4323.75 Q160.033 4324.33 162.556 4324.33 Q166.954 4324.33 169.246 4322.6 Q171.561 4320.86 171.561 4317.55 Q171.561 4314.49 169.408 4312.78 Q167.278 4311.04 163.459 4311.04 L159.431 4311.04 L159.431 4307.2 L163.644 4307.2 Q167.093 4307.2 168.922 4305.84 Q170.751 4304.45 170.751 4301.86 Q170.751 4299.19 168.853 4297.78 Q166.978 4296.35 163.459 4296.35 Q161.538 4296.35 159.339 4296.76 Q157.14 4297.18 154.501 4298.06 L154.501 4293.89 Q157.163 4293.15 159.478 4292.78 Q161.816 4292.41 163.876 4292.41 Q169.2 4292.41 172.302 4294.84 Q175.403 4297.25 175.403 4301.37 Q175.403 4304.24 173.76 4306.23 Q172.116 4308.2 169.084 4308.96 Z\" fill=\"#000000\" fill-rule=\"evenodd\" fill-opacity=\"1\" /><path clip-path=\"url(#clip400)\" d=\"M 0 0 M181.329 4293.04 L199.686 4293.04 L199.686 4296.97 L185.612 4296.97 L185.612 4305.44 Q186.63 4305.1 187.649 4304.93 Q188.667 4304.75 189.686 4304.75 Q195.473 4304.75 198.852 4307.92 Q202.232 4311.09 202.232 4316.51 Q202.232 4322.09 198.76 4325.19 Q195.288 4328.27 188.968 4328.27 Q186.792 4328.27 184.524 4327.9 Q182.278 4327.53 179.871 4326.79 L179.871 4322.09 Q181.954 4323.22 184.177 4323.78 Q186.399 4324.33 188.876 4324.33 Q192.88 4324.33 195.218 4322.23 Q197.556 4320.12 197.556 4316.51 Q197.556 4312.9 195.218 4310.79 Q192.88 4308.68 188.876 4308.68 Q187.001 4308.68 185.126 4309.1 Q183.274 4309.52 181.329 4310.4 L181.329 4293.04 Z\" fill=\"#000000\" fill-rule=\"evenodd\" fill-opacity=\"1\" /><path clip-path=\"url(#clip400)\" d=\"M 0 0 M203.945 4301.67 L228.783 4301.67 L228.783 4305.93 L225.519 4305.93 L225.519 4321.85 Q225.519 4323.52 226.074 4324.26 Q226.653 4324.98 227.926 4324.98 Q228.273 4324.98 228.783 4324.93 Q229.292 4324.86 229.454 4324.84 L229.454 4327.92 Q228.644 4328.22 227.787 4328.36 Q226.931 4328.5 226.074 4328.5 Q223.297 4328.5 222.232 4326.99 Q221.167 4325.47 221.167 4321.39 L221.167 4305.93 L211.607 4305.93 L211.607 4327.6 L207.255 4327.6 L207.255 4305.93 L203.945 4305.93 L203.945 4301.67 Z\" fill=\"#000000\" fill-rule=\"evenodd\" fill-opacity=\"1\" /><path clip-path=\"url(#clip400)\" d=\"M 0 0 M128.783 4112.45 L136.422 4112.45 L136.422 4086.09 L128.112 4087.76 L128.112 4083.5 L136.376 4081.83 L141.052 4081.83 L141.052 4112.45 L148.691 4112.45 L148.691 4116.39 L128.783 4116.39 L128.783 4112.45 Z\" fill=\"#000000\" fill-rule=\"evenodd\" fill-opacity=\"1\" /><path clip-path=\"url(#clip400)\" d=\"M 0 0 M167.927 4097.75 Q171.283 4098.47 173.158 4100.74 Q175.056 4103.01 175.056 4106.34 Q175.056 4111.46 171.538 4114.26 Q168.019 4117.06 161.538 4117.06 Q159.362 4117.06 157.047 4116.62 Q154.755 4116.2 152.302 4115.35 L152.302 4110.83 Q154.246 4111.97 156.561 4112.55 Q158.876 4113.13 161.399 4113.13 Q165.797 4113.13 168.089 4111.39 Q170.403 4109.65 170.403 4106.34 Q170.403 4103.29 168.251 4101.57 Q166.121 4099.84 162.302 4099.84 L158.274 4099.84 L158.274 4096 L162.487 4096 Q165.936 4096 167.765 4094.63 Q169.593 4093.24 169.593 4090.65 Q169.593 4087.99 167.695 4086.57 Q165.82 4085.14 162.302 4085.14 Q160.38 4085.14 158.181 4085.56 Q155.982 4085.97 153.343 4086.85 L153.343 4082.69 Q156.005 4081.94 158.32 4081.57 Q160.658 4081.2 162.718 4081.2 Q168.042 4081.2 171.144 4083.63 Q174.246 4086.04 174.246 4090.16 Q174.246 4093.03 172.603 4095.02 Q170.959 4096.99 167.927 4097.75 Z\" fill=\"#000000\" fill-rule=\"evenodd\" fill-opacity=\"1\" /><path clip-path=\"url(#clip400)\" d=\"M 0 0 M190.704 4097.25 Q187.556 4097.25 185.704 4099.4 Q183.876 4101.55 183.876 4105.3 Q183.876 4109.03 185.704 4111.2 Q187.556 4113.36 190.704 4113.36 Q193.852 4113.36 195.681 4111.2 Q197.533 4109.03 197.533 4105.3 Q197.533 4101.55 195.681 4099.4 Q193.852 4097.25 190.704 4097.25 M199.987 4082.59 L199.987 4086.85 Q198.227 4086.02 196.422 4085.58 Q194.639 4085.14 192.88 4085.14 Q188.251 4085.14 185.797 4088.26 Q183.366 4091.39 183.019 4097.71 Q184.385 4095.69 186.445 4094.63 Q188.505 4093.54 190.982 4093.54 Q196.19 4093.54 199.2 4096.71 Q202.232 4099.86 202.232 4105.3 Q202.232 4110.63 199.084 4113.84 Q195.936 4117.06 190.704 4117.06 Q184.709 4117.06 181.538 4112.48 Q178.366 4107.87 178.366 4099.14 Q178.366 4090.95 182.255 4086.09 Q186.144 4081.2 192.695 4081.2 Q194.454 4081.2 196.237 4081.55 Q198.042 4081.9 199.987 4082.59 Z\" fill=\"#000000\" fill-rule=\"evenodd\" fill-opacity=\"1\" /><path clip-path=\"url(#clip400)\" d=\"M 0 0 M203.945 4090.46 L228.783 4090.46 L228.783 4094.72 L225.519 4094.72 L225.519 4110.65 Q225.519 4112.32 226.074 4113.06 Q226.653 4113.77 227.926 4113.77 Q228.273 4113.77 228.783 4113.73 Q229.292 4113.66 229.454 4113.63 L229.454 4116.71 Q228.644 4117.01 227.787 4117.15 Q226.931 4117.29 226.074 4117.29 Q223.297 4117.29 222.232 4115.79 Q221.167 4114.26 221.167 4110.19 L221.167 4094.72 L211.607 4094.72 L211.607 4116.39 L207.255 4116.39 L207.255 4094.72 L203.945 4094.72 L203.945 4090.46 Z\" fill=\"#000000\" fill-rule=\"evenodd\" fill-opacity=\"1\" /><path clip-path=\"url(#clip400)\" d=\"M 0 0 M129.848 3901.25 L137.487 3901.25 L137.487 3874.88 L129.177 3876.55 L129.177 3872.29 L137.441 3870.62 L142.117 3870.62 L142.117 3901.25 L149.755 3901.25 L149.755 3905.18 L129.848 3905.18 L129.848 3901.25 Z\" fill=\"#000000\" fill-rule=\"evenodd\" fill-opacity=\"1\" /><path clip-path=\"url(#clip400)\" d=\"M 0 0 M168.991 3886.55 Q172.348 3887.27 174.223 3889.53 Q176.121 3891.8 176.121 3895.14 Q176.121 3900.25 172.603 3903.05 Q169.084 3905.85 162.603 3905.85 Q160.427 3905.85 158.112 3905.41 Q155.82 3905 153.366 3904.14 L153.366 3899.63 Q155.311 3900.76 157.626 3901.34 Q159.941 3901.92 162.464 3901.92 Q166.862 3901.92 169.153 3900.18 Q171.468 3898.45 171.468 3895.14 Q171.468 3892.08 169.315 3890.37 Q167.186 3888.63 163.366 3888.63 L159.339 3888.63 L159.339 3884.79 L163.552 3884.79 Q167.001 3884.79 168.829 3883.42 Q170.658 3882.03 170.658 3879.44 Q170.658 3876.78 168.76 3875.37 Q166.885 3873.93 163.366 3873.93 Q161.445 3873.93 159.246 3874.35 Q157.047 3874.77 154.408 3875.65 L154.408 3871.48 Q157.07 3870.74 159.385 3870.37 Q161.723 3870 163.783 3870 Q169.107 3870 172.209 3872.43 Q175.311 3874.84 175.311 3878.96 Q175.311 3881.83 173.667 3883.82 Q172.024 3885.78 168.991 3886.55 Z\" fill=\"#000000\" fill-rule=\"evenodd\" fill-opacity=\"1\" /><path clip-path=\"url(#clip400)\" d=\"M 0 0 M180.01 3870.62 L202.232 3870.62 L202.232 3872.61 L189.686 3905.18 L184.802 3905.18 L196.607 3874.56 L180.01 3874.56 L180.01 3870.62 Z\" fill=\"#000000\" fill-rule=\"evenodd\" fill-opacity=\"1\" /><path clip-path=\"url(#clip400)\" d=\"M 0 0 M203.945 3879.26 L228.783 3879.26 L228.783 3883.52 L225.519 3883.52 L225.519 3899.44 Q225.519 3901.11 226.074 3901.85 Q226.653 3902.57 227.926 3902.57 Q228.273 3902.57 228.783 3902.52 Q229.292 3902.45 229.454 3902.43 L229.454 3905.51 Q228.644 3905.81 227.787 3905.95 Q226.931 3906.09 226.074 3906.09 Q223.297 3906.09 222.232 3904.58 Q221.167 3903.05 221.167 3898.98 L221.167 3883.52 L211.607 3883.52 L211.607 3905.18 L207.255 3905.18 L207.255 3883.52 L203.945 3883.52 L203.945 3879.26 Z\" fill=\"#000000\" fill-rule=\"evenodd\" fill-opacity=\"1\" /><path clip-path=\"url(#clip400)\" d=\"M 0 0 M129.038 3690.04 L136.677 3690.04 L136.677 3663.68 L128.367 3665.34 L128.367 3661.08 L136.63 3659.42 L141.306 3659.42 L141.306 3690.04 L148.945 3690.04 L148.945 3693.98 L129.038 3693.98 L129.038 3690.04 Z\" fill=\"#000000\" fill-rule=\"evenodd\" fill-opacity=\"1\" /><path clip-path=\"url(#clip400)\" d=\"M 0 0 M168.181 3675.34 Q171.538 3676.06 173.413 3678.33 Q175.311 3680.6 175.311 3683.93 Q175.311 3689.05 171.792 3691.85 Q168.274 3694.65 161.792 3694.65 Q159.616 3694.65 157.302 3694.21 Q155.01 3693.79 152.556 3692.93 L152.556 3688.42 Q154.501 3689.55 156.816 3690.13 Q159.13 3690.71 161.653 3690.71 Q166.052 3690.71 168.343 3688.98 Q170.658 3687.24 170.658 3683.93 Q170.658 3680.87 168.505 3679.16 Q166.376 3677.43 162.556 3677.43 L158.529 3677.43 L158.529 3673.58 L162.741 3673.58 Q166.19 3673.58 168.019 3672.22 Q169.848 3670.83 169.848 3668.24 Q169.848 3665.57 167.95 3664.16 Q166.075 3662.73 162.556 3662.73 Q160.635 3662.73 158.436 3663.14 Q156.237 3663.56 153.598 3664.44 L153.598 3660.27 Q156.26 3659.53 158.575 3659.16 Q160.913 3658.79 162.973 3658.79 Q168.297 3658.79 171.399 3661.22 Q174.501 3663.63 174.501 3667.75 Q174.501 3670.62 172.857 3672.61 Q171.214 3674.58 168.181 3675.34 Z\" fill=\"#000000\" fill-rule=\"evenodd\" fill-opacity=\"1\" /><path clip-path=\"url(#clip400)\" d=\"M 0 0 M190.38 3677.56 Q187.047 3677.56 185.126 3679.35 Q183.227 3681.13 183.227 3684.25 Q183.227 3687.38 185.126 3689.16 Q187.047 3690.94 190.38 3690.94 Q193.713 3690.94 195.635 3689.16 Q197.556 3687.36 197.556 3684.25 Q197.556 3681.13 195.635 3679.35 Q193.737 3677.56 190.38 3677.56 M185.704 3675.57 Q182.695 3674.83 181.005 3672.77 Q179.339 3670.71 179.339 3667.75 Q179.339 3663.61 182.278 3661.2 Q185.241 3658.79 190.38 3658.79 Q195.542 3658.79 198.482 3661.2 Q201.422 3663.61 201.422 3667.75 Q201.422 3670.71 199.732 3672.77 Q198.065 3674.83 195.079 3675.57 Q198.459 3676.36 200.334 3678.65 Q202.232 3680.94 202.232 3684.25 Q202.232 3689.28 199.153 3691.96 Q196.098 3694.65 190.38 3694.65 Q184.663 3694.65 181.584 3691.96 Q178.528 3689.28 178.528 3684.25 Q178.528 3680.94 180.427 3678.65 Q182.325 3676.36 185.704 3675.57 M183.991 3668.19 Q183.991 3670.87 185.658 3672.38 Q187.348 3673.88 190.38 3673.88 Q193.389 3673.88 195.079 3672.38 Q196.792 3670.87 196.792 3668.19 Q196.792 3665.5 195.079 3664 Q193.389 3662.49 190.38 3662.49 Q187.348 3662.49 185.658 3664 Q183.991 3665.5 183.991 3668.19 Z\" fill=\"#000000\" fill-rule=\"evenodd\" fill-opacity=\"1\" /><path clip-path=\"url(#clip400)\" d=\"M 0 0 M203.945 3668.05 L228.783 3668.05 L228.783 3672.31 L225.519 3672.31 L225.519 3688.24 Q225.519 3689.9 226.074 3690.64 Q226.653 3691.36 227.926 3691.36 Q228.273 3691.36 228.783 3691.31 Q229.292 3691.24 229.454 3691.22 L229.454 3694.3 Q228.644 3694.6 227.787 3694.74 Q226.931 3694.88 226.074 3694.88 Q223.297 3694.88 222.232 3693.37 Q221.167 3691.85 221.167 3687.77 L221.167 3672.31 L211.607 3672.31 L211.607 3693.98 L207.255 3693.98 L207.255 3672.31 L203.945 3672.31 L203.945 3668.05 Z\" fill=\"#000000\" fill-rule=\"evenodd\" fill-opacity=\"1\" /><path clip-path=\"url(#clip400)\" d=\"M 0 0 M129.131 3478.83 L136.769 3478.83 L136.769 3452.47 L128.459 3454.14 L128.459 3449.88 L136.723 3448.21 L141.399 3448.21 L141.399 3478.83 L149.038 3478.83 L149.038 3482.77 L129.131 3482.77 L129.131 3478.83 Z\" fill=\"#000000\" fill-rule=\"evenodd\" fill-opacity=\"1\" /><path clip-path=\"url(#clip400)\" d=\"M 0 0 M168.274 3464.14 Q171.63 3464.85 173.505 3467.12 Q175.403 3469.39 175.403 3472.72 Q175.403 3477.84 171.885 3480.64 Q168.366 3483.44 161.885 3483.44 Q159.709 3483.44 157.394 3483 Q155.103 3482.58 152.649 3481.73 L152.649 3477.21 Q154.593 3478.35 156.908 3478.93 Q159.223 3479.51 161.746 3479.51 Q166.144 3479.51 168.436 3477.77 Q170.751 3476.03 170.751 3472.72 Q170.751 3469.67 168.598 3467.95 Q166.468 3466.22 162.649 3466.22 L158.621 3466.22 L158.621 3462.38 L162.834 3462.38 Q166.283 3462.38 168.112 3461.01 Q169.94 3459.62 169.94 3457.03 Q169.94 3454.37 168.042 3452.95 Q166.167 3451.52 162.649 3451.52 Q160.728 3451.52 158.529 3451.94 Q156.329 3452.35 153.691 3453.23 L153.691 3449.07 Q156.353 3448.33 158.667 3447.96 Q161.005 3447.58 163.066 3447.58 Q168.39 3447.58 171.491 3450.02 Q174.593 3452.42 174.593 3456.54 Q174.593 3459.41 172.95 3461.4 Q171.306 3463.37 168.274 3464.14 Z\" fill=\"#000000\" fill-rule=\"evenodd\" fill-opacity=\"1\" /><path clip-path=\"url(#clip400)\" d=\"M 0 0 M180.612 3482.05 L180.612 3477.79 Q182.371 3478.63 184.177 3479.07 Q185.982 3479.51 187.718 3479.51 Q192.348 3479.51 194.778 3476.4 Q197.232 3473.28 197.579 3466.94 Q196.237 3468.93 194.176 3469.99 Q192.116 3471.06 189.616 3471.06 Q184.431 3471.06 181.399 3467.93 Q178.39 3464.78 178.39 3459.34 Q178.39 3454.02 181.538 3450.8 Q184.686 3447.58 189.917 3447.58 Q195.913 3447.58 199.061 3452.19 Q202.232 3456.77 202.232 3465.52 Q202.232 3473.7 198.343 3478.58 Q194.477 3483.44 187.926 3483.44 Q186.167 3483.44 184.362 3483.09 Q182.556 3482.75 180.612 3482.05 M189.917 3467.4 Q193.065 3467.4 194.894 3465.25 Q196.746 3463.09 196.746 3459.34 Q196.746 3455.62 194.894 3453.46 Q193.065 3451.29 189.917 3451.29 Q186.769 3451.29 184.917 3453.46 Q183.089 3455.62 183.089 3459.34 Q183.089 3463.09 184.917 3465.25 Q186.769 3467.4 189.917 3467.4 Z\" fill=\"#000000\" fill-rule=\"evenodd\" fill-opacity=\"1\" /><path clip-path=\"url(#clip400)\" d=\"M 0 0 M203.945 3456.84 L228.783 3456.84 L228.783 3461.1 L225.519 3461.1 L225.519 3477.03 Q225.519 3478.7 226.074 3479.44 Q226.653 3480.15 227.926 3480.15 Q228.273 3480.15 228.783 3480.11 Q229.292 3480.04 229.454 3480.02 L229.454 3483.09 Q228.644 3483.39 227.787 3483.53 Q226.931 3483.67 226.074 3483.67 Q223.297 3483.67 222.232 3482.17 Q221.167 3480.64 221.167 3476.57 L221.167 3461.1 L211.607 3461.1 L211.607 3482.77 L207.255 3482.77 L207.255 3461.1 L203.945 3461.1 L203.945 3456.84 Z\" fill=\"#000000\" fill-rule=\"evenodd\" fill-opacity=\"1\" /><path clip-path=\"url(#clip400)\" d=\"M 0 0 M127.811 3267.63 L135.45 3267.63 L135.45 3241.26 L127.14 3242.93 L127.14 3238.67 L135.404 3237 L140.08 3237 L140.08 3267.63 L147.718 3267.63 L147.718 3271.56 L127.811 3271.56 L127.811 3267.63 Z\" fill=\"#000000\" fill-rule=\"evenodd\" fill-opacity=\"1\" /><path clip-path=\"url(#clip400)\" d=\"M 0 0 M165.635 3241.08 L153.829 3259.53 L165.635 3259.53 L165.635 3241.08 M164.408 3237 L170.288 3237 L170.288 3259.53 L175.218 3259.53 L175.218 3263.42 L170.288 3263.42 L170.288 3271.56 L165.635 3271.56 L165.635 3263.42 L150.033 3263.42 L150.033 3258.9 L164.408 3237 Z\" fill=\"#000000\" fill-rule=\"evenodd\" fill-opacity=\"1\" /><path clip-path=\"url(#clip400)\" d=\"M 0 0 M190.288 3240.08 Q186.677 3240.08 184.848 3243.65 Q183.042 3247.19 183.042 3254.32 Q183.042 3261.42 184.848 3264.99 Q186.677 3268.53 190.288 3268.53 Q193.922 3268.53 195.727 3264.99 Q197.556 3261.42 197.556 3254.32 Q197.556 3247.19 195.727 3243.65 Q193.922 3240.08 190.288 3240.08 M190.288 3236.38 Q196.098 3236.38 199.153 3240.98 Q202.232 3245.57 202.232 3254.32 Q202.232 3263.04 199.153 3267.65 Q196.098 3272.23 190.288 3272.23 Q184.477 3272.23 181.399 3267.65 Q178.343 3263.04 178.343 3254.32 Q178.343 3245.57 181.399 3240.98 Q184.477 3236.38 190.288 3236.38 Z\" fill=\"#000000\" fill-rule=\"evenodd\" fill-opacity=\"1\" /><path clip-path=\"url(#clip400)\" d=\"M 0 0 M203.945 3245.64 L228.783 3245.64 L228.783 3249.9 L225.519 3249.9 L225.519 3265.82 Q225.519 3267.49 226.074 3268.23 Q226.653 3268.95 227.926 3268.95 Q228.273 3268.95 228.783 3268.9 Q229.292 3268.83 229.454 3268.81 L229.454 3271.89 Q228.644 3272.19 227.787 3272.33 Q226.931 3272.47 226.074 3272.47 Q223.297 3272.47 222.232 3270.96 Q221.167 3269.43 221.167 3265.36 L221.167 3249.9 L211.607 3249.9 L211.607 3271.56 L207.255 3271.56 L207.255 3249.9 L203.945 3249.9 L203.945 3245.64 Z\" fill=\"#000000\" fill-rule=\"evenodd\" fill-opacity=\"1\" /><path clip-path=\"url(#clip400)\" d=\"M 0 0 M129.038 3056.42 L136.677 3056.42 L136.677 3030.06 L128.367 3031.72 L128.367 3027.46 L136.63 3025.8 L141.306 3025.8 L141.306 3056.42 L148.945 3056.42 L148.945 3060.36 L129.038 3060.36 L129.038 3056.42 Z\" fill=\"#000000\" fill-rule=\"evenodd\" fill-opacity=\"1\" /><path clip-path=\"url(#clip400)\" d=\"M 0 0 M166.862 3029.87 L155.056 3048.32 L166.862 3048.32 L166.862 3029.87 M165.635 3025.8 L171.515 3025.8 L171.515 3048.32 L176.445 3048.32 L176.445 3052.21 L171.515 3052.21 L171.515 3060.36 L166.862 3060.36 L166.862 3052.21 L151.26 3052.21 L151.26 3047.69 L165.635 3025.8 Z\" fill=\"#000000\" fill-rule=\"evenodd\" fill-opacity=\"1\" /><path clip-path=\"url(#clip400)\" d=\"M 0 0 M182.325 3056.42 L189.964 3056.42 L189.964 3030.06 L181.653 3031.72 L181.653 3027.46 L189.917 3025.8 L194.593 3025.8 L194.593 3056.42 L202.232 3056.42 L202.232 3060.36 L182.325 3060.36 L182.325 3056.42 Z\" fill=\"#000000\" fill-rule=\"evenodd\" fill-opacity=\"1\" /><path clip-path=\"url(#clip400)\" d=\"M 0 0 M203.945 3034.43 L228.783 3034.43 L228.783 3038.69 L225.519 3038.69 L225.519 3054.62 Q225.519 3056.28 226.074 3057.02 Q226.653 3057.74 227.926 3057.74 Q228.273 3057.74 228.783 3057.69 Q229.292 3057.63 229.454 3057.6 L229.454 3060.68 Q228.644 3060.98 227.787 3061.12 Q226.931 3061.26 226.074 3061.26 Q223.297 3061.26 222.232 3059.75 Q221.167 3058.23 221.167 3054.15 L221.167 3038.69 L211.607 3038.69 L211.607 3060.36 L207.255 3060.36 L207.255 3038.69 L203.945 3038.69 L203.945 3034.43 Z\" fill=\"#000000\" fill-rule=\"evenodd\" fill-opacity=\"1\" /><path clip-path=\"url(#clip400)\" d=\"M 0 0 M129.408 2845.21 L137.047 2845.21 L137.047 2818.85 L128.737 2820.52 L128.737 2816.26 L137.001 2814.59 L141.677 2814.59 L141.677 2845.21 L149.316 2845.21 L149.316 2849.15 L129.408 2849.15 L129.408 2845.21 Z\" fill=\"#000000\" fill-rule=\"evenodd\" fill-opacity=\"1\" /><path clip-path=\"url(#clip400)\" d=\"M 0 0 M167.232 2818.66 L155.427 2837.11 L167.232 2837.11 L167.232 2818.66 M166.005 2814.59 L171.885 2814.59 L171.885 2837.11 L176.815 2837.11 L176.815 2841 L171.885 2841 L171.885 2849.15 L167.232 2849.15 L167.232 2841 L151.63 2841 L151.63 2836.49 L166.005 2814.59 Z\" fill=\"#000000\" fill-rule=\"evenodd\" fill-opacity=\"1\" /><path clip-path=\"url(#clip400)\" d=\"M 0 0 M185.913 2845.21 L202.232 2845.21 L202.232 2849.15 L180.288 2849.15 L180.288 2845.21 Q182.95 2842.46 187.533 2837.83 Q192.139 2833.18 193.32 2831.84 Q195.565 2829.31 196.445 2827.58 Q197.348 2825.82 197.348 2824.13 Q197.348 2821.37 195.403 2819.64 Q193.482 2817.9 190.38 2817.9 Q188.181 2817.9 185.727 2818.66 Q183.297 2819.43 180.519 2820.98 L180.519 2816.26 Q183.343 2815.12 185.797 2814.54 Q188.251 2813.97 190.288 2813.97 Q195.658 2813.97 198.852 2816.65 Q202.047 2819.34 202.047 2823.83 Q202.047 2825.96 201.237 2827.88 Q200.45 2829.78 198.343 2832.37 Q197.764 2833.04 194.663 2836.26 Q191.561 2839.45 185.913 2845.21 Z\" fill=\"#000000\" fill-rule=\"evenodd\" fill-opacity=\"1\" /><path clip-path=\"url(#clip400)\" d=\"M 0 0 M203.945 2823.22 L228.783 2823.22 L228.783 2827.48 L225.519 2827.48 L225.519 2843.41 Q225.519 2845.08 226.074 2845.82 Q226.653 2846.53 227.926 2846.53 Q228.273 2846.53 228.783 2846.49 Q229.292 2846.42 229.454 2846.4 L229.454 2849.47 Q228.644 2849.78 227.787 2849.91 Q226.931 2850.05 226.074 2850.05 Q223.297 2850.05 222.232 2848.55 Q221.167 2847.02 221.167 2842.95 L221.167 2827.48 L211.607 2827.48 L211.607 2849.15 L207.255 2849.15 L207.255 2827.48 L203.945 2827.48 L203.945 2823.22 Z\" fill=\"#000000\" fill-rule=\"evenodd\" fill-opacity=\"1\" /><path clip-path=\"url(#clip400)\" d=\"M 0 0 M128.459 2634.01 L136.098 2634.01 L136.098 2607.64 L127.788 2609.31 L127.788 2605.05 L136.052 2603.38 L140.728 2603.38 L140.728 2634.01 L148.367 2634.01 L148.367 2637.94 L128.459 2637.94 L128.459 2634.01 Z\" fill=\"#000000\" fill-rule=\"evenodd\" fill-opacity=\"1\" /><path clip-path=\"url(#clip400)\" d=\"M 0 0 M166.283 2607.46 L154.478 2625.91 L166.283 2625.91 L166.283 2607.46 M165.056 2603.38 L170.936 2603.38 L170.936 2625.91 L175.866 2625.91 L175.866 2629.8 L170.936 2629.8 L170.936 2637.94 L166.283 2637.94 L166.283 2629.8 L150.681 2629.8 L150.681 2625.28 L165.056 2603.38 Z\" fill=\"#000000\" fill-rule=\"evenodd\" fill-opacity=\"1\" /><path clip-path=\"url(#clip400)\" d=\"M 0 0 M195.102 2619.31 Q198.459 2620.03 200.334 2622.3 Q202.232 2624.56 202.232 2627.9 Q202.232 2633.01 198.713 2635.81 Q195.195 2638.61 188.714 2638.61 Q186.538 2638.61 184.223 2638.18 Q181.931 2637.76 179.477 2636.9 L179.477 2632.39 Q181.422 2633.52 183.737 2634.1 Q186.052 2634.68 188.575 2634.68 Q192.973 2634.68 195.264 2632.94 Q197.579 2631.21 197.579 2627.9 Q197.579 2624.84 195.426 2623.13 Q193.297 2621.39 189.477 2621.39 L185.45 2621.39 L185.45 2617.55 L189.663 2617.55 Q193.112 2617.55 194.94 2616.18 Q196.769 2614.8 196.769 2612.2 Q196.769 2609.54 194.871 2608.13 Q192.996 2606.69 189.477 2606.69 Q187.556 2606.69 185.357 2607.11 Q183.158 2607.53 180.519 2608.41 L180.519 2604.24 Q183.181 2603.5 185.496 2603.13 Q187.834 2602.76 189.894 2602.76 Q195.218 2602.76 198.32 2605.19 Q201.422 2607.6 201.422 2611.72 Q201.422 2614.59 199.778 2616.58 Q198.135 2618.55 195.102 2619.31 Z\" fill=\"#000000\" fill-rule=\"evenodd\" fill-opacity=\"1\" /><path clip-path=\"url(#clip400)\" d=\"M 0 0 M203.945 2612.02 L228.783 2612.02 L228.783 2616.28 L225.519 2616.28 L225.519 2632.2 Q225.519 2633.87 226.074 2634.61 Q226.653 2635.33 227.926 2635.33 Q228.273 2635.33 228.783 2635.28 Q229.292 2635.21 229.454 2635.19 L229.454 2638.27 Q228.644 2638.57 227.787 2638.71 Q226.931 2638.85 226.074 2638.85 Q223.297 2638.85 222.232 2637.34 Q221.167 2635.81 221.167 2631.74 L221.167 2616.28 L211.607 2616.28 L211.607 2637.94 L207.255 2637.94 L207.255 2616.28 L203.945 2616.28 L203.945 2612.02 Z\" fill=\"#000000\" fill-rule=\"evenodd\" fill-opacity=\"1\" /><path clip-path=\"url(#clip400)\" d=\"M 0 0 M127.325 2422.8 L134.964 2422.8 L134.964 2396.44 L126.654 2398.1 L126.654 2393.84 L134.918 2392.18 L139.593 2392.18 L139.593 2422.8 L147.232 2422.8 L147.232 2426.74 L127.325 2426.74 L127.325 2422.8 Z\" fill=\"#000000\" fill-rule=\"evenodd\" fill-opacity=\"1\" /><path clip-path=\"url(#clip400)\" d=\"M 0 0 M165.149 2396.25 L153.343 2414.7 L165.149 2414.7 L165.149 2396.25 M163.922 2392.18 L169.802 2392.18 L169.802 2414.7 L174.732 2414.7 L174.732 2418.59 L169.802 2418.59 L169.802 2426.74 L165.149 2426.74 L165.149 2418.59 L149.547 2418.59 L149.547 2414.08 L163.922 2392.18 Z\" fill=\"#000000\" fill-rule=\"evenodd\" fill-opacity=\"1\" /><path clip-path=\"url(#clip400)\" d=\"M 0 0 M192.649 2396.25 L180.843 2414.7 L192.649 2414.7 L192.649 2396.25 M191.422 2392.18 L197.301 2392.18 L197.301 2414.7 L202.232 2414.7 L202.232 2418.59 L197.301 2418.59 L197.301 2426.74 L192.649 2426.74 L192.649 2418.59 L177.047 2418.59 L177.047 2414.08 L191.422 2392.18 Z\" fill=\"#000000\" fill-rule=\"evenodd\" fill-opacity=\"1\" /><path clip-path=\"url(#clip400)\" d=\"M 0 0 M203.945 2400.81 L228.783 2400.81 L228.783 2405.07 L225.519 2405.07 L225.519 2421 Q225.519 2422.66 226.074 2423.4 Q226.653 2424.12 227.926 2424.12 Q228.273 2424.12 228.783 2424.08 Q229.292 2424.01 229.454 2423.98 L229.454 2427.06 Q228.644 2427.36 227.787 2427.5 Q226.931 2427.64 226.074 2427.64 Q223.297 2427.64 222.232 2426.14 Q221.167 2424.61 221.167 2420.53 L221.167 2405.07 L211.607 2405.07 L211.607 2426.74 L207.255 2426.74 L207.255 2405.07 L203.945 2405.07 L203.945 2400.81 Z\" fill=\"#000000\" fill-rule=\"evenodd\" fill-opacity=\"1\" /><path clip-path=\"url(#clip400)\" d=\"M 0 0 M128.806 2211.6 L136.445 2211.6 L136.445 2185.23 L128.135 2186.9 L128.135 2182.64 L136.399 2180.97 L141.075 2180.97 L141.075 2211.6 L148.714 2211.6 L148.714 2215.53 L128.806 2215.53 L128.806 2211.6 Z\" fill=\"#000000\" fill-rule=\"evenodd\" fill-opacity=\"1\" /><path clip-path=\"url(#clip400)\" d=\"M 0 0 M166.63 2185.04 L154.825 2203.49 L166.63 2203.49 L166.63 2185.04 M165.403 2180.97 L171.283 2180.97 L171.283 2203.49 L176.214 2203.49 L176.214 2207.38 L171.283 2207.38 L171.283 2215.53 L166.63 2215.53 L166.63 2207.38 L151.029 2207.38 L151.029 2202.87 L165.403 2180.97 Z\" fill=\"#000000\" fill-rule=\"evenodd\" fill-opacity=\"1\" /><path clip-path=\"url(#clip400)\" d=\"M 0 0 M181.329 2180.97 L199.686 2180.97 L199.686 2184.91 L185.612 2184.91 L185.612 2193.38 Q186.63 2193.03 187.649 2192.87 Q188.667 2192.68 189.686 2192.68 Q195.473 2192.68 198.852 2195.85 Q202.232 2199.03 202.232 2204.44 Q202.232 2210.02 198.76 2213.12 Q195.288 2216.2 188.968 2216.2 Q186.792 2216.2 184.524 2215.83 Q182.278 2215.46 179.871 2214.72 L179.871 2210.02 Q181.954 2211.16 184.177 2211.71 Q186.399 2212.27 188.876 2212.27 Q192.88 2212.27 195.218 2210.16 Q197.556 2208.05 197.556 2204.44 Q197.556 2200.83 195.218 2198.73 Q192.88 2196.62 188.876 2196.62 Q187.001 2196.62 185.126 2197.04 Q183.274 2197.45 181.329 2198.33 L181.329 2180.97 Z\" fill=\"#000000\" fill-rule=\"evenodd\" fill-opacity=\"1\" /><path clip-path=\"url(#clip400)\" d=\"M 0 0 M203.945 2189.6 L228.783 2189.6 L228.783 2193.86 L225.519 2193.86 L225.519 2209.79 Q225.519 2211.46 226.074 2212.2 Q226.653 2212.91 227.926 2212.91 Q228.273 2212.91 228.783 2212.87 Q229.292 2212.8 229.454 2212.78 L229.454 2215.85 Q228.644 2216.16 227.787 2216.29 Q226.931 2216.43 226.074 2216.43 Q223.297 2216.43 222.232 2214.93 Q221.167 2213.4 221.167 2209.33 L221.167 2193.86 L211.607 2193.86 L211.607 2215.53 L207.255 2215.53 L207.255 2193.86 L203.945 2193.86 L203.945 2189.6 Z\" fill=\"#000000\" fill-rule=\"evenodd\" fill-opacity=\"1\" /><path clip-path=\"url(#clip400)\" d=\"M 0 0 M127.649 2000.39 L135.288 2000.39 L135.288 1974.02 L126.978 1975.69 L126.978 1971.43 L135.242 1969.76 L139.917 1969.76 L139.917 2000.39 L147.556 2000.39 L147.556 2004.32 L127.649 2004.32 L127.649 2000.39 Z\" fill=\"#000000\" fill-rule=\"evenodd\" fill-opacity=\"1\" /><path clip-path=\"url(#clip400)\" d=\"M 0 0 M165.473 1973.84 L153.667 1992.29 L165.473 1992.29 L165.473 1973.84 M164.246 1969.76 L170.126 1969.76 L170.126 1992.29 L175.056 1992.29 L175.056 1996.18 L170.126 1996.18 L170.126 2004.32 L165.473 2004.32 L165.473 1996.18 L149.871 1996.18 L149.871 1991.66 L164.246 1969.76 Z\" fill=\"#000000\" fill-rule=\"evenodd\" fill-opacity=\"1\" /><path clip-path=\"url(#clip400)\" d=\"M 0 0 M190.704 1985.18 Q187.556 1985.18 185.704 1987.33 Q183.876 1989.49 183.876 1993.24 Q183.876 1996.96 185.704 1999.14 Q187.556 2001.29 190.704 2001.29 Q193.852 2001.29 195.681 1999.14 Q197.533 1996.96 197.533 1993.24 Q197.533 1989.49 195.681 1987.33 Q193.852 1985.18 190.704 1985.18 M199.987 1970.53 L199.987 1974.79 Q198.227 1973.95 196.422 1973.51 Q194.639 1973.07 192.88 1973.07 Q188.251 1973.07 185.797 1976.2 Q183.366 1979.32 183.019 1985.64 Q184.385 1983.63 186.445 1982.57 Q188.505 1981.48 190.982 1981.48 Q196.19 1981.48 199.2 1984.65 Q202.232 1987.8 202.232 1993.24 Q202.232 1998.56 199.084 2001.78 Q195.936 2005 190.704 2005 Q184.709 2005 181.538 2000.41 Q178.366 1995.81 178.366 1987.08 Q178.366 1978.88 182.255 1974.02 Q186.144 1969.14 192.695 1969.14 Q194.454 1969.14 196.237 1969.49 Q198.042 1969.83 199.987 1970.53 Z\" fill=\"#000000\" fill-rule=\"evenodd\" fill-opacity=\"1\" /><path clip-path=\"url(#clip400)\" d=\"M 0 0 M203.945 1978.4 L228.783 1978.4 L228.783 1982.66 L225.519 1982.66 L225.519 1998.58 Q225.519 2000.25 226.074 2000.99 Q226.653 2001.71 227.926 2001.71 Q228.273 2001.71 228.783 2001.66 Q229.292 2001.59 229.454 2001.57 L229.454 2004.65 Q228.644 2004.95 227.787 2005.09 Q226.931 2005.23 226.074 2005.23 Q223.297 2005.23 222.232 2003.72 Q221.167 2002.19 221.167 1998.12 L221.167 1982.66 L211.607 1982.66 L211.607 2004.32 L207.255 2004.32 L207.255 1982.66 L203.945 1982.66 L203.945 1978.4 Z\" fill=\"#000000\" fill-rule=\"evenodd\" fill-opacity=\"1\" /><path clip-path=\"url(#clip400)\" d=\"M 0 0 M128.714 1789.18 L136.353 1789.18 L136.353 1762.82 L128.043 1764.48 L128.043 1760.22 L136.306 1758.56 L140.982 1758.56 L140.982 1789.18 L148.621 1789.18 L148.621 1793.12 L128.714 1793.12 L128.714 1789.18 Z\" fill=\"#000000\" fill-rule=\"evenodd\" fill-opacity=\"1\" /><path clip-path=\"url(#clip400)\" d=\"M 0 0 M166.538 1762.63 L154.732 1781.08 L166.538 1781.08 L166.538 1762.63 M165.311 1758.56 L171.19 1758.56 L171.19 1781.08 L176.121 1781.08 L176.121 1784.97 L171.19 1784.97 L171.19 1793.12 L166.538 1793.12 L166.538 1784.97 L150.936 1784.97 L150.936 1780.46 L165.311 1758.56 Z\" fill=\"#000000\" fill-rule=\"evenodd\" fill-opacity=\"1\" /><path clip-path=\"url(#clip400)\" d=\"M 0 0 M180.01 1758.56 L202.232 1758.56 L202.232 1760.55 L189.686 1793.12 L184.802 1793.12 L196.607 1762.49 L180.01 1762.49 L180.01 1758.56 Z\" fill=\"#000000\" fill-rule=\"evenodd\" fill-opacity=\"1\" /><path clip-path=\"url(#clip400)\" d=\"M 0 0 M203.945 1767.19 L228.783 1767.19 L228.783 1771.45 L225.519 1771.45 L225.519 1787.38 Q225.519 1789.04 226.074 1789.78 Q226.653 1790.5 227.926 1790.5 Q228.273 1790.5 228.783 1790.46 Q229.292 1790.39 229.454 1790.36 L229.454 1793.44 Q228.644 1793.74 227.787 1793.88 Q226.931 1794.02 226.074 1794.02 Q223.297 1794.02 222.232 1792.52 Q221.167 1790.99 221.167 1786.91 L221.167 1771.45 L211.607 1771.45 L211.607 1793.12 L207.255 1793.12 L207.255 1771.45 L203.945 1771.45 L203.945 1767.19 Z\" fill=\"#000000\" fill-rule=\"evenodd\" fill-opacity=\"1\" /><path clip-path=\"url(#clip400)\" d=\"M 0 0 M127.904 1577.98 L135.543 1577.98 L135.543 1551.61 L127.232 1553.28 L127.232 1549.02 L135.496 1547.35 L140.172 1547.35 L140.172 1577.98 L147.811 1577.98 L147.811 1581.91 L127.904 1581.91 L127.904 1577.98 Z\" fill=\"#000000\" fill-rule=\"evenodd\" fill-opacity=\"1\" /><path clip-path=\"url(#clip400)\" d=\"M 0 0 M165.728 1551.43 L153.922 1569.87 L165.728 1569.87 L165.728 1551.43 M164.501 1547.35 L170.38 1547.35 L170.38 1569.87 L175.311 1569.87 L175.311 1573.76 L170.38 1573.76 L170.38 1581.91 L165.728 1581.91 L165.728 1573.76 L150.126 1573.76 L150.126 1569.25 L164.501 1547.35 Z\" fill=\"#000000\" fill-rule=\"evenodd\" fill-opacity=\"1\" /><path clip-path=\"url(#clip400)\" d=\"M 0 0 M190.38 1565.5 Q187.047 1565.5 185.126 1567.28 Q183.227 1569.06 183.227 1572.19 Q183.227 1575.31 185.126 1577.1 Q187.047 1578.88 190.38 1578.88 Q193.713 1578.88 195.635 1577.1 Q197.556 1575.29 197.556 1572.19 Q197.556 1569.06 195.635 1567.28 Q193.737 1565.5 190.38 1565.5 M185.704 1563.51 Q182.695 1562.77 181.005 1560.71 Q179.339 1558.65 179.339 1555.68 Q179.339 1551.54 182.278 1549.13 Q185.241 1546.73 190.38 1546.73 Q195.542 1546.73 198.482 1549.13 Q201.422 1551.54 201.422 1555.68 Q201.422 1558.65 199.732 1560.71 Q198.065 1562.77 195.079 1563.51 Q198.459 1564.3 200.334 1566.59 Q202.232 1568.88 202.232 1572.19 Q202.232 1577.21 199.153 1579.9 Q196.098 1582.58 190.38 1582.58 Q184.663 1582.58 181.584 1579.9 Q178.528 1577.21 178.528 1572.19 Q178.528 1568.88 180.427 1566.59 Q182.325 1564.3 185.704 1563.51 M183.991 1556.12 Q183.991 1558.81 185.658 1560.31 Q187.348 1561.82 190.38 1561.82 Q193.389 1561.82 195.079 1560.31 Q196.792 1558.81 196.792 1556.12 Q196.792 1553.44 195.079 1551.93 Q193.389 1550.43 190.38 1550.43 Q187.348 1550.43 185.658 1551.93 Q183.991 1553.44 183.991 1556.12 Z\" fill=\"#000000\" fill-rule=\"evenodd\" fill-opacity=\"1\" /><path clip-path=\"url(#clip400)\" d=\"M 0 0 M203.945 1555.99 L228.783 1555.99 L228.783 1560.24 L225.519 1560.24 L225.519 1576.17 Q225.519 1577.84 226.074 1578.58 Q226.653 1579.3 227.926 1579.3 Q228.273 1579.3 228.783 1579.25 Q229.292 1579.18 229.454 1579.16 L229.454 1582.24 Q228.644 1582.54 227.787 1582.68 Q226.931 1582.81 226.074 1582.81 Q223.297 1582.81 222.232 1581.31 Q221.167 1579.78 221.167 1575.71 L221.167 1560.24 L211.607 1560.24 L211.607 1581.91 L207.255 1581.91 L207.255 1560.24 L203.945 1560.24 L203.945 1555.99 Z\" fill=\"#000000\" fill-rule=\"evenodd\" fill-opacity=\"1\" /><path clip-path=\"url(#clip400)\" d=\"M 0 0 M127.996 1366.77 L135.635 1366.77 L135.635 1340.4 L127.325 1342.07 L127.325 1337.81 L135.589 1336.14 L140.265 1336.14 L140.265 1366.77 L147.904 1366.77 L147.904 1370.7 L127.996 1370.7 L127.996 1366.77 Z\" fill=\"#000000\" fill-rule=\"evenodd\" fill-opacity=\"1\" /><path clip-path=\"url(#clip400)\" d=\"M 0 0 M165.82 1340.22 L154.015 1358.67 L165.82 1358.67 L165.82 1340.22 M164.593 1336.14 L170.473 1336.14 L170.473 1358.67 L175.403 1358.67 L175.403 1362.56 L170.473 1362.56 L170.473 1370.7 L165.82 1370.7 L165.82 1362.56 L150.218 1362.56 L150.218 1358.04 L164.593 1336.14 Z\" fill=\"#000000\" fill-rule=\"evenodd\" fill-opacity=\"1\" /><path clip-path=\"url(#clip400)\" d=\"M 0 0 M180.612 1369.99 L180.612 1365.73 Q182.371 1366.56 184.177 1367 Q185.982 1367.44 187.718 1367.44 Q192.348 1367.44 194.778 1364.34 Q197.232 1361.21 197.579 1354.87 Q196.237 1356.86 194.176 1357.93 Q192.116 1358.99 189.616 1358.99 Q184.431 1358.99 181.399 1355.87 Q178.39 1352.72 178.39 1347.28 Q178.39 1341.95 181.538 1338.74 Q184.686 1335.52 189.917 1335.52 Q195.913 1335.52 199.061 1340.13 Q202.232 1344.71 202.232 1353.46 Q202.232 1361.63 198.343 1366.51 Q194.477 1371.38 187.926 1371.38 Q186.167 1371.38 184.362 1371.03 Q182.556 1370.68 180.612 1369.99 M189.917 1355.33 Q193.065 1355.33 194.894 1353.18 Q196.746 1351.03 196.746 1347.28 Q196.746 1343.55 194.894 1341.4 Q193.065 1339.22 189.917 1339.22 Q186.769 1339.22 184.917 1341.4 Q183.089 1343.55 183.089 1347.28 Q183.089 1351.03 184.917 1353.18 Q186.769 1355.33 189.917 1355.33 Z\" fill=\"#000000\" fill-rule=\"evenodd\" fill-opacity=\"1\" /><path clip-path=\"url(#clip400)\" d=\"M 0 0 M203.945 1344.78 L228.783 1344.78 L228.783 1349.04 L225.519 1349.04 L225.519 1364.96 Q225.519 1366.63 226.074 1367.37 Q226.653 1368.09 227.926 1368.09 Q228.273 1368.09 228.783 1368.04 Q229.292 1367.97 229.454 1367.95 L229.454 1371.03 Q228.644 1371.33 227.787 1371.47 Q226.931 1371.61 226.074 1371.61 Q223.297 1371.61 222.232 1370.1 Q221.167 1368.58 221.167 1364.5 L221.167 1349.04 L211.607 1349.04 L211.607 1370.7 L207.255 1370.7 L207.255 1349.04 L203.945 1349.04 L203.945 1344.78 Z\" fill=\"#000000\" fill-rule=\"evenodd\" fill-opacity=\"1\" /><path clip-path=\"url(#clip400)\" d=\"M 0 0 M129.293 1155.56 L136.931 1155.56 L136.931 1129.2 L128.621 1130.86 L128.621 1126.6 L136.885 1124.94 L141.561 1124.94 L141.561 1155.56 L149.2 1155.56 L149.2 1159.5 L129.293 1159.5 L129.293 1155.56 Z\" fill=\"#000000\" fill-rule=\"evenodd\" fill-opacity=\"1\" /><path clip-path=\"url(#clip400)\" d=\"M 0 0 M154.316 1124.94 L172.672 1124.94 L172.672 1128.87 L158.598 1128.87 L158.598 1137.35 Q159.616 1137 160.635 1136.84 Q161.653 1136.65 162.672 1136.65 Q168.459 1136.65 171.839 1139.82 Q175.218 1142.99 175.218 1148.41 Q175.218 1153.99 171.746 1157.09 Q168.274 1160.17 161.954 1160.17 Q159.778 1160.17 157.51 1159.8 Q155.265 1159.43 152.857 1158.69 L152.857 1153.99 Q154.941 1155.12 157.163 1155.68 Q159.385 1156.23 161.862 1156.23 Q165.866 1156.23 168.204 1154.13 Q170.542 1152.02 170.542 1148.41 Q170.542 1144.8 168.204 1142.69 Q165.866 1140.59 161.862 1140.59 Q159.987 1140.59 158.112 1141 Q156.26 1141.42 154.316 1142.3 L154.316 1124.94 Z\" fill=\"#000000\" fill-rule=\"evenodd\" fill-opacity=\"1\" /><path clip-path=\"url(#clip400)\" d=\"M 0 0 M190.288 1128.02 Q186.677 1128.02 184.848 1131.58 Q183.042 1135.12 183.042 1142.25 Q183.042 1149.36 184.848 1152.92 Q186.677 1156.47 190.288 1156.47 Q193.922 1156.47 195.727 1152.92 Q197.556 1149.36 197.556 1142.25 Q197.556 1135.12 195.727 1131.58 Q193.922 1128.02 190.288 1128.02 M190.288 1124.31 Q196.098 1124.31 199.153 1128.92 Q202.232 1133.5 202.232 1142.25 Q202.232 1150.98 199.153 1155.59 Q196.098 1160.17 190.288 1160.17 Q184.477 1160.17 181.399 1155.59 Q178.343 1150.98 178.343 1142.25 Q178.343 1133.5 181.399 1128.92 Q184.477 1124.31 190.288 1124.31 Z\" fill=\"#000000\" fill-rule=\"evenodd\" fill-opacity=\"1\" /><path clip-path=\"url(#clip400)\" d=\"M 0 0 M203.945 1133.57 L228.783 1133.57 L228.783 1137.83 L225.519 1137.83 L225.519 1153.76 Q225.519 1155.42 226.074 1156.16 Q226.653 1156.88 227.926 1156.88 Q228.273 1156.88 228.783 1156.84 Q229.292 1156.77 229.454 1156.74 L229.454 1159.82 Q228.644 1160.12 227.787 1160.26 Q226.931 1160.4 226.074 1160.4 Q223.297 1160.4 222.232 1158.9 Q221.167 1157.37 221.167 1153.29 L221.167 1137.83 L211.607 1137.83 L211.607 1159.5 L207.255 1159.5 L207.255 1137.83 L203.945 1137.83 L203.945 1133.57 Z\" fill=\"#000000\" fill-rule=\"evenodd\" fill-opacity=\"1\" /><path clip-path=\"url(#clip400)\" d=\"M 0 0 M130.519 944.357 L138.158 944.357 L138.158 917.991 L129.848 919.658 L129.848 915.398 L138.112 913.732 L142.788 913.732 L142.788 944.357 L150.427 944.357 L150.427 948.292 L130.519 948.292 L130.519 944.357 Z\" fill=\"#000000\" fill-rule=\"evenodd\" fill-opacity=\"1\" /><path clip-path=\"url(#clip400)\" d=\"M 0 0 M155.542 913.732 L173.899 913.732 L173.899 917.667 L159.825 917.667 L159.825 926.139 Q160.843 925.792 161.862 925.63 Q162.88 925.445 163.899 925.445 Q169.686 925.445 173.065 928.616 Q176.445 931.787 176.445 937.204 Q176.445 942.782 172.973 945.884 Q169.501 948.963 163.181 948.963 Q161.005 948.963 158.737 948.593 Q156.491 948.222 154.084 947.481 L154.084 942.782 Q156.167 943.917 158.39 944.472 Q160.612 945.028 163.089 945.028 Q167.093 945.028 169.431 942.921 Q171.769 940.815 171.769 937.204 Q171.769 933.593 169.431 931.486 Q167.093 929.38 163.089 929.38 Q161.214 929.38 159.339 929.796 Q157.487 930.213 155.542 931.093 L155.542 913.732 Z\" fill=\"#000000\" fill-rule=\"evenodd\" fill-opacity=\"1\" /><path clip-path=\"url(#clip400)\" d=\"M 0 0 M182.325 944.357 L189.964 944.357 L189.964 917.991 L181.653 919.658 L181.653 915.398 L189.917 913.732 L194.593 913.732 L194.593 944.357 L202.232 944.357 L202.232 948.292 L182.325 948.292 L182.325 944.357 Z\" fill=\"#000000\" fill-rule=\"evenodd\" fill-opacity=\"1\" /><path clip-path=\"url(#clip400)\" d=\"M 0 0 M203.945 922.366 L228.783 922.366 L228.783 926.625 L225.519 926.625 L225.519 942.551 Q225.519 944.218 226.074 944.958 Q226.653 945.676 227.926 945.676 Q228.273 945.676 228.783 945.63 Q229.292 945.56 229.454 945.537 L229.454 948.616 Q228.644 948.917 227.787 949.056 Q226.931 949.194 226.074 949.194 Q223.297 949.194 222.232 947.69 Q221.167 946.162 221.167 942.088 L221.167 926.625 L211.607 926.625 L211.607 948.292 L207.255 948.292 L207.255 926.625 L203.945 926.625 L203.945 922.366 Z\" fill=\"#000000\" fill-rule=\"evenodd\" fill-opacity=\"1\" /><path clip-path=\"url(#clip400)\" d=\"M 0 0 M130.89 733.15 L138.529 733.15 L138.529 706.784 L130.218 708.451 L130.218 704.192 L138.482 702.525 L143.158 702.525 L143.158 733.15 L150.797 733.15 L150.797 737.085 L130.89 737.085 L130.89 733.15 Z\" fill=\"#000000\" fill-rule=\"evenodd\" fill-opacity=\"1\" /><path clip-path=\"url(#clip400)\" d=\"M 0 0 M155.913 702.525 L174.269 702.525 L174.269 706.46 L160.195 706.46 L160.195 714.933 Q161.214 714.585 162.232 714.423 Q163.251 714.238 164.269 714.238 Q170.056 714.238 173.436 717.409 Q176.815 720.581 176.815 725.997 Q176.815 731.576 173.343 734.678 Q169.871 737.756 163.552 737.756 Q161.376 737.756 159.107 737.386 Q156.862 737.016 154.454 736.275 L154.454 731.576 Q156.538 732.71 158.76 733.266 Q160.982 733.821 163.459 733.821 Q167.464 733.821 169.802 731.715 Q172.14 729.608 172.14 725.997 Q172.14 722.386 169.802 720.28 Q167.464 718.173 163.459 718.173 Q161.584 718.173 159.709 718.59 Q157.857 719.007 155.913 719.886 L155.913 702.525 Z\" fill=\"#000000\" fill-rule=\"evenodd\" fill-opacity=\"1\" /><path clip-path=\"url(#clip400)\" d=\"M 0 0 M185.913 733.15 L202.232 733.15 L202.232 737.085 L180.288 737.085 L180.288 733.15 Q182.95 730.395 187.533 725.766 Q192.139 721.113 193.32 719.77 Q195.565 717.247 196.445 715.511 Q197.348 713.752 197.348 712.062 Q197.348 709.308 195.403 707.571 Q193.482 705.835 190.38 705.835 Q188.181 705.835 185.727 706.599 Q183.297 707.363 180.519 708.914 L180.519 704.192 Q183.343 703.058 185.797 702.479 Q188.251 701.9 190.288 701.9 Q195.658 701.9 198.852 704.585 Q202.047 707.271 202.047 711.761 Q202.047 713.891 201.237 715.812 Q200.45 717.71 198.343 720.303 Q197.764 720.974 194.663 724.192 Q191.561 727.386 185.913 733.15 Z\" fill=\"#000000\" fill-rule=\"evenodd\" fill-opacity=\"1\" /><path clip-path=\"url(#clip400)\" d=\"M 0 0 M203.945 711.159 L228.783 711.159 L228.783 715.419 L225.519 715.419 L225.519 731.344 Q225.519 733.011 226.074 733.752 Q226.653 734.469 227.926 734.469 Q228.273 734.469 228.783 734.423 Q229.292 734.354 229.454 734.331 L229.454 737.409 Q228.644 737.71 227.787 737.849 Q226.931 737.988 226.074 737.988 Q223.297 737.988 222.232 736.483 Q221.167 734.956 221.167 730.881 L221.167 715.419 L211.607 715.419 L211.607 737.085 L207.255 737.085 L207.255 715.419 L203.945 715.419 L203.945 711.159 Z\" fill=\"#000000\" fill-rule=\"evenodd\" fill-opacity=\"1\" /><path clip-path=\"url(#clip400)\" d=\"M 0 0 M129.941 521.944 L137.58 521.944 L137.58 495.578 L129.269 497.245 L129.269 492.985 L137.533 491.319 L142.209 491.319 L142.209 521.944 L149.848 521.944 L149.848 525.879 L129.941 525.879 L129.941 521.944 Z\" fill=\"#000000\" fill-rule=\"evenodd\" fill-opacity=\"1\" /><path clip-path=\"url(#clip400)\" d=\"M 0 0 M154.964 491.319 L173.32 491.319 L173.32 495.254 L159.246 495.254 L159.246 503.726 Q160.265 503.379 161.283 503.217 Q162.302 503.032 163.32 503.032 Q169.107 503.032 172.487 506.203 Q175.866 509.374 175.866 514.791 Q175.866 520.369 172.394 523.471 Q168.922 526.55 162.603 526.55 Q160.427 526.55 158.158 526.18 Q155.913 525.809 153.505 525.068 L153.505 520.369 Q155.589 521.504 157.811 522.059 Q160.033 522.615 162.51 522.615 Q166.515 522.615 168.853 520.508 Q171.19 518.402 171.19 514.791 Q171.19 511.18 168.853 509.073 Q166.515 506.967 162.51 506.967 Q160.635 506.967 158.76 507.383 Q156.908 507.8 154.964 508.68 L154.964 491.319 Z\" fill=\"#000000\" fill-rule=\"evenodd\" fill-opacity=\"1\" /><path clip-path=\"url(#clip400)\" d=\"M 0 0 M195.102 507.245 Q198.459 507.962 200.334 510.231 Q202.232 512.499 202.232 515.832 Q202.232 520.948 198.713 523.749 Q195.195 526.55 188.714 526.55 Q186.538 526.55 184.223 526.11 Q181.931 525.693 179.477 524.837 L179.477 520.323 Q181.422 521.457 183.737 522.036 Q186.052 522.615 188.575 522.615 Q192.973 522.615 195.264 520.879 Q197.579 519.143 197.579 515.832 Q197.579 512.777 195.426 511.064 Q193.297 509.328 189.477 509.328 L185.45 509.328 L185.45 505.485 L189.663 505.485 Q193.112 505.485 194.94 504.12 Q196.769 502.731 196.769 500.138 Q196.769 497.476 194.871 496.064 Q192.996 494.629 189.477 494.629 Q187.556 494.629 185.357 495.046 Q183.158 495.462 180.519 496.342 L180.519 492.175 Q183.181 491.434 185.496 491.064 Q187.834 490.694 189.894 490.694 Q195.218 490.694 198.32 493.124 Q201.422 495.532 201.422 499.652 Q201.422 502.522 199.778 504.513 Q198.135 506.481 195.102 507.245 Z\" fill=\"#000000\" fill-rule=\"evenodd\" fill-opacity=\"1\" /><path clip-path=\"url(#clip400)\" d=\"M 0 0 M203.945 499.953 L228.783 499.953 L228.783 504.212 L225.519 504.212 L225.519 520.138 Q225.519 521.805 226.074 522.545 Q226.653 523.263 227.926 523.263 Q228.273 523.263 228.783 523.217 Q229.292 523.147 229.454 523.124 L229.454 526.203 Q228.644 526.504 227.787 526.643 Q226.931 526.781 226.074 526.781 Q223.297 526.781 222.232 525.277 Q221.167 523.749 221.167 519.675 L221.167 504.212 L211.607 504.212 L211.607 525.879 L207.255 525.879 L207.255 504.212 L203.945 504.212 L203.945 499.953 Z\" fill=\"#000000\" fill-rule=\"evenodd\" fill-opacity=\"1\" /><path clip-path=\"url(#clip400)\" d=\"M 0 0 M128.806 310.737 L136.445 310.737 L136.445 284.371 L128.135 286.038 L128.135 281.779 L136.399 280.112 L141.075 280.112 L141.075 310.737 L148.714 310.737 L148.714 314.672 L128.806 314.672 L128.806 310.737 Z\" fill=\"#000000\" fill-rule=\"evenodd\" fill-opacity=\"1\" /><path clip-path=\"url(#clip400)\" d=\"M 0 0 M153.829 280.112 L172.186 280.112 L172.186 284.047 L158.112 284.047 L158.112 292.52 Q159.13 292.172 160.149 292.01 Q161.167 291.825 162.186 291.825 Q167.973 291.825 171.353 294.996 Q174.732 298.168 174.732 303.584 Q174.732 309.163 171.26 312.265 Q167.788 315.343 161.468 315.343 Q159.292 315.343 157.024 314.973 Q154.779 314.603 152.371 313.862 L152.371 309.163 Q154.454 310.297 156.677 310.853 Q158.899 311.408 161.376 311.408 Q165.38 311.408 167.718 309.302 Q170.056 307.195 170.056 303.584 Q170.056 299.973 167.718 297.867 Q165.38 295.76 161.376 295.76 Q159.501 295.76 157.626 296.177 Q155.774 296.594 153.829 297.473 L153.829 280.112 Z\" fill=\"#000000\" fill-rule=\"evenodd\" fill-opacity=\"1\" /><path clip-path=\"url(#clip400)\" d=\"M 0 0 M192.649 284.186 L180.843 302.635 L192.649 302.635 L192.649 284.186 M191.422 280.112 L197.301 280.112 L197.301 302.635 L202.232 302.635 L202.232 306.524 L197.301 306.524 L197.301 314.672 L192.649 314.672 L192.649 306.524 L177.047 306.524 L177.047 302.01 L191.422 280.112 Z\" fill=\"#000000\" fill-rule=\"evenodd\" fill-opacity=\"1\" /><path clip-path=\"url(#clip400)\" d=\"M 0 0 M203.945 288.746 L228.783 288.746 L228.783 293.006 L225.519 293.006 L225.519 308.931 Q225.519 310.598 226.074 311.339 Q226.653 312.056 227.926 312.056 Q228.273 312.056 228.783 312.01 Q229.292 311.941 229.454 311.918 L229.454 314.996 Q228.644 315.297 227.787 315.436 Q226.931 315.575 226.074 315.575 Q223.297 315.575 222.232 314.07 Q221.167 312.543 221.167 308.469 L221.167 293.006 L211.607 293.006 L211.607 314.672 L207.255 314.672 L207.255 293.006 L203.945 293.006 L203.945 288.746 Z\" fill=\"#000000\" fill-rule=\"evenodd\" fill-opacity=\"1\" /><path clip-path=\"url(#clip400)\" d=\"M 0 0 M130.288 99.5305 L137.927 99.5305 L137.927 73.1649 L129.617 74.8316 L129.617 70.5723 L137.88 68.9057 L142.556 68.9057 L142.556 99.5305 L150.195 99.5305 L150.195 103.466 L130.288 103.466 L130.288 99.5305 Z\" fill=\"#000000\" fill-rule=\"evenodd\" fill-opacity=\"1\" /><path clip-path=\"url(#clip400)\" d=\"M 0 0 M155.311 68.9057 L173.667 68.9057 L173.667 72.8408 L159.593 72.8408 L159.593 81.313 Q160.612 80.9658 161.63 80.8038 Q162.649 80.6186 163.667 80.6186 Q169.454 80.6186 172.834 83.7899 Q176.214 86.9611 176.214 92.3778 Q176.214 97.9564 172.741 101.058 Q169.269 104.137 162.95 104.137 Q160.774 104.137 158.505 103.767 Q156.26 103.396 153.853 102.655 L153.853 97.9564 Q155.936 99.0907 158.158 99.6462 Q160.38 100.202 162.857 100.202 Q166.862 100.202 169.2 98.0953 Q171.538 95.9889 171.538 92.3778 Q171.538 88.7667 169.2 86.6602 Q166.862 84.5537 162.857 84.5537 Q160.982 84.5537 159.107 84.9704 Q157.255 85.3871 155.311 86.2667 L155.311 68.9057 Z\" fill=\"#000000\" fill-rule=\"evenodd\" fill-opacity=\"1\" /><path clip-path=\"url(#clip400)\" d=\"M 0 0 M181.329 68.9057 L199.686 68.9057 L199.686 72.8408 L185.612 72.8408 L185.612 81.313 Q186.63 80.9658 187.649 80.8038 Q188.667 80.6186 189.686 80.6186 Q195.473 80.6186 198.852 83.7899 Q202.232 86.9611 202.232 92.3778 Q202.232 97.9564 198.76 101.058 Q195.288 104.137 188.968 104.137 Q186.792 104.137 184.524 103.767 Q182.278 103.396 179.871 102.655 L179.871 97.9564 Q181.954 99.0907 184.177 99.6462 Q186.399 100.202 188.876 100.202 Q192.88 100.202 195.218 98.0953 Q197.556 95.9889 197.556 92.3778 Q197.556 88.7667 195.218 86.6602 Q192.88 84.5537 188.876 84.5537 Q187.001 84.5537 185.126 84.9704 Q183.274 85.3871 181.329 86.2667 L181.329 68.9057 Z\" fill=\"#000000\" fill-rule=\"evenodd\" fill-opacity=\"1\" /><path clip-path=\"url(#clip400)\" d=\"M 0 0 M203.945 77.5399 L228.783 77.5399 L228.783 81.7991 L225.519 81.7991 L225.519 97.725 Q225.519 99.3916 226.074 100.132 Q226.653 100.85 227.926 100.85 Q228.273 100.85 228.783 100.804 Q229.292 100.734 229.454 100.711 L229.454 103.79 Q228.644 104.091 227.787 104.23 Q226.931 104.368 226.074 104.368 Q223.297 104.368 222.232 102.864 Q221.167 101.336 221.167 97.262 L221.167 81.7991 L211.607 81.7991 L211.607 103.466 L207.255 103.466 L207.255 81.7991 L203.945 81.7991 L203.945 77.5399 Z\" fill=\"#000000\" fill-rule=\"evenodd\" fill-opacity=\"1\" /><path clip-path=\"url(#clip400)\" d=\"M 0 0 M129.131 -111.676 L136.769 -111.676 L136.769 -138.042 L128.459 -136.375 L128.459 -140.634 L136.723 -142.301 L141.399 -142.301 L141.399 -111.676 L149.038 -111.676 L149.038 -107.741 L129.131 -107.741 L129.131 -111.676 Z\" fill=\"#000000\" fill-rule=\"evenodd\" fill-opacity=\"1\" /><path clip-path=\"url(#clip400)\" d=\"M 0 0 M154.154 -142.301 L172.51 -142.301 L172.51 -138.366 L158.436 -138.366 L158.436 -129.893 Q159.454 -130.241 160.473 -130.403 Q161.491 -130.588 162.51 -130.588 Q168.297 -130.588 171.677 -127.417 Q175.056 -124.245 175.056 -118.829 Q175.056 -113.25 171.584 -110.148 Q168.112 -107.07 161.792 -107.07 Q159.616 -107.07 157.348 -107.44 Q155.103 -107.81 152.695 -108.551 L152.695 -113.25 Q154.779 -112.116 157.001 -111.56 Q159.223 -111.005 161.7 -111.005 Q165.704 -111.005 168.042 -113.111 Q170.38 -115.218 170.38 -118.829 Q170.38 -122.44 168.042 -124.546 Q165.704 -126.653 161.7 -126.653 Q159.825 -126.653 157.95 -126.236 Q156.098 -125.819 154.154 -124.94 L154.154 -142.301 Z\" fill=\"#000000\" fill-rule=\"evenodd\" fill-opacity=\"1\" /><path clip-path=\"url(#clip400)\" d=\"M 0 0 M190.704 -126.884 Q187.556 -126.884 185.704 -124.731 Q183.876 -122.579 183.876 -118.829 Q183.876 -115.102 185.704 -112.926 Q187.556 -110.773 190.704 -110.773 Q193.852 -110.773 195.681 -112.926 Q197.533 -115.102 197.533 -118.829 Q197.533 -122.579 195.681 -124.731 Q193.852 -126.884 190.704 -126.884 M199.987 -141.537 L199.987 -137.278 Q198.227 -138.111 196.422 -138.551 Q194.639 -138.991 192.88 -138.991 Q188.251 -138.991 185.797 -135.866 Q183.366 -132.741 183.019 -126.421 Q184.385 -128.435 186.445 -129.5 Q188.505 -130.588 190.982 -130.588 Q196.19 -130.588 199.2 -127.417 Q202.232 -124.269 202.232 -118.829 Q202.232 -113.505 199.084 -110.287 Q195.936 -107.07 190.704 -107.07 Q184.709 -107.07 181.538 -111.653 Q178.366 -116.259 178.366 -124.986 Q178.366 -133.181 182.255 -138.042 Q186.144 -142.926 192.695 -142.926 Q194.454 -142.926 196.237 -142.579 Q198.042 -142.231 199.987 -141.537 Z\" fill=\"#000000\" fill-rule=\"evenodd\" fill-opacity=\"1\" /><path clip-path=\"url(#clip400)\" d=\"M 0 0 M203.945 -133.667 L228.783 -133.667 L228.783 -129.407 L225.519 -129.407 L225.519 -113.482 Q225.519 -111.815 226.074 -111.074 Q226.653 -110.357 227.926 -110.357 Q228.273 -110.357 228.783 -110.403 Q229.292 -110.472 229.454 -110.495 L229.454 -107.417 Q228.644 -107.116 227.787 -106.977 Q226.931 -106.838 226.074 -106.838 Q223.297 -106.838 222.232 -108.343 Q221.167 -109.87 221.167 -113.944 L221.167 -129.407 L211.607 -129.407 L211.607 -107.741 L207.255 -107.741 L207.255 -129.407 L203.945 -129.407 L203.945 -133.667 Z\" fill=\"#000000\" fill-rule=\"evenodd\" fill-opacity=\"1\" /><path clip-path=\"url(#clip400)\" d=\"M 0 0 M130.195 -322.882 L137.834 -322.882 L137.834 -349.248 L129.524 -347.581 L129.524 -351.841 L137.788 -353.507 L142.464 -353.507 L142.464 -322.882 L150.103 -322.882 L150.103 -318.947 L130.195 -318.947 L130.195 -322.882 Z\" fill=\"#000000\" fill-rule=\"evenodd\" fill-opacity=\"1\" /><path clip-path=\"url(#clip400)\" d=\"M 0 0 M155.218 -353.507 L173.575 -353.507 L173.575 -349.572 L159.501 -349.572 L159.501 -341.1 Q160.519 -341.447 161.538 -341.609 Q162.556 -341.794 163.575 -341.794 Q169.362 -341.794 172.741 -338.623 Q176.121 -335.452 176.121 -330.035 Q176.121 -324.457 172.649 -321.355 Q169.177 -318.276 162.857 -318.276 Q160.681 -318.276 158.413 -318.646 Q156.167 -319.017 153.76 -319.758 L153.76 -324.457 Q155.843 -323.322 158.066 -322.767 Q160.288 -322.211 162.765 -322.211 Q166.769 -322.211 169.107 -324.318 Q171.445 -326.424 171.445 -330.035 Q171.445 -333.646 169.107 -335.753 Q166.769 -337.859 162.765 -337.859 Q160.89 -337.859 159.015 -337.443 Q157.163 -337.026 155.218 -336.146 L155.218 -353.507 Z\" fill=\"#000000\" fill-rule=\"evenodd\" fill-opacity=\"1\" /><path clip-path=\"url(#clip400)\" d=\"M 0 0 M180.01 -353.507 L202.232 -353.507 L202.232 -351.517 L189.686 -318.947 L184.802 -318.947 L196.607 -349.572 L180.01 -349.572 L180.01 -353.507 Z\" fill=\"#000000\" fill-rule=\"evenodd\" fill-opacity=\"1\" /><path clip-path=\"url(#clip400)\" d=\"M 0 0 M203.945 -344.873 L228.783 -344.873 L228.783 -340.614 L225.519 -340.614 L225.519 -324.688 Q225.519 -323.021 226.074 -322.281 Q226.653 -321.563 227.926 -321.563 Q228.273 -321.563 228.783 -321.609 Q229.292 -321.679 229.454 -321.702 L229.454 -318.623 Q228.644 -318.322 227.787 -318.183 Q226.931 -318.045 226.074 -318.045 Q223.297 -318.045 222.232 -319.549 Q221.167 -321.077 221.167 -325.151 L221.167 -340.614 L211.607 -340.614 L211.607 -318.947 L207.255 -318.947 L207.255 -340.614 L203.945 -340.614 L203.945 -344.873 Z\" fill=\"#000000\" fill-rule=\"evenodd\" fill-opacity=\"1\" /><path clip-path=\"url(#clip400)\" d=\"M 0 0 M129.385 -534.089 L137.024 -534.089 L137.024 -560.455 L128.714 -558.788 L128.714 -563.047 L136.978 -564.714 L141.654 -564.714 L141.654 -534.089 L149.292 -534.089 L149.292 -530.154 L129.385 -530.154 L129.385 -534.089 Z\" fill=\"#000000\" fill-rule=\"evenodd\" fill-opacity=\"1\" /><path clip-path=\"url(#clip400)\" d=\"M 0 0 M154.408 -564.714 L172.765 -564.714 L172.765 -560.779 L158.691 -560.779 L158.691 -552.306 Q159.709 -552.654 160.728 -552.816 Q161.746 -553.001 162.765 -553.001 Q168.552 -553.001 171.931 -549.83 Q175.311 -546.658 175.311 -541.242 Q175.311 -535.663 171.839 -532.561 Q168.366 -529.483 162.047 -529.483 Q159.871 -529.483 157.603 -529.853 Q155.357 -530.223 152.95 -530.964 L152.95 -535.663 Q155.033 -534.529 157.255 -533.973 Q159.478 -533.418 161.954 -533.418 Q165.959 -533.418 168.297 -535.524 Q170.635 -537.631 170.635 -541.242 Q170.635 -544.853 168.297 -546.959 Q165.959 -549.066 161.954 -549.066 Q160.079 -549.066 158.204 -548.649 Q156.353 -548.232 154.408 -547.353 L154.408 -564.714 Z\" fill=\"#000000\" fill-rule=\"evenodd\" fill-opacity=\"1\" /><path clip-path=\"url(#clip400)\" d=\"M 0 0 M190.38 -546.566 Q187.047 -546.566 185.126 -544.783 Q183.227 -543.001 183.227 -539.876 Q183.227 -536.751 185.126 -534.969 Q187.047 -533.186 190.38 -533.186 Q193.713 -533.186 195.635 -534.969 Q197.556 -536.774 197.556 -539.876 Q197.556 -543.001 195.635 -544.783 Q193.737 -546.566 190.38 -546.566 M185.704 -548.557 Q182.695 -549.297 181.005 -551.357 Q179.339 -553.418 179.339 -556.381 Q179.339 -560.524 182.278 -562.931 Q185.241 -565.339 190.38 -565.339 Q195.542 -565.339 198.482 -562.931 Q201.422 -560.524 201.422 -556.381 Q201.422 -553.418 199.732 -551.357 Q198.065 -549.297 195.079 -548.557 Q198.459 -547.769 200.334 -545.478 Q202.232 -543.186 202.232 -539.876 Q202.232 -534.853 199.153 -532.168 Q196.098 -529.483 190.38 -529.483 Q184.663 -529.483 181.584 -532.168 Q178.528 -534.853 178.528 -539.876 Q178.528 -543.186 180.427 -545.478 Q182.325 -547.769 185.704 -548.557 M183.991 -555.941 Q183.991 -553.256 185.658 -551.751 Q187.348 -550.246 190.38 -550.246 Q193.389 -550.246 195.079 -551.751 Q196.792 -553.256 196.792 -555.941 Q196.792 -558.626 195.079 -560.131 Q193.389 -561.635 190.38 -561.635 Q187.348 -561.635 185.658 -560.131 Q183.991 -558.626 183.991 -555.941 Z\" fill=\"#000000\" fill-rule=\"evenodd\" fill-opacity=\"1\" /><path clip-path=\"url(#clip400)\" d=\"M 0 0 M203.945 -556.08 L228.783 -556.08 L228.783 -551.82 L225.519 -551.82 L225.519 -535.895 Q225.519 -534.228 226.074 -533.487 Q226.653 -532.77 227.926 -532.77 Q228.273 -532.77 228.783 -532.816 Q229.292 -532.885 229.454 -532.908 L229.454 -529.83 Q228.644 -529.529 227.787 -529.39 Q226.931 -529.251 226.074 -529.251 Q223.297 -529.251 222.232 -530.756 Q221.167 -532.283 221.167 -536.357 L221.167 -551.82 L211.607 -551.82 L211.607 -530.154 L207.255 -530.154 L207.255 -551.82 L203.945 -551.82 L203.945 -556.08 Z\" fill=\"#000000\" fill-rule=\"evenodd\" fill-opacity=\"1\" /><path clip-path=\"url(#clip400)\" d=\"M 0 0 M129.478 -745.295 L137.117 -745.295 L137.117 -771.661 L128.806 -769.994 L128.806 -774.254 L137.07 -775.92 L141.746 -775.92 L141.746 -745.295 L149.385 -745.295 L149.385 -741.36 L129.478 -741.36 L129.478 -745.295 Z\" fill=\"#000000\" fill-rule=\"evenodd\" fill-opacity=\"1\" /><path clip-path=\"url(#clip400)\" d=\"M 0 0 M154.501 -775.92 L172.857 -775.92 L172.857 -771.985 L158.783 -771.985 L158.783 -763.513 Q159.802 -763.86 160.82 -764.022 Q161.839 -764.207 162.857 -764.207 Q168.644 -764.207 172.024 -761.036 Q175.403 -757.865 175.403 -752.448 Q175.403 -746.87 171.931 -743.768 Q168.459 -740.689 162.14 -740.689 Q159.964 -740.689 157.695 -741.059 Q155.45 -741.43 153.042 -742.171 L153.042 -746.87 Q155.126 -745.735 157.348 -745.18 Q159.57 -744.624 162.047 -744.624 Q166.052 -744.624 168.39 -746.731 Q170.728 -748.837 170.728 -752.448 Q170.728 -756.059 168.39 -758.166 Q166.052 -760.272 162.047 -760.272 Q160.172 -760.272 158.297 -759.856 Q156.445 -759.439 154.501 -758.559 L154.501 -775.92 Z\" fill=\"#000000\" fill-rule=\"evenodd\" fill-opacity=\"1\" /><path clip-path=\"url(#clip400)\" d=\"M 0 0 M180.612 -742.078 L180.612 -746.337 Q182.371 -745.504 184.177 -745.064 Q185.982 -744.624 187.718 -744.624 Q192.348 -744.624 194.778 -747.726 Q197.232 -750.851 197.579 -757.194 Q196.237 -755.203 194.176 -754.138 Q192.116 -753.073 189.616 -753.073 Q184.431 -753.073 181.399 -756.198 Q178.39 -759.346 178.39 -764.786 Q178.39 -770.11 181.538 -773.328 Q184.686 -776.545 189.917 -776.545 Q195.913 -776.545 199.061 -771.939 Q202.232 -767.356 202.232 -758.606 Q202.232 -750.434 198.343 -745.55 Q194.477 -740.689 187.926 -740.689 Q186.167 -740.689 184.362 -741.036 Q182.556 -741.383 180.612 -742.078 M189.917 -756.731 Q193.065 -756.731 194.894 -758.883 Q196.746 -761.036 196.746 -764.786 Q196.746 -768.513 194.894 -770.666 Q193.065 -772.842 189.917 -772.842 Q186.769 -772.842 184.917 -770.666 Q183.089 -768.513 183.089 -764.786 Q183.089 -761.036 184.917 -758.883 Q186.769 -756.731 189.917 -756.731 Z\" fill=\"#000000\" fill-rule=\"evenodd\" fill-opacity=\"1\" /><path clip-path=\"url(#clip400)\" d=\"M 0 0 M203.945 -767.286 L228.783 -767.286 L228.783 -763.027 L225.519 -763.027 L225.519 -747.101 Q225.519 -745.434 226.074 -744.694 Q226.653 -743.976 227.926 -743.976 Q228.273 -743.976 228.783 -744.022 Q229.292 -744.092 229.454 -744.115 L229.454 -741.036 Q228.644 -740.735 227.787 -740.596 Q226.931 -740.458 226.074 -740.458 Q223.297 -740.458 222.232 -741.962 Q221.167 -743.49 221.167 -747.564 L221.167 -763.027 L211.607 -763.027 L211.607 -741.36 L207.255 -741.36 L207.255 -763.027 L203.945 -763.027 L203.945 -767.286 Z\" fill=\"#000000\" fill-rule=\"evenodd\" fill-opacity=\"1\" /><path clip-path=\"url(#clip400)\" d=\"M 0 0 M128.135 -956.502 L135.774 -956.502 L135.774 -982.868 L127.464 -981.201 L127.464 -985.46 L135.728 -987.127 L140.404 -987.127 L140.404 -956.502 L148.042 -956.502 L148.042 -952.567 L128.135 -952.567 L128.135 -956.502 Z\" fill=\"#000000\" fill-rule=\"evenodd\" fill-opacity=\"1\" /><path clip-path=\"url(#clip400)\" d=\"M 0 0 M163.691 -971.71 Q160.542 -971.71 158.691 -969.557 Q156.862 -967.405 156.862 -963.655 Q156.862 -959.928 158.691 -957.752 Q160.542 -955.599 163.691 -955.599 Q166.839 -955.599 168.667 -957.752 Q170.519 -959.928 170.519 -963.655 Q170.519 -967.405 168.667 -969.557 Q166.839 -971.71 163.691 -971.71 M172.973 -986.363 L172.973 -982.104 Q171.214 -982.937 169.408 -983.377 Q167.626 -983.817 165.866 -983.817 Q161.237 -983.817 158.783 -980.692 Q156.353 -977.567 156.005 -971.247 Q157.371 -973.261 159.431 -974.326 Q161.491 -975.414 163.968 -975.414 Q169.177 -975.414 172.186 -972.243 Q175.218 -969.095 175.218 -963.655 Q175.218 -958.331 172.07 -955.113 Q168.922 -951.896 163.691 -951.896 Q157.695 -951.896 154.524 -956.479 Q151.353 -961.085 151.353 -969.812 Q151.353 -978.007 155.241 -982.868 Q159.13 -987.752 165.681 -987.752 Q167.44 -987.752 169.223 -987.405 Q171.028 -987.057 172.973 -986.363 Z\" fill=\"#000000\" fill-rule=\"evenodd\" fill-opacity=\"1\" /><path clip-path=\"url(#clip400)\" d=\"M 0 0 M190.288 -984.048 Q186.677 -984.048 184.848 -980.483 Q183.042 -976.942 183.042 -969.812 Q183.042 -962.706 184.848 -959.141 Q186.677 -955.599 190.288 -955.599 Q193.922 -955.599 195.727 -959.141 Q197.556 -962.706 197.556 -969.812 Q197.556 -976.942 195.727 -980.483 Q193.922 -984.048 190.288 -984.048 M190.288 -987.752 Q196.098 -987.752 199.153 -983.145 Q202.232 -978.562 202.232 -969.812 Q202.232 -961.085 199.153 -956.479 Q196.098 -951.896 190.288 -951.896 Q184.477 -951.896 181.399 -956.479 Q178.343 -961.085 178.343 -969.812 Q178.343 -978.562 181.399 -983.145 Q184.477 -987.752 190.288 -987.752 Z\" fill=\"#000000\" fill-rule=\"evenodd\" fill-opacity=\"1\" /><path clip-path=\"url(#clip400)\" d=\"M 0 0 M203.945 -978.493 L228.783 -978.493 L228.783 -974.233 L225.519 -974.233 L225.519 -958.308 Q225.519 -956.641 226.074 -955.9 Q226.653 -955.183 227.926 -955.183 Q228.273 -955.183 228.783 -955.229 Q229.292 -955.298 229.454 -955.321 L229.454 -952.243 Q228.644 -951.942 227.787 -951.803 Q226.931 -951.664 226.074 -951.664 Q223.297 -951.664 222.232 -953.169 Q221.167 -954.696 221.167 -958.77 L221.167 -974.233 L211.607 -974.233 L211.607 -952.567 L207.255 -952.567 L207.255 -974.233 L203.945 -974.233 L203.945 -978.493 Z\" fill=\"#000000\" fill-rule=\"evenodd\" fill-opacity=\"1\" /><path clip-path=\"url(#clip400)\" d=\"M 0 0 M129.362 -1167.71 L137.001 -1167.71 L137.001 -1194.07 L128.691 -1192.41 L128.691 -1196.67 L136.955 -1198.33 L141.63 -1198.33 L141.63 -1167.71 L149.269 -1167.71 L149.269 -1163.77 L129.362 -1163.77 L129.362 -1167.71 Z\" fill=\"#000000\" fill-rule=\"evenodd\" fill-opacity=\"1\" /><path clip-path=\"url(#clip400)\" d=\"M 0 0 M164.917 -1182.92 Q161.769 -1182.92 159.917 -1180.76 Q158.089 -1178.61 158.089 -1174.86 Q158.089 -1171.13 159.917 -1168.96 Q161.769 -1166.81 164.917 -1166.81 Q168.065 -1166.81 169.894 -1168.96 Q171.746 -1171.13 171.746 -1174.86 Q171.746 -1178.61 169.894 -1180.76 Q168.065 -1182.92 164.917 -1182.92 M174.2 -1197.57 L174.2 -1193.31 Q172.44 -1194.14 170.635 -1194.58 Q168.853 -1195.02 167.093 -1195.02 Q162.464 -1195.02 160.01 -1191.9 Q157.579 -1188.77 157.232 -1182.45 Q158.598 -1184.47 160.658 -1185.53 Q162.718 -1186.62 165.195 -1186.62 Q170.403 -1186.62 173.413 -1183.45 Q176.445 -1180.3 176.445 -1174.86 Q176.445 -1169.54 173.297 -1166.32 Q170.149 -1163.1 164.917 -1163.1 Q158.922 -1163.1 155.751 -1167.69 Q152.579 -1172.29 152.579 -1181.02 Q152.579 -1189.21 156.468 -1194.07 Q160.357 -1198.96 166.908 -1198.96 Q168.667 -1198.96 170.45 -1198.61 Q172.255 -1198.26 174.2 -1197.57 Z\" fill=\"#000000\" fill-rule=\"evenodd\" fill-opacity=\"1\" /><path clip-path=\"url(#clip400)\" d=\"M 0 0 M182.325 -1167.71 L189.964 -1167.71 L189.964 -1194.07 L181.653 -1192.41 L181.653 -1196.67 L189.917 -1198.33 L194.593 -1198.33 L194.593 -1167.71 L202.232 -1167.71 L202.232 -1163.77 L182.325 -1163.77 L182.325 -1167.71 Z\" fill=\"#000000\" fill-rule=\"evenodd\" fill-opacity=\"1\" /><path clip-path=\"url(#clip400)\" d=\"M 0 0 M203.945 -1189.7 L228.783 -1189.7 L228.783 -1185.44 L225.519 -1185.44 L225.519 -1169.51 Q225.519 -1167.85 226.074 -1167.11 Q226.653 -1166.39 227.926 -1166.39 Q228.273 -1166.39 228.783 -1166.44 Q229.292 -1166.5 229.454 -1166.53 L229.454 -1163.45 Q228.644 -1163.15 227.787 -1163.01 Q226.931 -1162.87 226.074 -1162.87 Q223.297 -1162.87 222.232 -1164.38 Q221.167 -1165.9 221.167 -1169.98 L221.167 -1185.44 L211.607 -1185.44 L211.607 -1163.77 L207.255 -1163.77 L207.255 -1185.44 L203.945 -1185.44 L203.945 -1189.7 Z\" fill=\"#000000\" fill-rule=\"evenodd\" fill-opacity=\"1\" /><path clip-path=\"url(#clip400)\" d=\"M 0 0 M129.732 -1378.91 L137.371 -1378.91 L137.371 -1405.28 L129.061 -1403.61 L129.061 -1407.87 L137.325 -1409.54 L142.001 -1409.54 L142.001 -1378.91 L149.64 -1378.91 L149.64 -1374.98 L129.732 -1374.98 L129.732 -1378.91 Z\" fill=\"#000000\" fill-rule=\"evenodd\" fill-opacity=\"1\" /><path clip-path=\"url(#clip400)\" d=\"M 0 0 M165.288 -1394.12 Q162.14 -1394.12 160.288 -1391.97 Q158.459 -1389.82 158.459 -1386.07 Q158.459 -1382.34 160.288 -1380.16 Q162.14 -1378.01 165.288 -1378.01 Q168.436 -1378.01 170.265 -1380.16 Q172.116 -1382.34 172.116 -1386.07 Q172.116 -1389.82 170.265 -1391.97 Q168.436 -1394.12 165.288 -1394.12 M174.57 -1408.78 L174.57 -1404.52 Q172.811 -1405.35 171.005 -1405.79 Q169.223 -1406.23 167.464 -1406.23 Q162.834 -1406.23 160.38 -1403.1 Q157.95 -1399.98 157.603 -1393.66 Q158.968 -1395.67 161.028 -1396.74 Q163.089 -1397.83 165.566 -1397.83 Q170.774 -1397.83 173.783 -1394.66 Q176.815 -1391.51 176.815 -1386.07 Q176.815 -1380.74 173.667 -1377.53 Q170.519 -1374.31 165.288 -1374.31 Q159.292 -1374.31 156.121 -1378.89 Q152.95 -1383.5 152.95 -1392.23 Q152.95 -1400.42 156.839 -1405.28 Q160.728 -1410.16 167.278 -1410.16 Q169.038 -1410.16 170.82 -1409.82 Q172.626 -1409.47 174.57 -1408.78 Z\" fill=\"#000000\" fill-rule=\"evenodd\" fill-opacity=\"1\" /><path clip-path=\"url(#clip400)\" d=\"M 0 0 M185.913 -1378.91 L202.232 -1378.91 L202.232 -1374.98 L180.288 -1374.98 L180.288 -1378.91 Q182.95 -1381.67 187.533 -1386.3 Q192.139 -1390.95 193.32 -1392.29 Q195.565 -1394.82 196.445 -1396.55 Q197.348 -1398.31 197.348 -1400 Q197.348 -1402.76 195.403 -1404.49 Q193.482 -1406.23 190.38 -1406.23 Q188.181 -1406.23 185.727 -1405.47 Q183.297 -1404.7 180.519 -1403.15 L180.519 -1407.87 Q183.343 -1409.01 185.797 -1409.59 Q188.251 -1410.16 190.288 -1410.16 Q195.658 -1410.16 198.852 -1407.48 Q202.047 -1404.79 202.047 -1400.3 Q202.047 -1398.17 201.237 -1396.25 Q200.45 -1394.35 198.343 -1391.76 Q197.764 -1391.09 194.663 -1387.87 Q191.561 -1384.68 185.913 -1378.91 Z\" fill=\"#000000\" fill-rule=\"evenodd\" fill-opacity=\"1\" /><path clip-path=\"url(#clip400)\" d=\"M 0 0 M203.945 -1400.91 L228.783 -1400.91 L228.783 -1396.65 L225.519 -1396.65 L225.519 -1380.72 Q225.519 -1379.05 226.074 -1378.31 Q226.653 -1377.6 227.926 -1377.6 Q228.273 -1377.6 228.783 -1377.64 Q229.292 -1377.71 229.454 -1377.73 L229.454 -1374.66 Q228.644 -1374.35 227.787 -1374.22 Q226.931 -1374.08 226.074 -1374.08 Q223.297 -1374.08 222.232 -1375.58 Q221.167 -1377.11 221.167 -1381.18 L221.167 -1396.65 L211.607 -1396.65 L211.607 -1374.98 L207.255 -1374.98 L207.255 -1396.65 L203.945 -1396.65 L203.945 -1400.91 Z\" fill=\"#000000\" fill-rule=\"evenodd\" fill-opacity=\"1\" /><path clip-path=\"url(#clip400)\" d=\"M 0 0 M128.783 -1590.12 L136.422 -1590.12 L136.422 -1616.49 L128.112 -1614.82 L128.112 -1619.08 L136.376 -1620.75 L141.052 -1620.75 L141.052 -1590.12 L148.691 -1590.12 L148.691 -1586.19 L128.783 -1586.19 L128.783 -1590.12 Z\" fill=\"#000000\" fill-rule=\"evenodd\" fill-opacity=\"1\" /><path clip-path=\"url(#clip400)\" d=\"M 0 0 M164.339 -1605.33 Q161.191 -1605.33 159.339 -1603.18 Q157.51 -1601.02 157.51 -1597.27 Q157.51 -1593.55 159.339 -1591.37 Q161.191 -1589.22 164.339 -1589.22 Q167.487 -1589.22 169.315 -1591.37 Q171.167 -1593.55 171.167 -1597.27 Q171.167 -1601.02 169.315 -1603.18 Q167.487 -1605.33 164.339 -1605.33 M173.621 -1619.98 L173.621 -1615.72 Q171.862 -1616.56 170.056 -1617 Q168.274 -1617.44 166.515 -1617.44 Q161.885 -1617.44 159.431 -1614.31 Q157.001 -1611.19 156.654 -1604.87 Q158.019 -1606.88 160.079 -1607.95 Q162.14 -1609.03 164.616 -1609.03 Q169.825 -1609.03 172.834 -1605.86 Q175.866 -1602.71 175.866 -1597.27 Q175.866 -1591.95 172.718 -1588.73 Q169.57 -1585.52 164.339 -1585.52 Q158.343 -1585.52 155.172 -1590.1 Q152.001 -1594.7 152.001 -1603.43 Q152.001 -1611.63 155.89 -1616.49 Q159.778 -1621.37 166.329 -1621.37 Q168.089 -1621.37 169.871 -1621.02 Q171.677 -1620.68 173.621 -1619.98 Z\" fill=\"#000000\" fill-rule=\"evenodd\" fill-opacity=\"1\" /><path clip-path=\"url(#clip400)\" d=\"M 0 0 M195.102 -1604.82 Q198.459 -1604.1 200.334 -1601.83 Q202.232 -1599.57 202.232 -1596.23 Q202.232 -1591.12 198.713 -1588.32 Q195.195 -1585.52 188.714 -1585.52 Q186.538 -1585.52 184.223 -1585.95 Q181.931 -1586.37 179.477 -1587.23 L179.477 -1591.74 Q181.422 -1590.61 183.737 -1590.03 Q186.052 -1589.45 188.575 -1589.45 Q192.973 -1589.45 195.264 -1591.19 Q197.579 -1592.92 197.579 -1596.23 Q197.579 -1599.29 195.426 -1601 Q193.297 -1602.74 189.477 -1602.74 L185.45 -1602.74 L185.45 -1606.58 L189.663 -1606.58 Q193.112 -1606.58 194.94 -1607.95 Q196.769 -1609.33 196.769 -1611.93 Q196.769 -1614.59 194.871 -1616 Q192.996 -1617.44 189.477 -1617.44 Q187.556 -1617.44 185.357 -1617.02 Q183.158 -1616.6 180.519 -1615.72 L180.519 -1619.89 Q183.181 -1620.63 185.496 -1621 Q187.834 -1621.37 189.894 -1621.37 Q195.218 -1621.37 198.32 -1618.94 Q201.422 -1616.53 201.422 -1612.41 Q201.422 -1609.54 199.778 -1607.55 Q198.135 -1605.58 195.102 -1604.82 Z\" fill=\"#000000\" fill-rule=\"evenodd\" fill-opacity=\"1\" /><path clip-path=\"url(#clip400)\" d=\"M 0 0 M203.945 -1612.11 L228.783 -1612.11 L228.783 -1607.85 L225.519 -1607.85 L225.519 -1591.93 Q225.519 -1590.26 226.074 -1589.52 Q226.653 -1588.8 227.926 -1588.8 Q228.273 -1588.8 228.783 -1588.85 Q229.292 -1588.92 229.454 -1588.94 L229.454 -1585.86 Q228.644 -1585.56 227.787 -1585.42 Q226.931 -1585.28 226.074 -1585.28 Q223.297 -1585.28 222.232 -1586.79 Q221.167 -1588.32 221.167 -1592.39 L221.167 -1607.85 L211.607 -1607.85 L211.607 -1586.19 L207.255 -1586.19 L207.255 -1607.85 L203.945 -1607.85 L203.945 -1612.11 Z\" fill=\"#000000\" fill-rule=\"evenodd\" fill-opacity=\"1\" /><path clip-path=\"url(#clip400)\" d=\"M 0 0 M127.649 -1801.33 L135.288 -1801.33 L135.288 -1827.69 L126.978 -1826.03 L126.978 -1830.29 L135.242 -1831.95 L139.917 -1831.95 L139.917 -1801.33 L147.556 -1801.33 L147.556 -1797.39 L127.649 -1797.39 L127.649 -1801.33 Z\" fill=\"#000000\" fill-rule=\"evenodd\" fill-opacity=\"1\" /><path clip-path=\"url(#clip400)\" d=\"M 0 0 M163.204 -1816.54 Q160.056 -1816.54 158.204 -1814.38 Q156.376 -1812.23 156.376 -1808.48 Q156.376 -1804.75 158.204 -1802.58 Q160.056 -1800.43 163.204 -1800.43 Q166.353 -1800.43 168.181 -1802.58 Q170.033 -1804.75 170.033 -1808.48 Q170.033 -1812.23 168.181 -1814.38 Q166.353 -1816.54 163.204 -1816.54 M172.487 -1831.19 L172.487 -1826.93 Q170.728 -1827.76 168.922 -1828.2 Q167.14 -1828.64 165.38 -1828.64 Q160.751 -1828.64 158.297 -1825.52 Q155.866 -1822.39 155.519 -1816.07 Q156.885 -1818.09 158.945 -1819.15 Q161.005 -1820.24 163.482 -1820.24 Q168.69 -1820.24 171.7 -1817.07 Q174.732 -1813.92 174.732 -1808.48 Q174.732 -1803.16 171.584 -1799.94 Q168.436 -1796.72 163.204 -1796.72 Q157.209 -1796.72 154.038 -1801.3 Q150.867 -1805.91 150.867 -1814.64 Q150.867 -1822.83 154.755 -1827.69 Q158.644 -1832.58 165.195 -1832.58 Q166.954 -1832.58 168.737 -1832.23 Q170.542 -1831.88 172.487 -1831.19 Z\" fill=\"#000000\" fill-rule=\"evenodd\" fill-opacity=\"1\" /><path clip-path=\"url(#clip400)\" d=\"M 0 0 M192.649 -1827.88 L180.843 -1809.43 L192.649 -1809.43 L192.649 -1827.88 M191.422 -1831.95 L197.301 -1831.95 L197.301 -1809.43 L202.232 -1809.43 L202.232 -1805.54 L197.301 -1805.54 L197.301 -1797.39 L192.649 -1797.39 L192.649 -1805.54 L177.047 -1805.54 L177.047 -1810.05 L191.422 -1831.95 Z\" fill=\"#000000\" fill-rule=\"evenodd\" fill-opacity=\"1\" /><path clip-path=\"url(#clip400)\" d=\"M 0 0 M203.945 -1823.32 L228.783 -1823.32 L228.783 -1819.06 L225.519 -1819.06 L225.519 -1803.13 Q225.519 -1801.47 226.074 -1800.73 Q226.653 -1800.01 227.926 -1800.01 Q228.273 -1800.01 228.783 -1800.05 Q229.292 -1800.12 229.454 -1800.15 L229.454 -1797.07 Q228.644 -1796.77 227.787 -1796.63 Q226.931 -1796.49 226.074 -1796.49 Q223.297 -1796.49 222.232 -1797.99 Q221.167 -1799.52 221.167 -1803.6 L221.167 -1819.06 L211.607 -1819.06 L211.607 -1797.39 L207.255 -1797.39 L207.255 -1819.06 L203.945 -1819.06 L203.945 -1823.32 Z\" fill=\"#000000\" fill-rule=\"evenodd\" fill-opacity=\"1\" /><path clip-path=\"url(#clip400)\" d=\"M 0 0 M129.131 -2012.53 L136.769 -2012.53 L136.769 -2038.9 L128.459 -2037.23 L128.459 -2041.49 L136.723 -2043.16 L141.399 -2043.16 L141.399 -2012.53 L149.038 -2012.53 L149.038 -2008.6 L129.131 -2008.6 L129.131 -2012.53 Z\" fill=\"#000000\" fill-rule=\"evenodd\" fill-opacity=\"1\" /><path clip-path=\"url(#clip400)\" d=\"M 0 0 M164.686 -2027.74 Q161.538 -2027.74 159.686 -2025.59 Q157.857 -2023.44 157.857 -2019.69 Q157.857 -2015.96 159.686 -2013.78 Q161.538 -2011.63 164.686 -2011.63 Q167.834 -2011.63 169.663 -2013.78 Q171.515 -2015.96 171.515 -2019.69 Q171.515 -2023.44 169.663 -2025.59 Q167.834 -2027.74 164.686 -2027.74 M173.968 -2042.4 L173.968 -2038.14 Q172.209 -2038.97 170.403 -2039.41 Q168.621 -2039.85 166.862 -2039.85 Q162.232 -2039.85 159.778 -2036.72 Q157.348 -2033.6 157.001 -2027.28 Q158.366 -2029.29 160.427 -2030.36 Q162.487 -2031.45 164.964 -2031.45 Q170.172 -2031.45 173.181 -2028.28 Q176.214 -2025.13 176.214 -2019.69 Q176.214 -2014.36 173.065 -2011.15 Q169.917 -2007.93 164.686 -2007.93 Q158.691 -2007.93 155.519 -2012.51 Q152.348 -2017.12 152.348 -2025.84 Q152.348 -2034.04 156.237 -2038.9 Q160.126 -2043.78 166.677 -2043.78 Q168.436 -2043.78 170.218 -2043.44 Q172.024 -2043.09 173.968 -2042.4 Z\" fill=\"#000000\" fill-rule=\"evenodd\" fill-opacity=\"1\" /><path clip-path=\"url(#clip400)\" d=\"M 0 0 M181.329 -2043.16 L199.686 -2043.16 L199.686 -2039.22 L185.612 -2039.22 L185.612 -2030.75 Q186.63 -2031.1 187.649 -2031.26 Q188.667 -2031.45 189.686 -2031.45 Q195.473 -2031.45 198.852 -2028.28 Q202.232 -2025.1 202.232 -2019.69 Q202.232 -2014.11 198.76 -2011.01 Q195.288 -2007.93 188.968 -2007.93 Q186.792 -2007.93 184.524 -2008.3 Q182.278 -2008.67 179.871 -2009.41 L179.871 -2014.11 Q181.954 -2012.97 184.177 -2012.42 Q186.399 -2011.86 188.876 -2011.86 Q192.88 -2011.86 195.218 -2013.97 Q197.556 -2016.08 197.556 -2019.69 Q197.556 -2023.3 195.218 -2025.4 Q192.88 -2027.51 188.876 -2027.51 Q187.001 -2027.51 185.126 -2027.09 Q183.274 -2026.68 181.329 -2025.8 L181.329 -2043.16 Z\" fill=\"#000000\" fill-rule=\"evenodd\" fill-opacity=\"1\" /><path clip-path=\"url(#clip400)\" d=\"M 0 0 M203.945 -2034.53 L228.783 -2034.53 L228.783 -2030.27 L225.519 -2030.27 L225.519 -2014.34 Q225.519 -2012.67 226.074 -2011.93 Q226.653 -2011.22 227.926 -2011.22 Q228.273 -2011.22 228.783 -2011.26 Q229.292 -2011.33 229.454 -2011.35 L229.454 -2008.28 Q228.644 -2007.97 227.787 -2007.84 Q226.931 -2007.7 226.074 -2007.7 Q223.297 -2007.7 222.232 -2009.2 Q221.167 -2010.73 221.167 -2014.8 L221.167 -2030.27 L211.607 -2030.27 L211.607 -2008.6 L207.255 -2008.6 L207.255 -2030.27 L203.945 -2030.27 L203.945 -2034.53 Z\" fill=\"#000000\" fill-rule=\"evenodd\" fill-opacity=\"1\" /><path clip-path=\"url(#clip400)\" d=\"M 0 0 M127.973 -2223.74 L135.612 -2223.74 L135.612 -2250.11 L127.302 -2248.44 L127.302 -2252.7 L135.566 -2254.37 L140.242 -2254.37 L140.242 -2223.74 L147.88 -2223.74 L147.88 -2219.81 L127.973 -2219.81 L127.973 -2223.74 Z\" fill=\"#000000\" fill-rule=\"evenodd\" fill-opacity=\"1\" /><path clip-path=\"url(#clip400)\" d=\"M 0 0 M163.528 -2238.95 Q160.38 -2238.95 158.529 -2236.8 Q156.7 -2234.64 156.7 -2230.89 Q156.7 -2227.17 158.529 -2224.99 Q160.38 -2222.84 163.528 -2222.84 Q166.677 -2222.84 168.505 -2224.99 Q170.357 -2227.17 170.357 -2230.89 Q170.357 -2234.64 168.505 -2236.8 Q166.677 -2238.95 163.528 -2238.95 M172.811 -2253.6 L172.811 -2249.34 Q171.052 -2250.18 169.246 -2250.62 Q167.464 -2251.06 165.704 -2251.06 Q161.075 -2251.06 158.621 -2247.93 Q156.191 -2244.81 155.843 -2238.49 Q157.209 -2240.5 159.269 -2241.56 Q161.329 -2242.65 163.806 -2242.65 Q169.015 -2242.65 172.024 -2239.48 Q175.056 -2236.33 175.056 -2230.89 Q175.056 -2225.57 171.908 -2222.35 Q168.76 -2219.13 163.528 -2219.13 Q157.533 -2219.13 154.362 -2223.72 Q151.191 -2228.32 151.191 -2237.05 Q151.191 -2245.25 155.079 -2250.11 Q158.968 -2254.99 165.519 -2254.99 Q167.278 -2254.99 169.061 -2254.64 Q170.866 -2254.3 172.811 -2253.6 Z\" fill=\"#000000\" fill-rule=\"evenodd\" fill-opacity=\"1\" /><path clip-path=\"url(#clip400)\" d=\"M 0 0 M190.704 -2238.95 Q187.556 -2238.95 185.704 -2236.8 Q183.876 -2234.64 183.876 -2230.89 Q183.876 -2227.17 185.704 -2224.99 Q187.556 -2222.84 190.704 -2222.84 Q193.852 -2222.84 195.681 -2224.99 Q197.533 -2227.17 197.533 -2230.89 Q197.533 -2234.64 195.681 -2236.8 Q193.852 -2238.95 190.704 -2238.95 M199.987 -2253.6 L199.987 -2249.34 Q198.227 -2250.18 196.422 -2250.62 Q194.639 -2251.06 192.88 -2251.06 Q188.251 -2251.06 185.797 -2247.93 Q183.366 -2244.81 183.019 -2238.49 Q184.385 -2240.5 186.445 -2241.56 Q188.505 -2242.65 190.982 -2242.65 Q196.19 -2242.65 199.2 -2239.48 Q202.232 -2236.33 202.232 -2230.89 Q202.232 -2225.57 199.084 -2222.35 Q195.936 -2219.13 190.704 -2219.13 Q184.709 -2219.13 181.538 -2223.72 Q178.366 -2228.32 178.366 -2237.05 Q178.366 -2245.25 182.255 -2250.11 Q186.144 -2254.99 192.695 -2254.99 Q194.454 -2254.99 196.237 -2254.64 Q198.042 -2254.3 199.987 -2253.6 Z\" fill=\"#000000\" fill-rule=\"evenodd\" fill-opacity=\"1\" /><path clip-path=\"url(#clip400)\" d=\"M 0 0 M203.945 -2245.73 L228.783 -2245.73 L228.783 -2241.47 L225.519 -2241.47 L225.519 -2225.55 Q225.519 -2223.88 226.074 -2223.14 Q226.653 -2222.42 227.926 -2222.42 Q228.273 -2222.42 228.783 -2222.47 Q229.292 -2222.54 229.454 -2222.56 L229.454 -2219.48 Q228.644 -2219.18 227.787 -2219.04 Q226.931 -2218.9 226.074 -2218.9 Q223.297 -2218.9 222.232 -2220.41 Q221.167 -2221.94 221.167 -2226.01 L221.167 -2241.47 L211.607 -2241.47 L211.607 -2219.81 L207.255 -2219.81 L207.255 -2241.47 L203.945 -2241.47 L203.945 -2245.73 Z\" fill=\"#000000\" fill-rule=\"evenodd\" fill-opacity=\"1\" /><path clip-path=\"url(#clip400)\" d=\"M 0 0 M129.038 -2434.95 L136.677 -2434.95 L136.677 -2461.31 L128.367 -2459.65 L128.367 -2463.91 L136.63 -2465.57 L141.306 -2465.57 L141.306 -2434.95 L148.945 -2434.95 L148.945 -2431.01 L129.038 -2431.01 L129.038 -2434.95 Z\" fill=\"#000000\" fill-rule=\"evenodd\" fill-opacity=\"1\" /><path clip-path=\"url(#clip400)\" d=\"M 0 0 M164.593 -2450.16 Q161.445 -2450.16 159.593 -2448 Q157.765 -2445.85 157.765 -2442.1 Q157.765 -2438.37 159.593 -2436.2 Q161.445 -2434.04 164.593 -2434.04 Q167.741 -2434.04 169.57 -2436.2 Q171.422 -2438.37 171.422 -2442.1 Q171.422 -2445.85 169.57 -2448 Q167.741 -2450.16 164.593 -2450.16 M173.876 -2464.81 L173.876 -2460.55 Q172.116 -2461.38 170.311 -2461.82 Q168.528 -2462.26 166.769 -2462.26 Q162.14 -2462.26 159.686 -2459.14 Q157.255 -2456.01 156.908 -2449.69 Q158.274 -2451.71 160.334 -2452.77 Q162.394 -2453.86 164.871 -2453.86 Q170.079 -2453.86 173.089 -2450.69 Q176.121 -2447.54 176.121 -2442.1 Q176.121 -2436.78 172.973 -2433.56 Q169.825 -2430.34 164.593 -2430.34 Q158.598 -2430.34 155.427 -2434.92 Q152.255 -2439.53 152.255 -2448.26 Q152.255 -2456.45 156.144 -2461.31 Q160.033 -2466.2 166.584 -2466.2 Q168.343 -2466.2 170.126 -2465.85 Q171.931 -2465.5 173.876 -2464.81 Z\" fill=\"#000000\" fill-rule=\"evenodd\" fill-opacity=\"1\" /><path clip-path=\"url(#clip400)\" d=\"M 0 0 M180.01 -2465.57 L202.232 -2465.57 L202.232 -2463.58 L189.686 -2431.01 L184.802 -2431.01 L196.607 -2461.64 L180.01 -2461.64 L180.01 -2465.57 Z\" fill=\"#000000\" fill-rule=\"evenodd\" fill-opacity=\"1\" /><path clip-path=\"url(#clip400)\" d=\"M 0 0 M203.945 -2456.94 L228.783 -2456.94 L228.783 -2452.68 L225.519 -2452.68 L225.519 -2436.75 Q225.519 -2435.09 226.074 -2434.35 Q226.653 -2433.63 227.926 -2433.63 Q228.273 -2433.63 228.783 -2433.67 Q229.292 -2433.74 229.454 -2433.77 L229.454 -2430.69 Q228.644 -2430.39 227.787 -2430.25 Q226.931 -2430.11 226.074 -2430.11 Q223.297 -2430.11 222.232 -2431.61 Q221.167 -2433.14 221.167 -2437.22 L221.167 -2452.68 L211.607 -2452.68 L211.607 -2431.01 L207.255 -2431.01 L207.255 -2452.68 L203.945 -2452.68 L203.945 -2456.94 Z\" fill=\"#000000\" fill-rule=\"evenodd\" fill-opacity=\"1\" /><path clip-path=\"url(#clip400)\" d=\"M 0 0 M128.228 -2646.15 L135.867 -2646.15 L135.867 -2672.52 L127.556 -2670.85 L127.556 -2675.11 L135.82 -2676.78 L140.496 -2676.78 L140.496 -2646.15 L148.135 -2646.15 L148.135 -2642.22 L128.228 -2642.22 L128.228 -2646.15 Z\" fill=\"#000000\" fill-rule=\"evenodd\" fill-opacity=\"1\" /><path clip-path=\"url(#clip400)\" d=\"M 0 0 M163.783 -2661.36 Q160.635 -2661.36 158.783 -2659.21 Q156.954 -2657.06 156.954 -2653.31 Q156.954 -2649.58 158.783 -2647.4 Q160.635 -2645.25 163.783 -2645.25 Q166.931 -2645.25 168.76 -2647.4 Q170.612 -2649.58 170.612 -2653.31 Q170.612 -2657.06 168.76 -2659.21 Q166.931 -2661.36 163.783 -2661.36 M173.065 -2676.01 L173.065 -2671.76 Q171.306 -2672.59 169.501 -2673.03 Q167.718 -2673.47 165.959 -2673.47 Q161.329 -2673.47 158.876 -2670.34 Q156.445 -2667.22 156.098 -2660.9 Q157.464 -2662.91 159.524 -2663.98 Q161.584 -2665.07 164.061 -2665.07 Q169.269 -2665.07 172.278 -2661.89 Q175.311 -2658.75 175.311 -2653.31 Q175.311 -2647.98 172.163 -2644.77 Q169.015 -2641.55 163.783 -2641.55 Q157.788 -2641.55 154.616 -2646.13 Q151.445 -2650.74 151.445 -2659.46 Q151.445 -2667.66 155.334 -2672.52 Q159.223 -2677.4 165.774 -2677.4 Q167.533 -2677.4 169.315 -2677.06 Q171.121 -2676.71 173.065 -2676.01 Z\" fill=\"#000000\" fill-rule=\"evenodd\" fill-opacity=\"1\" /><path clip-path=\"url(#clip400)\" d=\"M 0 0 M190.38 -2658.63 Q187.047 -2658.63 185.126 -2656.85 Q183.227 -2655.07 183.227 -2651.94 Q183.227 -2648.82 185.126 -2647.03 Q187.047 -2645.25 190.38 -2645.25 Q193.713 -2645.25 195.635 -2647.03 Q197.556 -2648.84 197.556 -2651.94 Q197.556 -2655.07 195.635 -2656.85 Q193.737 -2658.63 190.38 -2658.63 M185.704 -2660.62 Q182.695 -2661.36 181.005 -2663.42 Q179.339 -2665.48 179.339 -2668.45 Q179.339 -2672.59 182.278 -2675 Q185.241 -2677.4 190.38 -2677.4 Q195.542 -2677.4 198.482 -2675 Q201.422 -2672.59 201.422 -2668.45 Q201.422 -2665.48 199.732 -2663.42 Q198.065 -2661.36 195.079 -2660.62 Q198.459 -2659.83 200.334 -2657.54 Q202.232 -2655.25 202.232 -2651.94 Q202.232 -2646.92 199.153 -2644.23 Q196.098 -2641.55 190.38 -2641.55 Q184.663 -2641.55 181.584 -2644.23 Q178.528 -2646.92 178.528 -2651.94 Q178.528 -2655.25 180.427 -2657.54 Q182.325 -2659.83 185.704 -2660.62 M183.991 -2668.01 Q183.991 -2665.32 185.658 -2663.82 Q187.348 -2662.31 190.38 -2662.31 Q193.389 -2662.31 195.079 -2663.82 Q196.792 -2665.32 196.792 -2668.01 Q196.792 -2670.69 195.079 -2672.2 Q193.389 -2673.7 190.38 -2673.7 Q187.348 -2673.7 185.658 -2672.2 Q183.991 -2670.69 183.991 -2668.01 Z\" fill=\"#000000\" fill-rule=\"evenodd\" fill-opacity=\"1\" /><path clip-path=\"url(#clip400)\" d=\"M 0 0 M203.945 -2668.14 L228.783 -2668.14 L228.783 -2663.89 L225.519 -2663.89 L225.519 -2647.96 Q225.519 -2646.29 226.074 -2645.55 Q226.653 -2644.83 227.926 -2644.83 Q228.273 -2644.83 228.783 -2644.88 Q229.292 -2644.95 229.454 -2644.97 L229.454 -2641.89 Q228.644 -2641.59 227.787 -2641.45 Q226.931 -2641.32 226.074 -2641.32 Q223.297 -2641.32 222.232 -2642.82 Q221.167 -2644.35 221.167 -2648.42 L221.167 -2663.89 L211.607 -2663.89 L211.607 -2642.22 L207.255 -2642.22 L207.255 -2663.89 L203.945 -2663.89 L203.945 -2668.14 Z\" fill=\"#000000\" fill-rule=\"evenodd\" fill-opacity=\"1\" /><path clip-path=\"url(#clip400)\" d=\"M 0 0 M128.32 -2857.36 L135.959 -2857.36 L135.959 -2883.73 L127.649 -2882.06 L127.649 -2886.32 L135.913 -2887.99 L140.589 -2887.99 L140.589 -2857.36 L148.228 -2857.36 L148.228 -2853.43 L128.32 -2853.43 L128.32 -2857.36 Z\" fill=\"#000000\" fill-rule=\"evenodd\" fill-opacity=\"1\" /><path clip-path=\"url(#clip400)\" d=\"M 0 0 M163.876 -2872.57 Q160.728 -2872.57 158.876 -2870.42 Q157.047 -2868.26 157.047 -2864.51 Q157.047 -2860.79 158.876 -2858.61 Q160.728 -2856.46 163.876 -2856.46 Q167.024 -2856.46 168.853 -2858.61 Q170.704 -2860.79 170.704 -2864.51 Q170.704 -2868.26 168.853 -2870.42 Q167.024 -2872.57 163.876 -2872.57 M173.158 -2887.22 L173.158 -2882.96 Q171.399 -2883.8 169.593 -2884.24 Q167.811 -2884.68 166.052 -2884.68 Q161.422 -2884.68 158.968 -2881.55 Q156.538 -2878.43 156.191 -2872.11 Q157.556 -2874.12 159.616 -2875.18 Q161.677 -2876.27 164.153 -2876.27 Q169.362 -2876.27 172.371 -2873.1 Q175.403 -2869.95 175.403 -2864.51 Q175.403 -2859.19 172.255 -2855.97 Q169.107 -2852.75 163.876 -2852.75 Q157.88 -2852.75 154.709 -2857.34 Q151.538 -2861.94 151.538 -2870.67 Q151.538 -2878.86 155.427 -2883.73 Q159.316 -2888.61 165.866 -2888.61 Q167.626 -2888.61 169.408 -2888.26 Q171.214 -2887.92 173.158 -2887.22 Z\" fill=\"#000000\" fill-rule=\"evenodd\" fill-opacity=\"1\" /><path clip-path=\"url(#clip400)\" d=\"M 0 0 M180.612 -2854.14 L180.612 -2858.4 Q182.371 -2857.57 184.177 -2857.13 Q185.982 -2856.69 187.718 -2856.69 Q192.348 -2856.69 194.778 -2859.79 Q197.232 -2862.92 197.579 -2869.26 Q196.237 -2867.27 194.176 -2866.2 Q192.116 -2865.14 189.616 -2865.14 Q184.431 -2865.14 181.399 -2868.26 Q178.39 -2871.41 178.39 -2876.85 Q178.39 -2882.18 181.538 -2885.39 Q184.686 -2888.61 189.917 -2888.61 Q195.913 -2888.61 199.061 -2884 Q202.232 -2879.42 202.232 -2870.67 Q202.232 -2862.5 198.343 -2857.62 Q194.477 -2852.75 187.926 -2852.75 Q186.167 -2852.75 184.362 -2853.1 Q182.556 -2853.45 180.612 -2854.14 M189.917 -2868.8 Q193.065 -2868.8 194.894 -2870.95 Q196.746 -2873.1 196.746 -2876.85 Q196.746 -2880.58 194.894 -2882.73 Q193.065 -2884.91 189.917 -2884.91 Q186.769 -2884.91 184.917 -2882.73 Q183.089 -2880.58 183.089 -2876.85 Q183.089 -2873.1 184.917 -2870.95 Q186.769 -2868.8 189.917 -2868.8 Z\" fill=\"#000000\" fill-rule=\"evenodd\" fill-opacity=\"1\" /><path clip-path=\"url(#clip400)\" d=\"M 0 0 M203.945 -2879.35 L228.783 -2879.35 L228.783 -2875.09 L225.519 -2875.09 L225.519 -2859.17 Q225.519 -2857.5 226.074 -2856.76 Q226.653 -2856.04 227.926 -2856.04 Q228.273 -2856.04 228.783 -2856.09 Q229.292 -2856.16 229.454 -2856.18 L229.454 -2853.1 Q228.644 -2852.8 227.787 -2852.66 Q226.931 -2852.52 226.074 -2852.52 Q223.297 -2852.52 222.232 -2854.03 Q221.167 -2855.55 221.167 -2859.63 L221.167 -2875.09 L211.607 -2875.09 L211.607 -2853.43 L207.255 -2853.43 L207.255 -2875.09 L203.945 -2875.09 L203.945 -2879.35 Z\" fill=\"#000000\" fill-rule=\"evenodd\" fill-opacity=\"1\" /><path clip-path=\"url(#clip400)\" d=\"M 0 0 M129.2 -3068.57 L136.839 -3068.57 L136.839 -3094.93 L128.529 -3093.27 L128.529 -3097.53 L136.793 -3099.19 L141.468 -3099.19 L141.468 -3068.57 L149.107 -3068.57 L149.107 -3064.63 L129.2 -3064.63 L129.2 -3068.57 Z\" fill=\"#000000\" fill-rule=\"evenodd\" fill-opacity=\"1\" /><path clip-path=\"url(#clip400)\" d=\"M 0 0 M152.996 -3099.19 L175.218 -3099.19 L175.218 -3097.2 L162.672 -3064.63 L157.788 -3064.63 L169.593 -3095.26 L152.996 -3095.26 L152.996 -3099.19 Z\" fill=\"#000000\" fill-rule=\"evenodd\" fill-opacity=\"1\" /><path clip-path=\"url(#clip400)\" d=\"M 0 0 M190.288 -3096.11 Q186.677 -3096.11 184.848 -3092.55 Q183.042 -3089.01 183.042 -3081.88 Q183.042 -3074.77 184.848 -3071.21 Q186.677 -3067.66 190.288 -3067.66 Q193.922 -3067.66 195.727 -3071.21 Q197.556 -3074.77 197.556 -3081.88 Q197.556 -3089.01 195.727 -3092.55 Q193.922 -3096.11 190.288 -3096.11 M190.288 -3099.82 Q196.098 -3099.82 199.153 -3095.21 Q202.232 -3090.63 202.232 -3081.88 Q202.232 -3073.15 199.153 -3068.54 Q196.098 -3063.96 190.288 -3063.96 Q184.477 -3063.96 181.399 -3068.54 Q178.343 -3073.15 178.343 -3081.88 Q178.343 -3090.63 181.399 -3095.21 Q184.477 -3099.82 190.288 -3099.82 Z\" fill=\"#000000\" fill-rule=\"evenodd\" fill-opacity=\"1\" /><path clip-path=\"url(#clip400)\" d=\"M 0 0 M203.945 -3090.56 L228.783 -3090.56 L228.783 -3086.3 L225.519 -3086.3 L225.519 -3070.37 Q225.519 -3068.71 226.074 -3067.97 Q226.653 -3067.25 227.926 -3067.25 Q228.273 -3067.25 228.783 -3067.29 Q229.292 -3067.36 229.454 -3067.39 L229.454 -3064.31 Q228.644 -3064.01 227.787 -3063.87 Q226.931 -3063.73 226.074 -3063.73 Q223.297 -3063.73 222.232 -3065.23 Q221.167 -3066.76 221.167 -3070.84 L221.167 -3086.3 L211.607 -3086.3 L211.607 -3064.63 L207.255 -3064.63 L207.255 -3086.3 L203.945 -3086.3 L203.945 -3090.56 Z\" fill=\"#000000\" fill-rule=\"evenodd\" fill-opacity=\"1\" /><path clip-path=\"url(#clip400)\" d=\"M 0 0 M130.427 -3279.77 L138.066 -3279.77 L138.066 -3306.14 L129.756 -3304.47 L129.756 -3308.73 L138.019 -3310.4 L142.695 -3310.4 L142.695 -3279.77 L150.334 -3279.77 L150.334 -3275.84 L130.427 -3275.84 L130.427 -3279.77 Z\" fill=\"#000000\" fill-rule=\"evenodd\" fill-opacity=\"1\" /><path clip-path=\"url(#clip400)\" d=\"M 0 0 M154.223 -3310.4 L176.445 -3310.4 L176.445 -3308.41 L163.899 -3275.84 L159.015 -3275.84 L170.82 -3306.46 L154.223 -3306.46 L154.223 -3310.4 Z\" fill=\"#000000\" fill-rule=\"evenodd\" fill-opacity=\"1\" /><path clip-path=\"url(#clip400)\" d=\"M 0 0 M182.325 -3279.77 L189.964 -3279.77 L189.964 -3306.14 L181.653 -3304.47 L181.653 -3308.73 L189.917 -3310.4 L194.593 -3310.4 L194.593 -3279.77 L202.232 -3279.77 L202.232 -3275.84 L182.325 -3275.84 L182.325 -3279.77 Z\" fill=\"#000000\" fill-rule=\"evenodd\" fill-opacity=\"1\" /><path clip-path=\"url(#clip400)\" d=\"M 0 0 M203.945 -3301.76 L228.783 -3301.76 L228.783 -3297.5 L225.519 -3297.5 L225.519 -3281.58 Q225.519 -3279.91 226.074 -3279.17 Q226.653 -3278.45 227.926 -3278.45 Q228.273 -3278.45 228.783 -3278.5 Q229.292 -3278.57 229.454 -3278.59 L229.454 -3275.51 Q228.644 -3275.21 227.787 -3275.07 Q226.931 -3274.94 226.074 -3274.94 Q223.297 -3274.94 222.232 -3276.44 Q221.167 -3277.97 221.167 -3282.04 L221.167 -3297.5 L211.607 -3297.5 L211.607 -3275.84 L207.255 -3275.84 L207.255 -3297.5 L203.945 -3297.5 L203.945 -3301.76 Z\" fill=\"#000000\" fill-rule=\"evenodd\" fill-opacity=\"1\" /><path clip-path=\"url(#clip400)\" d=\"M 0 0 M130.797 -3490.98 L138.436 -3490.98 L138.436 -3517.35 L130.126 -3515.68 L130.126 -3519.94 L138.39 -3521.6 L143.066 -3521.6 L143.066 -3490.98 L150.704 -3490.98 L150.704 -3487.04 L130.797 -3487.04 L130.797 -3490.98 Z\" fill=\"#000000\" fill-rule=\"evenodd\" fill-opacity=\"1\" /><path clip-path=\"url(#clip400)\" d=\"M 0 0 M154.593 -3521.6 L176.815 -3521.6 L176.815 -3519.61 L164.269 -3487.04 L159.385 -3487.04 L171.19 -3517.67 L154.593 -3517.67 L154.593 -3521.6 Z\" fill=\"#000000\" fill-rule=\"evenodd\" fill-opacity=\"1\" /><path clip-path=\"url(#clip400)\" d=\"M 0 0 M185.913 -3490.98 L202.232 -3490.98 L202.232 -3487.04 L180.288 -3487.04 L180.288 -3490.98 Q182.95 -3493.73 187.533 -3498.36 Q192.139 -3503.02 193.32 -3504.36 Q195.565 -3506.88 196.445 -3508.62 Q197.348 -3510.38 197.348 -3512.07 Q197.348 -3514.82 195.403 -3516.56 Q193.482 -3518.29 190.38 -3518.29 Q188.181 -3518.29 185.727 -3517.53 Q183.297 -3516.77 180.519 -3515.22 L180.519 -3519.94 Q183.343 -3521.07 185.797 -3521.65 Q188.251 -3522.23 190.288 -3522.23 Q195.658 -3522.23 198.852 -3519.54 Q202.047 -3516.86 202.047 -3512.37 Q202.047 -3510.24 201.237 -3508.32 Q200.45 -3506.42 198.343 -3503.83 Q197.764 -3503.16 194.663 -3499.94 Q191.561 -3496.74 185.913 -3490.98 Z\" fill=\"#000000\" fill-rule=\"evenodd\" fill-opacity=\"1\" /><path clip-path=\"url(#clip400)\" d=\"M 0 0 M203.945 -3512.97 L228.783 -3512.97 L228.783 -3508.71 L225.519 -3508.71 L225.519 -3492.79 Q225.519 -3491.12 226.074 -3490.38 Q226.653 -3489.66 227.926 -3489.66 Q228.273 -3489.66 228.783 -3489.71 Q229.292 -3489.78 229.454 -3489.8 L229.454 -3486.72 Q228.644 -3486.42 227.787 -3486.28 Q226.931 -3486.14 226.074 -3486.14 Q223.297 -3486.14 222.232 -3487.65 Q221.167 -3489.17 221.167 -3493.25 L221.167 -3508.71 L211.607 -3508.71 L211.607 -3487.04 L207.255 -3487.04 L207.255 -3508.71 L203.945 -3508.71 L203.945 -3512.97 Z\" fill=\"#000000\" fill-rule=\"evenodd\" fill-opacity=\"1\" /><path clip-path=\"url(#clip400)\" d=\"M 0 0 M129.848 -3702.19 L137.487 -3702.19 L137.487 -3728.55 L129.177 -3726.89 L129.177 -3731.14 L137.441 -3732.81 L142.117 -3732.81 L142.117 -3702.19 L149.755 -3702.19 L149.755 -3698.25 L129.848 -3698.25 L129.848 -3702.19 Z\" fill=\"#000000\" fill-rule=\"evenodd\" fill-opacity=\"1\" /><path clip-path=\"url(#clip400)\" d=\"M 0 0 M153.644 -3732.81 L175.866 -3732.81 L175.866 -3730.82 L163.32 -3698.25 L158.436 -3698.25 L170.241 -3728.88 L153.644 -3728.88 L153.644 -3732.81 Z\" fill=\"#000000\" fill-rule=\"evenodd\" fill-opacity=\"1\" /><path clip-path=\"url(#clip400)\" d=\"M 0 0 M195.102 -3716.89 Q198.459 -3716.17 200.334 -3713.9 Q202.232 -3711.63 202.232 -3708.3 Q202.232 -3703.18 198.713 -3700.38 Q195.195 -3697.58 188.714 -3697.58 Q186.538 -3697.58 184.223 -3698.02 Q181.931 -3698.44 179.477 -3699.29 L179.477 -3703.81 Q181.422 -3702.67 183.737 -3702.09 Q186.052 -3701.52 188.575 -3701.52 Q192.973 -3701.52 195.264 -3703.25 Q197.579 -3704.99 197.579 -3708.3 Q197.579 -3711.35 195.426 -3713.07 Q193.297 -3714.8 189.477 -3714.8 L185.45 -3714.8 L185.45 -3718.64 L189.663 -3718.64 Q193.112 -3718.64 194.94 -3720.01 Q196.769 -3721.4 196.769 -3723.99 Q196.769 -3726.65 194.871 -3728.07 Q192.996 -3729.5 189.477 -3729.5 Q187.556 -3729.5 185.357 -3729.08 Q183.158 -3728.67 180.519 -3727.79 L180.519 -3731.95 Q183.181 -3732.7 185.496 -3733.07 Q187.834 -3733.44 189.894 -3733.44 Q195.218 -3733.44 198.32 -3731.01 Q201.422 -3728.6 201.422 -3724.48 Q201.422 -3721.61 199.778 -3719.62 Q198.135 -3717.65 195.102 -3716.89 Z\" fill=\"#000000\" fill-rule=\"evenodd\" fill-opacity=\"1\" /><path clip-path=\"url(#clip400)\" d=\"M 0 0 M203.945 -3724.18 L228.783 -3724.18 L228.783 -3719.92 L225.519 -3719.92 L225.519 -3703.99 Q225.519 -3702.33 226.074 -3701.58 Q226.653 -3700.87 227.926 -3700.87 Q228.273 -3700.87 228.783 -3700.91 Q229.292 -3700.98 229.454 -3701.01 L229.454 -3697.93 Q228.644 -3697.63 227.787 -3697.49 Q226.931 -3697.35 226.074 -3697.35 Q223.297 -3697.35 222.232 -3698.85 Q221.167 -3700.38 221.167 -3704.45 L221.167 -3719.92 L211.607 -3719.92 L211.607 -3698.25 L207.255 -3698.25 L207.255 -3719.92 L203.945 -3719.92 L203.945 -3724.18 Z\" fill=\"#000000\" fill-rule=\"evenodd\" fill-opacity=\"1\" /><path clip-path=\"url(#clip400)\" d=\"M 0 0 M128.714 -3913.39 L136.353 -3913.39 L136.353 -3939.76 L128.043 -3938.09 L128.043 -3942.35 L136.306 -3944.02 L140.982 -3944.02 L140.982 -3913.39 L148.621 -3913.39 L148.621 -3909.46 L128.714 -3909.46 L128.714 -3913.39 Z\" fill=\"#000000\" fill-rule=\"evenodd\" fill-opacity=\"1\" /><path clip-path=\"url(#clip400)\" d=\"M 0 0 M152.51 -3944.02 L174.732 -3944.02 L174.732 -3942.03 L162.186 -3909.46 L157.302 -3909.46 L169.107 -3940.08 L152.51 -3940.08 L152.51 -3944.02 Z\" fill=\"#000000\" fill-rule=\"evenodd\" fill-opacity=\"1\" /><path clip-path=\"url(#clip400)\" d=\"M 0 0 M192.649 -3939.94 L180.843 -3921.49 L192.649 -3921.49 L192.649 -3939.94 M191.422 -3944.02 L197.301 -3944.02 L197.301 -3921.49 L202.232 -3921.49 L202.232 -3917.61 L197.301 -3917.61 L197.301 -3909.46 L192.649 -3909.46 L192.649 -3917.61 L177.047 -3917.61 L177.047 -3922.12 L191.422 -3944.02 Z\" fill=\"#000000\" fill-rule=\"evenodd\" fill-opacity=\"1\" /><path clip-path=\"url(#clip400)\" d=\"M 0 0 M203.945 -3935.38 L228.783 -3935.38 L228.783 -3931.12 L225.519 -3931.12 L225.519 -3915.2 Q225.519 -3913.53 226.074 -3912.79 Q226.653 -3912.07 227.926 -3912.07 Q228.273 -3912.07 228.783 -3912.12 Q229.292 -3912.19 229.454 -3912.21 L229.454 -3909.13 Q228.644 -3908.83 227.787 -3908.69 Q226.931 -3908.56 226.074 -3908.56 Q223.297 -3908.56 222.232 -3910.06 Q221.167 -3911.59 221.167 -3915.66 L221.167 -3931.12 L211.607 -3931.12 L211.607 -3909.46 L207.255 -3909.46 L207.255 -3931.12 L203.945 -3931.12 L203.945 -3935.38 Z\" fill=\"#000000\" fill-rule=\"evenodd\" fill-opacity=\"1\" /><path clip-path=\"url(#clip400)\" d=\"M 0 0 M130.195 -4124.6 L137.834 -4124.6 L137.834 -4150.97 L129.524 -4149.3 L129.524 -4153.56 L137.788 -4155.22 L142.464 -4155.22 L142.464 -4124.6 L150.103 -4124.6 L150.103 -4120.66 L130.195 -4120.66 L130.195 -4124.6 Z\" fill=\"#000000\" fill-rule=\"evenodd\" fill-opacity=\"1\" /><path clip-path=\"url(#clip400)\" d=\"M 0 0 M153.991 -4155.22 L176.214 -4155.22 L176.214 -4153.23 L163.667 -4120.66 L158.783 -4120.66 L170.589 -4151.29 L153.991 -4151.29 L153.991 -4155.22 Z\" fill=\"#000000\" fill-rule=\"evenodd\" fill-opacity=\"1\" /><path clip-path=\"url(#clip400)\" d=\"M 0 0 M181.329 -4155.22 L199.686 -4155.22 L199.686 -4151.29 L185.612 -4151.29 L185.612 -4142.82 Q186.63 -4143.16 187.649 -4143.33 Q188.667 -4143.51 189.686 -4143.51 Q195.473 -4143.51 198.852 -4140.34 Q202.232 -4137.17 202.232 -4131.75 Q202.232 -4126.17 198.76 -4123.07 Q195.288 -4119.99 188.968 -4119.99 Q186.792 -4119.99 184.524 -4120.36 Q182.278 -4120.73 179.871 -4121.47 L179.871 -4126.17 Q181.954 -4125.04 184.177 -4124.48 Q186.399 -4123.93 188.876 -4123.93 Q192.88 -4123.93 195.218 -4126.03 Q197.556 -4128.14 197.556 -4131.75 Q197.556 -4135.36 195.218 -4137.47 Q192.88 -4139.58 188.876 -4139.58 Q187.001 -4139.58 185.126 -4139.16 Q183.274 -4138.74 181.329 -4137.86 L181.329 -4155.22 Z\" fill=\"#000000\" fill-rule=\"evenodd\" fill-opacity=\"1\" /><path clip-path=\"url(#clip400)\" d=\"M 0 0 M203.945 -4146.59 L228.783 -4146.59 L228.783 -4142.33 L225.519 -4142.33 L225.519 -4126.41 Q225.519 -4124.74 226.074 -4124 Q226.653 -4123.28 227.926 -4123.28 Q228.273 -4123.28 228.783 -4123.33 Q229.292 -4123.4 229.454 -4123.42 L229.454 -4120.34 Q228.644 -4120.04 227.787 -4119.9 Q226.931 -4119.76 226.074 -4119.76 Q223.297 -4119.76 222.232 -4121.27 Q221.167 -4122.79 221.167 -4126.87 L221.167 -4142.33 L211.607 -4142.33 L211.607 -4120.66 L207.255 -4120.66 L207.255 -4142.33 L203.945 -4142.33 L203.945 -4146.59 Z\" fill=\"#000000\" fill-rule=\"evenodd\" fill-opacity=\"1\" /><path clip-path=\"url(#clip400)\" d=\"M 0 0 M129.038 -4335.81 L136.677 -4335.81 L136.677 -4362.17 L128.367 -4360.5 L128.367 -4364.76 L136.63 -4366.43 L141.306 -4366.43 L141.306 -4335.81 L148.945 -4335.81 L148.945 -4331.87 L129.038 -4331.87 L129.038 -4335.81 Z\" fill=\"#000000\" fill-rule=\"evenodd\" fill-opacity=\"1\" /><path clip-path=\"url(#clip400)\" d=\"M 0 0 M152.834 -4366.43 L175.056 -4366.43 L175.056 -4364.44 L162.51 -4331.87 L157.626 -4331.87 L169.431 -4362.5 L152.834 -4362.5 L152.834 -4366.43 Z\" fill=\"#000000\" fill-rule=\"evenodd\" fill-opacity=\"1\" /><path clip-path=\"url(#clip400)\" d=\"M 0 0 M190.704 -4351.01 Q187.556 -4351.01 185.704 -4348.86 Q183.876 -4346.71 183.876 -4342.96 Q183.876 -4339.23 185.704 -4337.06 Q187.556 -4334.9 190.704 -4334.9 Q193.852 -4334.9 195.681 -4337.06 Q197.533 -4339.23 197.533 -4342.96 Q197.533 -4346.71 195.681 -4348.86 Q193.852 -4351.01 190.704 -4351.01 M199.987 -4365.67 L199.987 -4361.41 Q198.227 -4362.24 196.422 -4362.68 Q194.639 -4363.12 192.88 -4363.12 Q188.251 -4363.12 185.797 -4360 Q183.366 -4356.87 183.019 -4350.55 Q184.385 -4352.57 186.445 -4353.63 Q188.505 -4354.72 190.982 -4354.72 Q196.19 -4354.72 199.2 -4351.55 Q202.232 -4348.4 202.232 -4342.96 Q202.232 -4337.63 199.084 -4334.42 Q195.936 -4331.2 190.704 -4331.2 Q184.709 -4331.2 181.538 -4335.78 Q178.366 -4340.39 178.366 -4349.12 Q178.366 -4357.31 182.255 -4362.17 Q186.144 -4367.06 192.695 -4367.06 Q194.454 -4367.06 196.237 -4366.71 Q198.042 -4366.36 199.987 -4365.67 Z\" fill=\"#000000\" fill-rule=\"evenodd\" fill-opacity=\"1\" /><path clip-path=\"url(#clip400)\" d=\"M 0 0 M203.945 -4357.8 L228.783 -4357.8 L228.783 -4353.54 L225.519 -4353.54 L225.519 -4337.61 Q225.519 -4335.94 226.074 -4335.2 Q226.653 -4334.49 227.926 -4334.49 Q228.273 -4334.49 228.783 -4334.53 Q229.292 -4334.6 229.454 -4334.63 L229.454 -4331.55 Q228.644 -4331.25 227.787 -4331.11 Q226.931 -4330.97 226.074 -4330.97 Q223.297 -4330.97 222.232 -4332.47 Q221.167 -4334 221.167 -4338.07 L221.167 -4353.54 L211.607 -4353.54 L211.607 -4331.87 L207.255 -4331.87 L207.255 -4353.54 L203.945 -4353.54 L203.945 -4357.8 Z\" fill=\"#000000\" fill-rule=\"evenodd\" fill-opacity=\"1\" /><path clip-path=\"url(#clip400)\" d=\"M 0 0 M130.103 -4547.01 L137.742 -4547.01 L137.742 -4573.38 L129.431 -4571.71 L129.431 -4575.97 L137.695 -4577.64 L142.371 -4577.64 L142.371 -4547.01 L150.01 -4547.01 L150.01 -4543.08 L130.103 -4543.08 L130.103 -4547.01 Z\" fill=\"#000000\" fill-rule=\"evenodd\" fill-opacity=\"1\" /><path clip-path=\"url(#clip400)\" d=\"M 0 0 M153.899 -4577.64 L176.121 -4577.64 L176.121 -4575.65 L163.575 -4543.08 L158.691 -4543.08 L170.496 -4573.7 L153.899 -4573.7 L153.899 -4577.64 Z\" fill=\"#000000\" fill-rule=\"evenodd\" fill-opacity=\"1\" /><path clip-path=\"url(#clip400)\" d=\"M 0 0 M180.01 -4577.64 L202.232 -4577.64 L202.232 -4575.65 L189.686 -4543.08 L184.802 -4543.08 L196.607 -4573.7 L180.01 -4573.7 L180.01 -4577.64 Z\" fill=\"#000000\" fill-rule=\"evenodd\" fill-opacity=\"1\" /><path clip-path=\"url(#clip400)\" d=\"M 0 0 M203.945 -4569 L228.783 -4569 L228.783 -4564.74 L225.519 -4564.74 L225.519 -4548.82 Q225.519 -4547.15 226.074 -4546.41 Q226.653 -4545.69 227.926 -4545.69 Q228.273 -4545.69 228.783 -4545.74 Q229.292 -4545.81 229.454 -4545.83 L229.454 -4542.75 Q228.644 -4542.45 227.787 -4542.31 Q226.931 -4542.17 226.074 -4542.17 Q223.297 -4542.17 222.232 -4543.68 Q221.167 -4545.21 221.167 -4549.28 L221.167 -4564.74 L211.607 -4564.74 L211.607 -4543.08 L207.255 -4543.08 L207.255 -4564.74 L203.945 -4564.74 L203.945 -4569 Z\" fill=\"#000000\" fill-rule=\"evenodd\" fill-opacity=\"1\" /><path clip-path=\"url(#clip400)\" d=\"M 0 0 M129.293 -4758.22 L136.931 -4758.22 L136.931 -4784.58 L128.621 -4782.92 L128.621 -4787.18 L136.885 -4788.84 L141.561 -4788.84 L141.561 -4758.22 L149.2 -4758.22 L149.2 -4754.28 L129.293 -4754.28 L129.293 -4758.22 Z\" fill=\"#000000\" fill-rule=\"evenodd\" fill-opacity=\"1\" /><path clip-path=\"url(#clip400)\" d=\"M 0 0 M153.089 -4788.84 L175.311 -4788.84 L175.311 -4786.85 L162.765 -4754.28 L157.88 -4754.28 L169.686 -4784.91 L153.089 -4784.91 L153.089 -4788.84 Z\" fill=\"#000000\" fill-rule=\"evenodd\" fill-opacity=\"1\" /><path clip-path=\"url(#clip400)\" d=\"M 0 0 M190.38 -4770.7 Q187.047 -4770.7 185.126 -4768.91 Q183.227 -4767.13 183.227 -4764.01 Q183.227 -4760.88 185.126 -4759.1 Q187.047 -4757.32 190.38 -4757.32 Q193.713 -4757.32 195.635 -4759.1 Q197.556 -4760.9 197.556 -4764.01 Q197.556 -4767.13 195.635 -4768.91 Q193.737 -4770.7 190.38 -4770.7 M185.704 -4772.69 Q182.695 -4773.43 181.005 -4775.49 Q179.339 -4777.55 179.339 -4780.51 Q179.339 -4784.65 182.278 -4787.06 Q185.241 -4789.47 190.38 -4789.47 Q195.542 -4789.47 198.482 -4787.06 Q201.422 -4784.65 201.422 -4780.51 Q201.422 -4777.55 199.732 -4775.49 Q198.065 -4773.43 195.079 -4772.69 Q198.459 -4771.9 200.334 -4769.61 Q202.232 -4767.32 202.232 -4764.01 Q202.232 -4758.98 199.153 -4756.3 Q196.098 -4753.61 190.38 -4753.61 Q184.663 -4753.61 181.584 -4756.3 Q178.528 -4758.98 178.528 -4764.01 Q178.528 -4767.32 180.427 -4769.61 Q182.325 -4771.9 185.704 -4772.69 M183.991 -4780.07 Q183.991 -4777.39 185.658 -4775.88 Q187.348 -4774.38 190.38 -4774.38 Q193.389 -4774.38 195.079 -4775.88 Q196.792 -4777.39 196.792 -4780.07 Q196.792 -4782.76 195.079 -4784.26 Q193.389 -4785.77 190.38 -4785.77 Q187.348 -4785.77 185.658 -4784.26 Q183.991 -4782.76 183.991 -4780.07 Z\" fill=\"#000000\" fill-rule=\"evenodd\" fill-opacity=\"1\" /><path clip-path=\"url(#clip400)\" d=\"M 0 0 M203.945 -4780.21 L228.783 -4780.21 L228.783 -4775.95 L225.519 -4775.95 L225.519 -4760.02 Q225.519 -4758.36 226.074 -4757.62 Q226.653 -4756.9 227.926 -4756.9 Q228.273 -4756.9 228.783 -4756.95 Q229.292 -4757.02 229.454 -4757.04 L229.454 -4753.96 Q228.644 -4753.66 227.787 -4753.52 Q226.931 -4753.38 226.074 -4753.38 Q223.297 -4753.38 222.232 -4754.89 Q221.167 -4756.41 221.167 -4760.49 L221.167 -4775.95 L211.607 -4775.95 L211.607 -4754.28 L207.255 -4754.28 L207.255 -4775.95 L203.945 -4775.95 L203.945 -4780.21 Z\" fill=\"#000000\" fill-rule=\"evenodd\" fill-opacity=\"1\" /><path clip-path=\"url(#clip400)\" d=\"M 0 0 M129.385 -4969.43 L137.024 -4969.43 L137.024 -4995.79 L128.714 -4994.12 L128.714 -4998.38 L136.978 -5000.05 L141.654 -5000.05 L141.654 -4969.43 L149.292 -4969.43 L149.292 -4965.49 L129.385 -4965.49 L129.385 -4969.43 Z\" fill=\"#000000\" fill-rule=\"evenodd\" fill-opacity=\"1\" /><path clip-path=\"url(#clip400)\" d=\"M 0 0 M153.181 -5000.05 L175.403 -5000.05 L175.403 -4998.06 L162.857 -4965.49 L157.973 -4965.49 L169.778 -4996.12 L153.181 -4996.12 L153.181 -5000.05 Z\" fill=\"#000000\" fill-rule=\"evenodd\" fill-opacity=\"1\" /><path clip-path=\"url(#clip400)\" d=\"M 0 0 M180.612 -4966.21 L180.612 -4970.47 Q182.371 -4969.63 184.177 -4969.19 Q185.982 -4968.75 187.718 -4968.75 Q192.348 -4968.75 194.778 -4971.86 Q197.232 -4974.98 197.579 -4981.32 Q196.237 -4979.33 194.176 -4978.27 Q192.116 -4977.2 189.616 -4977.2 Q184.431 -4977.2 181.399 -4980.33 Q178.39 -4983.48 178.39 -4988.92 Q178.39 -4994.24 181.538 -4997.46 Q184.686 -5000.68 189.917 -5000.68 Q195.913 -5000.68 199.061 -4996.07 Q202.232 -4991.49 202.232 -4982.74 Q202.232 -4974.56 198.343 -4969.68 Q194.477 -4964.82 187.926 -4964.82 Q186.167 -4964.82 184.362 -4965.17 Q182.556 -4965.51 180.612 -4966.21 M189.917 -4980.86 Q193.065 -4980.86 194.894 -4983.01 Q196.746 -4985.17 196.746 -4988.92 Q196.746 -4992.64 194.894 -4994.8 Q193.065 -4996.97 189.917 -4996.97 Q186.769 -4996.97 184.917 -4994.8 Q183.089 -4992.64 183.089 -4988.92 Q183.089 -4985.17 184.917 -4983.01 Q186.769 -4980.86 189.917 -4980.86 Z\" fill=\"#000000\" fill-rule=\"evenodd\" fill-opacity=\"1\" /><path clip-path=\"url(#clip400)\" d=\"M 0 0 M203.945 -4991.42 L228.783 -4991.42 L228.783 -4987.16 L225.519 -4987.16 L225.519 -4971.23 Q225.519 -4969.56 226.074 -4968.82 Q226.653 -4968.11 227.926 -4968.11 Q228.273 -4968.11 228.783 -4968.15 Q229.292 -4968.22 229.454 -4968.24 L229.454 -4965.17 Q228.644 -4964.87 227.787 -4964.73 Q226.931 -4964.59 226.074 -4964.59 Q223.297 -4964.59 222.232 -4966.09 Q221.167 -4967.62 221.167 -4971.69 L221.167 -4987.16 L211.607 -4987.16 L211.607 -4965.49 L207.255 -4965.49 L207.255 -4987.16 L203.945 -4987.16 L203.945 -4991.42 Z\" fill=\"#000000\" fill-rule=\"evenodd\" fill-opacity=\"1\" /><path clip-path=\"url(#clip400)\" d=\"M 0 0 M128.39 -5180.63 L136.029 -5180.63 L136.029 -5207 L127.718 -5205.33 L127.718 -5209.59 L135.982 -5211.26 L140.658 -5211.26 L140.658 -5180.63 L148.297 -5180.63 L148.297 -5176.7 L128.39 -5176.7 L128.39 -5180.63 Z\" fill=\"#000000\" fill-rule=\"evenodd\" fill-opacity=\"1\" /><path clip-path=\"url(#clip400)\" d=\"M 0 0 M163.366 -5193.11 Q160.033 -5193.11 158.112 -5191.33 Q156.214 -5189.54 156.214 -5186.42 Q156.214 -5183.29 158.112 -5181.51 Q160.033 -5179.73 163.366 -5179.73 Q166.7 -5179.73 168.621 -5181.51 Q170.542 -5183.32 170.542 -5186.42 Q170.542 -5189.54 168.621 -5191.33 Q166.723 -5193.11 163.366 -5193.11 M158.691 -5195.1 Q155.681 -5195.84 153.991 -5197.9 Q152.325 -5199.96 152.325 -5202.92 Q152.325 -5207.07 155.265 -5209.47 Q158.228 -5211.88 163.366 -5211.88 Q168.528 -5211.88 171.468 -5209.47 Q174.408 -5207.07 174.408 -5202.92 Q174.408 -5199.96 172.718 -5197.9 Q171.052 -5195.84 168.065 -5195.1 Q171.445 -5194.31 173.32 -5192.02 Q175.218 -5189.73 175.218 -5186.42 Q175.218 -5181.4 172.14 -5178.71 Q169.084 -5176.03 163.366 -5176.03 Q157.649 -5176.03 154.57 -5178.71 Q151.515 -5181.4 151.515 -5186.42 Q151.515 -5189.73 153.413 -5192.02 Q155.311 -5194.31 158.691 -5195.1 M156.978 -5202.48 Q156.978 -5199.8 158.644 -5198.29 Q160.334 -5196.79 163.366 -5196.79 Q166.376 -5196.79 168.065 -5198.29 Q169.778 -5199.8 169.778 -5202.48 Q169.778 -5205.17 168.065 -5206.67 Q166.376 -5208.18 163.366 -5208.18 Q160.334 -5208.18 158.644 -5206.67 Q156.978 -5205.17 156.978 -5202.48 Z\" fill=\"#000000\" fill-rule=\"evenodd\" fill-opacity=\"1\" /><path clip-path=\"url(#clip400)\" d=\"M 0 0 M190.288 -5208.18 Q186.677 -5208.18 184.848 -5204.61 Q183.042 -5201.07 183.042 -5193.94 Q183.042 -5186.84 184.848 -5183.27 Q186.677 -5179.73 190.288 -5179.73 Q193.922 -5179.73 195.727 -5183.27 Q197.556 -5186.84 197.556 -5193.94 Q197.556 -5201.07 195.727 -5204.61 Q193.922 -5208.18 190.288 -5208.18 M190.288 -5211.88 Q196.098 -5211.88 199.153 -5207.28 Q202.232 -5202.69 202.232 -5193.94 Q202.232 -5185.22 199.153 -5180.61 Q196.098 -5176.03 190.288 -5176.03 Q184.477 -5176.03 181.399 -5180.61 Q178.343 -5185.22 178.343 -5193.94 Q178.343 -5202.69 181.399 -5207.28 Q184.477 -5211.88 190.288 -5211.88 Z\" fill=\"#000000\" fill-rule=\"evenodd\" fill-opacity=\"1\" /><path clip-path=\"url(#clip400)\" d=\"M 0 0 M203.945 -5202.62 L228.783 -5202.62 L228.783 -5198.36 L225.519 -5198.36 L225.519 -5182.44 Q225.519 -5180.77 226.074 -5180.03 Q226.653 -5179.31 227.926 -5179.31 Q228.273 -5179.31 228.783 -5179.36 Q229.292 -5179.43 229.454 -5179.45 L229.454 -5176.37 Q228.644 -5176.07 227.787 -5175.93 Q226.931 -5175.79 226.074 -5175.79 Q223.297 -5175.79 222.232 -5177.3 Q221.167 -5178.83 221.167 -5182.9 L221.167 -5198.36 L211.607 -5198.36 L211.607 -5176.7 L207.255 -5176.7 L207.255 -5198.36 L203.945 -5198.36 L203.945 -5202.62 Z\" fill=\"#000000\" fill-rule=\"evenodd\" fill-opacity=\"1\" /><path clip-path=\"url(#clip400)\" d=\"M 0 0 M129.617 -5391.84 L137.255 -5391.84 L137.255 -5418.2 L128.945 -5416.54 L128.945 -5420.8 L137.209 -5422.46 L141.885 -5422.46 L141.885 -5391.84 L149.524 -5391.84 L149.524 -5387.9 L129.617 -5387.9 L129.617 -5391.84 Z\" fill=\"#000000\" fill-rule=\"evenodd\" fill-opacity=\"1\" /><path clip-path=\"url(#clip400)\" d=\"M 0 0 M164.593 -5404.32 Q161.26 -5404.32 159.339 -5402.53 Q157.441 -5400.75 157.441 -5397.63 Q157.441 -5394.5 159.339 -5392.72 Q161.26 -5390.94 164.593 -5390.94 Q167.927 -5390.94 169.848 -5392.72 Q171.769 -5394.52 171.769 -5397.63 Q171.769 -5400.75 169.848 -5402.53 Q167.95 -5404.32 164.593 -5404.32 M159.917 -5406.31 Q156.908 -5407.05 155.218 -5409.11 Q153.552 -5411.17 153.552 -5414.13 Q153.552 -5418.27 156.491 -5420.68 Q159.454 -5423.09 164.593 -5423.09 Q169.755 -5423.09 172.695 -5420.68 Q175.635 -5418.27 175.635 -5414.13 Q175.635 -5411.17 173.945 -5409.11 Q172.278 -5407.05 169.292 -5406.31 Q172.672 -5405.52 174.547 -5403.23 Q176.445 -5400.94 176.445 -5397.63 Q176.445 -5392.6 173.366 -5389.92 Q170.311 -5387.23 164.593 -5387.23 Q158.876 -5387.23 155.797 -5389.92 Q152.741 -5392.6 152.741 -5397.63 Q152.741 -5400.94 154.64 -5403.23 Q156.538 -5405.52 159.917 -5406.31 M158.204 -5413.69 Q158.204 -5411.01 159.871 -5409.5 Q161.561 -5408 164.593 -5408 Q167.603 -5408 169.292 -5409.5 Q171.005 -5411.01 171.005 -5413.69 Q171.005 -5416.38 169.292 -5417.88 Q167.603 -5419.38 164.593 -5419.38 Q161.561 -5419.38 159.871 -5417.88 Q158.204 -5416.38 158.204 -5413.69 Z\" fill=\"#000000\" fill-rule=\"evenodd\" fill-opacity=\"1\" /><path clip-path=\"url(#clip400)\" d=\"M 0 0 M182.325 -5391.84 L189.964 -5391.84 L189.964 -5418.2 L181.653 -5416.54 L181.653 -5420.8 L189.917 -5422.46 L194.593 -5422.46 L194.593 -5391.84 L202.232 -5391.84 L202.232 -5387.9 L182.325 -5387.9 L182.325 -5391.84 Z\" fill=\"#000000\" fill-rule=\"evenodd\" fill-opacity=\"1\" /><path clip-path=\"url(#clip400)\" d=\"M 0 0 M203.945 -5413.83 L228.783 -5413.83 L228.783 -5409.57 L225.519 -5409.57 L225.519 -5393.64 Q225.519 -5391.98 226.074 -5391.24 Q226.653 -5390.52 227.926 -5390.52 Q228.273 -5390.52 228.783 -5390.57 Q229.292 -5390.63 229.454 -5390.66 L229.454 -5387.58 Q228.644 -5387.28 227.787 -5387.14 Q226.931 -5387 226.074 -5387 Q223.297 -5387 222.232 -5388.51 Q221.167 -5390.03 221.167 -5394.11 L221.167 -5409.57 L211.607 -5409.57 L211.607 -5387.9 L207.255 -5387.9 L207.255 -5409.57 L203.945 -5409.57 L203.945 -5413.83 Z\" fill=\"#000000\" fill-rule=\"evenodd\" fill-opacity=\"1\" /><path clip-path=\"url(#clip400)\" d=\"M 0 0 M129.987 -5603.04 L137.626 -5603.04 L137.626 -5629.41 L129.316 -5627.74 L129.316 -5632 L137.58 -5633.67 L142.255 -5633.67 L142.255 -5603.04 L149.894 -5603.04 L149.894 -5599.11 L129.987 -5599.11 L129.987 -5603.04 Z\" fill=\"#000000\" fill-rule=\"evenodd\" fill-opacity=\"1\" /><path clip-path=\"url(#clip400)\" d=\"M 0 0 M164.964 -5615.52 Q161.63 -5615.52 159.709 -5613.74 Q157.811 -5611.96 157.811 -5608.83 Q157.811 -5605.71 159.709 -5603.92 Q161.63 -5602.14 164.964 -5602.14 Q168.297 -5602.14 170.218 -5603.92 Q172.14 -5605.73 172.14 -5608.83 Q172.14 -5611.96 170.218 -5613.74 Q168.32 -5615.52 164.964 -5615.52 M160.288 -5617.51 Q157.279 -5618.25 155.589 -5620.31 Q153.922 -5622.37 153.922 -5625.34 Q153.922 -5629.48 156.862 -5631.89 Q159.825 -5634.29 164.964 -5634.29 Q170.126 -5634.29 173.065 -5631.89 Q176.005 -5629.48 176.005 -5625.34 Q176.005 -5622.37 174.315 -5620.31 Q172.649 -5618.25 169.663 -5617.51 Q173.042 -5616.73 174.917 -5614.43 Q176.815 -5612.14 176.815 -5608.83 Q176.815 -5603.81 173.737 -5601.12 Q170.681 -5598.44 164.964 -5598.44 Q159.246 -5598.44 156.167 -5601.12 Q153.112 -5603.81 153.112 -5608.83 Q153.112 -5612.14 155.01 -5614.43 Q156.908 -5616.73 160.288 -5617.51 M158.575 -5624.9 Q158.575 -5622.21 160.241 -5620.71 Q161.931 -5619.2 164.964 -5619.2 Q167.973 -5619.2 169.663 -5620.71 Q171.376 -5622.21 171.376 -5624.9 Q171.376 -5627.58 169.663 -5629.09 Q167.973 -5630.59 164.964 -5630.59 Q161.931 -5630.59 160.241 -5629.09 Q158.575 -5627.58 158.575 -5624.9 Z\" fill=\"#000000\" fill-rule=\"evenodd\" fill-opacity=\"1\" /><path clip-path=\"url(#clip400)\" d=\"M 0 0 M185.913 -5603.04 L202.232 -5603.04 L202.232 -5599.11 L180.288 -5599.11 L180.288 -5603.04 Q182.95 -5605.8 187.533 -5610.43 Q192.139 -5615.08 193.32 -5616.42 Q195.565 -5618.95 196.445 -5620.68 Q197.348 -5622.44 197.348 -5624.13 Q197.348 -5626.89 195.403 -5628.62 Q193.482 -5630.36 190.38 -5630.36 Q188.181 -5630.36 185.727 -5629.6 Q183.297 -5628.83 180.519 -5627.28 L180.519 -5632 Q183.343 -5633.14 185.797 -5633.72 Q188.251 -5634.29 190.288 -5634.29 Q195.658 -5634.29 198.852 -5631.61 Q202.047 -5628.92 202.047 -5624.43 Q202.047 -5622.3 201.237 -5620.38 Q200.45 -5618.48 198.343 -5615.89 Q197.764 -5615.22 194.663 -5612 Q191.561 -5608.81 185.913 -5603.04 Z\" fill=\"#000000\" fill-rule=\"evenodd\" fill-opacity=\"1\" /><path clip-path=\"url(#clip400)\" d=\"M 0 0 M203.945 -5625.04 L228.783 -5625.04 L228.783 -5620.78 L225.519 -5620.78 L225.519 -5604.85 Q225.519 -5603.18 226.074 -5602.44 Q226.653 -5601.73 227.926 -5601.73 Q228.273 -5601.73 228.783 -5601.77 Q229.292 -5601.84 229.454 -5601.86 L229.454 -5598.79 Q228.644 -5598.48 227.787 -5598.35 Q226.931 -5598.21 226.074 -5598.21 Q223.297 -5598.21 222.232 -5599.71 Q221.167 -5601.24 221.167 -5605.31 L221.167 -5620.78 L211.607 -5620.78 L211.607 -5599.11 L207.255 -5599.11 L207.255 -5620.78 L203.945 -5620.78 L203.945 -5625.04 Z\" fill=\"#000000\" fill-rule=\"evenodd\" fill-opacity=\"1\" /><path clip-path=\"url(#clip400)\" d=\"M 0 0 M129.038 -5814.25 L136.677 -5814.25 L136.677 -5840.62 L128.367 -5838.95 L128.367 -5843.21 L136.63 -5844.88 L141.306 -5844.88 L141.306 -5814.25 L148.945 -5814.25 L148.945 -5810.32 L129.038 -5810.32 L129.038 -5814.25 Z\" fill=\"#000000\" fill-rule=\"evenodd\" fill-opacity=\"1\" /><path clip-path=\"url(#clip400)\" d=\"M 0 0 M164.015 -5826.73 Q160.681 -5826.73 158.76 -5824.95 Q156.862 -5823.16 156.862 -5820.04 Q156.862 -5816.91 158.76 -5815.13 Q160.681 -5813.35 164.015 -5813.35 Q167.348 -5813.35 169.269 -5815.13 Q171.19 -5816.94 171.19 -5820.04 Q171.19 -5823.16 169.269 -5824.95 Q167.371 -5826.73 164.015 -5826.73 M159.339 -5828.72 Q156.329 -5829.46 154.64 -5831.52 Q152.973 -5833.58 152.973 -5836.54 Q152.973 -5840.69 155.913 -5843.09 Q158.876 -5845.5 164.015 -5845.5 Q169.177 -5845.5 172.116 -5843.09 Q175.056 -5840.69 175.056 -5836.54 Q175.056 -5833.58 173.366 -5831.52 Q171.7 -5829.46 168.714 -5828.72 Q172.093 -5827.93 173.968 -5825.64 Q175.866 -5823.35 175.866 -5820.04 Q175.866 -5815.02 172.788 -5812.33 Q169.732 -5809.65 164.015 -5809.65 Q158.297 -5809.65 155.218 -5812.33 Q152.163 -5815.02 152.163 -5820.04 Q152.163 -5823.35 154.061 -5825.64 Q155.959 -5827.93 159.339 -5828.72 M157.626 -5836.1 Q157.626 -5833.42 159.292 -5831.91 Q160.982 -5830.41 164.015 -5830.41 Q167.024 -5830.41 168.714 -5831.91 Q170.427 -5833.42 170.427 -5836.1 Q170.427 -5838.79 168.714 -5840.29 Q167.024 -5841.8 164.015 -5841.8 Q160.982 -5841.8 159.292 -5840.29 Q157.626 -5838.79 157.626 -5836.1 Z\" fill=\"#000000\" fill-rule=\"evenodd\" fill-opacity=\"1\" /><path clip-path=\"url(#clip400)\" d=\"M 0 0 M195.102 -5828.95 Q198.459 -5828.23 200.334 -5825.96 Q202.232 -5823.7 202.232 -5820.36 Q202.232 -5815.25 198.713 -5812.45 Q195.195 -5809.65 188.714 -5809.65 Q186.538 -5809.65 184.223 -5810.08 Q181.931 -5810.5 179.477 -5811.36 L179.477 -5815.87 Q181.422 -5814.74 183.737 -5814.16 Q186.052 -5813.58 188.575 -5813.58 Q192.973 -5813.58 195.264 -5815.32 Q197.579 -5817.05 197.579 -5820.36 Q197.579 -5823.42 195.426 -5825.13 Q193.297 -5826.87 189.477 -5826.87 L185.45 -5826.87 L185.45 -5830.71 L189.663 -5830.71 Q193.112 -5830.71 194.94 -5832.08 Q196.769 -5833.46 196.769 -5836.06 Q196.769 -5838.72 194.871 -5840.13 Q192.996 -5841.57 189.477 -5841.57 Q187.556 -5841.57 185.357 -5841.15 Q183.158 -5840.73 180.519 -5839.85 L180.519 -5844.02 Q183.181 -5844.76 185.496 -5845.13 Q187.834 -5845.5 189.894 -5845.5 Q195.218 -5845.5 198.32 -5843.07 Q201.422 -5840.66 201.422 -5836.54 Q201.422 -5833.67 199.778 -5831.68 Q198.135 -5829.71 195.102 -5828.95 Z\" fill=\"#000000\" fill-rule=\"evenodd\" fill-opacity=\"1\" /><path clip-path=\"url(#clip400)\" d=\"M 0 0 M203.945 -5836.24 L228.783 -5836.24 L228.783 -5831.98 L225.519 -5831.98 L225.519 -5816.06 Q225.519 -5814.39 226.074 -5813.65 Q226.653 -5812.93 227.926 -5812.93 Q228.273 -5812.93 228.783 -5812.98 Q229.292 -5813.05 229.454 -5813.07 L229.454 -5809.99 Q228.644 -5809.69 227.787 -5809.55 Q226.931 -5809.41 226.074 -5809.41 Q223.297 -5809.41 222.232 -5810.92 Q221.167 -5812.45 221.167 -5816.52 L221.167 -5831.98 L211.607 -5831.98 L211.607 -5810.32 L207.255 -5810.32 L207.255 -5831.98 L203.945 -5831.98 L203.945 -5836.24 Z\" fill=\"#000000\" fill-rule=\"evenodd\" fill-opacity=\"1\" /><path clip-path=\"url(#clip400)\" d=\"M 0 0 M127.904 -6025.46 L135.543 -6025.46 L135.543 -6051.82 L127.232 -6050.16 L127.232 -6054.42 L135.496 -6056.08 L140.172 -6056.08 L140.172 -6025.46 L147.811 -6025.46 L147.811 -6021.52 L127.904 -6021.52 L127.904 -6025.46 Z\" fill=\"#000000\" fill-rule=\"evenodd\" fill-opacity=\"1\" /><path clip-path=\"url(#clip400)\" d=\"M 0 0 M162.88 -6037.93 Q159.547 -6037.93 157.626 -6036.15 Q155.728 -6034.37 155.728 -6031.24 Q155.728 -6028.12 157.626 -6026.34 Q159.547 -6024.56 162.88 -6024.56 Q166.214 -6024.56 168.135 -6026.34 Q170.056 -6028.14 170.056 -6031.24 Q170.056 -6034.37 168.135 -6036.15 Q166.237 -6037.93 162.88 -6037.93 M158.204 -6039.93 Q155.195 -6040.67 153.505 -6042.73 Q151.839 -6044.79 151.839 -6047.75 Q151.839 -6051.89 154.779 -6054.3 Q157.741 -6056.71 162.88 -6056.71 Q168.042 -6056.71 170.982 -6054.3 Q173.922 -6051.89 173.922 -6047.75 Q173.922 -6044.79 172.232 -6042.73 Q170.565 -6040.67 167.579 -6039.93 Q170.959 -6039.14 172.834 -6036.85 Q174.732 -6034.56 174.732 -6031.24 Q174.732 -6026.22 171.653 -6023.54 Q168.598 -6020.85 162.88 -6020.85 Q157.163 -6020.85 154.084 -6023.54 Q151.029 -6026.22 151.029 -6031.24 Q151.029 -6034.56 152.927 -6036.85 Q154.825 -6039.14 158.204 -6039.93 M156.491 -6047.31 Q156.491 -6044.62 158.158 -6043.12 Q159.848 -6041.62 162.88 -6041.62 Q165.89 -6041.62 167.579 -6043.12 Q169.292 -6044.62 169.292 -6047.31 Q169.292 -6049.99 167.579 -6051.5 Q165.89 -6053 162.88 -6053 Q159.848 -6053 158.158 -6051.5 Q156.491 -6049.99 156.491 -6047.31 Z\" fill=\"#000000\" fill-rule=\"evenodd\" fill-opacity=\"1\" /><path clip-path=\"url(#clip400)\" d=\"M 0 0 M192.649 -6052.01 L180.843 -6033.56 L192.649 -6033.56 L192.649 -6052.01 M191.422 -6056.08 L197.301 -6056.08 L197.301 -6033.56 L202.232 -6033.56 L202.232 -6029.67 L197.301 -6029.67 L197.301 -6021.52 L192.649 -6021.52 L192.649 -6029.67 L177.047 -6029.67 L177.047 -6034.18 L191.422 -6056.08 Z\" fill=\"#000000\" fill-rule=\"evenodd\" fill-opacity=\"1\" /><path clip-path=\"url(#clip400)\" d=\"M 0 0 M203.945 -6047.45 L228.783 -6047.45 L228.783 -6043.19 L225.519 -6043.19 L225.519 -6027.26 Q225.519 -6025.6 226.074 -6024.86 Q226.653 -6024.14 227.926 -6024.14 Q228.273 -6024.14 228.783 -6024.18 Q229.292 -6024.25 229.454 -6024.28 L229.454 -6021.2 Q228.644 -6020.9 227.787 -6020.76 Q226.931 -6020.62 226.074 -6020.62 Q223.297 -6020.62 222.232 -6022.12 Q221.167 -6023.65 221.167 -6027.73 L221.167 -6043.19 L211.607 -6043.19 L211.607 -6021.52 L207.255 -6021.52 L207.255 -6043.19 L203.945 -6043.19 L203.945 -6047.45 Z\" fill=\"#000000\" fill-rule=\"evenodd\" fill-opacity=\"1\" /><path clip-path=\"url(#clip400)\" d=\"M 0 0 M129.385 -6236.66 L137.024 -6236.66 L137.024 -6263.03 L128.714 -6261.36 L128.714 -6265.62 L136.978 -6267.29 L141.654 -6267.29 L141.654 -6236.66 L149.292 -6236.66 L149.292 -6232.73 L129.385 -6232.73 L129.385 -6236.66 Z\" fill=\"#000000\" fill-rule=\"evenodd\" fill-opacity=\"1\" /><path clip-path=\"url(#clip400)\" d=\"M 0 0 M164.362 -6249.14 Q161.028 -6249.14 159.107 -6247.36 Q157.209 -6245.58 157.209 -6242.45 Q157.209 -6239.33 159.107 -6237.54 Q161.028 -6235.76 164.362 -6235.76 Q167.695 -6235.76 169.616 -6237.54 Q171.538 -6239.35 171.538 -6242.45 Q171.538 -6245.58 169.616 -6247.36 Q167.718 -6249.14 164.362 -6249.14 M159.686 -6251.13 Q156.677 -6251.87 154.987 -6253.93 Q153.32 -6255.99 153.32 -6258.96 Q153.32 -6263.1 156.26 -6265.51 Q159.223 -6267.91 164.362 -6267.91 Q169.524 -6267.91 172.464 -6265.51 Q175.403 -6263.1 175.403 -6258.96 Q175.403 -6255.99 173.714 -6253.93 Q172.047 -6251.87 169.061 -6251.13 Q172.44 -6250.34 174.315 -6248.05 Q176.214 -6245.76 176.214 -6242.45 Q176.214 -6237.43 173.135 -6234.74 Q170.079 -6232.06 164.362 -6232.06 Q158.644 -6232.06 155.566 -6234.74 Q152.51 -6237.43 152.51 -6242.45 Q152.51 -6245.76 154.408 -6248.05 Q156.306 -6250.34 159.686 -6251.13 M157.973 -6258.52 Q157.973 -6255.83 159.64 -6254.33 Q161.329 -6252.82 164.362 -6252.82 Q167.371 -6252.82 169.061 -6254.33 Q170.774 -6255.83 170.774 -6258.52 Q170.774 -6261.2 169.061 -6262.71 Q167.371 -6264.21 164.362 -6264.21 Q161.329 -6264.21 159.64 -6262.71 Q157.973 -6261.2 157.973 -6258.52 Z\" fill=\"#000000\" fill-rule=\"evenodd\" fill-opacity=\"1\" /><path clip-path=\"url(#clip400)\" d=\"M 0 0 M181.329 -6267.29 L199.686 -6267.29 L199.686 -6263.35 L185.612 -6263.35 L185.612 -6254.88 Q186.63 -6255.23 187.649 -6255.39 Q188.667 -6255.58 189.686 -6255.58 Q195.473 -6255.58 198.852 -6252.41 Q202.232 -6249.23 202.232 -6243.82 Q202.232 -6238.24 198.76 -6235.14 Q195.288 -6232.06 188.968 -6232.06 Q186.792 -6232.06 184.524 -6232.43 Q182.278 -6232.8 179.871 -6233.54 L179.871 -6238.24 Q181.954 -6237.1 184.177 -6236.55 Q186.399 -6235.99 188.876 -6235.99 Q192.88 -6235.99 195.218 -6238.1 Q197.556 -6240.21 197.556 -6243.82 Q197.556 -6247.43 195.218 -6249.53 Q192.88 -6251.64 188.876 -6251.64 Q187.001 -6251.64 185.126 -6251.22 Q183.274 -6250.81 181.329 -6249.93 L181.329 -6267.29 Z\" fill=\"#000000\" fill-rule=\"evenodd\" fill-opacity=\"1\" /><path clip-path=\"url(#clip400)\" d=\"M 0 0 M203.945 -6258.66 L228.783 -6258.66 L228.783 -6254.4 L225.519 -6254.4 L225.519 -6238.47 Q225.519 -6236.8 226.074 -6236.06 Q226.653 -6235.35 227.926 -6235.35 Q228.273 -6235.35 228.783 -6235.39 Q229.292 -6235.46 229.454 -6235.48 L229.454 -6232.41 Q228.644 -6232.1 227.787 -6231.97 Q226.931 -6231.83 226.074 -6231.83 Q223.297 -6231.83 222.232 -6233.33 Q221.167 -6234.86 221.167 -6238.93 L221.167 -6254.4 L211.607 -6254.4 L211.607 -6232.73 L207.255 -6232.73 L207.255 -6254.4 L203.945 -6254.4 L203.945 -6258.66 Z\" fill=\"#000000\" fill-rule=\"evenodd\" fill-opacity=\"1\" /><path clip-path=\"url(#clip400)\" d=\"M 0 0 M128.228 -6447.87 L135.867 -6447.87 L135.867 -6474.24 L127.556 -6472.57 L127.556 -6476.83 L135.82 -6478.5 L140.496 -6478.5 L140.496 -6447.87 L148.135 -6447.87 L148.135 -6443.94 L128.228 -6443.94 L128.228 -6447.87 Z\" fill=\"#000000\" fill-rule=\"evenodd\" fill-opacity=\"1\" /><path clip-path=\"url(#clip400)\" d=\"M 0 0 M163.204 -6460.35 Q159.871 -6460.35 157.95 -6458.57 Q156.052 -6456.78 156.052 -6453.66 Q156.052 -6450.53 157.95 -6448.75 Q159.871 -6446.97 163.204 -6446.97 Q166.538 -6446.97 168.459 -6448.75 Q170.38 -6450.56 170.38 -6453.66 Q170.38 -6456.78 168.459 -6458.57 Q166.561 -6460.35 163.204 -6460.35 M158.529 -6462.34 Q155.519 -6463.08 153.829 -6465.14 Q152.163 -6467.2 152.163 -6470.16 Q152.163 -6474.31 155.103 -6476.71 Q158.066 -6479.12 163.204 -6479.12 Q168.366 -6479.12 171.306 -6476.71 Q174.246 -6474.31 174.246 -6470.16 Q174.246 -6467.2 172.556 -6465.14 Q170.89 -6463.08 167.903 -6462.34 Q171.283 -6461.55 173.158 -6459.26 Q175.056 -6456.97 175.056 -6453.66 Q175.056 -6448.63 171.978 -6445.95 Q168.922 -6443.26 163.204 -6443.26 Q157.487 -6443.26 154.408 -6445.95 Q151.353 -6448.63 151.353 -6453.66 Q151.353 -6456.97 153.251 -6459.26 Q155.149 -6461.55 158.529 -6462.34 M156.816 -6469.72 Q156.816 -6467.04 158.482 -6465.53 Q160.172 -6464.03 163.204 -6464.03 Q166.214 -6464.03 167.903 -6465.53 Q169.616 -6467.04 169.616 -6469.72 Q169.616 -6472.41 167.903 -6473.91 Q166.214 -6475.42 163.204 -6475.42 Q160.172 -6475.42 158.482 -6473.91 Q156.816 -6472.41 156.816 -6469.72 Z\" fill=\"#000000\" fill-rule=\"evenodd\" fill-opacity=\"1\" /><path clip-path=\"url(#clip400)\" d=\"M 0 0 M190.704 -6463.08 Q187.556 -6463.08 185.704 -6460.93 Q183.876 -6458.77 183.876 -6455.02 Q183.876 -6451.3 185.704 -6449.12 Q187.556 -6446.97 190.704 -6446.97 Q193.852 -6446.97 195.681 -6449.12 Q197.533 -6451.3 197.533 -6455.02 Q197.533 -6458.77 195.681 -6460.93 Q193.852 -6463.08 190.704 -6463.08 M199.987 -6477.73 L199.987 -6473.47 Q198.227 -6474.31 196.422 -6474.75 Q194.639 -6475.19 192.88 -6475.19 Q188.251 -6475.19 185.797 -6472.06 Q183.366 -6468.94 183.019 -6462.62 Q184.385 -6464.63 186.445 -6465.69 Q188.505 -6466.78 190.982 -6466.78 Q196.19 -6466.78 199.2 -6463.61 Q202.232 -6460.46 202.232 -6455.02 Q202.232 -6449.7 199.084 -6446.48 Q195.936 -6443.26 190.704 -6443.26 Q184.709 -6443.26 181.538 -6447.85 Q178.366 -6452.45 178.366 -6461.18 Q178.366 -6469.38 182.255 -6474.24 Q186.144 -6479.12 192.695 -6479.12 Q194.454 -6479.12 196.237 -6478.77 Q198.042 -6478.43 199.987 -6477.73 Z\" fill=\"#000000\" fill-rule=\"evenodd\" fill-opacity=\"1\" /><path clip-path=\"url(#clip400)\" d=\"M 0 0 M203.945 -6469.86 L228.783 -6469.86 L228.783 -6465.6 L225.519 -6465.6 L225.519 -6449.68 Q225.519 -6448.01 226.074 -6447.27 Q226.653 -6446.55 227.926 -6446.55 Q228.273 -6446.55 228.783 -6446.6 Q229.292 -6446.67 229.454 -6446.69 L229.454 -6443.61 Q228.644 -6443.31 227.787 -6443.17 Q226.931 -6443.03 226.074 -6443.03 Q223.297 -6443.03 222.232 -6444.54 Q221.167 -6446.07 221.167 -6450.14 L221.167 -6465.6 L211.607 -6465.6 L211.607 -6443.94 L207.255 -6443.94 L207.255 -6465.6 L203.945 -6465.6 L203.945 -6469.86 Z\" fill=\"#000000\" fill-rule=\"evenodd\" fill-opacity=\"1\" /><path clip-path=\"url(#clip400)\" d=\"M 0 0 M129.293 -6659.08 L136.931 -6659.08 L136.931 -6685.44 L128.621 -6683.78 L128.621 -6688.04 L136.885 -6689.7 L141.561 -6689.7 L141.561 -6659.08 L149.2 -6659.08 L149.2 -6655.14 L129.293 -6655.14 L129.293 -6659.08 Z\" fill=\"#000000\" fill-rule=\"evenodd\" fill-opacity=\"1\" /><path clip-path=\"url(#clip400)\" d=\"M 0 0 M164.269 -6671.55 Q160.936 -6671.55 159.015 -6669.77 Q157.116 -6667.99 157.116 -6664.86 Q157.116 -6661.74 159.015 -6659.96 Q160.936 -6658.17 164.269 -6658.17 Q167.603 -6658.17 169.524 -6659.96 Q171.445 -6661.76 171.445 -6664.86 Q171.445 -6667.99 169.524 -6669.77 Q167.626 -6671.55 164.269 -6671.55 M159.593 -6673.54 Q156.584 -6674.29 154.894 -6676.35 Q153.228 -6678.41 153.228 -6681.37 Q153.228 -6685.51 156.167 -6687.92 Q159.13 -6690.33 164.269 -6690.33 Q169.431 -6690.33 172.371 -6687.92 Q175.311 -6685.51 175.311 -6681.37 Q175.311 -6678.41 173.621 -6676.35 Q171.954 -6674.29 168.968 -6673.54 Q172.348 -6672.76 174.223 -6670.47 Q176.121 -6668.17 176.121 -6664.86 Q176.121 -6659.84 173.042 -6657.16 Q169.987 -6654.47 164.269 -6654.47 Q158.552 -6654.47 155.473 -6657.16 Q152.417 -6659.84 152.417 -6664.86 Q152.417 -6668.17 154.316 -6670.47 Q156.214 -6672.76 159.593 -6673.54 M157.88 -6680.93 Q157.88 -6678.24 159.547 -6676.74 Q161.237 -6675.23 164.269 -6675.23 Q167.278 -6675.23 168.968 -6676.74 Q170.681 -6678.24 170.681 -6680.93 Q170.681 -6683.61 168.968 -6685.12 Q167.278 -6686.62 164.269 -6686.62 Q161.237 -6686.62 159.547 -6685.12 Q157.88 -6683.61 157.88 -6680.93 Z\" fill=\"#000000\" fill-rule=\"evenodd\" fill-opacity=\"1\" /><path clip-path=\"url(#clip400)\" d=\"M 0 0 M180.01 -6689.7 L202.232 -6689.7 L202.232 -6687.71 L189.686 -6655.14 L184.802 -6655.14 L196.607 -6685.77 L180.01 -6685.77 L180.01 -6689.7 Z\" fill=\"#000000\" fill-rule=\"evenodd\" fill-opacity=\"1\" /><path clip-path=\"url(#clip400)\" d=\"M 0 0 M203.945 -6681.07 L228.783 -6681.07 L228.783 -6676.81 L225.519 -6676.81 L225.519 -6660.88 Q225.519 -6659.22 226.074 -6658.48 Q226.653 -6657.76 227.926 -6657.76 Q228.273 -6657.76 228.783 -6657.8 Q229.292 -6657.87 229.454 -6657.9 L229.454 -6654.82 Q228.644 -6654.52 227.787 -6654.38 Q226.931 -6654.24 226.074 -6654.24 Q223.297 -6654.24 222.232 -6655.74 Q221.167 -6657.27 221.167 -6661.35 L221.167 -6676.81 L211.607 -6676.81 L211.607 -6655.14 L207.255 -6655.14 L207.255 -6676.81 L203.945 -6676.81 L203.945 -6681.07 Z\" fill=\"#000000\" fill-rule=\"evenodd\" fill-opacity=\"1\" /><path clip-path=\"url(#clip400)\" d=\"M 0 0 M128.482 -6870.28 L136.121 -6870.28 L136.121 -6896.65 L127.811 -6894.98 L127.811 -6899.24 L136.075 -6900.91 L140.751 -6900.91 L140.751 -6870.28 L148.39 -6870.28 L148.39 -6866.35 L128.482 -6866.35 L128.482 -6870.28 Z\" fill=\"#000000\" fill-rule=\"evenodd\" fill-opacity=\"1\" /><path clip-path=\"url(#clip400)\" d=\"M 0 0 M163.459 -6882.76 Q160.126 -6882.76 158.204 -6880.98 Q156.306 -6879.2 156.306 -6876.07 Q156.306 -6872.95 158.204 -6871.16 Q160.126 -6869.38 163.459 -6869.38 Q166.792 -6869.38 168.714 -6871.16 Q170.635 -6872.97 170.635 -6876.07 Q170.635 -6879.2 168.714 -6880.98 Q166.815 -6882.76 163.459 -6882.76 M158.783 -6884.75 Q155.774 -6885.49 154.084 -6887.55 Q152.417 -6889.61 152.417 -6892.58 Q152.417 -6896.72 155.357 -6899.13 Q158.32 -6901.53 163.459 -6901.53 Q168.621 -6901.53 171.561 -6899.13 Q174.501 -6896.72 174.501 -6892.58 Q174.501 -6889.61 172.811 -6887.55 Q171.144 -6885.49 168.158 -6884.75 Q171.538 -6883.96 173.413 -6881.67 Q175.311 -6879.38 175.311 -6876.07 Q175.311 -6871.05 172.232 -6868.36 Q169.177 -6865.68 163.459 -6865.68 Q157.741 -6865.68 154.663 -6868.36 Q151.607 -6871.05 151.607 -6876.07 Q151.607 -6879.38 153.505 -6881.67 Q155.404 -6883.96 158.783 -6884.75 M157.07 -6892.14 Q157.07 -6889.45 158.737 -6887.95 Q160.427 -6886.44 163.459 -6886.44 Q166.468 -6886.44 168.158 -6887.95 Q169.871 -6889.45 169.871 -6892.14 Q169.871 -6894.82 168.158 -6896.33 Q166.468 -6897.83 163.459 -6897.83 Q160.427 -6897.83 158.737 -6896.33 Q157.07 -6894.82 157.07 -6892.14 Z\" fill=\"#000000\" fill-rule=\"evenodd\" fill-opacity=\"1\" /><path clip-path=\"url(#clip400)\" d=\"M 0 0 M190.38 -6882.76 Q187.047 -6882.76 185.126 -6880.98 Q183.227 -6879.2 183.227 -6876.07 Q183.227 -6872.95 185.126 -6871.16 Q187.047 -6869.38 190.38 -6869.38 Q193.713 -6869.38 195.635 -6871.16 Q197.556 -6872.97 197.556 -6876.07 Q197.556 -6879.2 195.635 -6880.98 Q193.737 -6882.76 190.38 -6882.76 M185.704 -6884.75 Q182.695 -6885.49 181.005 -6887.55 Q179.339 -6889.61 179.339 -6892.58 Q179.339 -6896.72 182.278 -6899.13 Q185.241 -6901.53 190.38 -6901.53 Q195.542 -6901.53 198.482 -6899.13 Q201.422 -6896.72 201.422 -6892.58 Q201.422 -6889.61 199.732 -6887.55 Q198.065 -6885.49 195.079 -6884.75 Q198.459 -6883.96 200.334 -6881.67 Q202.232 -6879.38 202.232 -6876.07 Q202.232 -6871.05 199.153 -6868.36 Q196.098 -6865.68 190.38 -6865.68 Q184.663 -6865.68 181.584 -6868.36 Q178.528 -6871.05 178.528 -6876.07 Q178.528 -6879.38 180.427 -6881.67 Q182.325 -6883.96 185.704 -6884.75 M183.991 -6892.14 Q183.991 -6889.45 185.658 -6887.95 Q187.348 -6886.44 190.38 -6886.44 Q193.389 -6886.44 195.079 -6887.95 Q196.792 -6889.45 196.792 -6892.14 Q196.792 -6894.82 195.079 -6896.33 Q193.389 -6897.83 190.38 -6897.83 Q187.348 -6897.83 185.658 -6896.33 Q183.991 -6894.82 183.991 -6892.14 Z\" fill=\"#000000\" fill-rule=\"evenodd\" fill-opacity=\"1\" /><path clip-path=\"url(#clip400)\" d=\"M 0 0 M203.945 -6892.27 L228.783 -6892.27 L228.783 -6888.02 L225.519 -6888.02 L225.519 -6872.09 Q225.519 -6870.42 226.074 -6869.68 Q226.653 -6868.96 227.926 -6868.96 Q228.273 -6868.96 228.783 -6869.01 Q229.292 -6869.08 229.454 -6869.1 L229.454 -6866.02 Q228.644 -6865.72 227.787 -6865.58 Q226.931 -6865.45 226.074 -6865.45 Q223.297 -6865.45 222.232 -6866.95 Q221.167 -6868.48 221.167 -6872.55 L221.167 -6888.02 L211.607 -6888.02 L211.607 -6866.35 L207.255 -6866.35 L207.255 -6888.02 L203.945 -6888.02 L203.945 -6892.27 Z\" fill=\"#000000\" fill-rule=\"evenodd\" fill-opacity=\"1\" /><path clip-path=\"url(#clip400)\" d=\"M 0 0 M128.575 -7081.49 L136.214 -7081.49 L136.214 -7107.86 L127.904 -7106.19 L127.904 -7110.45 L136.168 -7112.12 L140.843 -7112.12 L140.843 -7081.49 L148.482 -7081.49 L148.482 -7077.56 L128.575 -7077.56 L128.575 -7081.49 Z\" fill=\"#000000\" fill-rule=\"evenodd\" fill-opacity=\"1\" /><path clip-path=\"url(#clip400)\" d=\"M 0 0 M163.552 -7093.97 Q160.218 -7093.97 158.297 -7092.18 Q156.399 -7090.4 156.399 -7087.28 Q156.399 -7084.15 158.297 -7082.37 Q160.218 -7080.59 163.552 -7080.59 Q166.885 -7080.59 168.806 -7082.37 Q170.728 -7084.18 170.728 -7087.28 Q170.728 -7090.4 168.806 -7092.18 Q166.908 -7093.97 163.552 -7093.97 M158.876 -7095.96 Q155.866 -7096.7 154.177 -7098.76 Q152.51 -7100.82 152.51 -7103.78 Q152.51 -7107.93 155.45 -7110.33 Q158.413 -7112.74 163.552 -7112.74 Q168.714 -7112.74 171.653 -7110.33 Q174.593 -7107.93 174.593 -7103.78 Q174.593 -7100.82 172.903 -7098.76 Q171.237 -7096.7 168.251 -7095.96 Q171.63 -7095.17 173.505 -7092.88 Q175.403 -7090.59 175.403 -7087.28 Q175.403 -7082.25 172.325 -7079.57 Q169.269 -7076.88 163.552 -7076.88 Q157.834 -7076.88 154.755 -7079.57 Q151.7 -7082.25 151.7 -7087.28 Q151.7 -7090.59 153.598 -7092.88 Q155.496 -7095.17 158.876 -7095.96 M157.163 -7103.34 Q157.163 -7100.66 158.829 -7099.15 Q160.519 -7097.65 163.552 -7097.65 Q166.561 -7097.65 168.251 -7099.15 Q169.964 -7100.66 169.964 -7103.34 Q169.964 -7106.03 168.251 -7107.53 Q166.561 -7109.04 163.552 -7109.04 Q160.519 -7109.04 158.829 -7107.53 Q157.163 -7106.03 157.163 -7103.34 Z\" fill=\"#000000\" fill-rule=\"evenodd\" fill-opacity=\"1\" /><path clip-path=\"url(#clip400)\" d=\"M 0 0 M180.612 -7078.27 L180.612 -7082.53 Q182.371 -7081.7 184.177 -7081.26 Q185.982 -7080.82 187.718 -7080.82 Q192.348 -7080.82 194.778 -7083.92 Q197.232 -7087.05 197.579 -7093.39 Q196.237 -7091.4 194.176 -7090.33 Q192.116 -7089.27 189.616 -7089.27 Q184.431 -7089.27 181.399 -7092.39 Q178.39 -7095.54 178.39 -7100.98 Q178.39 -7106.31 181.538 -7109.52 Q184.686 -7112.74 189.917 -7112.74 Q195.913 -7112.74 199.061 -7108.13 Q202.232 -7103.55 202.232 -7094.8 Q202.232 -7086.63 198.343 -7081.75 Q194.477 -7076.88 187.926 -7076.88 Q186.167 -7076.88 184.362 -7077.23 Q182.556 -7077.58 180.612 -7078.27 M189.917 -7092.93 Q193.065 -7092.93 194.894 -7095.08 Q196.746 -7097.23 196.746 -7100.98 Q196.746 -7104.71 194.894 -7106.86 Q193.065 -7109.04 189.917 -7109.04 Q186.769 -7109.04 184.917 -7106.86 Q183.089 -7104.71 183.089 -7100.98 Q183.089 -7097.23 184.917 -7095.08 Q186.769 -7092.93 189.917 -7092.93 Z\" fill=\"#000000\" fill-rule=\"evenodd\" fill-opacity=\"1\" /><path clip-path=\"url(#clip400)\" d=\"M 0 0 M203.945 -7103.48 L228.783 -7103.48 L228.783 -7099.22 L225.519 -7099.22 L225.519 -7083.3 Q225.519 -7081.63 226.074 -7080.89 Q226.653 -7080.17 227.926 -7080.17 Q228.273 -7080.17 228.783 -7080.22 Q229.292 -7080.29 229.454 -7080.31 L229.454 -7077.23 Q228.644 -7076.93 227.787 -7076.79 Q226.931 -7076.65 226.074 -7076.65 Q223.297 -7076.65 222.232 -7078.16 Q221.167 -7079.68 221.167 -7083.76 L221.167 -7099.22 L211.607 -7099.22 L211.607 -7077.56 L207.255 -7077.56 L207.255 -7099.22 L203.945 -7099.22 L203.945 -7103.48 Z\" fill=\"#000000\" fill-rule=\"evenodd\" fill-opacity=\"1\" /><path clip-path=\"url(#clip400)\" d=\"M 0 0 M128.482 -7292.7 L136.121 -7292.7 L136.121 -7319.06 L127.811 -7317.4 L127.811 -7321.66 L136.075 -7323.32 L140.751 -7323.32 L140.751 -7292.7 L148.39 -7292.7 L148.39 -7288.76 L128.482 -7288.76 L128.482 -7292.7 Z\" fill=\"#000000\" fill-rule=\"evenodd\" fill-opacity=\"1\" /><path clip-path=\"url(#clip400)\" d=\"M 0 0 M153.598 -7289.48 L153.598 -7293.74 Q155.357 -7292.91 157.163 -7292.47 Q158.968 -7292.03 160.704 -7292.03 Q165.334 -7292.03 167.765 -7295.13 Q170.218 -7298.25 170.565 -7304.6 Q169.223 -7302.6 167.163 -7301.54 Q165.103 -7300.47 162.603 -7300.47 Q157.417 -7300.47 154.385 -7303.6 Q151.376 -7306.75 151.376 -7312.19 Q151.376 -7317.51 154.524 -7320.73 Q157.672 -7323.95 162.903 -7323.95 Q168.899 -7323.95 172.047 -7319.34 Q175.218 -7314.76 175.218 -7306.01 Q175.218 -7297.84 171.329 -7292.95 Q167.464 -7288.09 160.913 -7288.09 Q159.153 -7288.09 157.348 -7288.44 Q155.542 -7288.78 153.598 -7289.48 M162.903 -7304.13 Q166.052 -7304.13 167.88 -7306.28 Q169.732 -7308.44 169.732 -7312.19 Q169.732 -7315.91 167.88 -7318.07 Q166.052 -7320.24 162.903 -7320.24 Q159.755 -7320.24 157.904 -7318.07 Q156.075 -7315.91 156.075 -7312.19 Q156.075 -7308.44 157.904 -7306.28 Q159.755 -7304.13 162.903 -7304.13 Z\" fill=\"#000000\" fill-rule=\"evenodd\" fill-opacity=\"1\" /><path clip-path=\"url(#clip400)\" d=\"M 0 0 M190.288 -7320.24 Q186.677 -7320.24 184.848 -7316.68 Q183.042 -7313.14 183.042 -7306.01 Q183.042 -7298.9 184.848 -7295.34 Q186.677 -7291.79 190.288 -7291.79 Q193.922 -7291.79 195.727 -7295.34 Q197.556 -7298.9 197.556 -7306.01 Q197.556 -7313.14 195.727 -7316.68 Q193.922 -7320.24 190.288 -7320.24 M190.288 -7323.95 Q196.098 -7323.95 199.153 -7319.34 Q202.232 -7314.76 202.232 -7306.01 Q202.232 -7297.28 199.153 -7292.67 Q196.098 -7288.09 190.288 -7288.09 Q184.477 -7288.09 181.399 -7292.67 Q178.343 -7297.28 178.343 -7306.01 Q178.343 -7314.76 181.399 -7319.34 Q184.477 -7323.95 190.288 -7323.95 Z\" fill=\"#000000\" fill-rule=\"evenodd\" fill-opacity=\"1\" /><path clip-path=\"url(#clip400)\" d=\"M 0 0 M203.945 -7314.69 L228.783 -7314.69 L228.783 -7310.43 L225.519 -7310.43 L225.519 -7294.5 Q225.519 -7292.84 226.074 -7292.1 Q226.653 -7291.38 227.926 -7291.38 Q228.273 -7291.38 228.783 -7291.42 Q229.292 -7291.49 229.454 -7291.52 L229.454 -7288.44 Q228.644 -7288.14 227.787 -7288 Q226.931 -7287.86 226.074 -7287.86 Q223.297 -7287.86 222.232 -7289.36 Q221.167 -7290.89 221.167 -7294.97 L221.167 -7310.43 L211.607 -7310.43 L211.607 -7288.76 L207.255 -7288.76 L207.255 -7310.43 L203.945 -7310.43 L203.945 -7314.69 Z\" fill=\"#000000\" fill-rule=\"evenodd\" fill-opacity=\"1\" /><path clip-path=\"url(#clip400)\" d=\"M 0 0 M129.709 -7503.9 L137.348 -7503.9 L137.348 -7530.27 L129.038 -7528.6 L129.038 -7532.86 L137.302 -7534.53 L141.978 -7534.53 L141.978 -7503.9 L149.617 -7503.9 L149.617 -7499.97 L129.709 -7499.97 L129.709 -7503.9 Z\" fill=\"#000000\" fill-rule=\"evenodd\" fill-opacity=\"1\" /><path clip-path=\"url(#clip400)\" d=\"M 0 0 M154.825 -7500.69 L154.825 -7504.95 Q156.584 -7504.11 158.39 -7503.67 Q160.195 -7503.23 161.931 -7503.23 Q166.561 -7503.23 168.991 -7506.33 Q171.445 -7509.46 171.792 -7515.8 Q170.45 -7513.81 168.39 -7512.75 Q166.329 -7511.68 163.829 -7511.68 Q158.644 -7511.68 155.612 -7514.81 Q152.603 -7517.95 152.603 -7523.39 Q152.603 -7528.72 155.751 -7531.94 Q158.899 -7535.15 164.13 -7535.15 Q170.126 -7535.15 173.274 -7530.55 Q176.445 -7525.96 176.445 -7517.21 Q176.445 -7509.04 172.556 -7504.16 Q168.69 -7499.3 162.14 -7499.3 Q160.38 -7499.3 158.575 -7499.64 Q156.769 -7499.99 154.825 -7500.69 M164.13 -7515.34 Q167.278 -7515.34 169.107 -7517.49 Q170.959 -7519.64 170.959 -7523.39 Q170.959 -7527.12 169.107 -7529.27 Q167.278 -7531.45 164.13 -7531.45 Q160.982 -7531.45 159.13 -7529.27 Q157.302 -7527.12 157.302 -7523.39 Q157.302 -7519.64 159.13 -7517.49 Q160.982 -7515.34 164.13 -7515.34 Z\" fill=\"#000000\" fill-rule=\"evenodd\" fill-opacity=\"1\" /><path clip-path=\"url(#clip400)\" d=\"M 0 0 M182.325 -7503.9 L189.964 -7503.9 L189.964 -7530.27 L181.653 -7528.6 L181.653 -7532.86 L189.917 -7534.53 L194.593 -7534.53 L194.593 -7503.9 L202.232 -7503.9 L202.232 -7499.97 L182.325 -7499.97 L182.325 -7503.9 Z\" fill=\"#000000\" fill-rule=\"evenodd\" fill-opacity=\"1\" /><path clip-path=\"url(#clip400)\" d=\"M 0 0 M203.945 -7525.89 L228.783 -7525.89 L228.783 -7521.63 L225.519 -7521.63 L225.519 -7505.71 Q225.519 -7504.04 226.074 -7503.3 Q226.653 -7502.58 227.926 -7502.58 Q228.273 -7502.58 228.783 -7502.63 Q229.292 -7502.7 229.454 -7502.72 L229.454 -7499.64 Q228.644 -7499.34 227.787 -7499.2 Q226.931 -7499.07 226.074 -7499.07 Q223.297 -7499.07 222.232 -7500.57 Q221.167 -7502.1 221.167 -7506.17 L221.167 -7521.63 L211.607 -7521.63 L211.607 -7499.97 L207.255 -7499.97 L207.255 -7521.63 L203.945 -7521.63 L203.945 -7525.89 Z\" fill=\"#000000\" fill-rule=\"evenodd\" fill-opacity=\"1\" /><path clip-path=\"url(#clip400)\" d=\"M 0 0 M130.08 -7715.11 L137.718 -7715.11 L137.718 -7741.48 L129.408 -7739.81 L129.408 -7744.07 L137.672 -7745.73 L142.348 -7745.73 L142.348 -7715.11 L149.987 -7715.11 L149.987 -7711.17 L130.08 -7711.17 L130.08 -7715.11 Z\" fill=\"#000000\" fill-rule=\"evenodd\" fill-opacity=\"1\" /><path clip-path=\"url(#clip400)\" d=\"M 0 0 M155.195 -7711.89 L155.195 -7716.15 Q156.954 -7715.32 158.76 -7714.88 Q160.566 -7714.44 162.302 -7714.44 Q166.931 -7714.44 169.362 -7717.54 Q171.815 -7720.67 172.163 -7727.01 Q170.82 -7725.02 168.76 -7723.95 Q166.7 -7722.89 164.2 -7722.89 Q159.015 -7722.89 155.982 -7726.01 Q152.973 -7729.16 152.973 -7734.6 Q152.973 -7739.92 156.121 -7743.14 Q159.269 -7746.36 164.501 -7746.36 Q170.496 -7746.36 173.644 -7741.75 Q176.815 -7737.17 176.815 -7728.42 Q176.815 -7720.25 172.927 -7715.36 Q169.061 -7710.5 162.51 -7710.5 Q160.751 -7710.5 158.945 -7710.85 Q157.14 -7711.2 155.195 -7711.89 M164.501 -7726.55 Q167.649 -7726.55 169.478 -7728.7 Q171.329 -7730.85 171.329 -7734.6 Q171.329 -7738.33 169.478 -7740.48 Q167.649 -7742.66 164.501 -7742.66 Q161.353 -7742.66 159.501 -7740.48 Q157.672 -7738.33 157.672 -7734.6 Q157.672 -7730.85 159.501 -7728.7 Q161.353 -7726.55 164.501 -7726.55 Z\" fill=\"#000000\" fill-rule=\"evenodd\" fill-opacity=\"1\" /><path clip-path=\"url(#clip400)\" d=\"M 0 0 M185.913 -7715.11 L202.232 -7715.11 L202.232 -7711.17 L180.288 -7711.17 L180.288 -7715.11 Q182.95 -7717.86 187.533 -7722.49 Q192.139 -7727.15 193.32 -7728.49 Q195.565 -7731.01 196.445 -7732.75 Q197.348 -7734.51 197.348 -7736.2 Q197.348 -7738.95 195.403 -7740.69 Q193.482 -7742.42 190.38 -7742.42 Q188.181 -7742.42 185.727 -7741.66 Q183.297 -7740.9 180.519 -7739.35 L180.519 -7744.07 Q183.343 -7745.2 185.797 -7745.78 Q188.251 -7746.36 190.288 -7746.36 Q195.658 -7746.36 198.852 -7743.67 Q202.047 -7740.99 202.047 -7736.5 Q202.047 -7734.37 201.237 -7732.45 Q200.45 -7730.55 198.343 -7727.96 Q197.764 -7727.29 194.663 -7724.07 Q191.561 -7720.87 185.913 -7715.11 Z\" fill=\"#000000\" fill-rule=\"evenodd\" fill-opacity=\"1\" /><path clip-path=\"url(#clip400)\" d=\"M 0 0 M203.945 -7737.1 L228.783 -7737.1 L228.783 -7732.84 L225.519 -7732.84 L225.519 -7716.92 Q225.519 -7715.25 226.074 -7714.51 Q226.653 -7713.79 227.926 -7713.79 Q228.273 -7713.79 228.783 -7713.84 Q229.292 -7713.91 229.454 -7713.93 L229.454 -7710.85 Q228.644 -7710.55 227.787 -7710.41 Q226.931 -7710.27 226.074 -7710.27 Q223.297 -7710.27 222.232 -7711.78 Q221.167 -7713.3 221.167 -7717.38 L221.167 -7732.84 L211.607 -7732.84 L211.607 -7711.17 L207.255 -7711.17 L207.255 -7732.84 L203.945 -7732.84 L203.945 -7737.1 Z\" fill=\"#000000\" fill-rule=\"evenodd\" fill-opacity=\"1\" /><path clip-path=\"url(#clip400)\" d=\"M 0 0 M129.131 -7926.32 L136.769 -7926.32 L136.769 -7952.68 L128.459 -7951.02 L128.459 -7955.27 L136.723 -7956.94 L141.399 -7956.94 L141.399 -7926.32 L149.038 -7926.32 L149.038 -7922.38 L129.131 -7922.38 L129.131 -7926.32 Z\" fill=\"#000000\" fill-rule=\"evenodd\" fill-opacity=\"1\" /><path clip-path=\"url(#clip400)\" d=\"M 0 0 M154.246 -7923.1 L154.246 -7927.36 Q156.005 -7926.52 157.811 -7926.08 Q159.616 -7925.65 161.353 -7925.65 Q165.982 -7925.65 168.413 -7928.75 Q170.866 -7931.87 171.214 -7938.21 Q169.871 -7936.22 167.811 -7935.16 Q165.751 -7934.09 163.251 -7934.09 Q158.066 -7934.09 155.033 -7937.22 Q152.024 -7940.37 152.024 -7945.81 Q152.024 -7951.13 155.172 -7954.35 Q158.32 -7957.57 163.552 -7957.57 Q169.547 -7957.57 172.695 -7952.96 Q175.866 -7948.38 175.866 -7939.63 Q175.866 -7931.46 171.978 -7926.57 Q168.112 -7921.71 161.561 -7921.71 Q159.802 -7921.71 157.996 -7922.06 Q156.191 -7922.4 154.246 -7923.1 M163.552 -7937.75 Q166.7 -7937.75 168.528 -7939.9 Q170.38 -7942.06 170.38 -7945.81 Q170.38 -7949.53 168.528 -7951.69 Q166.7 -7953.86 163.552 -7953.86 Q160.403 -7953.86 158.552 -7951.69 Q156.723 -7949.53 156.723 -7945.81 Q156.723 -7942.06 158.552 -7939.9 Q160.403 -7937.75 163.552 -7937.75 Z\" fill=\"#000000\" fill-rule=\"evenodd\" fill-opacity=\"1\" /><path clip-path=\"url(#clip400)\" d=\"M 0 0 M195.102 -7941.02 Q198.459 -7940.3 200.334 -7938.03 Q202.232 -7935.76 202.232 -7932.43 Q202.232 -7927.31 198.713 -7924.51 Q195.195 -7921.71 188.714 -7921.71 Q186.538 -7921.71 184.223 -7922.15 Q181.931 -7922.57 179.477 -7923.42 L179.477 -7927.94 Q181.422 -7926.8 183.737 -7926.22 Q186.052 -7925.65 188.575 -7925.65 Q192.973 -7925.65 195.264 -7927.38 Q197.579 -7929.12 197.579 -7932.43 Q197.579 -7935.48 195.426 -7937.2 Q193.297 -7938.93 189.477 -7938.93 L185.45 -7938.93 L185.45 -7942.77 L189.663 -7942.77 Q193.112 -7942.77 194.94 -7944.14 Q196.769 -7945.53 196.769 -7948.12 Q196.769 -7950.78 194.871 -7952.2 Q192.996 -7953.63 189.477 -7953.63 Q187.556 -7953.63 185.357 -7953.21 Q183.158 -7952.8 180.519 -7951.92 L180.519 -7956.08 Q183.181 -7956.83 185.496 -7957.2 Q187.834 -7957.57 189.894 -7957.57 Q195.218 -7957.57 198.32 -7955.14 Q201.422 -7952.73 201.422 -7948.61 Q201.422 -7945.74 199.778 -7943.75 Q198.135 -7941.78 195.102 -7941.02 Z\" fill=\"#000000\" fill-rule=\"evenodd\" fill-opacity=\"1\" /><path clip-path=\"url(#clip400)\" d=\"M 0 0 M203.945 -7948.31 L228.783 -7948.31 L228.783 -7944.05 L225.519 -7944.05 L225.519 -7928.12 Q225.519 -7926.46 226.074 -7925.71 Q226.653 -7925 227.926 -7925 Q228.273 -7925 228.783 -7925.04 Q229.292 -7925.11 229.454 -7925.14 L229.454 -7922.06 Q228.644 -7921.76 227.787 -7921.62 Q226.931 -7921.48 226.074 -7921.48 Q223.297 -7921.48 222.232 -7922.98 Q221.167 -7924.51 221.167 -7928.58 L221.167 -7944.05 L211.607 -7944.05 L211.607 -7922.38 L207.255 -7922.38 L207.255 -7944.05 L203.945 -7944.05 L203.945 -7948.31 Z\" fill=\"#000000\" fill-rule=\"evenodd\" fill-opacity=\"1\" /><path clip-path=\"url(#clip400)\" d=\"M 0 0 M127.996 -8137.52 L135.635 -8137.52 L135.635 -8163.89 L127.325 -8162.22 L127.325 -8166.48 L135.589 -8168.15 L140.265 -8168.15 L140.265 -8137.52 L147.904 -8137.52 L147.904 -8133.59 L127.996 -8133.59 L127.996 -8137.52 Z\" fill=\"#000000\" fill-rule=\"evenodd\" fill-opacity=\"1\" /><path clip-path=\"url(#clip400)\" d=\"M 0 0 M153.112 -8134.31 L153.112 -8138.56 Q154.871 -8137.73 156.677 -8137.29 Q158.482 -8136.85 160.218 -8136.85 Q164.848 -8136.85 167.278 -8139.95 Q169.732 -8143.08 170.079 -8149.42 Q168.737 -8147.43 166.677 -8146.37 Q164.616 -8145.3 162.116 -8145.3 Q156.931 -8145.3 153.899 -8148.43 Q150.89 -8151.57 150.89 -8157.01 Q150.89 -8162.34 154.038 -8165.56 Q157.186 -8168.77 162.417 -8168.77 Q168.413 -8168.77 171.561 -8164.17 Q174.732 -8159.58 174.732 -8150.83 Q174.732 -8142.66 170.843 -8137.78 Q166.978 -8132.92 160.427 -8132.92 Q158.667 -8132.92 156.862 -8133.26 Q155.056 -8133.61 153.112 -8134.31 M162.417 -8148.96 Q165.566 -8148.96 167.394 -8151.11 Q169.246 -8153.26 169.246 -8157.01 Q169.246 -8160.74 167.394 -8162.89 Q165.566 -8165.07 162.417 -8165.07 Q159.269 -8165.07 157.417 -8162.89 Q155.589 -8160.74 155.589 -8157.01 Q155.589 -8153.26 157.417 -8151.11 Q159.269 -8148.96 162.417 -8148.96 Z\" fill=\"#000000\" fill-rule=\"evenodd\" fill-opacity=\"1\" /><path clip-path=\"url(#clip400)\" d=\"M 0 0 M192.649 -8164.07 L180.843 -8145.62 L192.649 -8145.62 L192.649 -8164.07 M191.422 -8168.15 L197.301 -8168.15 L197.301 -8145.62 L202.232 -8145.62 L202.232 -8141.74 L197.301 -8141.74 L197.301 -8133.59 L192.649 -8133.59 L192.649 -8141.74 L177.047 -8141.74 L177.047 -8146.25 L191.422 -8168.15 Z\" fill=\"#000000\" fill-rule=\"evenodd\" fill-opacity=\"1\" /><path clip-path=\"url(#clip400)\" d=\"M 0 0 M203.945 -8159.51 L228.783 -8159.51 L228.783 -8155.25 L225.519 -8155.25 L225.519 -8139.33 Q225.519 -8137.66 226.074 -8136.92 Q226.653 -8136.2 227.926 -8136.2 Q228.273 -8136.2 228.783 -8136.25 Q229.292 -8136.32 229.454 -8136.34 L229.454 -8133.26 Q228.644 -8132.96 227.787 -8132.82 Q226.931 -8132.69 226.074 -8132.69 Q223.297 -8132.69 222.232 -8134.19 Q221.167 -8135.72 221.167 -8139.79 L221.167 -8155.25 L211.607 -8155.25 L211.607 -8133.59 L207.255 -8133.59 L207.255 -8155.25 L203.945 -8155.25 L203.945 -8159.51 Z\" fill=\"#000000\" fill-rule=\"evenodd\" fill-opacity=\"1\" /><path clip-path=\"url(#clip400)\" d=\"M 0 0 M129.478 -8348.73 L137.117 -8348.73 L137.117 -8375.1 L128.806 -8373.43 L128.806 -8377.69 L137.07 -8379.35 L141.746 -8379.35 L141.746 -8348.73 L149.385 -8348.73 L149.385 -8344.79 L129.478 -8344.79 L129.478 -8348.73 Z\" fill=\"#000000\" fill-rule=\"evenodd\" fill-opacity=\"1\" /><path clip-path=\"url(#clip400)\" d=\"M 0 0 M154.593 -8345.51 L154.593 -8349.77 Q156.353 -8348.94 158.158 -8348.5 Q159.964 -8348.06 161.7 -8348.06 Q166.329 -8348.06 168.76 -8351.16 Q171.214 -8354.28 171.561 -8360.63 Q170.218 -8358.64 168.158 -8357.57 Q166.098 -8356.51 163.598 -8356.51 Q158.413 -8356.51 155.38 -8359.63 Q152.371 -8362.78 152.371 -8368.22 Q152.371 -8373.54 155.519 -8376.76 Q158.667 -8379.98 163.899 -8379.98 Q169.894 -8379.98 173.042 -8375.37 Q176.214 -8370.79 176.214 -8362.04 Q176.214 -8353.87 172.325 -8348.98 Q168.459 -8344.12 161.908 -8344.12 Q160.149 -8344.12 158.343 -8344.47 Q156.538 -8344.82 154.593 -8345.51 M163.899 -8360.16 Q167.047 -8360.16 168.876 -8362.32 Q170.728 -8364.47 170.728 -8368.22 Q170.728 -8371.95 168.876 -8374.1 Q167.047 -8376.28 163.899 -8376.28 Q160.751 -8376.28 158.899 -8374.1 Q157.07 -8371.95 157.07 -8368.22 Q157.07 -8364.47 158.899 -8362.32 Q160.751 -8360.16 163.899 -8360.16 Z\" fill=\"#000000\" fill-rule=\"evenodd\" fill-opacity=\"1\" /><path clip-path=\"url(#clip400)\" d=\"M 0 0 M181.329 -8379.35 L199.686 -8379.35 L199.686 -8375.42 L185.612 -8375.42 L185.612 -8366.95 Q186.63 -8367.29 187.649 -8367.46 Q188.667 -8367.64 189.686 -8367.64 Q195.473 -8367.64 198.852 -8364.47 Q202.232 -8361.3 202.232 -8355.88 Q202.232 -8350.3 198.76 -8347.2 Q195.288 -8344.12 188.968 -8344.12 Q186.792 -8344.12 184.524 -8344.49 Q182.278 -8344.86 179.871 -8345.6 L179.871 -8350.3 Q181.954 -8349.17 184.177 -8348.61 Q186.399 -8348.06 188.876 -8348.06 Q192.88 -8348.06 195.218 -8350.16 Q197.556 -8352.27 197.556 -8355.88 Q197.556 -8359.49 195.218 -8361.6 Q192.88 -8363.71 188.876 -8363.71 Q187.001 -8363.71 185.126 -8363.29 Q183.274 -8362.87 181.329 -8361.99 L181.329 -8379.35 Z\" fill=\"#000000\" fill-rule=\"evenodd\" fill-opacity=\"1\" /><path clip-path=\"url(#clip400)\" d=\"M 0 0 M203.945 -8370.72 L228.783 -8370.72 L228.783 -8366.46 L225.519 -8366.46 L225.519 -8350.53 Q225.519 -8348.87 226.074 -8348.13 Q226.653 -8347.41 227.926 -8347.41 Q228.273 -8347.41 228.783 -8347.46 Q229.292 -8347.53 229.454 -8347.55 L229.454 -8344.47 Q228.644 -8344.17 227.787 -8344.03 Q226.931 -8343.89 226.074 -8343.89 Q223.297 -8343.89 222.232 -8345.4 Q221.167 -8346.92 221.167 -8351 L221.167 -8366.46 L211.607 -8366.46 L211.607 -8344.79 L207.255 -8344.79 L207.255 -8366.46 L203.945 -8366.46 L203.945 -8370.72 Z\" fill=\"#000000\" fill-rule=\"evenodd\" fill-opacity=\"1\" /><path clip-path=\"url(#clip400)\" d=\"M 0 0 M128.32 -8559.94 L135.959 -8559.94 L135.959 -8586.3 L127.649 -8584.63 L127.649 -8588.89 L135.913 -8590.56 L140.589 -8590.56 L140.589 -8559.94 L148.228 -8559.94 L148.228 -8556 L128.32 -8556 L128.32 -8559.94 Z\" fill=\"#000000\" fill-rule=\"evenodd\" fill-opacity=\"1\" /><path clip-path=\"url(#clip400)\" d=\"M 0 0 M153.436 -8556.72 L153.436 -8560.98 Q155.195 -8560.14 157.001 -8559.7 Q158.806 -8559.26 160.542 -8559.26 Q165.172 -8559.26 167.603 -8562.37 Q170.056 -8565.49 170.403 -8571.83 Q169.061 -8569.84 167.001 -8568.78 Q164.941 -8567.71 162.441 -8567.71 Q157.255 -8567.71 154.223 -8570.84 Q151.214 -8573.99 151.214 -8579.43 Q151.214 -8584.75 154.362 -8587.97 Q157.51 -8591.19 162.741 -8591.19 Q168.737 -8591.19 171.885 -8586.58 Q175.056 -8582 175.056 -8573.25 Q175.056 -8565.07 171.167 -8560.19 Q167.302 -8555.33 160.751 -8555.33 Q158.991 -8555.33 157.186 -8555.68 Q155.38 -8556.02 153.436 -8556.72 M162.741 -8571.37 Q165.89 -8571.37 167.718 -8573.52 Q169.57 -8575.68 169.57 -8579.43 Q169.57 -8583.15 167.718 -8585.31 Q165.89 -8587.48 162.741 -8587.48 Q159.593 -8587.48 157.741 -8585.31 Q155.913 -8583.15 155.913 -8579.43 Q155.913 -8575.68 157.741 -8573.52 Q159.593 -8571.37 162.741 -8571.37 Z\" fill=\"#000000\" fill-rule=\"evenodd\" fill-opacity=\"1\" /><path clip-path=\"url(#clip400)\" d=\"M 0 0 M190.704 -8575.14 Q187.556 -8575.14 185.704 -8572.99 Q183.876 -8570.84 183.876 -8567.09 Q183.876 -8563.36 185.704 -8561.19 Q187.556 -8559.03 190.704 -8559.03 Q193.852 -8559.03 195.681 -8561.19 Q197.533 -8563.36 197.533 -8567.09 Q197.533 -8570.84 195.681 -8572.99 Q193.852 -8575.14 190.704 -8575.14 M199.987 -8589.8 L199.987 -8585.54 Q198.227 -8586.37 196.422 -8586.81 Q194.639 -8587.25 192.88 -8587.25 Q188.251 -8587.25 185.797 -8584.13 Q183.366 -8581 183.019 -8574.68 Q184.385 -8576.7 186.445 -8577.76 Q188.505 -8578.85 190.982 -8578.85 Q196.19 -8578.85 199.2 -8575.68 Q202.232 -8572.53 202.232 -8567.09 Q202.232 -8561.76 199.084 -8558.55 Q195.936 -8555.33 190.704 -8555.33 Q184.709 -8555.33 181.538 -8559.91 Q178.366 -8564.52 178.366 -8573.25 Q178.366 -8581.44 182.255 -8586.3 Q186.144 -8591.19 192.695 -8591.19 Q194.454 -8591.19 196.237 -8590.84 Q198.042 -8590.49 199.987 -8589.8 Z\" fill=\"#000000\" fill-rule=\"evenodd\" fill-opacity=\"1\" /><path clip-path=\"url(#clip400)\" d=\"M 0 0 M203.945 -8581.93 L228.783 -8581.93 L228.783 -8577.67 L225.519 -8577.67 L225.519 -8561.74 Q225.519 -8560.07 226.074 -8559.33 Q226.653 -8558.62 227.926 -8558.62 Q228.273 -8558.62 228.783 -8558.66 Q229.292 -8558.73 229.454 -8558.76 L229.454 -8555.68 Q228.644 -8555.38 227.787 -8555.24 Q226.931 -8555.1 226.074 -8555.1 Q223.297 -8555.1 222.232 -8556.6 Q221.167 -8558.13 221.167 -8562.2 L221.167 -8577.67 L211.607 -8577.67 L211.607 -8556 L207.255 -8556 L207.255 -8577.67 L203.945 -8577.67 L203.945 -8581.93 Z\" fill=\"#000000\" fill-rule=\"evenodd\" fill-opacity=\"1\" /><path clip-path=\"url(#clip400)\" d=\"M 0 0 M129.385 -8771.14 L137.024 -8771.14 L137.024 -8797.51 L128.714 -8795.84 L128.714 -8800.1 L136.978 -8801.77 L141.654 -8801.77 L141.654 -8771.14 L149.292 -8771.14 L149.292 -8767.21 L129.385 -8767.21 L129.385 -8771.14 Z\" fill=\"#000000\" fill-rule=\"evenodd\" fill-opacity=\"1\" /><path clip-path=\"url(#clip400)\" d=\"M 0 0 M154.501 -8767.92 L154.501 -8772.18 Q156.26 -8771.35 158.066 -8770.91 Q159.871 -8770.47 161.607 -8770.47 Q166.237 -8770.47 168.667 -8773.57 Q171.121 -8776.7 171.468 -8783.04 Q170.126 -8781.05 168.065 -8779.98 Q166.005 -8778.92 163.505 -8778.92 Q158.32 -8778.92 155.288 -8782.05 Q152.279 -8785.19 152.279 -8790.63 Q152.279 -8795.96 155.427 -8799.17 Q158.575 -8802.39 163.806 -8802.39 Q169.802 -8802.39 172.95 -8797.79 Q176.121 -8793.2 176.121 -8784.45 Q176.121 -8776.28 172.232 -8771.4 Q168.366 -8766.54 161.816 -8766.54 Q160.056 -8766.54 158.251 -8766.88 Q156.445 -8767.23 154.501 -8767.92 M163.806 -8782.58 Q166.954 -8782.58 168.783 -8784.73 Q170.635 -8786.88 170.635 -8790.63 Q170.635 -8794.36 168.783 -8796.51 Q166.954 -8798.69 163.806 -8798.69 Q160.658 -8798.69 158.806 -8796.51 Q156.978 -8794.36 156.978 -8790.63 Q156.978 -8786.88 158.806 -8784.73 Q160.658 -8782.58 163.806 -8782.58 Z\" fill=\"#000000\" fill-rule=\"evenodd\" fill-opacity=\"1\" /><path clip-path=\"url(#clip400)\" d=\"M 0 0 M180.01 -8801.77 L202.232 -8801.77 L202.232 -8799.78 L189.686 -8767.21 L184.802 -8767.21 L196.607 -8797.83 L180.01 -8797.83 L180.01 -8801.77 Z\" fill=\"#000000\" fill-rule=\"evenodd\" fill-opacity=\"1\" /><path clip-path=\"url(#clip400)\" d=\"M 0 0 M203.945 -8793.13 L228.783 -8793.13 L228.783 -8788.87 L225.519 -8788.87 L225.519 -8772.95 Q225.519 -8771.28 226.074 -8770.54 Q226.653 -8769.82 227.926 -8769.82 Q228.273 -8769.82 228.783 -8769.87 Q229.292 -8769.94 229.454 -8769.96 L229.454 -8766.88 Q228.644 -8766.58 227.787 -8766.44 Q226.931 -8766.3 226.074 -8766.3 Q223.297 -8766.3 222.232 -8767.81 Q221.167 -8769.34 221.167 -8773.41 L221.167 -8788.87 L211.607 -8788.87 L211.607 -8767.21 L207.255 -8767.21 L207.255 -8788.87 L203.945 -8788.87 L203.945 -8793.13 Z\" fill=\"#000000\" fill-rule=\"evenodd\" fill-opacity=\"1\" /><path clip-path=\"url(#clip400)\" d=\"M 0 0 M128.575 -8982.35 L136.214 -8982.35 L136.214 -9008.71 L127.904 -9007.05 L127.904 -9011.31 L136.168 -9012.97 L140.843 -9012.97 L140.843 -8982.35 L148.482 -8982.35 L148.482 -8978.41 L128.575 -8978.41 L128.575 -8982.35 Z\" fill=\"#000000\" fill-rule=\"evenodd\" fill-opacity=\"1\" /><path clip-path=\"url(#clip400)\" d=\"M 0 0 M153.691 -8979.13 L153.691 -8983.39 Q155.45 -8982.56 157.255 -8982.12 Q159.061 -8981.68 160.797 -8981.68 Q165.427 -8981.68 167.857 -8984.78 Q170.311 -8987.9 170.658 -8994.25 Q169.315 -8992.26 167.255 -8991.19 Q165.195 -8990.13 162.695 -8990.13 Q157.51 -8990.13 154.478 -8993.25 Q151.468 -8996.4 151.468 -9001.84 Q151.468 -9007.16 154.616 -9010.38 Q157.765 -9013.6 162.996 -9013.6 Q168.991 -9013.6 172.14 -9008.99 Q175.311 -9004.41 175.311 -8995.66 Q175.311 -8987.49 171.422 -8982.6 Q167.556 -8977.74 161.005 -8977.74 Q159.246 -8977.74 157.441 -8978.09 Q155.635 -8978.44 153.691 -8979.13 M162.996 -8993.78 Q166.144 -8993.78 167.973 -8995.94 Q169.825 -8998.09 169.825 -9001.84 Q169.825 -9005.57 167.973 -9007.72 Q166.144 -9009.9 162.996 -9009.9 Q159.848 -9009.9 157.996 -9007.72 Q156.167 -9005.57 156.167 -9001.84 Q156.167 -8998.09 157.996 -8995.94 Q159.848 -8993.78 162.996 -8993.78 Z\" fill=\"#000000\" fill-rule=\"evenodd\" fill-opacity=\"1\" /><path clip-path=\"url(#clip400)\" d=\"M 0 0 M190.38 -8994.83 Q187.047 -8994.83 185.126 -8993.04 Q183.227 -8991.26 183.227 -8988.14 Q183.227 -8985.01 185.126 -8983.23 Q187.047 -8981.45 190.38 -8981.45 Q193.713 -8981.45 195.635 -8983.23 Q197.556 -8985.03 197.556 -8988.14 Q197.556 -8991.26 195.635 -8993.04 Q193.737 -8994.83 190.38 -8994.83 M185.704 -8996.82 Q182.695 -8997.56 181.005 -8999.62 Q179.339 -9001.68 179.339 -9004.64 Q179.339 -9008.78 182.278 -9011.19 Q185.241 -9013.6 190.38 -9013.6 Q195.542 -9013.6 198.482 -9011.19 Q201.422 -9008.78 201.422 -9004.64 Q201.422 -9001.68 199.732 -8999.62 Q198.065 -8997.56 195.079 -8996.82 Q198.459 -8996.03 200.334 -8993.74 Q202.232 -8991.45 202.232 -8988.14 Q202.232 -8983.11 199.153 -8980.43 Q196.098 -8977.74 190.38 -8977.74 Q184.663 -8977.74 181.584 -8980.43 Q178.528 -8983.11 178.528 -8988.14 Q178.528 -8991.45 180.427 -8993.74 Q182.325 -8996.03 185.704 -8996.82 M183.991 -9004.2 Q183.991 -9001.52 185.658 -9000.01 Q187.348 -8998.51 190.38 -8998.51 Q193.389 -8998.51 195.079 -9000.01 Q196.792 -9001.52 196.792 -9004.2 Q196.792 -9006.89 195.079 -9008.39 Q193.389 -9009.9 190.38 -9009.9 Q187.348 -9009.9 185.658 -9008.39 Q183.991 -9006.89 183.991 -9004.2 Z\" fill=\"#000000\" fill-rule=\"evenodd\" fill-opacity=\"1\" /><path clip-path=\"url(#clip400)\" d=\"M 0 0 M203.945 -9004.34 L228.783 -9004.34 L228.783 -9000.08 L225.519 -9000.08 L225.519 -8984.15 Q225.519 -8982.49 226.074 -8981.75 Q226.653 -8981.03 227.926 -8981.03 Q228.273 -8981.03 228.783 -8981.08 Q229.292 -8981.15 229.454 -8981.17 L229.454 -8978.09 Q228.644 -8977.79 227.787 -8977.65 Q226.931 -8977.51 226.074 -8977.51 Q223.297 -8977.51 222.232 -8979.02 Q221.167 -8980.54 221.167 -8984.62 L221.167 -9000.08 L211.607 -9000.08 L211.607 -8978.41 L207.255 -8978.41 L207.255 -9000.08 L203.945 -9000.08 L203.945 -9004.34 Z\" fill=\"#000000\" fill-rule=\"evenodd\" fill-opacity=\"1\" /><path clip-path=\"url(#clip400)\" d=\"M 0 0 M128.668 -9193.56 L136.306 -9193.56 L136.306 -9219.92 L127.996 -9218.25 L127.996 -9222.51 L136.26 -9224.18 L140.936 -9224.18 L140.936 -9193.56 L148.575 -9193.56 L148.575 -9189.62 L128.668 -9189.62 L128.668 -9193.56 Z\" fill=\"#000000\" fill-rule=\"evenodd\" fill-opacity=\"1\" /><path clip-path=\"url(#clip400)\" d=\"M 0 0 M153.783 -9190.34 L153.783 -9194.6 Q155.542 -9193.76 157.348 -9193.32 Q159.153 -9192.88 160.89 -9192.88 Q165.519 -9192.88 167.95 -9195.99 Q170.403 -9199.11 170.751 -9205.45 Q169.408 -9203.46 167.348 -9202.4 Q165.288 -9201.33 162.788 -9201.33 Q157.603 -9201.33 154.57 -9204.46 Q151.561 -9207.61 151.561 -9213.05 Q151.561 -9218.37 154.709 -9221.59 Q157.857 -9224.81 163.089 -9224.81 Q169.084 -9224.81 172.232 -9220.2 Q175.403 -9215.62 175.403 -9206.87 Q175.403 -9198.69 171.515 -9193.81 Q167.649 -9188.95 161.098 -9188.95 Q159.339 -9188.95 157.533 -9189.3 Q155.728 -9189.64 153.783 -9190.34 M163.089 -9204.99 Q166.237 -9204.99 168.065 -9207.14 Q169.917 -9209.3 169.917 -9213.05 Q169.917 -9216.77 168.065 -9218.93 Q166.237 -9221.1 163.089 -9221.1 Q159.941 -9221.1 158.089 -9218.93 Q156.26 -9216.77 156.26 -9213.05 Q156.26 -9209.3 158.089 -9207.14 Q159.941 -9204.99 163.089 -9204.99 Z\" fill=\"#000000\" fill-rule=\"evenodd\" fill-opacity=\"1\" /><path clip-path=\"url(#clip400)\" d=\"M 0 0 M180.612 -9190.34 L180.612 -9194.6 Q182.371 -9193.76 184.177 -9193.32 Q185.982 -9192.88 187.718 -9192.88 Q192.348 -9192.88 194.778 -9195.99 Q197.232 -9199.11 197.579 -9205.45 Q196.237 -9203.46 194.176 -9202.4 Q192.116 -9201.33 189.616 -9201.33 Q184.431 -9201.33 181.399 -9204.46 Q178.39 -9207.61 178.39 -9213.05 Q178.39 -9218.37 181.538 -9221.59 Q184.686 -9224.81 189.917 -9224.81 Q195.913 -9224.81 199.061 -9220.2 Q202.232 -9215.62 202.232 -9206.87 Q202.232 -9198.69 198.343 -9193.81 Q194.477 -9188.95 187.926 -9188.95 Q186.167 -9188.95 184.362 -9189.3 Q182.556 -9189.64 180.612 -9190.34 M189.917 -9204.99 Q193.065 -9204.99 194.894 -9207.14 Q196.746 -9209.3 196.746 -9213.05 Q196.746 -9216.77 194.894 -9218.93 Q193.065 -9221.1 189.917 -9221.1 Q186.769 -9221.1 184.917 -9218.93 Q183.089 -9216.77 183.089 -9213.05 Q183.089 -9209.3 184.917 -9207.14 Q186.769 -9204.99 189.917 -9204.99 Z\" fill=\"#000000\" fill-rule=\"evenodd\" fill-opacity=\"1\" /><path clip-path=\"url(#clip400)\" d=\"M 0 0 M203.945 -9215.55 L228.783 -9215.55 L228.783 -9211.29 L225.519 -9211.29 L225.519 -9195.36 Q225.519 -9193.69 226.074 -9192.95 Q226.653 -9192.24 227.926 -9192.24 Q228.273 -9192.24 228.783 -9192.28 Q229.292 -9192.35 229.454 -9192.37 L229.454 -9189.3 Q228.644 -9189 227.787 -9188.86 Q226.931 -9188.72 226.074 -9188.72 Q223.297 -9188.72 222.232 -9190.22 Q221.167 -9191.75 221.167 -9195.82 L221.167 -9211.29 L211.607 -9211.29 L211.607 -9189.62 L207.255 -9189.62 L207.255 -9211.29 L203.945 -9211.29 L203.945 -9215.55 Z\" fill=\"#000000\" fill-rule=\"evenodd\" fill-opacity=\"1\" /><path clip-path=\"url(#clip400)\" d=\"M 0 0 M131.885 -9404.76 L148.204 -9404.76 L148.204 -9400.83 L126.26 -9400.83 L126.26 -9404.76 Q128.922 -9407.52 133.505 -9412.15 Q138.112 -9416.8 139.292 -9418.14 Q141.538 -9420.66 142.417 -9422.4 Q143.32 -9424.16 143.32 -9425.85 Q143.32 -9428.6 141.376 -9430.34 Q139.455 -9432.08 136.353 -9432.08 Q134.154 -9432.08 131.7 -9431.31 Q129.269 -9430.55 126.492 -9429 L126.492 -9433.72 Q129.316 -9434.85 131.769 -9435.43 Q134.223 -9436.01 136.26 -9436.01 Q141.63 -9436.01 144.825 -9433.33 Q148.019 -9430.64 148.019 -9426.15 Q148.019 -9424.02 147.209 -9422.1 Q146.422 -9420.2 144.316 -9417.61 Q143.737 -9416.94 140.635 -9413.72 Q137.533 -9410.53 131.885 -9404.76 Z\" fill=\"#000000\" fill-rule=\"evenodd\" fill-opacity=\"1\" /><path clip-path=\"url(#clip400)\" d=\"M 0 0 M163.274 -9432.31 Q159.663 -9432.31 157.834 -9428.74 Q156.029 -9425.2 156.029 -9418.07 Q156.029 -9410.97 157.834 -9407.4 Q159.663 -9403.86 163.274 -9403.86 Q166.908 -9403.86 168.714 -9407.4 Q170.542 -9410.97 170.542 -9418.07 Q170.542 -9425.2 168.714 -9428.74 Q166.908 -9432.31 163.274 -9432.31 M163.274 -9436.01 Q169.084 -9436.01 172.14 -9431.41 Q175.218 -9426.82 175.218 -9418.07 Q175.218 -9409.35 172.14 -9404.74 Q169.084 -9400.16 163.274 -9400.16 Q157.464 -9400.16 154.385 -9404.74 Q151.329 -9409.35 151.329 -9418.07 Q151.329 -9426.82 154.385 -9431.41 Q157.464 -9436.01 163.274 -9436.01 Z\" fill=\"#000000\" fill-rule=\"evenodd\" fill-opacity=\"1\" /><path clip-path=\"url(#clip400)\" d=\"M 0 0 M190.288 -9432.31 Q186.677 -9432.31 184.848 -9428.74 Q183.042 -9425.2 183.042 -9418.07 Q183.042 -9410.97 184.848 -9407.4 Q186.677 -9403.86 190.288 -9403.86 Q193.922 -9403.86 195.727 -9407.4 Q197.556 -9410.97 197.556 -9418.07 Q197.556 -9425.2 195.727 -9428.74 Q193.922 -9432.31 190.288 -9432.31 M190.288 -9436.01 Q196.098 -9436.01 199.153 -9431.41 Q202.232 -9426.82 202.232 -9418.07 Q202.232 -9409.35 199.153 -9404.74 Q196.098 -9400.16 190.288 -9400.16 Q184.477 -9400.16 181.399 -9404.74 Q178.343 -9409.35 178.343 -9418.07 Q178.343 -9426.82 181.399 -9431.41 Q184.477 -9436.01 190.288 -9436.01 Z\" fill=\"#000000\" fill-rule=\"evenodd\" fill-opacity=\"1\" /><path clip-path=\"url(#clip400)\" d=\"M 0 0 M203.945 -9426.75 L228.783 -9426.75 L228.783 -9422.49 L225.519 -9422.49 L225.519 -9406.57 Q225.519 -9404.9 226.074 -9404.16 Q226.653 -9403.44 227.926 -9403.44 Q228.273 -9403.44 228.783 -9403.49 Q229.292 -9403.56 229.454 -9403.58 L229.454 -9400.5 Q228.644 -9400.2 227.787 -9400.06 Q226.931 -9399.92 226.074 -9399.92 Q223.297 -9399.92 222.232 -9401.43 Q221.167 -9402.96 221.167 -9407.03 L221.167 -9422.49 L211.607 -9422.49 L211.607 -9400.83 L207.255 -9400.83 L207.255 -9422.49 L203.945 -9422.49 L203.945 -9426.75 Z\" fill=\"#000000\" fill-rule=\"evenodd\" fill-opacity=\"1\" /><path clip-path=\"url(#clip400)\" d=\"M 0 0 M1229.79 1539.46 L1228.39 1532.11 Q1226.96 1524.57 1221.29 1524.57 Q1217.02 1524.57 1215.08 1528.07 Q1212.63 1532.46 1212.63 1538.25 Q1212.63 1545.25 1215.02 1548.6 Q1217.44 1552 1221.29 1552 Q1225.55 1552 1227.85 1545.22 L1229.79 1539.46 M1233.07 1529.72 L1236.22 1520.4 L1241.44 1520.4 L1234.91 1539.72 L1236.19 1546.69 Q1236.47 1548.25 1237.59 1549.55 Q1238.89 1551.08 1239.91 1551.08 L1242.71 1551.08 L1242.71 1556.04 L1239.21 1556.04 Q1236.22 1556.04 1233.54 1553.37 Q1232.24 1552.03 1231.7 1549.23 Q1230.23 1552.77 1227.24 1555.53 Q1225.84 1556.84 1221.29 1556.84 Q1213.81 1556.84 1210.18 1552 Q1206.46 1547 1206.46 1538.25 Q1206.46 1528.89 1210.5 1524.5 Q1214.99 1519.6 1221.29 1519.6 Q1231.19 1519.6 1233.07 1529.72 Z\" fill=\"#000000\" fill-rule=\"evenodd\" fill-opacity=\"1\" /><path clip-path=\"url(#clip400)\" d=\"M 0 0 M1283.64 1506.58 Q1279.38 1513.9 1277.31 1521.06 Q1275.24 1528.23 1275.24 1535.58 Q1275.24 1542.93 1277.31 1550.16 Q1279.41 1557.35 1283.64 1564.64 L1278.55 1564.64 Q1273.77 1557.16 1271.39 1549.93 Q1269.03 1542.71 1269.03 1535.58 Q1269.03 1528.48 1271.39 1521.29 Q1273.74 1514.09 1278.55 1506.58 L1283.64 1506.58 Z\" fill=\"#000000\" fill-rule=\"evenodd\" fill-opacity=\"1\" /><path clip-path=\"url(#clip400)\" d=\"M 0 0 M1310.44 1525.87 Q1309.45 1525.3 1308.28 1525.04 Q1307.13 1524.76 1305.73 1524.76 Q1300.77 1524.76 1298.09 1528 Q1295.45 1531.22 1295.45 1537.27 L1295.45 1556.04 L1289.56 1556.04 L1289.56 1520.4 L1295.45 1520.4 L1295.45 1525.93 Q1297.3 1522.69 1300.26 1521.13 Q1303.22 1519.54 1307.45 1519.54 Q1308.05 1519.54 1308.79 1519.63 Q1309.52 1519.7 1310.41 1519.85 L1310.44 1525.87 Z\" fill=\"#000000\" fill-rule=\"evenodd\" fill-opacity=\"1\" /><path clip-path=\"url(#clip400)\" d=\"M 0 0 M1332.79 1538.12 Q1325.69 1538.12 1322.95 1539.75 Q1320.21 1541.37 1320.21 1545.29 Q1320.21 1548.4 1322.25 1550.25 Q1324.32 1552.07 1327.85 1552.07 Q1332.72 1552.07 1335.65 1548.63 Q1338.61 1545.16 1338.61 1539.43 L1338.61 1538.12 L1332.79 1538.12 M1344.47 1535.71 L1344.47 1556.04 L1338.61 1556.04 L1338.61 1550.63 Q1336.6 1553.88 1333.61 1555.44 Q1330.62 1556.97 1326.29 1556.97 Q1320.82 1556.97 1317.57 1553.91 Q1314.36 1550.82 1314.36 1545.67 Q1314.36 1539.65 1318.37 1536.6 Q1322.41 1533.54 1330.4 1533.54 L1338.61 1533.54 L1338.61 1532.97 Q1338.61 1528.93 1335.94 1526.73 Q1333.29 1524.5 1328.49 1524.5 Q1325.43 1524.5 1322.54 1525.23 Q1319.64 1525.97 1316.97 1527.43 L1316.97 1522.02 Q1320.18 1520.78 1323.2 1520.17 Q1326.23 1519.54 1329.09 1519.54 Q1336.83 1519.54 1340.65 1523.55 Q1344.47 1527.56 1344.47 1535.71 Z\" fill=\"#000000\" fill-rule=\"evenodd\" fill-opacity=\"1\" /><path clip-path=\"url(#clip400)\" d=\"M 0 0 M1374.07 1525.81 L1374.07 1506.52 L1379.92 1506.52 L1379.92 1556.04 L1374.07 1556.04 L1374.07 1550.7 Q1372.22 1553.88 1369.39 1555.44 Q1366.59 1556.97 1362.64 1556.97 Q1356.18 1556.97 1352.11 1551.81 Q1348.06 1546.65 1348.06 1538.25 Q1348.06 1529.85 1352.11 1524.69 Q1356.18 1519.54 1362.64 1519.54 Q1366.59 1519.54 1369.39 1521.1 Q1372.22 1522.62 1374.07 1525.81 M1354.11 1538.25 Q1354.11 1544.71 1356.75 1548.4 Q1359.43 1552.07 1364.07 1552.07 Q1368.72 1552.07 1371.39 1548.4 Q1374.07 1544.71 1374.07 1538.25 Q1374.07 1531.79 1371.39 1528.13 Q1368.72 1524.44 1364.07 1524.44 Q1359.43 1524.44 1356.75 1528.13 Q1354.11 1531.79 1354.11 1538.25 Z\" fill=\"#000000\" fill-rule=\"evenodd\" fill-opacity=\"1\" /><path clip-path=\"url(#clip400)\" d=\"M 0 0 M1385.14 1506.58 L1390.24 1506.58 Q1395.01 1514.09 1397.37 1521.29 Q1399.75 1528.48 1399.75 1535.58 Q1399.75 1542.71 1397.37 1549.93 Q1395.01 1557.16 1390.24 1564.64 L1385.14 1564.64 Q1389.38 1557.35 1391.45 1550.16 Q1393.55 1542.93 1393.55 1535.58 Q1393.55 1528.23 1391.45 1521.06 Q1389.38 1513.9 1385.14 1506.58 Z\" fill=\"#000000\" fill-rule=\"evenodd\" fill-opacity=\"1\" /><path clip-path=\"url(#clip400)\" d=\"M 0 0 M88.9272 849.811 Q88.9272 863.019 70.021 863.019 Q62.5413 863.019 52.3562 858.086 L52.3562 851.784 Q62.5413 856.335 70.1802 856.335 Q83.9619 856.335 83.9619 849.27 Q83.9619 842.808 66.8382 842.808 L66.8382 837.397 Q83.9619 837.397 83.9619 830.936 Q83.9619 823.87 70.1802 823.87 Q62.5413 823.87 52.3562 828.422 L52.3562 822.12 Q62.5413 817.186 70.021 817.186 Q88.9272 817.186 88.9272 830.395 Q88.9272 839.053 79.4105 840.103 Q88.9272 841.408 88.9272 849.811 Z\" fill=\"#000000\" fill-rule=\"evenodd\" fill-opacity=\"1\" /><path clip-path=\"url(#clip400)\" d=\"M 0 0 M38.5426 776.255 Q45.8632 780.52 53.0246 782.589 Q60.186 784.658 67.5384 784.658 Q74.8908 784.658 82.1159 782.589 Q89.3091 780.488 96.5979 776.255 L96.5979 781.347 Q89.1182 786.122 81.8931 788.509 Q74.668 790.864 67.5384 790.864 Q60.4406 790.864 53.2474 788.509 Q46.0542 786.154 38.5426 781.347 L38.5426 776.255 Z\" fill=\"#000000\" fill-rule=\"evenodd\" fill-opacity=\"1\" /><path clip-path=\"url(#clip400)\" d=\"M 0 0 M57.8307 749.455 Q57.2578 750.442 57.0032 751.62 Q56.7167 752.765 56.7167 754.166 Q56.7167 759.131 59.9632 761.805 Q63.1779 764.446 69.2253 764.446 L88.0042 764.446 L88.0042 770.335 L52.3562 770.335 L52.3562 764.446 L57.8944 764.446 Q54.6479 762.6 53.0883 759.64 Q51.4968 756.68 51.4968 752.447 Q51.4968 751.842 51.5923 751.11 Q51.656 750.378 51.8151 749.487 L57.8307 749.455 Z\" fill=\"#000000\" fill-rule=\"evenodd\" fill-opacity=\"1\" /><path clip-path=\"url(#clip400)\" d=\"M 0 0 M70.0847 727.112 Q70.0847 734.209 71.7079 736.947 Q73.3312 739.684 77.2461 739.684 Q80.3653 739.684 82.2114 737.647 Q84.0256 735.578 84.0256 732.045 Q84.0256 727.175 80.5881 724.247 Q77.1188 721.287 71.3897 721.287 L70.0847 721.287 L70.0847 727.112 M67.6657 715.431 L88.0042 715.431 L88.0042 721.287 L82.5933 721.287 Q85.8398 723.292 87.3994 726.284 Q88.9272 729.276 88.9272 733.605 Q88.9272 739.079 85.8716 742.326 Q82.7843 745.54 77.6281 745.54 Q71.6125 745.54 68.5569 741.53 Q65.5014 737.488 65.5014 729.499 L65.5014 721.287 L64.9285 721.287 Q60.8862 721.287 58.6901 723.961 Q56.4621 726.602 56.4621 731.408 Q56.4621 734.464 57.1941 737.36 Q57.9262 740.257 59.3903 742.93 L53.9795 742.93 Q52.7381 739.716 52.1334 736.692 Q51.4968 733.668 51.4968 730.804 Q51.4968 723.069 55.5072 719.25 Q59.5176 715.431 67.6657 715.431 Z\" fill=\"#000000\" fill-rule=\"evenodd\" fill-opacity=\"1\" /><path clip-path=\"url(#clip400)\" d=\"M 0 0 M57.7671 685.83 L38.479 685.83 L38.479 679.974 L88.0042 679.974 L88.0042 685.83 L82.657 685.83 Q85.8398 687.676 87.3994 690.509 Q88.9272 693.31 88.9272 697.256 Q88.9272 703.718 83.771 707.792 Q78.6147 711.834 70.212 711.834 Q61.8093 711.834 56.6531 707.792 Q51.4968 703.718 51.4968 697.256 Q51.4968 693.31 53.0564 690.509 Q54.5842 687.676 57.7671 685.83 M70.212 705.786 Q76.6732 705.786 80.3653 703.145 Q84.0256 700.471 84.0256 695.824 Q84.0256 691.177 80.3653 688.504 Q76.6732 685.83 70.212 685.83 Q63.7508 685.83 60.0905 688.504 Q56.3984 691.177 56.3984 695.824 Q56.3984 700.471 60.0905 703.145 Q63.7508 705.786 70.212 705.786 Z\" fill=\"#000000\" fill-rule=\"evenodd\" fill-opacity=\"1\" /><path clip-path=\"url(#clip400)\" d=\"M 0 0 M40.4842 663.423 L40.4842 658.012 L94.0516 674.563 L94.0516 679.974 L40.4842 663.423 Z\" fill=\"#000000\" fill-rule=\"evenodd\" fill-opacity=\"1\" /><path clip-path=\"url(#clip400)\" d=\"M 0 0 M53.4065 629.143 L58.9447 629.143 Q57.6716 631.626 57.035 634.3 Q56.3984 636.973 56.3984 639.838 Q56.3984 644.198 57.7352 646.394 Q59.072 648.559 61.7456 648.559 Q63.7826 648.559 64.9603 646.999 Q66.1061 645.44 67.1565 640.729 L67.6021 638.724 Q68.9389 632.485 71.3897 629.875 Q73.8086 627.234 78.1691 627.234 Q83.1344 627.234 86.0308 631.18 Q88.9272 635.095 88.9272 641.97 Q88.9272 644.835 88.3543 647.954 Q87.8132 651.041 86.6992 654.479 L80.6518 654.479 Q82.3387 651.232 83.198 648.081 Q84.0256 644.93 84.0256 641.843 Q84.0256 637.705 82.6251 635.477 Q81.1929 633.249 78.6147 633.249 Q76.2276 633.249 74.9545 634.873 Q73.6813 636.464 72.5037 641.907 L72.0262 643.944 Q70.8804 649.386 68.5251 651.805 Q66.138 654.224 62.0002 654.224 Q56.9713 654.224 54.2341 650.659 Q51.4968 647.095 51.4968 640.538 Q51.4968 637.291 51.9743 634.427 Q52.4517 631.562 53.4065 629.143 Z\" fill=\"#000000\" fill-rule=\"evenodd\" fill-opacity=\"1\" /><path clip-path=\"url(#clip400)\" d=\"M 0 0 M38.5426 622.014 L38.5426 616.921 Q46.0542 612.147 53.2474 609.792 Q60.4406 607.404 67.5384 607.404 Q74.668 607.404 81.8931 609.792 Q89.1182 612.147 96.5979 616.921 L96.5979 622.014 Q89.3091 617.781 82.1159 615.712 Q74.8908 613.611 67.5384 613.611 Q60.186 613.611 53.0246 615.712 Q45.8632 617.781 38.5426 622.014 Z\" fill=\"#000000\" fill-rule=\"evenodd\" fill-opacity=\"1\" /><polyline clip-path=\"url(#clip402)\" style=\"stroke:#009af9; stroke-width:4; stroke-opacity:1; fill:none\" points=\"\n",
       "  312.868,86.1857 314.785,86.3606 316.702,86.8855 318.619,87.761 320.536,88.9881 322.453,90.5682 324.369,92.5032 326.286,94.7952 328.202,97.4467 330.118,100.461 \n",
       "  332.034,103.841 333.95,107.59 335.866,111.713 337.781,116.213 339.696,121.095 341.611,126.364 343.525,132.025 345.439,138.083 347.353,144.543 349.266,151.41 \n",
       "  351.179,158.69 353.092,166.388 355.004,174.51 356.915,183.059 358.826,192.042 360.737,201.462 362.647,211.323 364.556,221.628 366.465,232.379 368.373,243.58 \n",
       "  370.28,255.229 372.187,267.326 374.093,279.869 375.998,292.855 377.902,306.277 379.806,320.13 381.709,334.404 383.611,349.085 385.512,364.161 387.412,379.614 \n",
       "  389.312,395.424 391.21,411.567 393.107,428.017 395.004,444.743 396.899,461.713 398.794,478.888 400.687,496.229 402.58,513.691 404.471,531.226 406.361,548.783 \n",
       "  408.251,566.309 410.139,583.748 412.026,601.041 413.913,618.129 415.798,634.951 417.682,651.446 419.566,667.554 421.448,683.216 423.33,698.377 425.21,712.981 \n",
       "  427.09,726.981 428.969,740.332 430.847,752.994 432.725,764.936 434.602,776.131 436.478,786.562 438.354,796.218 440.229,805.097 442.103,813.205 443.978,820.554 \n",
       "  445.851,827.167 447.725,833.072 449.598,838.305 451.471,842.905 453.343,846.922 455.215,850.405 457.087,853.41 458.959,855.996 460.831,858.221 462.703,860.147 \n",
       "  464.574,861.836 466.446,863.348 468.317,864.743 470.189,866.079 472.06,867.412 473.931,868.793 475.802,870.274 477.673,871.899 479.544,873.711 481.415,875.748 \n",
       "  483.285,878.045 485.156,880.631 487.026,883.534 488.896,886.776 490.766,890.377 492.636,894.352 494.506,898.715 496.375,903.474 498.244,908.638 500.112,914.213 \n",
       "  501.981,920.201 503.849,926.606 505.716,933.429 507.583,940.671 509.45,948.335 511.316,956.422 513.182,964.937 515.047,973.885 516.912,983.274 518.776,993.118 \n",
       "  520.64,1003.43 522.502,1014.24 524.365,1025.57 526.226,1037.46 528.087,1049.95 529.947,1063.11 531.807,1077 533.665,1091.7 535.523,1107.32 537.379,1123.98 \n",
       "  539.235,1141.81 541.09,1160.95 542.943,1181.55 544.795,1203.75 546.646,1227.63 548.495,1253.13 550.343,1279.95 552.189,1307.36 554.034,1333.98 555.877,1357.59 \n",
       "  557.719,1375.3 559.56,1384.24 561.401,1382.7 563.242,1370.99 565.085,1351.27 566.928,1326.53 568.773,1299.49 570.62,1272.14 572.468,1245.65 574.318,1220.6 \n",
       "  576.169,1197.2 578.022,1175.47 579.875,1155.3 581.73,1136.56 583.586,1119.08 585.443,1102.73 587.301,1087.39 589.16,1072.93 591.019,1059.26 592.88,1046.3 \n",
       "  594.741,1033.98 596.603,1022.26 598.465,1011.08 600.328,1000.42 602.192,990.242 604.056,980.531 605.921,971.269 607.786,962.446 609.652,954.055 611.519,946.09 \n",
       "  613.385,938.547 615.253,931.425 617.12,924.723 618.988,918.438 620.857,912.569 622.725,907.113 624.594,902.065 626.464,897.421 628.333,893.171 630.203,889.305 \n",
       "  632.073,885.809 633.943,882.666 635.814,879.857 637.684,877.356 639.555,875.138 641.426,873.169 643.297,871.415 645.168,869.836 647.039,868.388 648.91,867.026 \n",
       "  650.781,865.698 652.653,864.351 654.524,862.928 656.396,861.371 658.267,859.621 660.139,857.615 662.011,855.292 663.883,852.592 665.755,849.456 667.627,845.825 \n",
       "  669.5,841.646 671.373,836.868 673.246,831.446 675.119,825.341 676.993,818.519 678.867,810.954 680.742,802.625 682.617,793.523 684.493,783.644 686.37,772.992 \n",
       "  688.247,761.58 690.124,749.428 692.003,736.564 693.882,723.023 695.762,708.845 697.643,694.075 699.525,678.765 701.408,662.968 703.291,646.743 705.176,630.148 \n",
       "  707.062,613.243 708.948,596.09 710.836,578.749 712.724,561.28 714.614,543.739 716.505,526.183 718.396,508.664 720.289,491.232 722.183,473.934 724.077,456.814 \n",
       "  725.973,439.911 727.87,423.26 729.768,406.896 731.666,390.846 733.566,375.136 735.466,359.79 737.368,344.826 739.27,330.26 741.173,316.106 743.077,302.376 \n",
       "  744.982,289.078 746.887,276.219 748.793,263.804 750.7,251.835 752.608,240.315 754.516,229.244 756.425,218.621 758.334,208.444 760.244,198.71 762.155,189.416 \n",
       "  764.066,180.559 765.978,172.132 767.89,164.133 769.803,156.556 771.716,149.395 773.629,142.645 775.543,136.301 777.457,130.358 779.372,124.81 781.286,119.653 \n",
       "  783.202,114.881 785.117,110.489 787.033,106.475 788.948,102.832 790.865,99.5575 792.781,96.6479 794.697,94.0999 796.614,91.9108 798.53,90.078 800.447,88.5994 \n",
       "  802.364,87.4735 804.281,86.6988 806.198,86.2745 808.115,86.2001 810.032,86.4755 811.949,87.1011 813.866,88.0775 815.782,89.4059 817.699,91.0878 819.616,93.125 \n",
       "  821.532,95.52 823.448,98.2753 825.365,101.394 827.281,104.879 829.196,108.735 831.112,112.966 833.027,117.575 834.942,122.567 836.857,127.947 838.771,133.721 \n",
       "  840.685,139.893 842.599,146.468 844.512,153.452 846.425,160.85 848.337,168.667 850.249,176.909 852.16,185.579 854.071,194.684 855.981,204.226 857.891,214.21 \n",
       "  859.8,224.638 861.709,235.513 863.617,246.836 865.524,258.606 867.43,270.823 869.336,283.485 871.241,296.586 873.145,310.122 875.049,324.083 876.951,338.46 \n",
       "  878.853,353.24 880.754,368.407 882.654,383.944 884.553,399.829 886.451,416.037 888.348,432.541 890.244,449.31 892.14,466.307 894.034,483.496 895.927,500.833 \n",
       "  897.819,518.273 899.71,535.767 901.6,553.264 903.489,570.707 905.377,588.039 907.265,605.203 909.151,622.135 911.036,638.776 912.92,655.064 914.803,670.938 \n",
       "  916.685,686.339 918.567,701.211 920.447,715.5 922.327,729.158 924.206,742.14 926.084,754.407 927.961,765.929 929.838,776.681 931.714,786.645 933.59,795.811 \n",
       "  935.465,804.178 937.34,811.753 939.214,818.549 941.088,824.589 942.962,829.9 944.835,834.519 946.708,838.485 948.581,841.845 950.453,844.65 952.326,846.953 \n",
       "  954.198,848.81 956.07,850.278 957.942,851.417 959.815,852.284 961.687,852.938 963.559,853.433 965.431,853.824 967.303,854.161 969.175,854.493 971.047,854.864 \n",
       "  972.918,855.313 974.79,855.878 976.662,856.59 978.534,857.476 980.406,858.559 982.277,859.859 984.149,861.39 986.021,863.162 987.892,865.182 989.763,867.452 \n",
       "  991.634,869.97 993.505,872.734 995.376,875.735 997.247,878.962 999.117,882.403 1000.99,886.043 1002.86,889.864 1004.73,893.846 1006.6,897.97 1008.47,902.213 \n",
       "  1010.34,906.551 1012.2,910.96 1014.07,915.417 1015.94,919.896 1017.81,924.371 1019.68,928.817 1021.54,933.21 1023.41,937.524 1025.28,941.734 1027.14,945.818 \n",
       "  1029.01,949.753 1030.88,953.516 1032.74,957.086 1034.61,960.445 1036.48,963.572 1038.34,966.452 1040.21,969.067 1042.07,971.405 1043.94,973.452 1045.8,975.197 \n",
       "  1047.67,976.631 1049.53,977.746 1051.4,978.535 1053.26,978.996 1055.12,979.124 1056.99,978.92 1058.85,978.384 1060.72,977.52 1062.58,976.332 1064.45,974.826 \n",
       "  1066.31,973.011 1068.18,970.897 1070.04,968.494 1071.91,965.817 1073.77,962.879 1075.64,959.698 1077.51,956.289 1079.37,952.673 1081.24,948.869 1083.11,944.898 \n",
       "  1084.97,940.783 1086.84,936.547 1088.71,932.213 1090.57,927.806 1092.44,923.351 1094.31,918.873 1096.18,914.397 1098.05,909.949 1099.92,905.553 1101.78,901.235 \n",
       "  1103.65,897.017 1105.52,892.924 1107.39,888.977 1109.26,885.196 1111.13,881.6 1113,878.206 1114.87,875.029 1116.75,872.082 1118.62,869.374 1120.49,866.911 \n",
       "  1122.36,864.699 1124.23,862.736 1126.1,861.02 1127.97,859.543 1129.85,858.293 1131.72,857.257 1133.59,856.413 1135.46,855.737 1137.33,855.202 1139.2,854.774 \n",
       "  1141.08,854.416 1142.95,854.086 1144.82,853.741 1146.69,853.331 1148.56,852.804 1150.44,852.107 1152.31,851.183 1154.18,849.974 1156.05,848.422 1157.93,846.469 \n",
       "  1159.8,844.056 1161.67,841.129 1163.54,837.635 1165.42,833.523 1167.29,828.75 1169.16,823.275 1171.04,817.065 1172.91,810.093 1174.79,802.338 1176.66,793.789 \n",
       "  1178.54,784.44 1180.41,774.296 1182.29,763.366 1184.17,751.672 1186.05,739.238 1187.93,726.098 1189.81,712.292 1191.69,697.866 1193.57,682.868 1195.45,667.354 \n",
       "  1197.33,651.38 1199.22,635.007 1201.1,618.294 1202.99,601.303 1204.88,584.096 1206.77,566.733 1208.65,549.272 1210.55,531.772 1212.44,514.285 1214.33,496.865 \n",
       "  1216.22,479.558 1218.12,462.409 1220.01,445.46 1221.91,428.75 1223.81,412.31 1225.7,396.174 1227.6,380.366 1229.5,364.912 1231.4,349.831 1233.31,335.142 \n",
       "  1235.21,320.859 1237.11,306.994 1239.02,293.557 1240.92,280.556 1242.83,267.995 1244.74,255.88 1246.64,244.212 1248.55,232.991 1250.46,222.219 1252.37,211.892 \n",
       "  1254.28,202.009 1256.19,192.567 1258.1,183.562 1260.01,174.99 1261.92,166.845 1263.84,159.124 1265.75,151.821 1267.66,144.931 1269.58,138.449 1271.49,132.368 \n",
       "  1273.4,126.685 1275.32,121.393 1277.23,116.489 1279.15,111.967 1281.06,107.822 1282.98,104.051 1284.9,100.65 1286.81,97.6144 1288.73,94.9416 1290.65,92.6286 \n",
       "  1292.56,90.6726 1294.48,89.0716 1296.4,87.8237 1298.31,86.9274 1300.23,86.3818 1302.15,86.1863 1304.06,86.3405 1305.98,86.8447 1307.9,87.6995 1309.81,88.9058 \n",
       "  1311.73,90.4651 1313.65,92.379 1315.56,94.6498 1317.48,97.2801 1319.4,100.273 1321.31,103.631 1323.23,107.358 1325.14,111.459 1327.06,115.936 1328.97,120.796 \n",
       "  1330.89,126.042 1332.8,131.68 1334.72,137.714 1336.63,144.15 1338.54,150.993 1340.46,158.248 1342.37,165.922 1344.28,174.018 1346.19,182.542 1348.1,191.499 \n",
       "  1350.02,200.893 1351.93,210.728 1353.83,221.007 1355.74,231.732 1357.65,242.906 1359.56,254.528 1361.47,266.599 1363.37,279.116 1365.28,292.075 1367.18,305.473 \n",
       "  1369.09,319.3 1370.99,333.549 1372.89,348.207 1374.79,363.26 1376.69,378.691 1378.59,394.48 1380.49,410.604 1382.39,427.037 1384.28,443.748 1386.18,460.704 \n",
       "  1388.07,477.869 1389.97,495.201 1391.86,512.657 1393.75,530.189 1395.64,547.746 1397.53,565.276 1399.42,582.721 1401.31,600.025 1403.19,617.126 1405.08,633.965 \n",
       "  1406.96,650.481 1408.85,666.614 1410.73,682.304 1412.61,697.496 1414.49,712.135 1416.37,726.172 1418.25,739.562 1420.13,752.266 1422.01,764.251 1423.88,775.491 \n",
       "  1425.76,785.967 1427.63,795.669 1429.51,804.594 1431.38,812.747 1433.26,820.141 1435.13,826.797 1437.01,832.742 1438.88,838.013 1440.75,842.65 1442.62,846.7 \n",
       "  1444.5,850.213 1446.37,853.245 1448.24,855.853 1450.11,858.098 1451.98,860.04 1453.86,861.741 1455.73,863.262 1457.6,864.662 1459.47,866 1461.34,867.332 \n",
       "  1463.21,868.709 1465.08,870.182 1466.95,871.798 1468.82,873.597 1470.7,875.62 1472.57,877.901 1474.44,880.469 1476.31,883.353 1478.18,886.574 1480.05,890.153 \n",
       "  1481.92,894.106 1483.79,898.445 1485.66,903.181 1487.52,908.321 1489.39,913.871 1491.26,919.835 1493.13,926.215 1495,933.013 1496.86,940.23 1498.73,947.869 \n",
       "  1500.6,955.931 1502.46,964.42 1504.33,973.342 1506.19,982.706 1508.06,992.522 1509.92,1002.81 1511.78,1013.59 1513.65,1024.88 1515.51,1036.74 1517.37,1049.19 \n",
       "  1519.23,1062.31 1521.09,1076.15 1522.95,1090.81 1524.8,1106.37 1526.66,1122.96 1528.52,1140.72 1530.37,1159.77 1532.23,1180.29 1534.08,1202.39 1535.93,1226.17 \n",
       "  1537.78,1251.58 1539.63,1278.34 1541.47,1305.74 1543.32,1332.46 1545.16,1356.32 1547,1374.46 1548.84,1383.99 1550.68,1383.08 1552.53,1371.93 1554.37,1352.6 \n",
       "  1556.21,1328.07 1558.06,1301.11 1559.9,1273.74 1561.75,1247.17 1563.6,1222.03 1565.45,1198.54 1567.3,1176.71 1569.16,1156.45 1571.01,1137.62 1572.87,1120.08 \n",
       "  1574.72,1103.67 1576.58,1088.26 1578.44,1073.75 1580.3,1060.04 1582.16,1047.04 1584.02,1034.69 1585.88,1022.93 1587.75,1011.73 1589.61,1001.03 1591.47,990.829 \n",
       "  1593.34,981.09 1595.2,971.802 1597.07,962.954 1598.93,954.537 1600.8,946.547 1602.67,938.979 1604.53,931.833 1606.4,925.106 1608.27,918.796 1610.14,912.903 \n",
       "  1612.01,907.422 1613.88,902.351 1615.74,897.683 1617.61,893.41 1619.48,889.522 1621.35,886.005 1623.22,882.842 1625.09,880.013 1626.97,877.495 1628.84,875.261 \n",
       "  1630.71,873.278 1632.58,871.513 1634.45,869.924 1636.32,868.471 1638.19,867.104 1640.06,865.776 1641.93,864.431 1643.8,863.015 1645.68,861.468 1647.55,859.73 \n",
       "  1649.42,857.741 1651.29,855.439 1653.16,852.763 1655.04,849.654 1656.91,846.054 1658.78,841.908 1660.65,837.167 1662.53,831.785 1664.4,825.721 1666.27,818.942 \n",
       "  1668.15,811.421 1670.02,803.138 1671.9,794.082 1673.77,784.249 1675.65,773.642 1677.53,762.274 1679.4,750.166 1681.28,737.343 1683.16,723.841 1685.04,709.699 \n",
       "  1686.92,694.963 1688.81,679.683 1690.69,663.914 1692.57,647.712 1694.46,631.137 1696.34,614.249 1698.23,597.109 1700.12,579.778 1702,562.314 1703.89,544.776 \n",
       "  1705.78,527.219 1707.68,509.696 1709.57,492.258 1711.46,474.951 1713.36,457.819 1715.25,440.902 1717.15,424.236 1719.05,407.854 1720.95,391.784 1722.85,376.054 \n",
       "  1724.75,360.686 1726.65,345.698 1728.55,331.109 1730.45,316.931 1732.36,303.175 1734.26,289.851 1736.17,276.966 1738.07,264.525 1739.98,252.53 1741.89,240.983 \n",
       "  1743.79,229.886 1745.7,219.236 1747.61,209.033 1749.52,199.273 1751.43,189.953 1753.34,181.07 1755.26,172.618 1757.17,164.594 1759.08,156.991 1760.99,149.806 \n",
       "  1762.91,143.032 1764.82,136.665 1766.74,130.698 1768.65,125.127 1770.56,119.947 1772.48,115.152 1774.4,110.738 1776.31,106.701 1778.23,103.037 1780.14,99.7407 \n",
       "  1782.06,96.8096 1783.98,94.2404 1785.89,92.0301 1787.81,90.1763 1789.73,88.6769 1791.64,87.5302 1793.56,86.7348 1795.48,86.2898 1797.39,86.1948 1799.31,86.4495 \n",
       "  1801.23,87.0544 1803.14,88.0101 1805.06,89.3176 1806.98,90.9786 1808.89,92.9948 1810.81,95.3686 1812.73,98.1025 1814.64,101.2 1816.56,104.663 1818.47,108.497 \n",
       "  1820.39,112.705 1822.31,117.292 1824.22,122.261 1826.14,127.619 1828.05,133.369 1829.96,139.517 1831.88,146.068 1833.79,153.028 1835.7,160.401 1837.62,168.194 \n",
       "  1839.53,176.41 1841.44,185.055 1843.35,194.134 1845.26,203.65 1847.17,213.608 1849.08,224.01 1850.99,234.858 1852.9,246.155 1854.8,257.899 1856.71,270.09 \n",
       "  1858.62,282.725 1860.52,295.8 1862.42,309.31 1864.33,323.247 1866.23,337.6 1868.13,352.356 1870.03,367.501 1871.93,383.017 1873.83,398.882 1875.73,415.072 \n",
       "  1877.63,431.559 1879.52,448.313 1881.42,465.298 1883.31,482.476 1885.21,499.806 1887.1,517.241 1888.99,534.734 1890.88,552.231 1892.77,569.679 1894.66,587.02 \n",
       "  1896.54,604.195 1898.43,621.143 1900.32,637.803 1902.2,654.113 1904.08,670.013 1905.97,685.444 1907.85,700.349 1909.73,714.674 1911.61,728.37 1913.49,741.392 \n",
       "  1915.36,753.703 1917.24,765.27 1919.12,776.068 1921,786.078 1922.87,795.292 1924.75,803.706 1926.62,811.328 1928.49,818.169 1930.37,824.253 1932.24,829.606 \n",
       "  1934.12,834.264 1935.99,838.268 1937.86,841.663 1939.73,844.499 1941.61,846.83 1943.48,848.712 1945.35,850.201 1947.22,851.358 1949.1,852.24 1950.97,852.904 \n",
       "  1952.84,853.407 1954.71,853.803 1956.58,854.142 1958.46,854.473 1960.33,854.84 1962.2,855.284 1964.07,855.841 1965.94,856.543 1967.81,857.418 1969.69,858.489 \n",
       "  1971.56,859.776 1973.43,861.293 1975.3,863.051 1977.17,865.056 1979.04,867.311 1980.92,869.815 1982.79,872.564 1984.66,875.551 1986.53,878.765 1988.4,882.194 \n",
       "  1990.27,885.823 1992.14,889.633 1994.01,893.607 1995.88,897.723 1997.75,901.959 1999.62,906.292 2001.48,910.698 2003.35,915.153 2005.22,919.631 2007.09,924.107 \n",
       "  2008.96,928.556 2010.82,932.952 2012.69,937.271 2014.56,941.489 2016.43,945.581 2018.29,949.525 2020.16,953.299 2022.02,956.881 2023.89,960.252 2025.76,963.394 \n",
       "  2027.62,966.289 2029.49,968.921 2031.35,971.275 2033.22,973.34 2035.08,975.103 2036.95,976.555 2038.81,977.689 2040.68,978.498 2042.54,978.978 2044.41,979.126 \n",
       "  2046.27,978.941 2048.14,978.425 2050,977.58 2051.86,976.411 2053.73,974.924 2055.59,973.127 2057.46,971.03 2059.32,968.644 2061.19,965.983 2063.06,963.06 \n",
       "  2064.92,959.892 2066.79,956.497 2068.65,952.892 2070.52,949.099 2072.39,945.137 2074.25,941.03 2076.12,936.8 2077.99,932.471 2079.85,928.068 2081.72,923.615 \n",
       "  2083.59,919.137 2085.46,914.661 2087.33,910.21 2089.2,905.811 2091.07,901.487 2092.93,897.263 2094.8,893.162 2096.67,889.205 2098.54,885.414 2100.41,881.807 \n",
       "  2102.28,878.4 2104.16,875.211 2106.03,872.249 2107.9,869.527 2109.77,867.05 2111.64,864.822 2113.51,862.845 2115.38,861.114 2117.25,859.623 2119.13,858.361 \n",
       "  2121,857.312 2122.87,856.458 2124.74,855.773 2126.61,855.23 2128.49,854.797 2130.36,854.436 2132.23,854.106 2134.1,853.763 2135.97,853.358 2137.85,852.84 \n",
       "  2139.72,852.154 2141.59,851.245 2143.46,850.055 2145.33,848.525 2147.21,846.596 2149.08,844.212 2150.95,841.317 2152.82,837.858 2154.7,833.784 2156.57,829.051 \n",
       "  2158.44,823.619 2160.32,817.453 2162.19,810.526 2164.07,802.818 2165.94,794.316 2167.82,785.014 2169.69,774.917 2171.57,764.033 2173.45,752.383 2175.33,739.992 \n",
       "  2177.21,726.893 2179.09,713.125 2180.97,698.734 2182.85,683.769 2184.73,668.284 2186.61,652.335 2188.5,635.984 2190.38,619.289 2192.27,602.313 2194.16,585.117 \n",
       "  2196.05,567.761 2197.93,550.305 2199.82,532.805 2201.72,515.317 2203.61,497.891 2205.5,480.576 2207.4,463.417 2209.29,446.455 2211.19,429.729 2213.09,413.273 \n",
       "  2214.98,397.118 2216.88,381.29 2218.78,365.814 2220.68,350.711 2222.59,335.998 2224.49,321.691 2226.39,307.801 2228.3,294.339 2230.2,281.311 2232.11,268.725 \n",
       "  2234.01,256.583 2235.92,244.888 2237.83,233.641 2239.74,222.842 2241.65,212.489 2243.56,202.581 2245.47,193.113 2247.38,184.082 2249.29,175.484 2251.2,167.314 \n",
       "  2253.11,159.569 2255.03,152.241 2256.94,145.327 2258.85,138.82 2260.77,132.716 2262.68,127.01 2264.6,121.695 2266.51,116.768 2268.43,112.223 2270.34,108.057 \n",
       "  2272.26,104.264 2274.17,100.841 2276.09,97.7836 2278.01,95.0895 2279.92,92.7552 2281.84,90.7782 2283.76,89.1563 2285.67,87.8876 2287.59,86.9706 2289.51,86.4043 \n",
       "  2291.42,86.1881 2293.34,86.3217 \n",
       "  \"/>\n",
       "</svg>\n"
      ]
     },
     "execution_count": 121,
     "metadata": {},
     "output_type": "execute_result"
    }
   ],
   "source": [
    "xRNG = collect(-1:1:19)\n",
    "yRNG = collect(60:1:200)\n",
    "\n",
    "plot(α_i[1:2*i_π], ω_i[1:2*i_π], leg=false, xlabel = \"α (rad)\", ylabel = \"ω (rad/s)\",\n",
    "    xticks = (π .* xRNG, [\"$(i)π\" for i in xRNG]),\n",
    "    yticks = (π .* yRNG, [\"$(i)π\" for i in yRNG]))"
   ]
  },
  {
   "cell_type": "code",
   "execution_count": 122,
   "metadata": {},
   "outputs": [],
   "source": [
    "savefig(\"Energy-Conserv-Case-q-igual-zero-AllexDelgado - para dois ciclos.png\")"
   ]
  },
  {
   "cell_type": "code",
   "execution_count": null,
   "metadata": {},
   "outputs": [],
   "source": []
  }
 ],
 "metadata": {
  "kernelspec": {
   "display_name": "Julia 1.8.2",
   "language": "julia",
   "name": "julia-1.8"
  },
  "language_info": {
   "file_extension": ".jl",
   "mimetype": "application/julia",
   "name": "julia",
   "version": "1.8.2"
  }
 },
 "nbformat": 4,
 "nbformat_minor": 2
}
